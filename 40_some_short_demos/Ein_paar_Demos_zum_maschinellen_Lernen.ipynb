{
 "cells": [
  {
   "cell_type": "markdown",
   "metadata": {
    "toc": true
   },
   "source": [
    "<h1>Table of Contents<span class=\"tocSkip\"></span></h1>\n",
    "<div class=\"toc\"><ul class=\"toc-item\"><li><span><a href=\"#Ein-paar-Demos-zum-maschinellen-Lernen\" data-toc-modified-id=\"Ein-paar-Demos-zum-maschinellen-Lernen-1\"><span class=\"toc-item-num\">1&nbsp;&nbsp;</span>Ein paar Demos zum maschinellen Lernen</a></span></li><li><span><a href=\"#Demo-1:-Entscheidungsbäume\" data-toc-modified-id=\"Demo-1:-Entscheidungsbäume-2\"><span class=\"toc-item-num\">2&nbsp;&nbsp;</span>Demo 1: Entscheidungsbäume</a></span></li><li><span><a href=\"#Demo-2:-Support-Vektor-Maschinen\" data-toc-modified-id=\"Demo-2:-Support-Vektor-Maschinen-3\"><span class=\"toc-item-num\">3&nbsp;&nbsp;</span>Demo 2: Support Vektor Maschinen</a></span></li><li><span><a href=\"#Demo-3:-k-Nearest-Neighbors\" data-toc-modified-id=\"Demo-3:-k-Nearest-Neighbors-4\"><span class=\"toc-item-num\">4&nbsp;&nbsp;</span>Demo 3: k-Nearest Neighbors</a></span></li><li><span><a href=\"#Demo-4:-k-Means-Clustering\" data-toc-modified-id=\"Demo-4:-k-Means-Clustering-5\"><span class=\"toc-item-num\">5&nbsp;&nbsp;</span>Demo 4: k-Means Clustering</a></span></li><li><span><a href=\"#Demo-5:-Mean-Shift-Clustering\" data-toc-modified-id=\"Demo-5:-Mean-Shift-Clustering-6\"><span class=\"toc-item-num\">6&nbsp;&nbsp;</span>Demo 5: Mean-Shift Clustering</a></span></li><li><span><a href=\"#Demo-6:-MLP\" data-toc-modified-id=\"Demo-6:-MLP-7\"><span class=\"toc-item-num\">7&nbsp;&nbsp;</span>Demo 6: MLP</a></span></li></ul></div>"
   ]
  },
  {
   "cell_type": "markdown",
   "metadata": {
    "colab_type": "text",
    "id": "AK5dOhjGk7FM"
   },
   "source": [
    "# Ein paar Demos zum maschinellen Lernen\n",
    "\n",
    "In diesem Jupyter-Notebook habe ich ein paar kurze Demos zum maschinellen Lernen zusammengestellt."
   ]
  },
  {
   "cell_type": "markdown",
   "metadata": {
    "colab_type": "text",
    "id": "rh9SoGl9k7FN"
   },
   "source": [
    "# Demo 1: Entscheidungsbäume\n",
    "\n",
    "Entscheidungsbäume werden von der Python Bibliothek [scikit-learn](https://scikit-learn.org) sehr einfach zur Verfügung gestellt."
   ]
  },
  {
   "cell_type": "markdown",
   "metadata": {
    "colab_type": "text",
    "id": "HGZOkk0xk7FP"
   },
   "source": [
    "Lade den [\"Iris-Flower\"-Datensatz](https://en.wikipedia.org/wiki/Iris_flower_data_set):"
   ]
  },
  {
   "cell_type": "code",
   "execution_count": 1,
   "metadata": {
    "colab": {
     "base_uri": "https://localhost:8080/",
     "height": 2923
    },
    "colab_type": "code",
    "id": "nqRF3KHyk7FT",
    "outputId": "3726055d-2608-4458-b2f9-022c91899754"
   },
   "outputs": [
    {
     "name": "stdout",
     "output_type": "stream",
     "text": [
      "[[5.1 3.5 1.4 0.2]\n",
      " [4.9 3.  1.4 0.2]\n",
      " [4.7 3.2 1.3 0.2]\n",
      " [4.6 3.1 1.5 0.2]\n",
      " [5.  3.6 1.4 0.2]\n",
      " [5.4 3.9 1.7 0.4]\n",
      " [4.6 3.4 1.4 0.3]\n",
      " [5.  3.4 1.5 0.2]\n",
      " [4.4 2.9 1.4 0.2]\n",
      " [4.9 3.1 1.5 0.1]\n",
      " [5.4 3.7 1.5 0.2]\n",
      " [4.8 3.4 1.6 0.2]\n",
      " [4.8 3.  1.4 0.1]\n",
      " [4.3 3.  1.1 0.1]\n",
      " [5.8 4.  1.2 0.2]\n",
      " [5.7 4.4 1.5 0.4]\n",
      " [5.4 3.9 1.3 0.4]\n",
      " [5.1 3.5 1.4 0.3]\n",
      " [5.7 3.8 1.7 0.3]\n",
      " [5.1 3.8 1.5 0.3]\n",
      " [5.4 3.4 1.7 0.2]\n",
      " [5.1 3.7 1.5 0.4]\n",
      " [4.6 3.6 1.  0.2]\n",
      " [5.1 3.3 1.7 0.5]\n",
      " [4.8 3.4 1.9 0.2]\n",
      " [5.  3.  1.6 0.2]\n",
      " [5.  3.4 1.6 0.4]\n",
      " [5.2 3.5 1.5 0.2]\n",
      " [5.2 3.4 1.4 0.2]\n",
      " [4.7 3.2 1.6 0.2]\n",
      " [4.8 3.1 1.6 0.2]\n",
      " [5.4 3.4 1.5 0.4]\n",
      " [5.2 4.1 1.5 0.1]\n",
      " [5.5 4.2 1.4 0.2]\n",
      " [4.9 3.1 1.5 0.1]\n",
      " [5.  3.2 1.2 0.2]\n",
      " [5.5 3.5 1.3 0.2]\n",
      " [4.9 3.1 1.5 0.1]\n",
      " [4.4 3.  1.3 0.2]\n",
      " [5.1 3.4 1.5 0.2]\n",
      " [5.  3.5 1.3 0.3]\n",
      " [4.5 2.3 1.3 0.3]\n",
      " [4.4 3.2 1.3 0.2]\n",
      " [5.  3.5 1.6 0.6]\n",
      " [5.1 3.8 1.9 0.4]\n",
      " [4.8 3.  1.4 0.3]\n",
      " [5.1 3.8 1.6 0.2]\n",
      " [4.6 3.2 1.4 0.2]\n",
      " [5.3 3.7 1.5 0.2]\n",
      " [5.  3.3 1.4 0.2]\n",
      " [7.  3.2 4.7 1.4]\n",
      " [6.4 3.2 4.5 1.5]\n",
      " [6.9 3.1 4.9 1.5]\n",
      " [5.5 2.3 4.  1.3]\n",
      " [6.5 2.8 4.6 1.5]\n",
      " [5.7 2.8 4.5 1.3]\n",
      " [6.3 3.3 4.7 1.6]\n",
      " [4.9 2.4 3.3 1. ]\n",
      " [6.6 2.9 4.6 1.3]\n",
      " [5.2 2.7 3.9 1.4]\n",
      " [5.  2.  3.5 1. ]\n",
      " [5.9 3.  4.2 1.5]\n",
      " [6.  2.2 4.  1. ]\n",
      " [6.1 2.9 4.7 1.4]\n",
      " [5.6 2.9 3.6 1.3]\n",
      " [6.7 3.1 4.4 1.4]\n",
      " [5.6 3.  4.5 1.5]\n",
      " [5.8 2.7 4.1 1. ]\n",
      " [6.2 2.2 4.5 1.5]\n",
      " [5.6 2.5 3.9 1.1]\n",
      " [5.9 3.2 4.8 1.8]\n",
      " [6.1 2.8 4.  1.3]\n",
      " [6.3 2.5 4.9 1.5]\n",
      " [6.1 2.8 4.7 1.2]\n",
      " [6.4 2.9 4.3 1.3]\n",
      " [6.6 3.  4.4 1.4]\n",
      " [6.8 2.8 4.8 1.4]\n",
      " [6.7 3.  5.  1.7]\n",
      " [6.  2.9 4.5 1.5]\n",
      " [5.7 2.6 3.5 1. ]\n",
      " [5.5 2.4 3.8 1.1]\n",
      " [5.5 2.4 3.7 1. ]\n",
      " [5.8 2.7 3.9 1.2]\n",
      " [6.  2.7 5.1 1.6]\n",
      " [5.4 3.  4.5 1.5]\n",
      " [6.  3.4 4.5 1.6]\n",
      " [6.7 3.1 4.7 1.5]\n",
      " [6.3 2.3 4.4 1.3]\n",
      " [5.6 3.  4.1 1.3]\n",
      " [5.5 2.5 4.  1.3]\n",
      " [5.5 2.6 4.4 1.2]\n",
      " [6.1 3.  4.6 1.4]\n",
      " [5.8 2.6 4.  1.2]\n",
      " [5.  2.3 3.3 1. ]\n",
      " [5.6 2.7 4.2 1.3]\n",
      " [5.7 3.  4.2 1.2]\n",
      " [5.7 2.9 4.2 1.3]\n",
      " [6.2 2.9 4.3 1.3]\n",
      " [5.1 2.5 3.  1.1]\n",
      " [5.7 2.8 4.1 1.3]\n",
      " [6.3 3.3 6.  2.5]\n",
      " [5.8 2.7 5.1 1.9]\n",
      " [7.1 3.  5.9 2.1]\n",
      " [6.3 2.9 5.6 1.8]\n",
      " [6.5 3.  5.8 2.2]\n",
      " [7.6 3.  6.6 2.1]\n",
      " [4.9 2.5 4.5 1.7]\n",
      " [7.3 2.9 6.3 1.8]\n",
      " [6.7 2.5 5.8 1.8]\n",
      " [7.2 3.6 6.1 2.5]\n",
      " [6.5 3.2 5.1 2. ]\n",
      " [6.4 2.7 5.3 1.9]\n",
      " [6.8 3.  5.5 2.1]\n",
      " [5.7 2.5 5.  2. ]\n",
      " [5.8 2.8 5.1 2.4]\n",
      " [6.4 3.2 5.3 2.3]\n",
      " [6.5 3.  5.5 1.8]\n",
      " [7.7 3.8 6.7 2.2]\n",
      " [7.7 2.6 6.9 2.3]\n",
      " [6.  2.2 5.  1.5]\n",
      " [6.9 3.2 5.7 2.3]\n",
      " [5.6 2.8 4.9 2. ]\n",
      " [7.7 2.8 6.7 2. ]\n",
      " [6.3 2.7 4.9 1.8]\n",
      " [6.7 3.3 5.7 2.1]\n",
      " [7.2 3.2 6.  1.8]\n",
      " [6.2 2.8 4.8 1.8]\n",
      " [6.1 3.  4.9 1.8]\n",
      " [6.4 2.8 5.6 2.1]\n",
      " [7.2 3.  5.8 1.6]\n",
      " [7.4 2.8 6.1 1.9]\n",
      " [7.9 3.8 6.4 2. ]\n",
      " [6.4 2.8 5.6 2.2]\n",
      " [6.3 2.8 5.1 1.5]\n",
      " [6.1 2.6 5.6 1.4]\n",
      " [7.7 3.  6.1 2.3]\n",
      " [6.3 3.4 5.6 2.4]\n",
      " [6.4 3.1 5.5 1.8]\n",
      " [6.  3.  4.8 1.8]\n",
      " [6.9 3.1 5.4 2.1]\n",
      " [6.7 3.1 5.6 2.4]\n",
      " [6.9 3.1 5.1 2.3]\n",
      " [5.8 2.7 5.1 1.9]\n",
      " [6.8 3.2 5.9 2.3]\n",
      " [6.7 3.3 5.7 2.5]\n",
      " [6.7 3.  5.2 2.3]\n",
      " [6.3 2.5 5.  1.9]\n",
      " [6.5 3.  5.2 2. ]\n",
      " [6.2 3.4 5.4 2.3]\n",
      " [5.9 3.  5.1 1.8]]\n",
      "[0 0 0 0 0 0 0 0 0 0 0 0 0 0 0 0 0 0 0 0 0 0 0 0 0 0 0 0 0 0 0 0 0 0 0 0 0\n",
      " 0 0 0 0 0 0 0 0 0 0 0 0 0 1 1 1 1 1 1 1 1 1 1 1 1 1 1 1 1 1 1 1 1 1 1 1 1\n",
      " 1 1 1 1 1 1 1 1 1 1 1 1 1 1 1 1 1 1 1 1 1 1 1 1 1 1 2 2 2 2 2 2 2 2 2 2 2\n",
      " 2 2 2 2 2 2 2 2 2 2 2 2 2 2 2 2 2 2 2 2 2 2 2 2 2 2 2 2 2 2 2 2 2 2 2 2 2\n",
      " 2 2]\n"
     ]
    }
   ],
   "source": [
    "from sklearn.datasets import load_iris\n",
    "\n",
    "iris = load_iris()\n",
    "print(iris.data)\n",
    "print(iris.target)"
   ]
  },
  {
   "cell_type": "markdown",
   "metadata": {
    "colab_type": "text",
    "id": "jKz1tmV5k7Fk"
   },
   "source": [
    "Lerne einen Entscheidungsbaum zur Klassifikation der Daten. Für weitere Infos zum Lernen von Entscheidungsbäumen siehe [hier](https://en.wikipedia.org/wiki/Decision_tree_learning)."
   ]
  },
  {
   "cell_type": "code",
   "execution_count": 2,
   "metadata": {
    "colab": {},
    "colab_type": "code",
    "collapsed": true,
    "id": "sEbcerDQk7Fl"
   },
   "outputs": [],
   "source": [
    "from sklearn import tree\n",
    "\n",
    "clf = tree.DecisionTreeClassifier()\n",
    "clf = clf.fit(iris.data, iris.target)"
   ]
  },
  {
   "cell_type": "markdown",
   "metadata": {
    "colab_type": "text",
    "id": "DZQjLimwk7Fr"
   },
   "source": [
    "Visualisiere den Entscheidungsbaum wie [hier beschrieben](https://stackoverflow.com/questions/27817994/visualizing-decision-tree-in-scikit-learn)."
   ]
  },
  {
   "cell_type": "code",
   "execution_count": 3,
   "metadata": {
    "colab": {
     "base_uri": "https://localhost:8080/",
     "height": 815
    },
    "colab_type": "code",
    "id": "p4RRLDazk7Fu",
    "outputId": "f22b7257-0226-427e-d95f-dc1f1d04dae7"
   },
   "outputs": [
    {
     "data": {
      "image/svg+xml": [
       "<?xml version=\"1.0\" encoding=\"UTF-8\" standalone=\"no\"?>\r\n",
       "<!DOCTYPE svg PUBLIC \"-//W3C//DTD SVG 1.1//EN\"\r\n",
       " \"http://www.w3.org/Graphics/SVG/1.1/DTD/svg11.dtd\">\r\n",
       "<!-- Generated by graphviz version 2.38.0 (20140413.2041)\r\n",
       " -->\r\n",
       "<!-- Title: Tree Pages: 1 -->\r\n",
       "<svg width=\"743pt\" height=\"581pt\"\r\n",
       " viewBox=\"0.00 0.00 743.00 581.00\" xmlns=\"http://www.w3.org/2000/svg\" xmlns:xlink=\"http://www.w3.org/1999/xlink\">\r\n",
       "<g id=\"graph0\" class=\"graph\" transform=\"scale(1 1) rotate(0) translate(4 577)\">\r\n",
       "<title>Tree</title>\r\n",
       "<polygon fill=\"white\" stroke=\"none\" points=\"-4,4 -4,-577 739,-577 739,4 -4,4\"/>\r\n",
       "<!-- 0 -->\r\n",
       "<g id=\"node1\" class=\"node\"><title>0</title>\r\n",
       "<polygon fill=\"none\" stroke=\"black\" points=\"454.5,-573 329.5,-573 329.5,-505 454.5,-505 454.5,-573\"/>\r\n",
       "<text text-anchor=\"middle\" x=\"392\" y=\"-557.8\" font-family=\"Times New Roman,serif\" font-size=\"14.00\">X[2] &lt;= 2.45</text>\r\n",
       "<text text-anchor=\"middle\" x=\"392\" y=\"-542.8\" font-family=\"Times New Roman,serif\" font-size=\"14.00\">gini = 0.667</text>\r\n",
       "<text text-anchor=\"middle\" x=\"392\" y=\"-527.8\" font-family=\"Times New Roman,serif\" font-size=\"14.00\">samples = 150</text>\r\n",
       "<text text-anchor=\"middle\" x=\"392\" y=\"-512.8\" font-family=\"Times New Roman,serif\" font-size=\"14.00\">value = [50, 50, 50]</text>\r\n",
       "</g>\r\n",
       "<!-- 1 -->\r\n",
       "<g id=\"node2\" class=\"node\"><title>1</title>\r\n",
       "<polygon fill=\"none\" stroke=\"black\" points=\"381,-461.5 269,-461.5 269,-408.5 381,-408.5 381,-461.5\"/>\r\n",
       "<text text-anchor=\"middle\" x=\"325\" y=\"-446.3\" font-family=\"Times New Roman,serif\" font-size=\"14.00\">gini = 0.0</text>\r\n",
       "<text text-anchor=\"middle\" x=\"325\" y=\"-431.3\" font-family=\"Times New Roman,serif\" font-size=\"14.00\">samples = 50</text>\r\n",
       "<text text-anchor=\"middle\" x=\"325\" y=\"-416.3\" font-family=\"Times New Roman,serif\" font-size=\"14.00\">value = [50, 0, 0]</text>\r\n",
       "</g>\r\n",
       "<!-- 0&#45;&gt;1 -->\r\n",
       "<g id=\"edge1\" class=\"edge\"><title>0&#45;&gt;1</title>\r\n",
       "<path fill=\"none\" stroke=\"black\" d=\"M370.247,-504.884C362.951,-493.776 354.803,-481.372 347.454,-470.184\"/>\r\n",
       "<polygon fill=\"black\" stroke=\"black\" points=\"350.179,-467.957 341.763,-461.52 344.328,-471.8 350.179,-467.957\"/>\r\n",
       "<text text-anchor=\"middle\" x=\"336.693\" y=\"-482.3\" font-family=\"Times New Roman,serif\" font-size=\"14.00\">True</text>\r\n",
       "</g>\r\n",
       "<!-- 2 -->\r\n",
       "<g id=\"node3\" class=\"node\"><title>2</title>\r\n",
       "<polygon fill=\"none\" stroke=\"black\" points=\"518.5,-469 399.5,-469 399.5,-401 518.5,-401 518.5,-469\"/>\r\n",
       "<text text-anchor=\"middle\" x=\"459\" y=\"-453.8\" font-family=\"Times New Roman,serif\" font-size=\"14.00\">X[3] &lt;= 1.75</text>\r\n",
       "<text text-anchor=\"middle\" x=\"459\" y=\"-438.8\" font-family=\"Times New Roman,serif\" font-size=\"14.00\">gini = 0.5</text>\r\n",
       "<text text-anchor=\"middle\" x=\"459\" y=\"-423.8\" font-family=\"Times New Roman,serif\" font-size=\"14.00\">samples = 100</text>\r\n",
       "<text text-anchor=\"middle\" x=\"459\" y=\"-408.8\" font-family=\"Times New Roman,serif\" font-size=\"14.00\">value = [0, 50, 50]</text>\r\n",
       "</g>\r\n",
       "<!-- 0&#45;&gt;2 -->\r\n",
       "<g id=\"edge2\" class=\"edge\"><title>0&#45;&gt;2</title>\r\n",
       "<path fill=\"none\" stroke=\"black\" d=\"M413.753,-504.884C419.428,-496.243 425.619,-486.819 431.548,-477.793\"/>\r\n",
       "<polygon fill=\"black\" stroke=\"black\" points=\"434.562,-479.579 437.127,-469.299 428.711,-475.736 434.562,-479.579\"/>\r\n",
       "<text text-anchor=\"middle\" x=\"442.197\" y=\"-490.08\" font-family=\"Times New Roman,serif\" font-size=\"14.00\">False</text>\r\n",
       "</g>\r\n",
       "<!-- 3 -->\r\n",
       "<g id=\"node4\" class=\"node\"><title>3</title>\r\n",
       "<polygon fill=\"none\" stroke=\"black\" points=\"422,-365 310,-365 310,-297 422,-297 422,-365\"/>\r\n",
       "<text text-anchor=\"middle\" x=\"366\" y=\"-349.8\" font-family=\"Times New Roman,serif\" font-size=\"14.00\">X[2] &lt;= 4.95</text>\r\n",
       "<text text-anchor=\"middle\" x=\"366\" y=\"-334.8\" font-family=\"Times New Roman,serif\" font-size=\"14.00\">gini = 0.168</text>\r\n",
       "<text text-anchor=\"middle\" x=\"366\" y=\"-319.8\" font-family=\"Times New Roman,serif\" font-size=\"14.00\">samples = 54</text>\r\n",
       "<text text-anchor=\"middle\" x=\"366\" y=\"-304.8\" font-family=\"Times New Roman,serif\" font-size=\"14.00\">value = [0, 49, 5]</text>\r\n",
       "</g>\r\n",
       "<!-- 2&#45;&gt;3 -->\r\n",
       "<g id=\"edge3\" class=\"edge\"><title>2&#45;&gt;3</title>\r\n",
       "<path fill=\"none\" stroke=\"black\" d=\"M428.806,-400.884C420.684,-391.976 411.803,-382.235 403.343,-372.957\"/>\r\n",
       "<polygon fill=\"black\" stroke=\"black\" points=\"405.685,-370.331 396.361,-365.299 400.512,-375.047 405.685,-370.331\"/>\r\n",
       "</g>\r\n",
       "<!-- 12 -->\r\n",
       "<g id=\"node13\" class=\"node\"><title>12</title>\r\n",
       "<polygon fill=\"none\" stroke=\"black\" points=\"608,-365 496,-365 496,-297 608,-297 608,-365\"/>\r\n",
       "<text text-anchor=\"middle\" x=\"552\" y=\"-349.8\" font-family=\"Times New Roman,serif\" font-size=\"14.00\">X[2] &lt;= 4.85</text>\r\n",
       "<text text-anchor=\"middle\" x=\"552\" y=\"-334.8\" font-family=\"Times New Roman,serif\" font-size=\"14.00\">gini = 0.043</text>\r\n",
       "<text text-anchor=\"middle\" x=\"552\" y=\"-319.8\" font-family=\"Times New Roman,serif\" font-size=\"14.00\">samples = 46</text>\r\n",
       "<text text-anchor=\"middle\" x=\"552\" y=\"-304.8\" font-family=\"Times New Roman,serif\" font-size=\"14.00\">value = [0, 1, 45]</text>\r\n",
       "</g>\r\n",
       "<!-- 2&#45;&gt;12 -->\r\n",
       "<g id=\"edge12\" class=\"edge\"><title>2&#45;&gt;12</title>\r\n",
       "<path fill=\"none\" stroke=\"black\" d=\"M489.194,-400.884C497.316,-391.976 506.197,-382.235 514.657,-372.957\"/>\r\n",
       "<polygon fill=\"black\" stroke=\"black\" points=\"517.488,-375.047 521.639,-365.299 512.315,-370.331 517.488,-375.047\"/>\r\n",
       "</g>\r\n",
       "<!-- 4 -->\r\n",
       "<g id=\"node5\" class=\"node\"><title>4</title>\r\n",
       "<polygon fill=\"none\" stroke=\"black\" points=\"239,-261 127,-261 127,-193 239,-193 239,-261\"/>\r\n",
       "<text text-anchor=\"middle\" x=\"183\" y=\"-245.8\" font-family=\"Times New Roman,serif\" font-size=\"14.00\">X[3] &lt;= 1.65</text>\r\n",
       "<text text-anchor=\"middle\" x=\"183\" y=\"-230.8\" font-family=\"Times New Roman,serif\" font-size=\"14.00\">gini = 0.041</text>\r\n",
       "<text text-anchor=\"middle\" x=\"183\" y=\"-215.8\" font-family=\"Times New Roman,serif\" font-size=\"14.00\">samples = 48</text>\r\n",
       "<text text-anchor=\"middle\" x=\"183\" y=\"-200.8\" font-family=\"Times New Roman,serif\" font-size=\"14.00\">value = [0, 47, 1]</text>\r\n",
       "</g>\r\n",
       "<!-- 3&#45;&gt;4 -->\r\n",
       "<g id=\"edge4\" class=\"edge\"><title>3&#45;&gt;4</title>\r\n",
       "<path fill=\"none\" stroke=\"black\" d=\"M309.601,-298.564C290.115,-287.704 268.126,-275.448 248.008,-264.234\"/>\r\n",
       "<polygon fill=\"black\" stroke=\"black\" points=\"249.652,-261.143 239.213,-259.332 246.244,-267.258 249.652,-261.143\"/>\r\n",
       "</g>\r\n",
       "<!-- 7 -->\r\n",
       "<g id=\"node8\" class=\"node\"><title>7</title>\r\n",
       "<polygon fill=\"none\" stroke=\"black\" points=\"418.5,-261 313.5,-261 313.5,-193 418.5,-193 418.5,-261\"/>\r\n",
       "<text text-anchor=\"middle\" x=\"366\" y=\"-245.8\" font-family=\"Times New Roman,serif\" font-size=\"14.00\">X[3] &lt;= 1.55</text>\r\n",
       "<text text-anchor=\"middle\" x=\"366\" y=\"-230.8\" font-family=\"Times New Roman,serif\" font-size=\"14.00\">gini = 0.444</text>\r\n",
       "<text text-anchor=\"middle\" x=\"366\" y=\"-215.8\" font-family=\"Times New Roman,serif\" font-size=\"14.00\">samples = 6</text>\r\n",
       "<text text-anchor=\"middle\" x=\"366\" y=\"-200.8\" font-family=\"Times New Roman,serif\" font-size=\"14.00\">value = [0, 2, 4]</text>\r\n",
       "</g>\r\n",
       "<!-- 3&#45;&gt;7 -->\r\n",
       "<g id=\"edge7\" class=\"edge\"><title>3&#45;&gt;7</title>\r\n",
       "<path fill=\"none\" stroke=\"black\" d=\"M366,-296.884C366,-288.778 366,-279.982 366,-271.472\"/>\r\n",
       "<polygon fill=\"black\" stroke=\"black\" points=\"369.5,-271.299 366,-261.299 362.5,-271.299 369.5,-271.299\"/>\r\n",
       "</g>\r\n",
       "<!-- 5 -->\r\n",
       "<g id=\"node6\" class=\"node\"><title>5</title>\r\n",
       "<polygon fill=\"none\" stroke=\"black\" points=\"112,-149.5 7.10543e-015,-149.5 7.10543e-015,-96.5 112,-96.5 112,-149.5\"/>\r\n",
       "<text text-anchor=\"middle\" x=\"56\" y=\"-134.3\" font-family=\"Times New Roman,serif\" font-size=\"14.00\">gini = 0.0</text>\r\n",
       "<text text-anchor=\"middle\" x=\"56\" y=\"-119.3\" font-family=\"Times New Roman,serif\" font-size=\"14.00\">samples = 47</text>\r\n",
       "<text text-anchor=\"middle\" x=\"56\" y=\"-104.3\" font-family=\"Times New Roman,serif\" font-size=\"14.00\">value = [0, 47, 0]</text>\r\n",
       "</g>\r\n",
       "<!-- 4&#45;&gt;5 -->\r\n",
       "<g id=\"edge5\" class=\"edge\"><title>4&#45;&gt;5</title>\r\n",
       "<path fill=\"none\" stroke=\"black\" d=\"M141.767,-192.884C126.978,-181.006 110.344,-167.646 95.6887,-155.876\"/>\r\n",
       "<polygon fill=\"black\" stroke=\"black\" points=\"97.7632,-153.053 87.7748,-149.52 93.3799,-158.511 97.7632,-153.053\"/>\r\n",
       "</g>\r\n",
       "<!-- 6 -->\r\n",
       "<g id=\"node7\" class=\"node\"><title>6</title>\r\n",
       "<polygon fill=\"none\" stroke=\"black\" points=\"235.5,-149.5 130.5,-149.5 130.5,-96.5 235.5,-96.5 235.5,-149.5\"/>\r\n",
       "<text text-anchor=\"middle\" x=\"183\" y=\"-134.3\" font-family=\"Times New Roman,serif\" font-size=\"14.00\">gini = 0.0</text>\r\n",
       "<text text-anchor=\"middle\" x=\"183\" y=\"-119.3\" font-family=\"Times New Roman,serif\" font-size=\"14.00\">samples = 1</text>\r\n",
       "<text text-anchor=\"middle\" x=\"183\" y=\"-104.3\" font-family=\"Times New Roman,serif\" font-size=\"14.00\">value = [0, 0, 1]</text>\r\n",
       "</g>\r\n",
       "<!-- 4&#45;&gt;6 -->\r\n",
       "<g id=\"edge6\" class=\"edge\"><title>4&#45;&gt;6</title>\r\n",
       "<path fill=\"none\" stroke=\"black\" d=\"M183,-192.884C183,-182.326 183,-170.597 183,-159.854\"/>\r\n",
       "<polygon fill=\"black\" stroke=\"black\" points=\"186.5,-159.52 183,-149.52 179.5,-159.52 186.5,-159.52\"/>\r\n",
       "</g>\r\n",
       "<!-- 8 -->\r\n",
       "<g id=\"node9\" class=\"node\"><title>8</title>\r\n",
       "<polygon fill=\"none\" stroke=\"black\" points=\"358.5,-149.5 253.5,-149.5 253.5,-96.5 358.5,-96.5 358.5,-149.5\"/>\r\n",
       "<text text-anchor=\"middle\" x=\"306\" y=\"-134.3\" font-family=\"Times New Roman,serif\" font-size=\"14.00\">gini = 0.0</text>\r\n",
       "<text text-anchor=\"middle\" x=\"306\" y=\"-119.3\" font-family=\"Times New Roman,serif\" font-size=\"14.00\">samples = 3</text>\r\n",
       "<text text-anchor=\"middle\" x=\"306\" y=\"-104.3\" font-family=\"Times New Roman,serif\" font-size=\"14.00\">value = [0, 0, 3]</text>\r\n",
       "</g>\r\n",
       "<!-- 7&#45;&gt;8 -->\r\n",
       "<g id=\"edge8\" class=\"edge\"><title>7&#45;&gt;8</title>\r\n",
       "<path fill=\"none\" stroke=\"black\" d=\"M346.52,-192.884C339.986,-181.776 332.689,-169.372 326.108,-158.184\"/>\r\n",
       "<polygon fill=\"black\" stroke=\"black\" points=\"329.099,-156.365 321.012,-149.52 323.065,-159.914 329.099,-156.365\"/>\r\n",
       "</g>\r\n",
       "<!-- 9 -->\r\n",
       "<g id=\"node10\" class=\"node\"><title>9</title>\r\n",
       "<polygon fill=\"none\" stroke=\"black\" points=\"481.5,-157 376.5,-157 376.5,-89 481.5,-89 481.5,-157\"/>\r\n",
       "<text text-anchor=\"middle\" x=\"429\" y=\"-141.8\" font-family=\"Times New Roman,serif\" font-size=\"14.00\">X[0] &lt;= 6.95</text>\r\n",
       "<text text-anchor=\"middle\" x=\"429\" y=\"-126.8\" font-family=\"Times New Roman,serif\" font-size=\"14.00\">gini = 0.444</text>\r\n",
       "<text text-anchor=\"middle\" x=\"429\" y=\"-111.8\" font-family=\"Times New Roman,serif\" font-size=\"14.00\">samples = 3</text>\r\n",
       "<text text-anchor=\"middle\" x=\"429\" y=\"-96.8\" font-family=\"Times New Roman,serif\" font-size=\"14.00\">value = [0, 2, 1]</text>\r\n",
       "</g>\r\n",
       "<!-- 7&#45;&gt;9 -->\r\n",
       "<g id=\"edge9\" class=\"edge\"><title>7&#45;&gt;9</title>\r\n",
       "<path fill=\"none\" stroke=\"black\" d=\"M386.454,-192.884C391.736,-184.332 397.492,-175.013 403.014,-166.072\"/>\r\n",
       "<polygon fill=\"black\" stroke=\"black\" points=\"406.156,-167.647 408.433,-157.299 400.2,-163.968 406.156,-167.647\"/>\r\n",
       "</g>\r\n",
       "<!-- 10 -->\r\n",
       "<g id=\"node11\" class=\"node\"><title>10</title>\r\n",
       "<polygon fill=\"none\" stroke=\"black\" points=\"419.5,-53 314.5,-53 314.5,-0 419.5,-0 419.5,-53\"/>\r\n",
       "<text text-anchor=\"middle\" x=\"367\" y=\"-37.8\" font-family=\"Times New Roman,serif\" font-size=\"14.00\">gini = 0.0</text>\r\n",
       "<text text-anchor=\"middle\" x=\"367\" y=\"-22.8\" font-family=\"Times New Roman,serif\" font-size=\"14.00\">samples = 2</text>\r\n",
       "<text text-anchor=\"middle\" x=\"367\" y=\"-7.8\" font-family=\"Times New Roman,serif\" font-size=\"14.00\">value = [0, 2, 0]</text>\r\n",
       "</g>\r\n",
       "<!-- 9&#45;&gt;10 -->\r\n",
       "<g id=\"edge10\" class=\"edge\"><title>9&#45;&gt;10</title>\r\n",
       "<path fill=\"none\" stroke=\"black\" d=\"M407.315,-88.9485C401.554,-80.1664 395.319,-70.6629 389.514,-61.815\"/>\r\n",
       "<polygon fill=\"black\" stroke=\"black\" points=\"392.297,-59.6779 383.885,-53.2367 386.445,-63.5178 392.297,-59.6779\"/>\r\n",
       "</g>\r\n",
       "<!-- 11 -->\r\n",
       "<g id=\"node12\" class=\"node\"><title>11</title>\r\n",
       "<polygon fill=\"none\" stroke=\"black\" points=\"542.5,-53 437.5,-53 437.5,-0 542.5,-0 542.5,-53\"/>\r\n",
       "<text text-anchor=\"middle\" x=\"490\" y=\"-37.8\" font-family=\"Times New Roman,serif\" font-size=\"14.00\">gini = 0.0</text>\r\n",
       "<text text-anchor=\"middle\" x=\"490\" y=\"-22.8\" font-family=\"Times New Roman,serif\" font-size=\"14.00\">samples = 1</text>\r\n",
       "<text text-anchor=\"middle\" x=\"490\" y=\"-7.8\" font-family=\"Times New Roman,serif\" font-size=\"14.00\">value = [0, 0, 1]</text>\r\n",
       "</g>\r\n",
       "<!-- 9&#45;&gt;11 -->\r\n",
       "<g id=\"edge11\" class=\"edge\"><title>9&#45;&gt;11</title>\r\n",
       "<path fill=\"none\" stroke=\"black\" d=\"M450.335,-88.9485C456.004,-80.1664 462.138,-70.6629 467.85,-61.815\"/>\r\n",
       "<polygon fill=\"black\" stroke=\"black\" points=\"470.904,-63.5365 473.387,-53.2367 465.023,-59.7402 470.904,-63.5365\"/>\r\n",
       "</g>\r\n",
       "<!-- 13 -->\r\n",
       "<g id=\"node14\" class=\"node\"><title>13</title>\r\n",
       "<polygon fill=\"none\" stroke=\"black\" points=\"604.5,-261 499.5,-261 499.5,-193 604.5,-193 604.5,-261\"/>\r\n",
       "<text text-anchor=\"middle\" x=\"552\" y=\"-245.8\" font-family=\"Times New Roman,serif\" font-size=\"14.00\">X[1] &lt;= 3.1</text>\r\n",
       "<text text-anchor=\"middle\" x=\"552\" y=\"-230.8\" font-family=\"Times New Roman,serif\" font-size=\"14.00\">gini = 0.444</text>\r\n",
       "<text text-anchor=\"middle\" x=\"552\" y=\"-215.8\" font-family=\"Times New Roman,serif\" font-size=\"14.00\">samples = 3</text>\r\n",
       "<text text-anchor=\"middle\" x=\"552\" y=\"-200.8\" font-family=\"Times New Roman,serif\" font-size=\"14.00\">value = [0, 1, 2]</text>\r\n",
       "</g>\r\n",
       "<!-- 12&#45;&gt;13 -->\r\n",
       "<g id=\"edge13\" class=\"edge\"><title>12&#45;&gt;13</title>\r\n",
       "<path fill=\"none\" stroke=\"black\" d=\"M552,-296.884C552,-288.778 552,-279.982 552,-271.472\"/>\r\n",
       "<polygon fill=\"black\" stroke=\"black\" points=\"555.5,-271.299 552,-261.299 548.5,-271.299 555.5,-271.299\"/>\r\n",
       "</g>\r\n",
       "<!-- 16 -->\r\n",
       "<g id=\"node17\" class=\"node\"><title>16</title>\r\n",
       "<polygon fill=\"none\" stroke=\"black\" points=\"735,-253.5 623,-253.5 623,-200.5 735,-200.5 735,-253.5\"/>\r\n",
       "<text text-anchor=\"middle\" x=\"679\" y=\"-238.3\" font-family=\"Times New Roman,serif\" font-size=\"14.00\">gini = 0.0</text>\r\n",
       "<text text-anchor=\"middle\" x=\"679\" y=\"-223.3\" font-family=\"Times New Roman,serif\" font-size=\"14.00\">samples = 43</text>\r\n",
       "<text text-anchor=\"middle\" x=\"679\" y=\"-208.3\" font-family=\"Times New Roman,serif\" font-size=\"14.00\">value = [0, 0, 43]</text>\r\n",
       "</g>\r\n",
       "<!-- 12&#45;&gt;16 -->\r\n",
       "<g id=\"edge16\" class=\"edge\"><title>12&#45;&gt;16</title>\r\n",
       "<path fill=\"none\" stroke=\"black\" d=\"M593.233,-296.884C608.022,-285.006 624.656,-271.646 639.311,-259.876\"/>\r\n",
       "<polygon fill=\"black\" stroke=\"black\" points=\"641.62,-262.511 647.225,-253.52 637.237,-257.053 641.62,-262.511\"/>\r\n",
       "</g>\r\n",
       "<!-- 14 -->\r\n",
       "<g id=\"node15\" class=\"node\"><title>14</title>\r\n",
       "<polygon fill=\"none\" stroke=\"black\" points=\"604.5,-149.5 499.5,-149.5 499.5,-96.5 604.5,-96.5 604.5,-149.5\"/>\r\n",
       "<text text-anchor=\"middle\" x=\"552\" y=\"-134.3\" font-family=\"Times New Roman,serif\" font-size=\"14.00\">gini = 0.0</text>\r\n",
       "<text text-anchor=\"middle\" x=\"552\" y=\"-119.3\" font-family=\"Times New Roman,serif\" font-size=\"14.00\">samples = 2</text>\r\n",
       "<text text-anchor=\"middle\" x=\"552\" y=\"-104.3\" font-family=\"Times New Roman,serif\" font-size=\"14.00\">value = [0, 0, 2]</text>\r\n",
       "</g>\r\n",
       "<!-- 13&#45;&gt;14 -->\r\n",
       "<g id=\"edge14\" class=\"edge\"><title>13&#45;&gt;14</title>\r\n",
       "<path fill=\"none\" stroke=\"black\" d=\"M552,-192.884C552,-182.326 552,-170.597 552,-159.854\"/>\r\n",
       "<polygon fill=\"black\" stroke=\"black\" points=\"555.5,-159.52 552,-149.52 548.5,-159.52 555.5,-159.52\"/>\r\n",
       "</g>\r\n",
       "<!-- 15 -->\r\n",
       "<g id=\"node16\" class=\"node\"><title>15</title>\r\n",
       "<polygon fill=\"none\" stroke=\"black\" points=\"727.5,-149.5 622.5,-149.5 622.5,-96.5 727.5,-96.5 727.5,-149.5\"/>\r\n",
       "<text text-anchor=\"middle\" x=\"675\" y=\"-134.3\" font-family=\"Times New Roman,serif\" font-size=\"14.00\">gini = 0.0</text>\r\n",
       "<text text-anchor=\"middle\" x=\"675\" y=\"-119.3\" font-family=\"Times New Roman,serif\" font-size=\"14.00\">samples = 1</text>\r\n",
       "<text text-anchor=\"middle\" x=\"675\" y=\"-104.3\" font-family=\"Times New Roman,serif\" font-size=\"14.00\">value = [0, 1, 0]</text>\r\n",
       "</g>\r\n",
       "<!-- 13&#45;&gt;15 -->\r\n",
       "<g id=\"edge15\" class=\"edge\"><title>13&#45;&gt;15</title>\r\n",
       "<path fill=\"none\" stroke=\"black\" d=\"M591.935,-192.884C606.125,-181.116 622.069,-167.894 636.167,-156.203\"/>\r\n",
       "<polygon fill=\"black\" stroke=\"black\" points=\"638.763,-158.597 644.226,-149.52 634.294,-153.209 638.763,-158.597\"/>\r\n",
       "</g>\r\n",
       "</g>\r\n",
       "</svg>\r\n"
      ],
      "text/plain": [
       "<graphviz.files.Source at 0x21e93915940>"
      ]
     },
     "execution_count": 3,
     "metadata": {},
     "output_type": "execute_result"
    }
   ],
   "source": [
    "from graphviz import Source\n",
    "from sklearn import tree\n",
    "Source( tree.export_graphviz(clf, out_file=None))"
   ]
  },
  {
   "cell_type": "markdown",
   "metadata": {
    "colab_type": "text",
    "collapsed": true,
    "id": "M1Vvca_Ak7F2"
   },
   "source": [
    "Teste den Entscheidungsbaum:"
   ]
  },
  {
   "cell_type": "code",
   "execution_count": 4,
   "metadata": {
    "colab": {
     "base_uri": "https://localhost:8080/",
     "height": 36
    },
    "colab_type": "code",
    "id": "fLqBYIyqk7F4",
    "outputId": "8b7475a0-89b9-47d7-ec46-92a0a095df44"
   },
   "outputs": [
    {
     "name": "stdout",
     "output_type": "stream",
     "text": [
      "[2]\n"
     ]
    }
   ],
   "source": [
    "result = clf.predict([[5.9, 3., 5.1, 1.8]])\n",
    "print(result)"
   ]
  },
  {
   "cell_type": "markdown",
   "metadata": {
    "colab_type": "text",
    "id": "ikFtGvIwl9l9"
   },
   "source": [
    "# Demo 2: Support Vektor Maschinen\n",
    "\n",
    "Laden eines Beispieldatensatzes."
   ]
  },
  {
   "cell_type": "code",
   "execution_count": 5,
   "metadata": {
    "colab": {},
    "colab_type": "code",
    "collapsed": true,
    "id": "hw5lI58mk7F_"
   },
   "outputs": [],
   "source": [
    "from sklearn import datasets\n",
    "\n",
    "cancer = datasets.load_breast_cancer()"
   ]
  },
  {
   "cell_type": "markdown",
   "metadata": {
    "colab_type": "text",
    "id": "v2xSfvzHpIVx"
   },
   "source": [
    "Wie heißen die einzelnen Inputmerkmale und die Zielmerkmale?"
   ]
  },
  {
   "cell_type": "code",
   "execution_count": 6,
   "metadata": {
    "colab": {
     "base_uri": "https://localhost:8080/",
     "height": 223
    },
    "colab_type": "code",
    "id": "oGfskAhpo1PH",
    "outputId": "444f023c-df8c-4cff-e8d7-e4d0e57c6a00"
   },
   "outputs": [
    {
     "name": "stdout",
     "output_type": "stream",
     "text": [
      "Inputmerkmale:  ['mean radius' 'mean texture' 'mean perimeter' 'mean area'\n",
      " 'mean smoothness' 'mean compactness' 'mean concavity'\n",
      " 'mean concave points' 'mean symmetry' 'mean fractal dimension'\n",
      " 'radius error' 'texture error' 'perimeter error' 'area error'\n",
      " 'smoothness error' 'compactness error' 'concavity error'\n",
      " 'concave points error' 'symmetry error' 'fractal dimension error'\n",
      " 'worst radius' 'worst texture' 'worst perimeter' 'worst area'\n",
      " 'worst smoothness' 'worst compactness' 'worst concavity'\n",
      " 'worst concave points' 'worst symmetry' 'worst fractal dimension']\n",
      "Anzahl der Inputmerkmale: 30\n",
      "Zielmerkmale:  ['malignant' 'benign']\n"
     ]
    }
   ],
   "source": [
    "print(\"Inputmerkmale: \", cancer.feature_names)\n",
    "print(\"Anzahl der Inputmerkmale:\", len(cancer.feature_names))\n",
    "\n",
    "\n",
    "print(\"Zielmerkmale: \", cancer.target_names)"
   ]
  },
  {
   "cell_type": "markdown",
   "metadata": {
    "colab_type": "text",
    "id": "q2OgWzs7pkh8"
   },
   "source": [
    "Welche Form haben die Daten?"
   ]
  },
  {
   "cell_type": "code",
   "execution_count": 7,
   "metadata": {
    "colab": {
     "base_uri": "https://localhost:8080/",
     "height": 36
    },
    "colab_type": "code",
    "id": "CXAjKjOypRae",
    "outputId": "7b703ef9-29b3-4298-8e5e-d1ac2566cc42"
   },
   "outputs": [
    {
     "data": {
      "text/plain": [
       "(569, 30)"
      ]
     },
     "execution_count": 7,
     "metadata": {},
     "output_type": "execute_result"
    }
   ],
   "source": [
    "cancer.data.shape"
   ]
  },
  {
   "cell_type": "markdown",
   "metadata": {
    "colab_type": "text",
    "id": "ALUgz5gBp9Ic"
   },
   "source": [
    "Hier sind die ersten 3 Beispieldaten"
   ]
  },
  {
   "cell_type": "code",
   "execution_count": 8,
   "metadata": {
    "colab": {
     "base_uri": "https://localhost:8080/",
     "height": 298
    },
    "colab_type": "code",
    "id": "ZvsB9Zrvpjfr",
    "outputId": "7d858ddd-ca03-461e-ffb6-b9c7678d51a9"
   },
   "outputs": [
    {
     "name": "stdout",
     "output_type": "stream",
     "text": [
      "[[1.799e+01 1.038e+01 1.228e+02 1.001e+03 1.184e-01 2.776e-01 3.001e-01\n",
      "  1.471e-01 2.419e-01 7.871e-02 1.095e+00 9.053e-01 8.589e+00 1.534e+02\n",
      "  6.399e-03 4.904e-02 5.373e-02 1.587e-02 3.003e-02 6.193e-03 2.538e+01\n",
      "  1.733e+01 1.846e+02 2.019e+03 1.622e-01 6.656e-01 7.119e-01 2.654e-01\n",
      "  4.601e-01 1.189e-01]\n",
      " [2.057e+01 1.777e+01 1.329e+02 1.326e+03 8.474e-02 7.864e-02 8.690e-02\n",
      "  7.017e-02 1.812e-01 5.667e-02 5.435e-01 7.339e-01 3.398e+00 7.408e+01\n",
      "  5.225e-03 1.308e-02 1.860e-02 1.340e-02 1.389e-02 3.532e-03 2.499e+01\n",
      "  2.341e+01 1.588e+02 1.956e+03 1.238e-01 1.866e-01 2.416e-01 1.860e-01\n",
      "  2.750e-01 8.902e-02]\n",
      " [1.969e+01 2.125e+01 1.300e+02 1.203e+03 1.096e-01 1.599e-01 1.974e-01\n",
      "  1.279e-01 2.069e-01 5.999e-02 7.456e-01 7.869e-01 4.585e+00 9.403e+01\n",
      "  6.150e-03 4.006e-02 3.832e-02 2.058e-02 2.250e-02 4.571e-03 2.357e+01\n",
      "  2.553e+01 1.525e+02 1.709e+03 1.444e-01 4.245e-01 4.504e-01 2.430e-01\n",
      "  3.613e-01 8.758e-02]]\n"
     ]
    }
   ],
   "source": [
    "print(cancer.data[0:3])"
   ]
  },
  {
   "cell_type": "code",
   "execution_count": null,
   "metadata": {
    "colab": {},
    "colab_type": "code",
    "collapsed": true,
    "id": "McBbkJTUqK10"
   },
   "outputs": [],
   "source": []
  },
  {
   "cell_type": "markdown",
   "metadata": {
    "colab_type": "text",
    "id": "25XcLdGtqbQL"
   },
   "source": [
    "Wie sehen die Targetwerte aus?"
   ]
  },
  {
   "cell_type": "code",
   "execution_count": 9,
   "metadata": {
    "colab": {
     "base_uri": "https://localhost:8080/",
     "height": 317
    },
    "colab_type": "code",
    "id": "zKQNh6TeqeUb",
    "outputId": "f72bad33-752e-4029-aabb-3afeabe52ccc"
   },
   "outputs": [
    {
     "name": "stdout",
     "output_type": "stream",
     "text": [
      "[0 0 0 0 0 0 0 0 0 0 0 0 0 0 0 0 0 0 0 1 1 1 0 0 0 0 0 0 0 0 0 0 0 0 0 0 0\n",
      " 1 0 0 0 0 0 0 0 0 1 0 1 1 1 1 1 0 0 1 0 0 1 1 1 1 0 1 0 0 1 1 1 1 0 1 0 0\n",
      " 1 0 1 0 0 1 1 1 0 0 1 0 0 0 1 1 1 0 1 1 0 0 1 1 1 0 0 1 1 1 1 0 1 1 0 1 1\n",
      " 1 1 1 1 1 1 0 0 0 1 0 0 1 1 1 0 0 1 0 1 0 0 1 0 0 1 1 0 1 1 0 1 1 1 1 0 1\n",
      " 1 1 1 1 1 1 1 1 0 1 1 1 1 0 0 1 0 1 1 0 0 1 1 0 0 1 1 1 1 0 1 1 0 0 0 1 0\n",
      " 1 0 1 1 1 0 1 1 0 0 1 0 0 0 0 1 0 0 0 1 0 1 0 1 1 0 1 0 0 0 0 1 1 0 0 1 1\n",
      " 1 0 1 1 1 1 1 0 0 1 1 0 1 1 0 0 1 0 1 1 1 1 0 1 1 1 1 1 0 1 0 0 0 0 0 0 0\n",
      " 0 0 0 0 0 0 0 1 1 1 1 1 1 0 1 0 1 1 0 1 1 0 1 0 0 1 1 1 1 1 1 1 1 1 1 1 1\n",
      " 1 0 1 1 0 1 0 1 1 1 1 1 1 1 1 1 1 1 1 1 1 0 1 1 1 0 1 0 1 1 1 1 0 0 0 1 1\n",
      " 1 1 0 1 0 1 0 1 1 1 0 1 1 1 1 1 1 1 0 0 0 1 1 1 1 1 1 1 1 1 1 1 0 0 1 0 0\n",
      " 0 1 0 0 1 1 1 1 1 0 1 1 1 1 1 0 1 1 1 0 1 1 0 0 1 1 1 1 1 1 0 1 1 1 1 1 1\n",
      " 1 0 1 1 1 1 1 0 1 1 0 1 1 1 1 1 1 1 1 1 1 1 1 0 1 0 0 1 0 1 1 1 1 1 0 1 1\n",
      " 0 1 0 1 1 0 1 0 1 1 1 1 1 1 1 1 0 0 1 1 1 1 1 1 0 1 1 1 1 1 1 1 1 1 1 0 1\n",
      " 1 1 1 1 1 1 0 1 0 1 1 0 1 1 1 1 1 0 0 1 0 1 0 1 1 1 1 1 0 1 1 0 1 0 1 0 0\n",
      " 1 1 1 0 1 1 1 1 1 1 1 1 1 1 1 0 1 0 0 1 1 1 1 1 1 1 1 1 1 1 1 1 1 1 1 1 1\n",
      " 1 1 1 1 1 1 1 0 0 0 0 0 0 1]\n"
     ]
    }
   ],
   "source": [
    "print(cancer.target)"
   ]
  },
  {
   "cell_type": "markdown",
   "metadata": {
    "colab_type": "text",
    "id": "x2JkKW_iqyZB"
   },
   "source": [
    "Aufteilung der Daten in Trainings- und Testdaten:"
   ]
  },
  {
   "cell_type": "code",
   "execution_count": 10,
   "metadata": {
    "colab": {},
    "colab_type": "code",
    "collapsed": true,
    "id": "XPI_qnVjqfBi"
   },
   "outputs": [],
   "source": [
    "from sklearn.model_selection import train_test_split\n",
    "\n",
    "# 90% Trainings- und 10% Testdaten\n",
    "X_train, X_test, y_train, y_test = \\\n",
    "  train_test_split(cancer.data, cancer.target, test_size=0.1,random_state=109) "
   ]
  },
  {
   "cell_type": "markdown",
   "metadata": {
    "colab_type": "text",
    "id": "cxte0SwErMxn"
   },
   "source": [
    "Wieviele Trainings- und wieviele Testdaten habe ich jetzt?"
   ]
  },
  {
   "cell_type": "code",
   "execution_count": 11,
   "metadata": {
    "colab": {
     "base_uri": "https://localhost:8080/",
     "height": 55
    },
    "colab_type": "code",
    "id": "ndcx-IQQq1GJ",
    "outputId": "73b84546-e651-4f7b-d291-bc25a670aa76"
   },
   "outputs": [
    {
     "name": "stdout",
     "output_type": "stream",
     "text": [
      "(512, 30)\n",
      "(57, 30)\n"
     ]
    }
   ],
   "source": [
    "print(X_train.shape)\n",
    "print(X_test.shape)"
   ]
  },
  {
   "cell_type": "markdown",
   "metadata": {
    "colab_type": "text",
    "id": "NJhwNkIhr5Lv"
   },
   "source": [
    "Jetzt erzeugen wir einen Support Vector Machine Classifier (SVC) , trainieren diesen (fit) und nutzen ihn zur Prädiktion (predict) auf den Testdaten:"
   ]
  },
  {
   "cell_type": "code",
   "execution_count": 12,
   "metadata": {
    "colab": {},
    "colab_type": "code",
    "collapsed": true,
    "id": "Ek2sgZ0UrOTs"
   },
   "outputs": [],
   "source": [
    "from sklearn import svm\n",
    "\n",
    "clf = svm.SVC(kernel='linear') # linearer Kernel\n",
    "\n",
    "\n",
    "clf.fit(X_train, y_train)\n",
    "\n",
    "\n",
    "y_pred = clf.predict(X_test)"
   ]
  },
  {
   "cell_type": "markdown",
   "metadata": {
    "colab_type": "text",
    "id": "7aHAvAMFsa51"
   },
   "source": [
    "Zeige einige der Prädiktionen und was hätte rauskommen sollen:"
   ]
  },
  {
   "cell_type": "code",
   "execution_count": 13,
   "metadata": {
    "colab": {
     "base_uri": "https://localhost:8080/",
     "height": 92
    },
    "colab_type": "code",
    "id": "H_dWwjaUr2uy",
    "outputId": "39ba55b3-4f83-4f23-fda2-401e8d3eed73"
   },
   "outputs": [
    {
     "name": "stdout",
     "output_type": "stream",
     "text": [
      "[1 1 0 0 1 0 1 1 1 0 0 0 1 0 0 1 0 0 1 0 1 1 0 0 1 1 0 1 1 1 1 0 1 1 1 1 1\n",
      " 0 1 1 0 1 0 1 1 1 1 1 0 0 1 1 0 1 1 0 1]\n",
      "[1 1 0 0 1 0 1 1 1 0 0 0 1 0 1 1 0 0 1 0 1 1 0 0 1 1 0 1 1 1 1 0 1 1 1 1 1\n",
      " 0 1 1 0 1 0 1 1 1 0 1 0 0 1 1 0 1 1 0 1]\n"
     ]
    }
   ],
   "source": [
    "print(y_pred)\n",
    "\n",
    "print(y_test)"
   ]
  },
  {
   "cell_type": "markdown",
   "metadata": {
    "colab_type": "text",
    "id": "Ftw4NhtYsvIx"
   },
   "source": [
    "Wie gut ist unser Klassifikator?"
   ]
  },
  {
   "cell_type": "code",
   "execution_count": 14,
   "metadata": {
    "colab": {
     "base_uri": "https://localhost:8080/",
     "height": 36
    },
    "colab_type": "code",
    "id": "aEN-NFUJsmEi",
    "outputId": "47fc4daf-d72a-4558-82eb-5c39e7c1a6a6"
   },
   "outputs": [
    {
     "name": "stdout",
     "output_type": "stream",
     "text": [
      "Genauigkeit: 0.9649122807017544\n"
     ]
    }
   ],
   "source": [
    "from sklearn import metrics\n",
    "\n",
    "print(\"Genauigkeit:\",metrics.accuracy_score(y_test, y_pred))"
   ]
  },
  {
   "cell_type": "markdown",
   "metadata": {
    "colab_type": "text",
    "id": "UdtM9x1JuA2b"
   },
   "source": [
    "# Demo 3: k-Nearest Neighbors"
   ]
  },
  {
   "cell_type": "code",
   "execution_count": 15,
   "metadata": {
    "colab": {
     "base_uri": "https://localhost:8080/",
     "height": 73
    },
    "colab_type": "code",
    "id": "QG196TFyuFBA",
    "outputId": "b5da672b-e5d7-41b5-ae03-698e87eb5bf0"
   },
   "outputs": [
    {
     "data": {
      "text/plain": [
       "KNeighborsClassifier(algorithm='auto', leaf_size=30, metric='minkowski',\n",
       "           metric_params=None, n_jobs=1, n_neighbors=3, p=2,\n",
       "           weights='uniform')"
      ]
     },
     "execution_count": 15,
     "metadata": {},
     "output_type": "execute_result"
    }
   ],
   "source": [
    "from sklearn.datasets import load_iris\n",
    "\n",
    "iris = load_iris()\n",
    "\n",
    "\n",
    "from sklearn.neighbors import KNeighborsClassifier\n",
    "\n",
    "knn = KNeighborsClassifier(n_neighbors=3)\n",
    "knn.fit(iris.data, iris.target)"
   ]
  },
  {
   "cell_type": "markdown",
   "metadata": {
    "colab_type": "text",
    "id": "zbJeuwW7vV3L"
   },
   "source": [
    "Testen des k-NN Klassifizierers:"
   ]
  },
  {
   "cell_type": "code",
   "execution_count": 16,
   "metadata": {
    "colab": {
     "base_uri": "https://localhost:8080/",
     "height": 36
    },
    "colab_type": "code",
    "id": "m3QkO_NauyYQ",
    "outputId": "914885b0-2817-410a-cc05-2ec38b1008c4"
   },
   "outputs": [
    {
     "name": "stdout",
     "output_type": "stream",
     "text": [
      "[1 0]\n"
     ]
    }
   ],
   "source": [
    "test_daten=[[3,4,5,2],[5,4,2,2]]\n",
    "ergebnis = knn.predict(test_daten)\n",
    "print(ergebnis)"
   ]
  },
  {
   "cell_type": "code",
   "execution_count": null,
   "metadata": {
    "colab": {},
    "colab_type": "code",
    "collapsed": true,
    "id": "zK2GIeAYvSMV"
   },
   "outputs": [],
   "source": []
  },
  {
   "cell_type": "markdown",
   "metadata": {
    "colab_type": "text",
    "id": "BPxPiRzdxyzX"
   },
   "source": [
    "# Demo 4: k-Means Clustering"
   ]
  },
  {
   "cell_type": "markdown",
   "metadata": {
    "colab_type": "text",
    "id": "PCp-n6ZtzFkm"
   },
   "source": [
    "Wir erzeugen uns ein paar zufällige 2D Daten:"
   ]
  },
  {
   "cell_type": "code",
   "execution_count": 17,
   "metadata": {
    "colab": {
     "base_uri": "https://localhost:8080/",
     "height": 269
    },
    "colab_type": "code",
    "id": "huyw3AGEx0qd",
    "outputId": "0ec8c848-e76b-4ec4-b0dc-6e7aae34043b"
   },
   "outputs": [],
   "source": [
    "from sklearn.datasets import make_blobs\n",
    "import matplotlib.pyplot as plt\n",
    "\n",
    "X, y_true = make_blobs(n_samples=300, centers=4,\n",
    "                       cluster_std=0.5, random_state=0)\n",
    "\n",
    "plt.grid()\n",
    "plt.scatter(X[:, 0], X[:, 1]);"
   ]
  },
  {
   "cell_type": "markdown",
   "metadata": {
    "colab_type": "text",
    "id": "FV_wP5YpzNbZ"
   },
   "source": [
    "Jetzt lassen wir k-Means Cluster finden:"
   ]
  },
  {
   "cell_type": "code",
   "execution_count": 18,
   "metadata": {
    "colab": {},
    "colab_type": "code",
    "collapsed": true,
    "id": "28Tvx92JyJul"
   },
   "outputs": [],
   "source": [
    "from sklearn.cluster import KMeans\n",
    "\n",
    "kmeans = KMeans(n_clusters=4)\n",
    "kmeans.fit(X)\n",
    "y_kmeans = kmeans.predict(X)\n"
   ]
  },
  {
   "cell_type": "markdown",
   "metadata": {
    "colab_type": "text",
    "id": "F9GUiseM4HSz"
   },
   "source": [
    "Wir plotten die Ergebnisse des k-Means Clustering:"
   ]
  },
  {
   "cell_type": "code",
   "execution_count": 19,
   "metadata": {
    "colab": {
     "base_uri": "https://localhost:8080/",
     "height": 269
    },
    "colab_type": "code",
    "id": "dOHJQHnizX71",
    "outputId": "0db0dc0c-a2e4-4fb0-8b00-542121a0dc97"
   },
   "outputs": [],
   "source": [
    "plt.scatter(X[:, 0], X[:, 1], c=y_kmeans, s=50, cmap='viridis')\n",
    "\n",
    "centers = kmeans.cluster_centers_\n",
    "plt.grid()\n",
    "plt.scatter(centers[:, 0], centers[:, 1], c='black', s=200, alpha=0.5);"
   ]
  },
  {
   "cell_type": "markdown",
   "metadata": {
    "colab_type": "text",
    "id": "CA2oYwLF367G"
   },
   "source": [
    "# Demo 5: Mean-Shift Clustering"
   ]
  },
  {
   "cell_type": "markdown",
   "metadata": {
    "colab_type": "text",
    "id": "bsAcQDJN4B7R"
   },
   "source": [
    "Wir erzeugen uns ein paar zufällige 2D Daten:"
   ]
  },
  {
   "cell_type": "code",
   "execution_count": 20,
   "metadata": {
    "colab": {
     "base_uri": "https://localhost:8080/",
     "height": 269
    },
    "colab_type": "code",
    "id": "9pkBBVMz38Tq",
    "outputId": "f3da5528-7f40-4b94-dc8f-12d2495f6a1e"
   },
   "outputs": [],
   "source": [
    "from sklearn.datasets import make_blobs\n",
    "import matplotlib.pyplot as plt\n",
    "\n",
    "X, y_true = make_blobs(n_samples=300, centers=4,\n",
    "                       cluster_std=0.4, random_state=0)\n",
    "\n",
    "plt.grid()\n",
    "plt.scatter(X[:, 0], X[:, 1]);"
   ]
  },
  {
   "cell_type": "markdown",
   "metadata": {
    "colab_type": "text",
    "id": "JTCOEYtn4O6R"
   },
   "source": [
    "Jetzt lassen wir das Mean-Shift Clustering die Cluster finden:"
   ]
  },
  {
   "cell_type": "code",
   "execution_count": 21,
   "metadata": {
    "colab": {
     "base_uri": "https://localhost:8080/",
     "height": 261
    },
    "colab_type": "code",
    "id": "KfEXQPpM4FLK",
    "outputId": "f38383ba-8d94-4064-bfa8-ad212e4855ba"
   },
   "outputs": [
    {
     "name": "stdout",
     "output_type": "stream",
     "text": [
      "[3 2 1 2 3 3 0 1 2 2 0 2 1 2 3 1 1 3 0 0 3 3 1 0 0 1 3 1 0 1 2 2 1 2 2 2 2\n",
      " 2 0 3 1 0 1 1 0 0 2 0 2 3 0 3 2 3 3 0 2 0 2 3 2 1 2 0 0 0 2 3 2 0 1 0 2 0\n",
      " 0 2 0 1 3 2 3 1 3 3 2 1 3 1 2 2 1 3 2 0 0 1 3 3 1 0 2 3 2 3 1 3 3 1 2 1 0\n",
      " 0 3 2 3 1 2 3 3 1 0 3 0 3 3 3 3 0 3 0 2 0 0 3 2 0 0 2 1 2 2 0 1 0 1 0 2 1\n",
      " 2 2 2 1 2 1 3 0 2 0 3 1 2 1 1 3 1 0 0 1 3 1 1 2 3 1 0 2 3 3 1 0 3 1 0 0 1\n",
      " 1 1 1 3 2 1 0 1 1 0 0 0 1 0 2 1 0 3 0 1 2 0 2 1 2 1 0 1 1 2 0 0 3 3 1 2 3\n",
      " 3 0 3 0 1 2 2 1 1 2 1 3 0 1 3 0 2 0 3 1 3 2 2 2 2 0 0 2 1 0 3 1 0 0 0 3 3\n",
      " 2 1 1 0 3 2 0 1 2 1 3 3 0 0 1 3 3 3 1 2 2 3 3 1 3 3 3 2 0 2 1 3 3 2 2 2 3\n",
      " 3 1 2 0]\n",
      "[[-1.56573152  2.85971595]\n",
      " [ 0.93514386  4.3917549 ]\n",
      " [-1.35891484  7.81089433]\n",
      " [ 1.96439855  0.89070723]]\n"
     ]
    }
   ],
   "source": [
    "from sklearn.cluster import MeanShift, estimate_bandwidth\n",
    "import numpy as np\n",
    "\n",
    "b = estimate_bandwidth(X, quantile=0.2, n_samples=500)\n",
    "ms = MeanShift(bandwidth=b)\n",
    "ms.fit(X)\n",
    "\n",
    "labels = ms.labels_\n",
    "cluster_centers = ms.cluster_centers_\n",
    "\n",
    "print(labels)\n",
    "print(cluster_centers)"
   ]
  },
  {
   "cell_type": "markdown",
   "metadata": {
    "colab_type": "text",
    "id": "3BnLPzBLU2Dc"
   },
   "source": [
    "Zähle die Anzahl der gefundenen Cluster:"
   ]
  },
  {
   "cell_type": "code",
   "execution_count": 22,
   "metadata": {
    "colab": {
     "base_uri": "https://localhost:8080/",
     "height": 36
    },
    "colab_type": "code",
    "id": "bi57A2ILU0TH",
    "outputId": "6cb93ec7-584f-48a1-c8e8-420d67037054"
   },
   "outputs": [
    {
     "name": "stdout",
     "output_type": "stream",
     "text": [
      "[0 1 2 3]\n"
     ]
    }
   ],
   "source": [
    "import numpy as np\n",
    "labels_unique = np.unique(labels)\n",
    "print(labels_unique)\n",
    "nr_clusters = len(labels_unique)"
   ]
  },
  {
   "cell_type": "markdown",
   "metadata": {
    "colab_type": "text",
    "id": "zyAB23FxVJlY"
   },
   "source": [
    "Zeichne alle Datenpunkte eines Clusters in der gleichen Farbe:"
   ]
  },
  {
   "cell_type": "code",
   "execution_count": 23,
   "metadata": {
    "colab": {
     "base_uri": "https://localhost:8080/",
     "height": 281
    },
    "colab_type": "code",
    "id": "cBmw73-gQLgb",
    "outputId": "71ade922-2ed1-4a87-9a57-2d37196cba6a"
   },
   "outputs": [
    {
     "data": {
      "image/png": "[encoded data removed]",
      "text/plain": [
       "<Figure size 432x288 with 1 Axes>"
      ]
     },
     "metadata": {},
     "output_type": "display_data"
    }
   ],
   "source": [
    "plt.figure(1)\n",
    "plt.clf()\n",
    "colors = ['blue','green','red','cyan','magenta']\n",
    "for k, col in zip(range(nr_clusters), colors):\n",
    "    my_members = labels == k\n",
    "    cluster_center = cluster_centers[k]\n",
    "    plt.scatter(X[my_members, 0], X[my_members, 1], c=col)    \n",
    "plt.title(\"Anzahl der Cluster: \" + str(nr_clusters))\n",
    "plt.show()"
   ]
  },
  {
   "cell_type": "markdown",
   "metadata": {
    "colab_type": "text",
    "id": "mwSS8AtGZlYm"
   },
   "source": [
    "# Demo 6: MLP"
   ]
  },
  {
   "cell_type": "markdown",
   "metadata": {
    "colab_type": "text",
    "id": "nNNzWto5ZqMH"
   },
   "source": [
    "Lese den Datensatz ein:"
   ]
  },
  {
   "cell_type": "code",
   "execution_count": 24,
   "metadata": {
    "colab": {
     "base_uri": "https://localhost:8080/",
     "height": 55
    },
    "colab_type": "code",
    "id": "wqdhJ5trZnn1",
    "outputId": "a4a93a27-802e-4f19-8991-883ee1adbaf4"
   },
   "outputs": [
    {
     "name": "stdout",
     "output_type": "stream",
     "text": [
      "Form der Trainingsdaten: (1460, 81)\n",
      "Form der Testdaten (1459, 80)\n"
     ]
    }
   ],
   "source": [
    "import pandas as pd\n",
    "train_data = pd.read_csv(\"house_prices_train.csv\")\n",
    "test_data  = pd.read_csv(\"house_prices_test.csv\")\n",
    "print(\"Form der Trainingsdaten:\", train_data.shape)\n",
    "print(\"Form der Testdaten\", test_data.shape)"
   ]
  },
  {
   "cell_type": "markdown",
   "metadata": {
    "colab_type": "text",
    "id": "YtzNyO5JbGzm"
   },
   "source": [
    "Wie sehen die Daten aus?"
   ]
  },
  {
   "cell_type": "code",
   "execution_count": 25,
   "metadata": {
    "colab": {
     "base_uri": "https://localhost:8080/",
     "height": 255
    },
    "colab_type": "code",
    "id": "ZSL45LSda_tk",
    "outputId": "c97c4536-2e50-41fb-91ec-832e06fa3360"
   },
   "outputs": [
    {
     "data": {
      "text/html": [
       "<div>\n",
       "<style>\n",
       "    .dataframe thead tr:only-child th {\n",
       "        text-align: right;\n",
       "    }\n",
       "\n",
       "    .dataframe thead th {\n",
       "        text-align: left;\n",
       "    }\n",
       "\n",
       "    .dataframe tbody tr th {\n",
       "        vertical-align: top;\n",
       "    }\n",
       "</style>\n",
       "<table border=\"1\" class=\"dataframe\">\n",
       "  <thead>\n",
       "    <tr style=\"text-align: right;\">\n",
       "      <th></th>\n",
       "      <th>Id</th>\n",
       "      <th>MSSubClass</th>\n",
       "      <th>MSZoning</th>\n",
       "      <th>LotFrontage</th>\n",
       "      <th>LotArea</th>\n",
       "      <th>Street</th>\n",
       "      <th>Alley</th>\n",
       "      <th>LotShape</th>\n",
       "      <th>LandContour</th>\n",
       "      <th>Utilities</th>\n",
       "      <th>...</th>\n",
       "      <th>PoolArea</th>\n",
       "      <th>PoolQC</th>\n",
       "      <th>Fence</th>\n",
       "      <th>MiscFeature</th>\n",
       "      <th>MiscVal</th>\n",
       "      <th>MoSold</th>\n",
       "      <th>YrSold</th>\n",
       "      <th>SaleType</th>\n",
       "      <th>SaleCondition</th>\n",
       "      <th>SalePrice</th>\n",
       "    </tr>\n",
       "  </thead>\n",
       "  <tbody>\n",
       "    <tr>\n",
       "      <th>0</th>\n",
       "      <td>1</td>\n",
       "      <td>60</td>\n",
       "      <td>RL</td>\n",
       "      <td>65.0</td>\n",
       "      <td>8450</td>\n",
       "      <td>Pave</td>\n",
       "      <td>NaN</td>\n",
       "      <td>Reg</td>\n",
       "      <td>Lvl</td>\n",
       "      <td>AllPub</td>\n",
       "      <td>...</td>\n",
       "      <td>0</td>\n",
       "      <td>NaN</td>\n",
       "      <td>NaN</td>\n",
       "      <td>NaN</td>\n",
       "      <td>0</td>\n",
       "      <td>2</td>\n",
       "      <td>2008</td>\n",
       "      <td>WD</td>\n",
       "      <td>Normal</td>\n",
       "      <td>208500</td>\n",
       "    </tr>\n",
       "    <tr>\n",
       "      <th>1</th>\n",
       "      <td>2</td>\n",
       "      <td>20</td>\n",
       "      <td>RL</td>\n",
       "      <td>80.0</td>\n",
       "      <td>9600</td>\n",
       "      <td>Pave</td>\n",
       "      <td>NaN</td>\n",
       "      <td>Reg</td>\n",
       "      <td>Lvl</td>\n",
       "      <td>AllPub</td>\n",
       "      <td>...</td>\n",
       "      <td>0</td>\n",
       "      <td>NaN</td>\n",
       "      <td>NaN</td>\n",
       "      <td>NaN</td>\n",
       "      <td>0</td>\n",
       "      <td>5</td>\n",
       "      <td>2007</td>\n",
       "      <td>WD</td>\n",
       "      <td>Normal</td>\n",
       "      <td>181500</td>\n",
       "    </tr>\n",
       "    <tr>\n",
       "      <th>2</th>\n",
       "      <td>3</td>\n",
       "      <td>60</td>\n",
       "      <td>RL</td>\n",
       "      <td>68.0</td>\n",
       "      <td>11250</td>\n",
       "      <td>Pave</td>\n",
       "      <td>NaN</td>\n",
       "      <td>IR1</td>\n",
       "      <td>Lvl</td>\n",
       "      <td>AllPub</td>\n",
       "      <td>...</td>\n",
       "      <td>0</td>\n",
       "      <td>NaN</td>\n",
       "      <td>NaN</td>\n",
       "      <td>NaN</td>\n",
       "      <td>0</td>\n",
       "      <td>9</td>\n",
       "      <td>2008</td>\n",
       "      <td>WD</td>\n",
       "      <td>Normal</td>\n",
       "      <td>223500</td>\n",
       "    </tr>\n",
       "    <tr>\n",
       "      <th>3</th>\n",
       "      <td>4</td>\n",
       "      <td>70</td>\n",
       "      <td>RL</td>\n",
       "      <td>60.0</td>\n",
       "      <td>9550</td>\n",
       "      <td>Pave</td>\n",
       "      <td>NaN</td>\n",
       "      <td>IR1</td>\n",
       "      <td>Lvl</td>\n",
       "      <td>AllPub</td>\n",
       "      <td>...</td>\n",
       "      <td>0</td>\n",
       "      <td>NaN</td>\n",
       "      <td>NaN</td>\n",
       "      <td>NaN</td>\n",
       "      <td>0</td>\n",
       "      <td>2</td>\n",
       "      <td>2006</td>\n",
       "      <td>WD</td>\n",
       "      <td>Abnorml</td>\n",
       "      <td>140000</td>\n",
       "    </tr>\n",
       "    <tr>\n",
       "      <th>4</th>\n",
       "      <td>5</td>\n",
       "      <td>60</td>\n",
       "      <td>RL</td>\n",
       "      <td>84.0</td>\n",
       "      <td>14260</td>\n",
       "      <td>Pave</td>\n",
       "      <td>NaN</td>\n",
       "      <td>IR1</td>\n",
       "      <td>Lvl</td>\n",
       "      <td>AllPub</td>\n",
       "      <td>...</td>\n",
       "      <td>0</td>\n",
       "      <td>NaN</td>\n",
       "      <td>NaN</td>\n",
       "      <td>NaN</td>\n",
       "      <td>0</td>\n",
       "      <td>12</td>\n",
       "      <td>2008</td>\n",
       "      <td>WD</td>\n",
       "      <td>Normal</td>\n",
       "      <td>250000</td>\n",
       "    </tr>\n",
       "  </tbody>\n",
       "</table>\n",
       "<p>5 rows × 81 columns</p>\n",
       "</div>"
      ],
      "text/plain": [
       "   Id  MSSubClass MSZoning  LotFrontage  LotArea Street Alley LotShape  \\\n",
       "0   1          60       RL         65.0     8450   Pave   NaN      Reg   \n",
       "1   2          20       RL         80.0     9600   Pave   NaN      Reg   \n",
       "2   3          60       RL         68.0    11250   Pave   NaN      IR1   \n",
       "3   4          70       RL         60.0     9550   Pave   NaN      IR1   \n",
       "4   5          60       RL         84.0    14260   Pave   NaN      IR1   \n",
       "\n",
       "  LandContour Utilities    ...     PoolArea PoolQC Fence MiscFeature MiscVal  \\\n",
       "0         Lvl    AllPub    ...            0    NaN   NaN         NaN       0   \n",
       "1         Lvl    AllPub    ...            0    NaN   NaN         NaN       0   \n",
       "2         Lvl    AllPub    ...            0    NaN   NaN         NaN       0   \n",
       "3         Lvl    AllPub    ...            0    NaN   NaN         NaN       0   \n",
       "4         Lvl    AllPub    ...            0    NaN   NaN         NaN       0   \n",
       "\n",
       "  MoSold YrSold  SaleType  SaleCondition  SalePrice  \n",
       "0      2   2008        WD         Normal     208500  \n",
       "1      5   2007        WD         Normal     181500  \n",
       "2      9   2008        WD         Normal     223500  \n",
       "3      2   2006        WD        Abnorml     140000  \n",
       "4     12   2008        WD         Normal     250000  \n",
       "\n",
       "[5 rows x 81 columns]"
      ]
     },
     "execution_count": 25,
     "metadata": {},
     "output_type": "execute_result"
    }
   ],
   "source": [
    "train_data[0:5]"
   ]
  },
  {
   "cell_type": "markdown",
   "metadata": {
    "colab_type": "text",
    "id": "hXMPgbwKbmuR"
   },
   "source": [
    "Datenbereinigung (NaN):"
   ]
  },
  {
   "cell_type": "code",
   "execution_count": 26,
   "metadata": {
    "colab": {},
    "colab_type": "code",
    "collapsed": true,
    "id": "ine3Q419bJa0"
   },
   "outputs": [],
   "source": [
    "train_data.fillna(0, inplace=True)\n",
    "test_data.fillna(0, inplace=True)"
   ]
  },
  {
   "cell_type": "markdown",
   "metadata": {
    "colab_type": "text",
    "id": "UpOzSULVbkmI"
   },
   "source": [
    "Reduziere Daten auf numerische Daten:"
   ]
  },
  {
   "cell_type": "code",
   "execution_count": 27,
   "metadata": {
    "colab": {
     "base_uri": "https://localhost:8080/",
     "height": 55
    },
    "colab_type": "code",
    "id": "oxR9emBYb3IT",
    "outputId": "7ae81b92-817f-4e9d-a0d5-e35d2983c53d"
   },
   "outputs": [
    {
     "name": "stdout",
     "output_type": "stream",
     "text": [
      "Form der Trainingsdaten: (1460, 38)\n",
      "Form der Testdaten (1459, 37)\n"
     ]
    }
   ],
   "source": [
    "train_data = train_data.select_dtypes(exclude=['object'])\n",
    "test_data = test_data.select_dtypes(exclude=['object'])\n",
    "print(\"Form der Trainingsdaten:\", train_data.shape)\n",
    "print(\"Form der Testdaten\", test_data.shape)"
   ]
  },
  {
   "cell_type": "markdown",
   "metadata": {
    "colab_type": "text",
    "id": "DOZtjNSecX_h"
   },
   "source": [
    "Skalierung der Daten auf [0,1]:"
   ]
  },
  {
   "cell_type": "code",
   "execution_count": 28,
   "metadata": {
    "colab": {},
    "colab_type": "code",
    "collapsed": true,
    "id": "m6DzHDVob-Oz"
   },
   "outputs": [],
   "source": [
    "import numpy as np\n",
    "from sklearn.preprocessing import MinMaxScaler\n",
    "\n",
    "train_input_matrix = train_data.values[:,1:37]\n",
    "train_output_matrix = train_data.values[:,37]\n",
    "train_output_matrix = train_output_matrix.reshape(-1,1)\n",
    "test_input_matrix  = test_data.values[:,1:]\n",
    "\n",
    "scaler_input_features = MinMaxScaler(feature_range=(0, 1))\n",
    "normalized_train_input_matrix = scaler_input_features.fit_transform(train_input_matrix)\n",
    "normalized_test_input_matrix = scaler_input_features.transform(test_input_matrix)\n",
    "\n",
    "scaler_saleprice = MinMaxScaler(feature_range=(0, 1))\n",
    "normalized_train_output_matrix = scaler_saleprice.fit_transform(train_output_matrix)"
   ]
  },
  {
   "cell_type": "markdown",
   "metadata": {
    "colab_type": "text",
    "id": "MjnE3X8dcYN5"
   },
   "source": [
    "Beispiel der Original- und der skalierten Daten:"
   ]
  },
  {
   "cell_type": "code",
   "execution_count": 29,
   "metadata": {
    "colab": {
     "base_uri": "https://localhost:8080/",
     "height": 280
    },
    "colab_type": "code",
    "id": "VBBTR98edJaK",
    "outputId": "3c905dc3-fbef-467a-f279-d79ba7784ee9"
   },
   "outputs": [
    {
     "name": "stdout",
     "output_type": "stream",
     "text": [
      "[[208500.]\n",
      " [181500.]\n",
      " [223500.]\n",
      " ...\n",
      " [266500.]\n",
      " [142125.]\n",
      " [147500.]]\n",
      "[[0.24107763]\n",
      " [0.20358284]\n",
      " [0.26190807]\n",
      " ...\n",
      " [0.321622  ]\n",
      " [0.14890293]\n",
      " [0.15636717]]\n"
     ]
    }
   ],
   "source": [
    "print(train_output_matrix)\n",
    "print(normalized_train_output_matrix)"
   ]
  },
  {
   "cell_type": "markdown",
   "metadata": {
    "colab_type": "text",
    "id": "Kqm8TxT-hyKi"
   },
   "source": [
    "Wir bauen uns ein MLP:"
   ]
  },
  {
   "cell_type": "code",
   "execution_count": 34,
   "metadata": {
    "colab": {
     "base_uri": "https://localhost:8080/",
     "height": 7575
    },
    "colab_type": "code",
    "id": "CXT6euxmdMGa",
    "outputId": "334294ab-2103-4ec5-a62d-0dedba3761b1"
   },
   "outputs": [
    {
     "name": "stdout",
     "output_type": "stream",
     "text": [
      "(1460, 36)\n",
      "WARNING:tensorflow:From C:\\ProgramData\\Anaconda3\\envs\\objdet\\lib\\site-packages\\tensorflow\\python\\ops\\math_ops.py:3066: to_int32 (from tensorflow.python.ops.math_ops) is deprecated and will be removed in a future version.\n",
      "Instructions for updating:\n",
      "Use tf.cast instead.\n",
      "Train on 1314 samples, validate on 146 samples\n",
      "Epoch 1/200\n",
      "1314/1314 [==============================] - 0s 190us/step - loss: 0.0073 - val_loss: 0.0046\n",
      "Epoch 2/200\n",
      "1314/1314 [==============================] - 0s 39us/step - loss: 0.0053 - val_loss: 0.0042\n",
      "Epoch 3/200\n",
      "1314/1314 [==============================] - 0s 39us/step - loss: 0.0048 - val_loss: 0.0037\n",
      "Epoch 4/200\n",
      "1314/1314 [==============================] - 0s 38us/step - loss: 0.0044 - val_loss: 0.0041\n",
      "Epoch 5/200\n",
      "1314/1314 [==============================] - 0s 38us/step - loss: 0.0042 - val_loss: 0.0034\n",
      "Epoch 6/200\n",
      "1314/1314 [==============================] - 0s 40us/step - loss: 0.0040 - val_loss: 0.0033\n",
      "Epoch 7/200\n",
      "1314/1314 [==============================] - 0s 41us/step - loss: 0.0038 - val_loss: 0.0031\n",
      "Epoch 8/200\n",
      "1314/1314 [==============================] - 0s 38us/step - loss: 0.0037 - val_loss: 0.0030\n",
      "Epoch 9/200\n",
      "1314/1314 [==============================] - 0s 39us/step - loss: 0.0036 - val_loss: 0.0029\n",
      "Epoch 10/200\n",
      "1314/1314 [==============================] - 0s 38us/step - loss: 0.0035 - val_loss: 0.0028\n",
      "Epoch 11/200\n",
      "1314/1314 [==============================] - 0s 40us/step - loss: 0.0034 - val_loss: 0.0029\n",
      "Epoch 12/200\n",
      "1314/1314 [==============================] - 0s 39us/step - loss: 0.0033 - val_loss: 0.0027\n",
      "Epoch 13/200\n",
      "1314/1314 [==============================] - 0s 42us/step - loss: 0.0033 - val_loss: 0.0026\n",
      "Epoch 14/200\n",
      "1314/1314 [==============================] - 0s 39us/step - loss: 0.0032 - val_loss: 0.0026\n",
      "Epoch 15/200\n",
      "1314/1314 [==============================] - 0s 40us/step - loss: 0.0032 - val_loss: 0.0025\n",
      "Epoch 16/200\n",
      "1314/1314 [==============================] - 0s 37us/step - loss: 0.0031 - val_loss: 0.0025\n",
      "Epoch 17/200\n",
      "1314/1314 [==============================] - 0s 39us/step - loss: 0.0031 - val_loss: 0.0027\n",
      "Epoch 18/200\n",
      "1314/1314 [==============================] - 0s 40us/step - loss: 0.0030 - val_loss: 0.0026\n",
      "Epoch 19/200\n",
      "1314/1314 [==============================] - 0s 39us/step - loss: 0.0030 - val_loss: 0.0025\n",
      "Epoch 20/200\n",
      "1314/1314 [==============================] - 0s 39us/step - loss: 0.0029 - val_loss: 0.0023\n",
      "Epoch 21/200\n",
      "1314/1314 [==============================] - 0s 38us/step - loss: 0.0029 - val_loss: 0.0053\n",
      "Epoch 22/200\n",
      "1314/1314 [==============================] - 0s 39us/step - loss: 0.0030 - val_loss: 0.0025\n",
      "Epoch 23/200\n",
      "1314/1314 [==============================] - 0s 40us/step - loss: 0.0028 - val_loss: 0.0029\n",
      "Epoch 24/200\n",
      "1314/1314 [==============================] - 0s 43us/step - loss: 0.0028 - val_loss: 0.0023\n",
      "Epoch 25/200\n",
      "1314/1314 [==============================] - 0s 48us/step - loss: 0.0028 - val_loss: 0.0021\n",
      "Epoch 26/200\n",
      "1314/1314 [==============================] - 0s 48us/step - loss: 0.0027 - val_loss: 0.0021\n",
      "Epoch 27/200\n",
      "1314/1314 [==============================] - 0s 44us/step - loss: 0.0027 - val_loss: 0.0020\n",
      "Epoch 28/200\n",
      "1314/1314 [==============================] - 0s 41us/step - loss: 0.0027 - val_loss: 0.0021\n",
      "Epoch 29/200\n",
      "1314/1314 [==============================] - 0s 40us/step - loss: 0.0027 - val_loss: 0.0021\n",
      "Epoch 30/200\n",
      "1314/1314 [==============================] - 0s 39us/step - loss: 0.0027 - val_loss: 0.0020\n",
      "Epoch 31/200\n",
      "1314/1314 [==============================] - 0s 36us/step - loss: 0.0026 - val_loss: 0.0020\n",
      "Epoch 32/200\n",
      "1314/1314 [==============================] - 0s 37us/step - loss: 0.0026 - val_loss: 0.0038\n",
      "Epoch 33/200\n",
      "1314/1314 [==============================] - 0s 37us/step - loss: 0.0027 - val_loss: 0.0022\n",
      "Epoch 34/200\n",
      "1314/1314 [==============================] - 0s 38us/step - loss: 0.0026 - val_loss: 0.0021\n",
      "Epoch 35/200\n",
      "1314/1314 [==============================] - 0s 41us/step - loss: 0.0026 - val_loss: 0.0020\n",
      "Epoch 36/200\n",
      "1314/1314 [==============================] - 0s 46us/step - loss: 0.0026 - val_loss: 0.0020\n",
      "Epoch 37/200\n",
      "1314/1314 [==============================] - 0s 41us/step - loss: 0.0025 - val_loss: 0.0021\n",
      "Epoch 38/200\n",
      "1314/1314 [==============================] - 0s 61us/step - loss: 0.0025 - val_loss: 0.0019\n",
      "Epoch 39/200\n",
      "1314/1314 [==============================] - 0s 61us/step - loss: 0.0025 - val_loss: 0.0031\n",
      "Epoch 40/200\n",
      "1314/1314 [==============================] - 0s 45us/step - loss: 0.0025 - val_loss: 0.0021\n",
      "Epoch 41/200\n",
      "1314/1314 [==============================] - 0s 53us/step - loss: 0.0025 - val_loss: 0.0019\n",
      "Epoch 42/200\n",
      "1314/1314 [==============================] - 0s 46us/step - loss: 0.0025 - val_loss: 0.0019\n",
      "Epoch 43/200\n",
      "1314/1314 [==============================] - 0s 40us/step - loss: 0.0025 - val_loss: 0.0019\n",
      "Epoch 44/200\n",
      "1314/1314 [==============================] - 0s 40us/step - loss: 0.0025 - val_loss: 0.0020\n",
      "Epoch 45/200\n",
      "1314/1314 [==============================] - 0s 40us/step - loss: 0.0024 - val_loss: 0.0020\n",
      "Epoch 46/200\n",
      "1314/1314 [==============================] - 0s 42us/step - loss: 0.0024 - val_loss: 0.0019\n",
      "Epoch 47/200\n",
      "1314/1314 [==============================] - 0s 40us/step - loss: 0.0024 - val_loss: 0.0021\n",
      "Epoch 48/200\n",
      "1314/1314 [==============================] - 0s 39us/step - loss: 0.0024 - val_loss: 0.0022\n",
      "Epoch 49/200\n",
      "1314/1314 [==============================] - 0s 37us/step - loss: 0.0024 - val_loss: 0.0019\n",
      "Epoch 50/200\n",
      "1314/1314 [==============================] - 0s 48us/step - loss: 0.0024 - val_loss: 0.0019\n",
      "Epoch 51/200\n",
      "1314/1314 [==============================] - 0s 40us/step - loss: 0.0024 - val_loss: 0.0018\n",
      "Epoch 52/200\n",
      "1314/1314 [==============================] - 0s 38us/step - loss: 0.0024 - val_loss: 0.0018\n",
      "Epoch 53/200\n",
      "1314/1314 [==============================] - 0s 47us/step - loss: 0.0024 - val_loss: 0.0019\n",
      "Epoch 54/200\n",
      "1314/1314 [==============================] - 0s 49us/step - loss: 0.0024 - val_loss: 0.0022\n",
      "Epoch 55/200\n",
      "1314/1314 [==============================] - 0s 48us/step - loss: 0.0023 - val_loss: 0.0024\n",
      "Epoch 56/200\n",
      "1314/1314 [==============================] - 0s 46us/step - loss: 0.0023 - val_loss: 0.0018\n",
      "Epoch 57/200\n",
      "1314/1314 [==============================] - 0s 46us/step - loss: 0.0023 - val_loss: 0.0019\n",
      "Epoch 58/200\n",
      "1314/1314 [==============================] - 0s 37us/step - loss: 0.0023 - val_loss: 0.0019\n",
      "Epoch 59/200\n",
      "1314/1314 [==============================] - 0s 36us/step - loss: 0.0023 - val_loss: 0.0018\n",
      "Epoch 60/200\n",
      "1314/1314 [==============================] - 0s 37us/step - loss: 0.0023 - val_loss: 0.0019\n",
      "Epoch 61/200\n",
      "1314/1314 [==============================] - 0s 36us/step - loss: 0.0023 - val_loss: 0.0018\n",
      "Epoch 62/200\n",
      "1314/1314 [==============================] - 0s 37us/step - loss: 0.0023 - val_loss: 0.0019\n",
      "Epoch 63/200\n",
      "1314/1314 [==============================] - 0s 37us/step - loss: 0.0023 - val_loss: 0.0018\n",
      "Epoch 64/200\n",
      "1314/1314 [==============================] - 0s 37us/step - loss: 0.0023 - val_loss: 0.0018\n",
      "Epoch 65/200\n",
      "1314/1314 [==============================] - 0s 49us/step - loss: 0.0023 - val_loss: 0.0018\n",
      "Epoch 66/200\n",
      "1314/1314 [==============================] - 0s 45us/step - loss: 0.0023 - val_loss: 0.0018\n",
      "Epoch 67/200\n",
      "1314/1314 [==============================] - 0s 46us/step - loss: 0.0023 - val_loss: 0.0020\n",
      "Epoch 68/200\n",
      "1314/1314 [==============================] - 0s 47us/step - loss: 0.0023 - val_loss: 0.0018\n",
      "Epoch 69/200\n",
      "1314/1314 [==============================] - 0s 44us/step - loss: 0.0023 - val_loss: 0.0018\n",
      "Epoch 70/200\n",
      "1314/1314 [==============================] - 0s 35us/step - loss: 0.0023 - val_loss: 0.0018\n",
      "Epoch 71/200\n",
      "1314/1314 [==============================] - 0s 36us/step - loss: 0.0022 - val_loss: 0.0021\n",
      "Epoch 72/200\n",
      "1314/1314 [==============================] - 0s 36us/step - loss: 0.0023 - val_loss: 0.0018\n",
      "Epoch 73/200\n",
      "1314/1314 [==============================] - 0s 40us/step - loss: 0.0022 - val_loss: 0.0019\n",
      "Epoch 74/200\n",
      "1314/1314 [==============================] - 0s 36us/step - loss: 0.0022 - val_loss: 0.0018\n",
      "Epoch 75/200\n",
      "1314/1314 [==============================] - 0s 36us/step - loss: 0.0022 - val_loss: 0.0020\n"
     ]
    },
    {
     "name": "stdout",
     "output_type": "stream",
     "text": [
      "Epoch 76/200\n",
      "1314/1314 [==============================] - 0s 36us/step - loss: 0.0022 - val_loss: 0.0017\n",
      "Epoch 77/200\n",
      "1314/1314 [==============================] - 0s 38us/step - loss: 0.0022 - val_loss: 0.0020\n",
      "Epoch 78/200\n",
      "1314/1314 [==============================] - 0s 37us/step - loss: 0.0022 - val_loss: 0.0017\n",
      "Epoch 79/200\n",
      "1314/1314 [==============================] - 0s 34us/step - loss: 0.0022 - val_loss: 0.0017\n",
      "Epoch 80/200\n",
      "1314/1314 [==============================] - 0s 35us/step - loss: 0.0022 - val_loss: 0.0023\n",
      "Epoch 81/200\n",
      "1314/1314 [==============================] - 0s 37us/step - loss: 0.0022 - val_loss: 0.0018\n",
      "Epoch 82/200\n",
      "1314/1314 [==============================] - 0s 34us/step - loss: 0.0022 - val_loss: 0.0018\n",
      "Epoch 83/200\n",
      "1314/1314 [==============================] - 0s 34us/step - loss: 0.0022 - val_loss: 0.0017\n",
      "Epoch 84/200\n",
      "1314/1314 [==============================] - 0s 35us/step - loss: 0.0022 - val_loss: 0.0018\n",
      "Epoch 85/200\n",
      "1314/1314 [==============================] - 0s 39us/step - loss: 0.0022 - val_loss: 0.0018\n",
      "Epoch 86/200\n",
      "1314/1314 [==============================] - 0s 36us/step - loss: 0.0022 - val_loss: 0.0017\n",
      "Epoch 87/200\n",
      "1314/1314 [==============================] - 0s 38us/step - loss: 0.0022 - val_loss: 0.0017\n",
      "Epoch 88/200\n",
      "1314/1314 [==============================] - 0s 40us/step - loss: 0.0022 - val_loss: 0.0017\n",
      "Epoch 89/200\n",
      "1314/1314 [==============================] - 0s 35us/step - loss: 0.0021 - val_loss: 0.0018\n",
      "Epoch 90/200\n",
      "1314/1314 [==============================] - 0s 36us/step - loss: 0.0022 - val_loss: 0.0017\n",
      "Epoch 91/200\n",
      "1314/1314 [==============================] - 0s 35us/step - loss: 0.0022 - val_loss: 0.0018\n",
      "Epoch 92/200\n",
      "1314/1314 [==============================] - 0s 35us/step - loss: 0.0021 - val_loss: 0.0018\n",
      "Epoch 93/200\n",
      "1314/1314 [==============================] - 0s 38us/step - loss: 0.0021 - val_loss: 0.0018\n",
      "Epoch 94/200\n",
      "1314/1314 [==============================] - 0s 46us/step - loss: 0.0021 - val_loss: 0.0018\n",
      "Epoch 95/200\n",
      "1314/1314 [==============================] - 0s 39us/step - loss: 0.0021 - val_loss: 0.0019\n",
      "Epoch 96/200\n",
      "1314/1314 [==============================] - 0s 35us/step - loss: 0.0021 - val_loss: 0.0018\n",
      "Epoch 97/200\n",
      "1314/1314 [==============================] - 0s 34us/step - loss: 0.0021 - val_loss: 0.0018\n",
      "Epoch 98/200\n",
      "1314/1314 [==============================] - 0s 35us/step - loss: 0.0021 - val_loss: 0.0017\n",
      "Epoch 99/200\n",
      "1314/1314 [==============================] - 0s 35us/step - loss: 0.0021 - val_loss: 0.0018\n",
      "Epoch 100/200\n",
      "1314/1314 [==============================] - 0s 35us/step - loss: 0.0021 - val_loss: 0.0018\n",
      "Epoch 101/200\n",
      "1314/1314 [==============================] - 0s 36us/step - loss: 0.0021 - val_loss: 0.0017\n",
      "Epoch 102/200\n",
      "1314/1314 [==============================] - 0s 34us/step - loss: 0.0021 - val_loss: 0.0018\n",
      "Epoch 103/200\n",
      "1314/1314 [==============================] - 0s 34us/step - loss: 0.0021 - val_loss: 0.0018\n",
      "Epoch 104/200\n",
      "1314/1314 [==============================] - 0s 34us/step - loss: 0.0021 - val_loss: 0.0017\n",
      "Epoch 105/200\n",
      "1314/1314 [==============================] - 0s 33us/step - loss: 0.0021 - val_loss: 0.0024\n",
      "Epoch 106/200\n",
      "1314/1314 [==============================] - 0s 35us/step - loss: 0.0021 - val_loss: 0.0017\n",
      "Epoch 107/200\n",
      "1314/1314 [==============================] - 0s 36us/step - loss: 0.0021 - val_loss: 0.0021\n",
      "Epoch 108/200\n",
      "1314/1314 [==============================] - 0s 35us/step - loss: 0.0021 - val_loss: 0.0018\n",
      "Epoch 109/200\n",
      "1314/1314 [==============================] - 0s 34us/step - loss: 0.0021 - val_loss: 0.0018\n",
      "Epoch 110/200\n",
      "1314/1314 [==============================] - 0s 34us/step - loss: 0.0021 - val_loss: 0.0017\n",
      "Epoch 111/200\n",
      "1314/1314 [==============================] - 0s 36us/step - loss: 0.0021 - val_loss: 0.0018\n",
      "Epoch 112/200\n",
      "1314/1314 [==============================] - 0s 36us/step - loss: 0.0021 - val_loss: 0.0017\n",
      "Epoch 113/200\n",
      "1314/1314 [==============================] - 0s 34us/step - loss: 0.0021 - val_loss: 0.0017\n",
      "Epoch 114/200\n",
      "1314/1314 [==============================] - 0s 34us/step - loss: 0.0021 - val_loss: 0.0017\n",
      "Epoch 115/200\n",
      "1314/1314 [==============================] - 0s 35us/step - loss: 0.0021 - val_loss: 0.0018\n",
      "Epoch 116/200\n",
      "1314/1314 [==============================] - 0s 35us/step - loss: 0.0020 - val_loss: 0.0017\n",
      "Epoch 117/200\n",
      "1314/1314 [==============================] - 0s 35us/step - loss: 0.0021 - val_loss: 0.0018\n",
      "Epoch 118/200\n",
      "1314/1314 [==============================] - 0s 35us/step - loss: 0.0021 - val_loss: 0.0017\n",
      "Epoch 119/200\n",
      "1314/1314 [==============================] - 0s 34us/step - loss: 0.0021 - val_loss: 0.0025\n",
      "Epoch 120/200\n",
      "1314/1314 [==============================] - 0s 33us/step - loss: 0.0021 - val_loss: 0.0022\n",
      "Epoch 121/200\n",
      "1314/1314 [==============================] - 0s 36us/step - loss: 0.0021 - val_loss: 0.0019\n",
      "Epoch 122/200\n",
      "1314/1314 [==============================] - 0s 35us/step - loss: 0.0020 - val_loss: 0.0017\n",
      "Epoch 123/200\n",
      "1314/1314 [==============================] - 0s 33us/step - loss: 0.0020 - val_loss: 0.0018\n",
      "Epoch 124/200\n",
      "1314/1314 [==============================] - 0s 35us/step - loss: 0.0020 - val_loss: 0.0017\n",
      "Epoch 125/200\n",
      "1314/1314 [==============================] - 0s 35us/step - loss: 0.0020 - val_loss: 0.0017\n",
      "Epoch 126/200\n",
      "1314/1314 [==============================] - 0s 37us/step - loss: 0.0020 - val_loss: 0.0017\n",
      "Epoch 127/200\n",
      "1314/1314 [==============================] - 0s 36us/step - loss: 0.0020 - val_loss: 0.0018\n",
      "Epoch 128/200\n",
      "1314/1314 [==============================] - 0s 35us/step - loss: 0.0020 - val_loss: 0.0018\n",
      "Epoch 129/200\n",
      "1314/1314 [==============================] - 0s 34us/step - loss: 0.0020 - val_loss: 0.0017\n",
      "Epoch 130/200\n",
      "1314/1314 [==============================] - 0s 34us/step - loss: 0.0020 - val_loss: 0.0017\n",
      "Epoch 131/200\n",
      "1314/1314 [==============================] - 0s 34us/step - loss: 0.0020 - val_loss: 0.0017\n",
      "Epoch 132/200\n",
      "1314/1314 [==============================] - 0s 36us/step - loss: 0.0020 - val_loss: 0.0018\n",
      "Epoch 133/200\n",
      "1314/1314 [==============================] - 0s 36us/step - loss: 0.0020 - val_loss: 0.0018\n",
      "Epoch 134/200\n",
      "1314/1314 [==============================] - 0s 35us/step - loss: 0.0020 - val_loss: 0.0020\n",
      "Epoch 135/200\n",
      "1314/1314 [==============================] - 0s 34us/step - loss: 0.0020 - val_loss: 0.0017\n",
      "Epoch 136/200\n",
      "1314/1314 [==============================] - 0s 35us/step - loss: 0.0020 - val_loss: 0.0017\n",
      "Epoch 137/200\n",
      "1314/1314 [==============================] - 0s 34us/step - loss: 0.0020 - val_loss: 0.0017\n",
      "Epoch 138/200\n",
      "1314/1314 [==============================] - 0s 37us/step - loss: 0.0020 - val_loss: 0.0017\n",
      "Epoch 139/200\n",
      "1314/1314 [==============================] - 0s 36us/step - loss: 0.0020 - val_loss: 0.0017\n",
      "Epoch 140/200\n",
      "1314/1314 [==============================] - 0s 36us/step - loss: 0.0020 - val_loss: 0.0017\n",
      "Epoch 141/200\n",
      "1314/1314 [==============================] - 0s 35us/step - loss: 0.0020 - val_loss: 0.0017\n",
      "Epoch 142/200\n",
      "1314/1314 [==============================] - 0s 35us/step - loss: 0.0020 - val_loss: 0.0017\n",
      "Epoch 143/200\n",
      "1314/1314 [==============================] - 0s 35us/step - loss: 0.0020 - val_loss: 0.0017\n",
      "Epoch 144/200\n",
      "1314/1314 [==============================] - 0s 37us/step - loss: 0.0020 - val_loss: 0.0019\n",
      "Epoch 145/200\n",
      "1314/1314 [==============================] - 0s 35us/step - loss: 0.0020 - val_loss: 0.0017\n",
      "Epoch 146/200\n",
      "1314/1314 [==============================] - 0s 35us/step - loss: 0.0020 - val_loss: 0.0018\n",
      "Epoch 147/200\n",
      "1314/1314 [==============================] - 0s 34us/step - loss: 0.0020 - val_loss: 0.0017\n",
      "Epoch 148/200\n",
      "1314/1314 [==============================] - 0s 35us/step - loss: 0.0020 - val_loss: 0.0017\n",
      "Epoch 149/200\n",
      "1314/1314 [==============================] - 0s 34us/step - loss: 0.0020 - val_loss: 0.0018\n",
      "Epoch 150/200\n",
      "1314/1314 [==============================] - 0s 35us/step - loss: 0.0020 - val_loss: 0.0017\n",
      "Epoch 151/200\n",
      "1314/1314 [==============================] - 0s 35us/step - loss: 0.0020 - val_loss: 0.0017\n",
      "Epoch 152/200\n",
      "1314/1314 [==============================] - 0s 34us/step - loss: 0.0020 - val_loss: 0.0044\n",
      "Epoch 153/200\n"
     ]
    },
    {
     "name": "stdout",
     "output_type": "stream",
     "text": [
      "1314/1314 [==============================] - 0s 34us/step - loss: 0.0021 - val_loss: 0.0017\n",
      "Epoch 154/200\n",
      "1314/1314 [==============================] - 0s 34us/step - loss: 0.0020 - val_loss: 0.0017\n",
      "Epoch 155/200\n",
      "1314/1314 [==============================] - 0s 35us/step - loss: 0.0020 - val_loss: 0.0017\n",
      "Epoch 156/200\n",
      "1314/1314 [==============================] - 0s 34us/step - loss: 0.0020 - val_loss: 0.0017\n",
      "Epoch 157/200\n",
      "1314/1314 [==============================] - 0s 34us/step - loss: 0.0019 - val_loss: 0.0017\n",
      "Epoch 158/200\n",
      "1314/1314 [==============================] - 0s 34us/step - loss: 0.0020 - val_loss: 0.0018\n",
      "Epoch 159/200\n",
      "1314/1314 [==============================] - 0s 34us/step - loss: 0.0019 - val_loss: 0.0017\n",
      "Epoch 160/200\n",
      "1314/1314 [==============================] - 0s 34us/step - loss: 0.0019 - val_loss: 0.0017\n",
      "Epoch 161/200\n",
      "1314/1314 [==============================] - 0s 35us/step - loss: 0.0019 - val_loss: 0.0017\n",
      "Epoch 162/200\n",
      "1314/1314 [==============================] - 0s 34us/step - loss: 0.0019 - val_loss: 0.0018\n",
      "Epoch 163/200\n",
      "1314/1314 [==============================] - 0s 35us/step - loss: 0.0019 - val_loss: 0.0018\n",
      "Epoch 164/200\n",
      "1314/1314 [==============================] - 0s 34us/step - loss: 0.0019 - val_loss: 0.0017\n",
      "Epoch 165/200\n",
      "1314/1314 [==============================] - 0s 34us/step - loss: 0.0019 - val_loss: 0.0017\n",
      "Epoch 166/200\n",
      "1314/1314 [==============================] - 0s 34us/step - loss: 0.0019 - val_loss: 0.0017\n",
      "Epoch 167/200\n",
      "1314/1314 [==============================] - 0s 35us/step - loss: 0.0019 - val_loss: 0.0017\n",
      "Epoch 168/200\n",
      "1314/1314 [==============================] - 0s 36us/step - loss: 0.0019 - val_loss: 0.0052\n",
      "Epoch 169/200\n",
      "1314/1314 [==============================] - 0s 35us/step - loss: 0.0023 - val_loss: 0.0017\n",
      "Epoch 170/200\n",
      "1314/1314 [==============================] - 0s 34us/step - loss: 0.0019 - val_loss: 0.0017\n",
      "Epoch 171/200\n",
      "1314/1314 [==============================] - 0s 34us/step - loss: 0.0019 - val_loss: 0.0016\n",
      "Epoch 172/200\n",
      "1314/1314 [==============================] - 0s 34us/step - loss: 0.0019 - val_loss: 0.0016\n",
      "Epoch 173/200\n",
      "1314/1314 [==============================] - 0s 34us/step - loss: 0.0019 - val_loss: 0.0017\n",
      "Epoch 174/200\n",
      "1314/1314 [==============================] - 0s 35us/step - loss: 0.0019 - val_loss: 0.0017\n",
      "Epoch 175/200\n",
      "1314/1314 [==============================] - 0s 34us/step - loss: 0.0019 - val_loss: 0.0017\n",
      "Epoch 176/200\n",
      "1314/1314 [==============================] - 0s 32us/step - loss: 0.0019 - val_loss: 0.0017\n",
      "Epoch 177/200\n",
      "1314/1314 [==============================] - 0s 36us/step - loss: 0.0019 - val_loss: 0.0016\n",
      "Epoch 178/200\n",
      "1314/1314 [==============================] - 0s 35us/step - loss: 0.0019 - val_loss: 0.0017\n",
      "Epoch 179/200\n",
      "1314/1314 [==============================] - 0s 35us/step - loss: 0.0019 - val_loss: 0.0018\n",
      "Epoch 180/200\n",
      "1314/1314 [==============================] - 0s 39us/step - loss: 0.0019 - val_loss: 0.0017\n",
      "Epoch 181/200\n",
      "1314/1314 [==============================] - 0s 34us/step - loss: 0.0019 - val_loss: 0.0017\n",
      "Epoch 182/200\n",
      "1314/1314 [==============================] - 0s 34us/step - loss: 0.0019 - val_loss: 0.0017\n",
      "Epoch 183/200\n",
      "1314/1314 [==============================] - 0s 35us/step - loss: 0.0019 - val_loss: 0.0017\n",
      "Epoch 184/200\n",
      "1314/1314 [==============================] - 0s 38us/step - loss: 0.0019 - val_loss: 0.0017\n",
      "Epoch 185/200\n",
      "1314/1314 [==============================] - 0s 37us/step - loss: 0.0019 - val_loss: 0.0017\n",
      "Epoch 186/200\n",
      "1314/1314 [==============================] - 0s 36us/step - loss: 0.0019 - val_loss: 0.0017\n",
      "Epoch 187/200\n",
      "1314/1314 [==============================] - 0s 35us/step - loss: 0.0019 - val_loss: 0.0017\n",
      "Epoch 188/200\n",
      "1314/1314 [==============================] - 0s 34us/step - loss: 0.0019 - val_loss: 0.0017\n",
      "Epoch 189/200\n",
      "1314/1314 [==============================] - 0s 35us/step - loss: 0.0019 - val_loss: 0.0017\n",
      "Epoch 190/200\n",
      "1314/1314 [==============================] - 0s 35us/step - loss: 0.0019 - val_loss: 0.0016\n",
      "Epoch 191/200\n",
      "1314/1314 [==============================] - 0s 33us/step - loss: 0.0019 - val_loss: 0.0016\n",
      "Epoch 192/200\n",
      "1314/1314 [==============================] - 0s 41us/step - loss: 0.0019 - val_loss: 0.0017\n",
      "Epoch 193/200\n",
      "1314/1314 [==============================] - 0s 40us/step - loss: 0.0019 - val_loss: 0.0016\n",
      "Epoch 194/200\n",
      "1314/1314 [==============================] - 0s 47us/step - loss: 0.0019 - val_loss: 0.0017\n",
      "Epoch 195/200\n",
      "1314/1314 [==============================] - 0s 46us/step - loss: 0.0019 - val_loss: 0.0016\n",
      "Epoch 196/200\n",
      "1314/1314 [==============================] - 0s 46us/step - loss: 0.0019 - val_loss: 0.0016\n",
      "Epoch 197/200\n",
      "1314/1314 [==============================] - 0s 40us/step - loss: 0.0019 - val_loss: 0.0016\n",
      "Epoch 198/200\n",
      "1314/1314 [==============================] - 0s 38us/step - loss: 0.0019 - val_loss: 0.0016\n",
      "Epoch 199/200\n",
      "1314/1314 [==============================] - 0s 41us/step - loss: 0.0019 - val_loss: 0.0018\n",
      "Epoch 200/200\n",
      "1314/1314 [==============================] - 0s 37us/step - loss: 0.0019 - val_loss: 0.0016\n"
     ]
    },
    {
     "data": {
      "text/plain": [
       "<keras.callbacks.History at 0x21e9c5afc50>"
      ]
     },
     "execution_count": 34,
     "metadata": {},
     "output_type": "execute_result"
    }
   ],
   "source": [
    "from keras.models import Sequential\n",
    "from keras import layers\n",
    "from keras.layers.core import Dense, Dropout\n",
    "\n",
    "print(X.shape)\n",
    "\n",
    "model = Sequential()\n",
    "model.add(Dense(160, activation=\"relu\", input_shape=(X.shape[1],)) )\n",
    "model.add(Dense(80, activation=\"relu\"))\n",
    "model.add(Dense(1, activation=\"linear\"))\n",
    "\n",
    "model.compile(loss='mean_squared_error', optimizer='sgd')\n",
    "\n",
    "X = normalized_train_input_matrix\n",
    "Y = normalized_train_output_matrix\n",
    "model.fit(X,Y, validation_split=0.10, epochs=200)"
   ]
  },
  {
   "cell_type": "markdown",
   "metadata": {
    "colab_type": "text",
    "id": "FMXCCZ2nii9N"
   },
   "source": [
    "Anwenden des Modells:"
   ]
  },
  {
   "cell_type": "code",
   "execution_count": 35,
   "metadata": {
    "colab": {
     "base_uri": "https://localhost:8080/",
     "height": 317
    },
    "colab_type": "code",
    "id": "hgRimNAZh01H",
    "outputId": "7e177a6d-a5cb-4b93-96c6-d272372ba2dc"
   },
   "outputs": [
    {
     "name": "stdout",
     "output_type": "stream",
     "text": [
      "Output des Netzes:\n",
      " [[0.2504048 ]\n",
      " [0.2068507 ]\n",
      " [0.259318  ]\n",
      " ...\n",
      " [0.27999982]\n",
      " [0.08758914]\n",
      " [0.15427895]]\n",
      "Output des Netzes (reskaliert):\n",
      " [[215216.5  ]\n",
      " [183853.19 ]\n",
      " [221634.89 ]\n",
      " ...\n",
      " [236527.88 ]\n",
      " [ 97972.945]\n",
      " [145996.27 ]]\n"
     ]
    }
   ],
   "source": [
    "preds_train_houses = model.predict(normalized_train_input_matrix)\n",
    "print(\"Output des Netzes:\\n\", preds_train_houses)\n",
    "preds_train_houses_dollar = scaler_saleprice.inverse_transform(preds_train_houses)\n",
    "print(\"Output des Netzes (reskaliert):\\n\", preds_train_houses_dollar)"
   ]
  },
  {
   "cell_type": "markdown",
   "metadata": {
    "colab_type": "text",
    "id": "eAVIuQzAjVMx"
   },
   "source": [
    "Plotten der Prädiktion (Achtung: hier nur Test auf Trainingdaten!)"
   ]
  },
  {
   "cell_type": "code",
   "execution_count": 36,
   "metadata": {
    "colab": {
     "base_uri": "https://localhost:8080/",
     "height": 630
    },
    "colab_type": "code",
    "id": "-i2HGjXYikhu",
    "outputId": "2445d45e-20c8-4f60-f94e-b63776d9b1e8"
   },
   "outputs": [
    {
     "data": {
      "image/png": "[encoded data removed]",
      "text/plain": [
       "<Figure size 720x720 with 1 Axes>"
      ]
     },
     "metadata": {},
     "output_type": "display_data"
    }
   ],
   "source": [
    "plt.figure( figsize=(10,10) )\n",
    "plt.plot(train_output_matrix, preds_train_houses_dollar, 'ro')\n",
    "plt.xlabel(\"Tatsächlicher Hauspreis\", fontsize = 10)\n",
    "plt.ylabel(\"MLP prädizierter Hauspreis\", fontsize = 10)\n",
    "plt.grid(True)\n",
    "plt.xlim(0,800000)\n",
    "plt.ylim(0,800000)\n",
    "plt.show()"
   ]
  },
  {
   "cell_type": "code",
   "execution_count": 0,
   "metadata": {
    "colab": {},
    "colab_type": "code",
    "collapsed": true,
    "id": "CZwa8_ztjhEg"
   },
   "outputs": [],
   "source": []
  }
 ],
 "metadata": {
  "colab": {
   "collapsed_sections": [],
   "name": "Ein paar Demos zum maschinellen Lernen.ipynb",
   "provenance": [],
   "version": "0.3.2"
  },
  "kernelspec": {
   "display_name": "Python 3",
   "language": "python",
   "name": "python3"
  },
  "language_info": {
   "codemirror_mode": {
    "name": "ipython",
    "version": 3
   },
   "file_extension": ".py",
   "mimetype": "text/x-python",
   "name": "python",
   "nbconvert_exporter": "python",
   "pygments_lexer": "ipython3",
   "version": "3.6.2"
  },
  "toc": {
   "base_numbering": 1,
   "nav_menu": {},
   "number_sections": true,
   "sideBar": true,
   "skip_h1_title": false,
   "title_cell": "Table of Contents",
   "title_sidebar": "Contents",
   "toc_cell": true,
   "toc_position": {},
   "toc_section_display": true,
   "toc_window_display": false
  }
 },
 "nbformat": 4,
 "nbformat_minor": 1
}
