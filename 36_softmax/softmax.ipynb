{
 "cells": [
  {
   "cell_type": "markdown",
   "metadata": {
    "toc": true
   },
   "source": [
    "<h1>Table of Contents<span class=\"tocSkip\"></span></h1>\n",
    "<div class=\"toc\"><ul class=\"toc-item\"><li><span><a href=\"#Define-a-softmax-function\" data-toc-modified-id=\"Define-a-softmax-function-1\"><span class=\"toc-item-num\">1&nbsp;&nbsp;</span>Define a softmax function</a></span></li></ul></div>"
   ]
  },
  {
   "cell_type": "markdown",
   "metadata": {},
   "source": [
    "# Define a softmax function"
   ]
  },
  {
   "cell_type": "code",
   "execution_count": 17,
   "metadata": {},
   "outputs": [
    {
     "name": "stdout",
     "output_type": "stream",
     "text": [
      "\n",
      "beta= 1.0\n",
      "[0.08841126437833055, 0.24032673339070443, 0.6532757922688736, 0.011965163505948413, 0.004401737664093237, 0.0016193087920499101]\n",
      "sum of z_prime is 1.0000000000000002\n",
      "\n",
      "beta= 2.0\n",
      "[0.01587091587731934, 0.11727108775892177, 0.8665226462332924, 0.0002906859640424589, 3.9340067276593983e-05, 5.324099147425245e-06]\n",
      "sum of z_prime is 1.0\n"
     ]
    }
   ],
   "source": [
    "import numpy as np\n",
    "\n",
    "def softmax(z, beta):\n",
    "    norm = 0.0\n",
    "    for z_j in z:\n",
    "        norm += np.exp(beta*z_j)\n",
    "        \n",
    "    z_prime = []\n",
    "    for z_i in z:\n",
    "        z_i_prime = np.exp(beta*z_i) / norm\n",
    "        z_prime.append( z_i_prime )\n",
    "        \n",
    "    return z_prime\n",
    "\n",
    "beta = 1.0\n",
    "print(\"\\nbeta=\", beta)\n",
    "z_prime = softmax([1, 2, 3, -1, -2, -3], beta)\n",
    "print(z_prime)\n",
    "print(\"sum of z_prime is\", sum(z_prime))\n",
    "\n",
    "beta = 2.0\n",
    "print(\"\\nbeta=\", beta)\n",
    "z_prime = softmax([1, 2, 3, -1, -2, -3], beta)\n",
    "print(z_prime)\n",
    "print(\"sum of z_prime is\", sum(z_prime))"
   ]
  },
  {
   "cell_type": "code",
   "execution_count": null,
   "metadata": {
    "collapsed": true
   },
   "outputs": [],
   "source": []
  }
 ],
 "metadata": {
  "kernelspec": {
   "display_name": "Python 3",
   "language": "python",
   "name": "python3"
  },
  "language_info": {
   "codemirror_mode": {
    "name": "ipython",
    "version": 3
   },
   "file_extension": ".py",
   "mimetype": "text/x-python",
   "name": "python",
   "nbconvert_exporter": "python",
   "pygments_lexer": "ipython3",
   "version": "3.6.2"
  },
  "toc": {
   "base_numbering": 1,
   "nav_menu": {},
   "number_sections": true,
   "sideBar": true,
   "skip_h1_title": false,
   "title_cell": "Table of Contents",
   "title_sidebar": "Contents",
   "toc_cell": true,
   "toc_position": {},
   "toc_section_display": true,
   "toc_window_display": false
  }
 },
 "nbformat": 4,
 "nbformat_minor": 2
}
