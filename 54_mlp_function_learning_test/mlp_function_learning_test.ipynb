{
 "cells": [
  {
   "cell_type": "markdown",
   "metadata": {},
   "source": [
    "# Introduction"
   ]
  },
  {
   "cell_type": "markdown",
   "metadata": {},
   "source": [
    "In this notebook we try to let a MLP learn a non-linear test function, here: f(x)=x^2\n",
    "\n",
    "There are two common pifalls:\n",
    "- Pitfall #1: no data scaling --> MLP will have severe problems to find the right weights\n",
    "- Pitfall #2: only using linear activation functions --> MLP then cannot learn such non-linear functions\n",
    "\n",
    "This notebook is set up such that you can test both pitfalls with the following boolean switches:"
   ]
  },
  {
   "cell_type": "code",
   "execution_count": 1,
   "metadata": {},
   "outputs": [],
   "source": [
    "# Set this to \"True\" if you want to test what happens with no data scaling\n",
    "pitfall1 = False\n",
    "\n",
    "# Set this to \"True\" if you want to test what happens with using only linear activation functions\n",
    "pitfall2 = False"
   ]
  },
  {
   "cell_type": "markdown",
   "metadata": {},
   "source": [
    "# Check dependencies"
   ]
  },
  {
   "cell_type": "code",
   "execution_count": 2,
   "metadata": {},
   "outputs": [
    {
     "name": "stdout",
     "output_type": "stream",
     "text": [
      "2.1.0\n"
     ]
    }
   ],
   "source": [
    "import tensorflow as tf\n",
    "print(tf.__version__)"
   ]
  },
  {
   "cell_type": "code",
   "execution_count": 3,
   "metadata": {},
   "outputs": [
    {
     "name": "stdout",
     "output_type": "stream",
     "text": [
      "3.1.3\n"
     ]
    }
   ],
   "source": [
    "import matplotlib\n",
    "print(matplotlib.__version__)\n",
    "\n",
    "import matplotlib.pyplot as plt"
   ]
  },
  {
   "cell_type": "code",
   "execution_count": 4,
   "metadata": {},
   "outputs": [
    {
     "name": "stdout",
     "output_type": "stream",
     "text": [
      "1.18.1\n"
     ]
    }
   ],
   "source": [
    "import numpy as np\n",
    "print(np.__version__)"
   ]
  },
  {
   "cell_type": "code",
   "execution_count": 5,
   "metadata": {},
   "outputs": [],
   "source": [
    "import random"
   ]
  },
  {
   "cell_type": "markdown",
   "metadata": {},
   "source": [
    "# Try to learn `f(x)=x^2`"
   ]
  },
  {
   "cell_type": "markdown",
   "metadata": {},
   "source": [
    "## Prepare some example data"
   ]
  },
  {
   "cell_type": "code",
   "execution_count": 6,
   "metadata": {},
   "outputs": [],
   "source": [
    "x = np.arange(-20.0, 20.0, 0.2)\n",
    "\n",
    "if not pitfall1:\n",
    "    # It really helps to map/scale your\n",
    "    # inputs / outputs to [0,1]\n",
    "    # --> training of the NN will be much faster\n",
    "    max_value = max(x)\n",
    "    x = x/max_value\n",
    "\n",
    "y = x**2"
   ]
  },
  {
   "cell_type": "code",
   "execution_count": 7,
   "metadata": {},
   "outputs": [
    {
     "data": {
      "text/plain": [
       "numpy.ndarray"
      ]
     },
     "execution_count": 7,
     "metadata": {},
     "output_type": "execute_result"
    }
   ],
   "source": [
    "type(x)"
   ]
  },
  {
   "cell_type": "code",
   "execution_count": 8,
   "metadata": {},
   "outputs": [
    {
     "data": {
      "text/plain": [
       "(200,)"
      ]
     },
     "execution_count": 8,
     "metadata": {},
     "output_type": "execute_result"
    }
   ],
   "source": [
    "x.shape"
   ]
  },
  {
   "cell_type": "code",
   "execution_count": 9,
   "metadata": {},
   "outputs": [
    {
     "data": {
      "text/plain": [
       "numpy.ndarray"
      ]
     },
     "execution_count": 9,
     "metadata": {},
     "output_type": "execute_result"
    }
   ],
   "source": [
    "type(y)"
   ]
  },
  {
   "cell_type": "code",
   "execution_count": 10,
   "metadata": {},
   "outputs": [
    {
     "data": {
      "text/plain": [
       "(200,)"
      ]
     },
     "execution_count": 10,
     "metadata": {},
     "output_type": "execute_result"
    }
   ],
   "source": [
    "y.shape"
   ]
  },
  {
   "cell_type": "code",
   "execution_count": 11,
   "metadata": {},
   "outputs": [
    {
     "data": {
      "image/png": "[encoded data removed]",
      "text/plain": [
       "<Figure size 432x288 with 1 Axes>"
      ]
     },
     "metadata": {
      "needs_background": "light"
     },
     "output_type": "display_data"
    }
   ],
   "source": [
    "plt.plot(x,y,marker=\"+\")\n",
    "plt.xlabel(\"x\")\n",
    "plt.ylabel(\"y\")\n",
    "plt.title(\"Example data\")\n",
    "plt.show()"
   ]
  },
  {
   "cell_type": "markdown",
   "metadata": {},
   "source": [
    "## Shuffle the example data"
   ]
  },
  {
   "cell_type": "code",
   "execution_count": 12,
   "metadata": {},
   "outputs": [],
   "source": [
    "combined = list(zip(x,y))"
   ]
  },
  {
   "cell_type": "code",
   "execution_count": 13,
   "metadata": {},
   "outputs": [
    {
     "data": {
      "text/plain": [
       "[(-1.0101010101010175, 1.020304050607096),\n",
       " (-1.0000000000000073, 1.0000000000000147),\n",
       " (-0.9898989898989973, 0.9799000102030551),\n",
       " (-0.9797979797979871, 0.9600040812162167),\n",
       " (-0.9696969696969769, 0.9403122130394999),\n",
       " (-0.9595959595959668, 0.9208244056729042),\n",
       " (-0.9494949494949566, 0.9015406591164302),\n",
       " (-0.9393939393939466, 0.8824609733700778),\n",
       " (-0.9292929292929364, 0.8635853484338465),\n",
       " (-0.9191919191919262, 0.8449137843077367)]"
      ]
     },
     "execution_count": 13,
     "metadata": {},
     "output_type": "execute_result"
    }
   ],
   "source": [
    "combined[:10]"
   ]
  },
  {
   "cell_type": "code",
   "execution_count": 14,
   "metadata": {},
   "outputs": [],
   "source": [
    "random.shuffle(combined)"
   ]
  },
  {
   "cell_type": "code",
   "execution_count": 15,
   "metadata": {},
   "outputs": [],
   "source": [
    "x,y = zip(*combined)\n",
    "x = np.array(x)\n",
    "y = np.array(y)"
   ]
  },
  {
   "cell_type": "code",
   "execution_count": 16,
   "metadata": {},
   "outputs": [
    {
     "data": {
      "text/plain": [
       "array([-0.56565657,  0.25252525, -0.74747475, -0.47474747,  0.48484848,\n",
       "       -0.07070707, -0.78787879,  0.58585859,  0.23232323,  0.74747475])"
      ]
     },
     "execution_count": 16,
     "metadata": {},
     "output_type": "execute_result"
    }
   ],
   "source": [
    "x[:10]"
   ]
  },
  {
   "cell_type": "code",
   "execution_count": 17,
   "metadata": {},
   "outputs": [
    {
     "data": {
      "text/plain": [
       "array([0.31996735, 0.063769  , 0.5587185 , 0.22538516, 0.23507805,\n",
       "       0.00499949, 0.62075298, 0.34323028, 0.05397408, 0.5587185 ])"
      ]
     },
     "execution_count": 17,
     "metadata": {},
     "output_type": "execute_result"
    }
   ],
   "source": [
    "y[:10]"
   ]
  },
  {
   "cell_type": "markdown",
   "metadata": {},
   "source": [
    "## Split example data into training and test data"
   ]
  },
  {
   "cell_type": "code",
   "execution_count": 18,
   "metadata": {},
   "outputs": [
    {
     "data": {
      "text/plain": [
       "200"
      ]
     },
     "execution_count": 18,
     "metadata": {},
     "output_type": "execute_result"
    }
   ],
   "source": [
    "N = len(x)\n",
    "N"
   ]
  },
  {
   "cell_type": "code",
   "execution_count": 19,
   "metadata": {},
   "outputs": [
    {
     "data": {
      "text/plain": [
       "(200,)"
      ]
     },
     "execution_count": 19,
     "metadata": {},
     "output_type": "execute_result"
    }
   ],
   "source": [
    "x.shape"
   ]
  },
  {
   "cell_type": "code",
   "execution_count": 20,
   "metadata": {},
   "outputs": [],
   "source": [
    "x = x.reshape((N,1))\n",
    "y = y.reshape((N,1))"
   ]
  },
  {
   "cell_type": "code",
   "execution_count": 21,
   "metadata": {},
   "outputs": [
    {
     "data": {
      "text/plain": [
       "(200, 1)"
      ]
     },
     "execution_count": 21,
     "metadata": {},
     "output_type": "execute_result"
    }
   ],
   "source": [
    "x.shape"
   ]
  },
  {
   "cell_type": "code",
   "execution_count": 22,
   "metadata": {},
   "outputs": [
    {
     "data": {
      "text/plain": [
       "(200, 1)"
      ]
     },
     "execution_count": 22,
     "metadata": {},
     "output_type": "execute_result"
    }
   ],
   "source": [
    "y.shape"
   ]
  },
  {
   "cell_type": "code",
   "execution_count": 23,
   "metadata": {},
   "outputs": [
    {
     "data": {
      "text/plain": [
       "100"
      ]
     },
     "execution_count": 23,
     "metadata": {},
     "output_type": "execute_result"
    }
   ],
   "source": [
    "M = N//2\n",
    "M"
   ]
  },
  {
   "cell_type": "code",
   "execution_count": 24,
   "metadata": {},
   "outputs": [],
   "source": [
    "x_train = x[:M]\n",
    "y_train = y[:M]\n",
    "x_test  = x[M:]\n",
    "y_test  = y[M:]"
   ]
  },
  {
   "cell_type": "code",
   "execution_count": 25,
   "metadata": {},
   "outputs": [
    {
     "data": {
      "text/plain": [
       "(100, 1)"
      ]
     },
     "execution_count": 25,
     "metadata": {},
     "output_type": "execute_result"
    }
   ],
   "source": [
    "x_train.shape"
   ]
  },
  {
   "cell_type": "code",
   "execution_count": 26,
   "metadata": {},
   "outputs": [
    {
     "data": {
      "text/plain": [
       "(100, 1)"
      ]
     },
     "execution_count": 26,
     "metadata": {},
     "output_type": "execute_result"
    }
   ],
   "source": [
    "y_train.shape"
   ]
  },
  {
   "cell_type": "code",
   "execution_count": 27,
   "metadata": {},
   "outputs": [
    {
     "data": {
      "text/plain": [
       "array([[-0.56565657],\n",
       "       [ 0.25252525],\n",
       "       [-0.74747475],\n",
       "       [-0.47474747],\n",
       "       [ 0.48484848],\n",
       "       [-0.07070707],\n",
       "       [-0.78787879],\n",
       "       [ 0.58585859],\n",
       "       [ 0.23232323],\n",
       "       [ 0.74747475]])"
      ]
     },
     "execution_count": 27,
     "metadata": {},
     "output_type": "execute_result"
    }
   ],
   "source": [
    "x_train[:10]"
   ]
  },
  {
   "cell_type": "code",
   "execution_count": 28,
   "metadata": {},
   "outputs": [
    {
     "data": {
      "text/plain": [
       "array([[0.31996735],\n",
       "       [0.063769  ],\n",
       "       [0.5587185 ],\n",
       "       [0.22538516],\n",
       "       [0.23507805],\n",
       "       [0.00499949],\n",
       "       [0.62075298],\n",
       "       [0.34323028],\n",
       "       [0.05397408],\n",
       "       [0.5587185 ]])"
      ]
     },
     "execution_count": 28,
     "metadata": {},
     "output_type": "execute_result"
    }
   ],
   "source": [
    "y_train[:10]"
   ]
  },
  {
   "cell_type": "markdown",
   "metadata": {},
   "source": [
    "## Prepare a MLP"
   ]
  },
  {
   "cell_type": "code",
   "execution_count": 29,
   "metadata": {},
   "outputs": [
    {
     "name": "stdout",
     "output_type": "stream",
     "text": [
      "Model: \"sequential\"\n",
      "_________________________________________________________________\n",
      "Layer (type)                 Output Shape              Param #   \n",
      "=================================================================\n",
      "dense (Dense)                (None, 50)                100       \n",
      "_________________________________________________________________\n",
      "dense_1 (Dense)              (None, 1)                 51        \n",
      "=================================================================\n",
      "Total params: 151\n",
      "Trainable params: 151\n",
      "Non-trainable params: 0\n",
      "_________________________________________________________________\n"
     ]
    }
   ],
   "source": [
    "from tensorflow import keras\n",
    "\n",
    "tf.keras.backend.clear_session()\n",
    "\n",
    "model = keras.Sequential()\n",
    "\n",
    "if pitfall2:\n",
    "    \"\"\"\n",
    "    this corresponds to the\n",
    "    activation function f(act) = act,\n",
    "    i.e., the identity function\n",
    "    \n",
    "    Quote from:\n",
    "    https://en.wikipedia.org/wiki/Activation_function#Comparison_of_activation_functions\n",
    "      'When multiple layers use the identity activation\n",
    "       function, the entire network is equivalent to a\n",
    "       single-layer model.''\n",
    "    \"\"\"\n",
    "    act_function = None\n",
    "else:\n",
    "    act_function = \"relu\"\n",
    "\n",
    "model.add(keras.layers.Dense(50,\n",
    "                             activation=act_function,\n",
    "                             input_shape=(1,)\n",
    "                            )\n",
    "         )\n",
    "model.add(keras.layers.Dense(1,\n",
    "                             activation=\"linear\"))\n",
    "\n",
    "model.compile(optimizer='adam',               \n",
    "              loss=tf.keras.losses.MeanSquaredError(),\n",
    "              metrics=['accuracy'])\n",
    "\n",
    "model.summary()"
   ]
  },
  {
   "cell_type": "markdown",
   "metadata": {},
   "source": [
    "## Train the MLP"
   ]
  },
  {
   "cell_type": "code",
   "execution_count": 30,
   "metadata": {},
   "outputs": [
    {
     "name": "stdout",
     "output_type": "stream",
     "text": [
      "[0]\n",
      "[0]\n"
     ]
    }
   ],
   "source": [
    "# Check for nan values in the input and target data\n",
    "print( sum(np.isnan(x_train)) )\n",
    "print( sum(np.isnan(y_train)) )"
   ]
  },
  {
   "cell_type": "code",
   "execution_count": 31,
   "metadata": {},
   "outputs": [
    {
     "name": "stdout",
     "output_type": "stream",
     "text": [
      "Train on 100 samples\n",
      "Epoch 1/100\n",
      "100/100 [==============================] - 1s 5ms/sample - loss: 0.1190 - accuracy: 0.0000e+00\n",
      "Epoch 2/100\n",
      "100/100 [==============================] - 0s 1ms/sample - loss: 0.0473 - accuracy: 0.0000e+00\n",
      "Epoch 3/100\n",
      "100/100 [==============================] - 0s 2ms/sample - loss: 0.0302 - accuracy: 0.0100\n",
      "Epoch 4/100\n",
      "100/100 [==============================] - 0s 3ms/sample - loss: 0.0218 - accuracy: 0.0100\n",
      "Epoch 5/100\n",
      "100/100 [==============================] - 0s 2ms/sample - loss: 0.0166 - accuracy: 0.0100\n",
      "Epoch 6/100\n",
      "100/100 [==============================] - 0s 3ms/sample - loss: 0.0125 - accuracy: 0.0100\n",
      "Epoch 7/100\n",
      "100/100 [==============================] - 0s 3ms/sample - loss: 0.0100 - accuracy: 0.0100\n",
      "Epoch 8/100\n",
      "100/100 [==============================] - 0s 3ms/sample - loss: 0.0079 - accuracy: 0.0100\n",
      "Epoch 9/100\n",
      "100/100 [==============================] - 0s 3ms/sample - loss: 0.0068 - accuracy: 0.0100\n",
      "Epoch 10/100\n",
      "100/100 [==============================] - 0s 2ms/sample - loss: 0.0057 - accuracy: 0.0100\n",
      "Epoch 11/100\n",
      "100/100 [==============================] - 0s 2ms/sample - loss: 0.0051 - accuracy: 0.0100\n",
      "Epoch 12/100\n",
      "100/100 [==============================] - 0s 2ms/sample - loss: 0.0045 - accuracy: 0.0100\n",
      "Epoch 13/100\n",
      "100/100 [==============================] - 0s 2ms/sample - loss: 0.0039 - accuracy: 0.0100\n",
      "Epoch 14/100\n",
      "100/100 [==============================] - 0s 2ms/sample - loss: 0.0034 - accuracy: 0.0100\n",
      "Epoch 15/100\n",
      "100/100 [==============================] - 0s 3ms/sample - loss: 0.0028 - accuracy: 0.0100\n",
      "Epoch 16/100\n",
      "100/100 [==============================] - 0s 3ms/sample - loss: 0.0025 - accuracy: 0.0100\n",
      "Epoch 17/100\n",
      "100/100 [==============================] - 0s 2ms/sample - loss: 0.0023 - accuracy: 0.0100\n",
      "Epoch 18/100\n",
      "100/100 [==============================] - 0s 2ms/sample - loss: 0.0019 - accuracy: 0.0100\n",
      "Epoch 19/100\n",
      "100/100 [==============================] - 0s 4ms/sample - loss: 0.0018 - accuracy: 0.0100\n",
      "Epoch 20/100\n",
      "100/100 [==============================] - 0s 2ms/sample - loss: 0.0016 - accuracy: 0.0100\n",
      "Epoch 21/100\n",
      "100/100 [==============================] - 0s 2ms/sample - loss: 0.0014 - accuracy: 0.0100\n",
      "Epoch 22/100\n",
      "100/100 [==============================] - 0s 3ms/sample - loss: 0.0016 - accuracy: 0.0100\n",
      "Epoch 23/100\n",
      "100/100 [==============================] - 0s 3ms/sample - loss: 0.0011 - accuracy: 0.0100  \n",
      "Epoch 24/100\n",
      "100/100 [==============================] - 0s 2ms/sample - loss: 0.0010 - accuracy: 0.0100\n",
      "Epoch 25/100\n",
      "100/100 [==============================] - 0s 3ms/sample - loss: 9.4422e-04 - accuracy: 0.0100\n",
      "Epoch 26/100\n",
      "100/100 [==============================] - 0s 3ms/sample - loss: 7.3420e-04 - accuracy: 0.0100\n",
      "Epoch 27/100\n",
      "100/100 [==============================] - 0s 3ms/sample - loss: 6.3267e-04 - accuracy: 0.0100\n",
      "Epoch 28/100\n",
      "100/100 [==============================] - 0s 3ms/sample - loss: 6.1170e-04 - accuracy: 0.0100\n",
      "Epoch 29/100\n",
      "100/100 [==============================] - 0s 3ms/sample - loss: 5.2744e-04 - accuracy: 0.0100\n",
      "Epoch 30/100\n",
      "100/100 [==============================] - 0s 3ms/sample - loss: 5.7681e-04 - accuracy: 0.0100\n",
      "Epoch 31/100\n",
      "100/100 [==============================] - 0s 3ms/sample - loss: 5.1849e-04 - accuracy: 0.0100\n",
      "Epoch 32/100\n",
      "100/100 [==============================] - 0s 3ms/sample - loss: 3.8094e-04 - accuracy: 0.0100\n",
      "Epoch 33/100\n",
      "100/100 [==============================] - 0s 3ms/sample - loss: 3.5878e-04 - accuracy: 0.0100\n",
      "Epoch 34/100\n",
      "100/100 [==============================] - 0s 3ms/sample - loss: 3.3053e-04 - accuracy: 0.0100\n",
      "Epoch 35/100\n",
      "100/100 [==============================] - 0s 3ms/sample - loss: 3.1559e-04 - accuracy: 0.0100\n",
      "Epoch 36/100\n",
      "100/100 [==============================] - 0s 3ms/sample - loss: 2.7555e-04 - accuracy: 0.0100\n",
      "Epoch 37/100\n",
      "100/100 [==============================] - 0s 3ms/sample - loss: 2.4237e-04 - accuracy: 0.0100\n",
      "Epoch 38/100\n",
      "100/100 [==============================] - 0s 2ms/sample - loss: 2.3367e-04 - accuracy: 0.0100\n",
      "Epoch 39/100\n",
      "100/100 [==============================] - 0s 3ms/sample - loss: 2.5389e-04 - accuracy: 0.0100\n",
      "Epoch 40/100\n",
      "100/100 [==============================] - 0s 3ms/sample - loss: 1.6548e-04 - accuracy: 0.0100\n",
      "Epoch 41/100\n",
      "100/100 [==============================] - 0s 2ms/sample - loss: 2.1173e-04 - accuracy: 0.0100\n",
      "Epoch 42/100\n",
      "100/100 [==============================] - 0s 3ms/sample - loss: 2.2434e-04 - accuracy: 0.0100\n",
      "Epoch 43/100\n",
      "100/100 [==============================] - 0s 2ms/sample - loss: 1.3244e-04 - accuracy: 0.0100\n",
      "Epoch 44/100\n",
      "100/100 [==============================] - 0s 3ms/sample - loss: 1.3766e-04 - accuracy: 0.0100\n",
      "Epoch 45/100\n",
      "100/100 [==============================] - 0s 2ms/sample - loss: 1.3020e-04 - accuracy: 0.0100\n",
      "Epoch 46/100\n",
      "100/100 [==============================] - 0s 3ms/sample - loss: 1.0424e-04 - accuracy: 0.0100\n",
      "Epoch 47/100\n",
      "100/100 [==============================] - 0s 3ms/sample - loss: 1.0429e-04 - accuracy: 0.0100\n",
      "Epoch 48/100\n",
      "100/100 [==============================] - 0s 3ms/sample - loss: 1.2685e-04 - accuracy: 0.0100\n",
      "Epoch 49/100\n",
      "100/100 [==============================] - 0s 3ms/sample - loss: 9.7734e-05 - accuracy: 0.0100\n",
      "Epoch 50/100\n",
      "100/100 [==============================] - 0s 3ms/sample - loss: 7.9629e-05 - accuracy: 0.0100\n",
      "Epoch 51/100\n",
      "100/100 [==============================] - 0s 1ms/sample - loss: 6.6210e-05 - accuracy: 0.0100\n",
      "Epoch 52/100\n",
      "100/100 [==============================] - 0s 2ms/sample - loss: 6.1067e-05 - accuracy: 0.0100\n",
      "Epoch 53/100\n",
      "100/100 [==============================] - 0s 1ms/sample - loss: 6.9102e-05 - accuracy: 0.0100\n",
      "Epoch 54/100\n",
      "100/100 [==============================] - 0s 3ms/sample - loss: 8.2407e-05 - accuracy: 0.0100\n",
      "Epoch 55/100\n",
      "100/100 [==============================] - 0s 3ms/sample - loss: 5.5370e-05 - accuracy: 0.0100\n",
      "Epoch 56/100\n",
      "100/100 [==============================] - 0s 3ms/sample - loss: 8.8737e-05 - accuracy: 0.0100\n",
      "Epoch 57/100\n",
      "100/100 [==============================] - 0s 5ms/sample - loss: 4.8455e-05 - accuracy: 0.0100\n",
      "Epoch 58/100\n",
      "100/100 [==============================] - 0s 4ms/sample - loss: 4.3738e-05 - accuracy: 0.0100\n",
      "Epoch 59/100\n",
      "100/100 [==============================] - 0s 2ms/sample - loss: 6.7428e-05 - accuracy: 0.0100\n",
      "Epoch 60/100\n",
      "100/100 [==============================] - 0s 1ms/sample - loss: 4.0063e-05 - accuracy: 0.0100\n",
      "Epoch 61/100\n",
      "100/100 [==============================] - 0s 2ms/sample - loss: 3.4182e-05 - accuracy: 0.0100\n",
      "Epoch 62/100\n",
      "100/100 [==============================] - 0s 4ms/sample - loss: 3.6984e-05 - accuracy: 0.0100\n",
      "Epoch 63/100\n",
      "100/100 [==============================] - 0s 3ms/sample - loss: 2.6354e-05 - accuracy: 0.0100\n",
      "Epoch 64/100\n",
      "100/100 [==============================] - 0s 3ms/sample - loss: 3.3586e-05 - accuracy: 0.0100\n",
      "Epoch 65/100\n",
      "100/100 [==============================] - 0s 4ms/sample - loss: 2.8066e-05 - accuracy: 0.0100\n",
      "Epoch 66/100\n",
      "100/100 [==============================] - 0s 3ms/sample - loss: 2.9663e-05 - accuracy: 0.0100\n",
      "Epoch 67/100\n",
      "100/100 [==============================] - 0s 2ms/sample - loss: 2.4079e-05 - accuracy: 0.0100\n",
      "Epoch 68/100\n",
      "100/100 [==============================] - 0s 3ms/sample - loss: 2.7996e-05 - accuracy: 0.0100\n",
      "Epoch 69/100\n",
      "100/100 [==============================] - 0s 4ms/sample - loss: 2.9625e-05 - accuracy: 0.0100\n",
      "Epoch 70/100\n",
      "100/100 [==============================] - 0s 4ms/sample - loss: 1.9803e-05 - accuracy: 0.0100\n",
      "Epoch 71/100\n",
      "100/100 [==============================] - 0s 3ms/sample - loss: 3.8256e-05 - accuracy: 0.0100\n",
      "Epoch 72/100\n",
      "100/100 [==============================] - 0s 2ms/sample - loss: 6.0229e-05 - accuracy: 0.0100\n",
      "Epoch 73/100\n",
      "100/100 [==============================] - 0s 4ms/sample - loss: 1.7533e-05 - accuracy: 0.0100\n",
      "Epoch 74/100\n",
      "100/100 [==============================] - 0s 2ms/sample - loss: 4.0841e-05 - accuracy: 0.0100\n",
      "Epoch 75/100\n",
      "100/100 [==============================] - 0s 2ms/sample - loss: 5.5594e-05 - accuracy: 0.0100\n",
      "Epoch 76/100\n",
      "100/100 [==============================] - 0s 2ms/sample - loss: 2.1913e-05 - accuracy: 0.0100\n",
      "Epoch 77/100\n",
      "100/100 [==============================] - 0s 2ms/sample - loss: 1.0369e-05 - accuracy: 0.0100\n",
      "Epoch 78/100\n",
      "100/100 [==============================] - 0s 2ms/sample - loss: 5.0842e-05 - accuracy: 0.0100\n",
      "Epoch 79/100\n",
      "100/100 [==============================] - 1s 5ms/sample - loss: 1.7818e-05 - accuracy: 0.0100\n",
      "Epoch 80/100\n",
      "100/100 [==============================] - 0s 3ms/sample - loss: 3.6681e-05 - accuracy: 0.0100\n",
      "Epoch 81/100\n",
      "100/100 [==============================] - 0s 4ms/sample - loss: 3.0670e-05 - accuracy: 0.0100\n",
      "Epoch 82/100\n",
      "100/100 [==============================] - 0s 3ms/sample - loss: 9.6005e-05 - accuracy: 0.0100\n",
      "Epoch 83/100\n",
      "100/100 [==============================] - 0s 3ms/sample - loss: 5.8211e-05 - accuracy: 0.0100\n",
      "Epoch 84/100\n",
      "100/100 [==============================] - 0s 3ms/sample - loss: 1.8487e-05 - accuracy: 0.0100\n",
      "Epoch 85/100\n",
      "100/100 [==============================] - 0s 3ms/sample - loss: 2.7256e-04 - accuracy: 0.0100\n",
      "Epoch 86/100\n",
      "100/100 [==============================] - 0s 3ms/sample - loss: 1.3699e-04 - accuracy: 0.0100\n",
      "Epoch 87/100\n",
      "100/100 [==============================] - 0s 4ms/sample - loss: 2.4113e-05 - accuracy: 0.0100\n",
      "Epoch 88/100\n",
      "100/100 [==============================] - 0s 3ms/sample - loss: 4.1073e-05 - accuracy: 0.0100\n",
      "Epoch 89/100\n",
      "100/100 [==============================] - 0s 4ms/sample - loss: 2.5627e-05 - accuracy: 0.0100\n",
      "Epoch 90/100\n",
      "100/100 [==============================] - 0s 4ms/sample - loss: 1.3049e-05 - accuracy: 0.0100\n",
      "Epoch 91/100\n",
      "100/100 [==============================] - 0s 3ms/sample - loss: 1.8850e-05 - accuracy: 0.0100\n",
      "Epoch 92/100\n",
      "100/100 [==============================] - 0s 4ms/sample - loss: 1.9085e-05 - accuracy: 0.0100\n",
      "Epoch 93/100\n",
      "100/100 [==============================] - 0s 3ms/sample - loss: 2.8372e-05 - accuracy: 0.0100\n",
      "Epoch 94/100\n",
      "100/100 [==============================] - 0s 3ms/sample - loss: 1.6287e-05 - accuracy: 0.0100\n",
      "Epoch 95/100\n",
      "100/100 [==============================] - 0s 3ms/sample - loss: 3.1729e-05 - accuracy: 0.0100\n",
      "Epoch 96/100\n",
      "100/100 [==============================] - 0s 5ms/sample - loss: 2.2226e-05 - accuracy: 0.0100\n",
      "Epoch 97/100\n",
      "100/100 [==============================] - 0s 3ms/sample - loss: 1.2305e-05 - accuracy: 0.0100\n",
      "Epoch 98/100\n",
      "100/100 [==============================] - 0s 4ms/sample - loss: 1.6717e-05 - accuracy: 0.0100\n",
      "Epoch 99/100\n",
      "100/100 [==============================] - 0s 4ms/sample - loss: 3.2410e-05 - accuracy: 0.0100\n",
      "Epoch 100/100\n",
      "100/100 [==============================] - 0s 4ms/sample - loss: 1.6459e-05 - accuracy: 0.0100\n"
     ]
    }
   ],
   "source": [
    "history = model.fit(x_train,\n",
    "                    y_train,\n",
    "                    batch_size = 1,\n",
    "                    epochs=100)"
   ]
  },
  {
   "cell_type": "markdown",
   "metadata": {},
   "source": [
    "## Test the model"
   ]
  },
  {
   "cell_type": "code",
   "execution_count": 32,
   "metadata": {},
   "outputs": [],
   "source": [
    "preds = model.predict(x_test)"
   ]
  },
  {
   "cell_type": "code",
   "execution_count": 33,
   "metadata": {},
   "outputs": [
    {
     "data": {
      "text/plain": [
       "numpy.ndarray"
      ]
     },
     "execution_count": 33,
     "metadata": {},
     "output_type": "execute_result"
    }
   ],
   "source": [
    "type(preds)"
   ]
  },
  {
   "cell_type": "code",
   "execution_count": 34,
   "metadata": {},
   "outputs": [
    {
     "data": {
      "text/plain": [
       "(100, 1)"
      ]
     },
     "execution_count": 34,
     "metadata": {},
     "output_type": "execute_result"
    }
   ],
   "source": [
    "preds.shape"
   ]
  },
  {
   "cell_type": "code",
   "execution_count": 35,
   "metadata": {},
   "outputs": [
    {
     "data": {
      "text/plain": [
       "array([[0.00171752],\n",
       "       [0.00878352],\n",
       "       [0.65292853],\n",
       "       [0.3104354 ],\n",
       "       [0.01462064],\n",
       "       [0.81124514],\n",
       "       [0.04128474],\n",
       "       [0.11197194],\n",
       "       [0.12515798],\n",
       "       [0.5749044 ]], dtype=float32)"
      ]
     },
     "execution_count": 35,
     "metadata": {},
     "output_type": "execute_result"
    }
   ],
   "source": [
    "preds[:10]"
   ]
  },
  {
   "cell_type": "code",
   "execution_count": 36,
   "metadata": {},
   "outputs": [
    {
     "data": {
      "text/plain": [
       "array([[0.00163249],\n",
       "       [0.01469238],\n",
       "       [0.65299459],\n",
       "       [0.30864198],\n",
       "       [0.01469238],\n",
       "       [0.80818284],\n",
       "       [0.04081216],\n",
       "       [0.11111111],\n",
       "       [0.12498725],\n",
       "       [0.57392103]])"
      ]
     },
     "execution_count": 36,
     "metadata": {},
     "output_type": "execute_result"
    }
   ],
   "source": [
    "y_test[:10]"
   ]
  },
  {
   "cell_type": "code",
   "execution_count": 37,
   "metadata": {},
   "outputs": [
    {
     "data": {
      "image/png": "[encoded data removed]",
      "text/plain": [
       "<Figure size 432x288 with 1 Axes>"
      ]
     },
     "metadata": {
      "needs_background": "light"
     },
     "output_type": "display_data"
    }
   ],
   "source": [
    "plt.scatter(x_test,preds)\n",
    "plt.show()"
   ]
  },
  {
   "cell_type": "markdown",
   "metadata": {},
   "source": [
    "# Test extrapolation properties of a NN"
   ]
  },
  {
   "cell_type": "markdown",
   "metadata": {},
   "source": [
    "## Generate a MLP"
   ]
  },
  {
   "cell_type": "code",
   "execution_count": 53,
   "metadata": {},
   "outputs": [
    {
     "name": "stdout",
     "output_type": "stream",
     "text": [
      "Model: \"sequential\"\n",
      "_________________________________________________________________\n",
      "Layer (type)                 Output Shape              Param #   \n",
      "=================================================================\n",
      "dense (Dense)                (None, 50)                100       \n",
      "_________________________________________________________________\n",
      "dense_1 (Dense)              (None, 1)                 51        \n",
      "=================================================================\n",
      "Total params: 151\n",
      "Trainable params: 151\n",
      "Non-trainable params: 0\n",
      "_________________________________________________________________\n"
     ]
    }
   ],
   "source": [
    "import tensorflow as tf\n",
    "from tensorflow import keras\n",
    "import numpy as np\n",
    "import matplotlib.pyplot as plt\n",
    "\n",
    "tf.keras.backend.clear_session()\n",
    "model = keras.Sequential()\n",
    "model.add(keras.layers.Dense(50, activation=\"relu\", input_shape=(1,)))\n",
    "model.add(keras.layers.Dense(1, activation=\"linear\"))\n",
    "model.compile(optimizer='adam',               \n",
    "              loss=tf.keras.losses.MeanSquaredError(),\n",
    "              metrics=['accuracy'])\n",
    "model.summary()"
   ]
  },
  {
   "cell_type": "markdown",
   "metadata": {},
   "source": [
    "## Prepare training data"
   ]
  },
  {
   "cell_type": "code",
   "execution_count": 54,
   "metadata": {},
   "outputs": [
    {
     "name": "stdout",
     "output_type": "stream",
     "text": [
      "x_train.shape= (140,)\n",
      "y_train.shape= (140,)\n"
     ]
    },
    {
     "data": {
      "image/png": "[encoded data removed]",
      "text/plain": [
       "<Figure size 432x288 with 1 Axes>"
      ]
     },
     "metadata": {
      "needs_background": "light"
     },
     "output_type": "display_data"
    }
   ],
   "source": [
    "train_range_start = -1.0\n",
    "train_range_end = 0.4\n",
    "\n",
    "x_train = np.arange(train_range_start, train_range_end, 0.01)\n",
    "y_train = x_train**2\n",
    "print(\"x_train.shape=\", x_train.shape)\n",
    "print(\"y_train.shape=\", y_train.shape)\n",
    "plt.scatter(x_train,y_train, marker=\".\")\n",
    "plt.show()"
   ]
  },
  {
   "cell_type": "markdown",
   "metadata": {},
   "source": [
    "## Train the MLP"
   ]
  },
  {
   "cell_type": "code",
   "execution_count": 55,
   "metadata": {},
   "outputs": [
    {
     "name": "stdout",
     "output_type": "stream",
     "text": [
      "Train on 140 samples\n",
      "Epoch 1/150\n",
      "140/140 [==============================] - 0s 2ms/sample - loss: 0.1678 - accuracy: 0.0000e+00\n",
      "Epoch 2/150\n",
      "140/140 [==============================] - 0s 379us/sample - loss: 0.1421 - accuracy: 0.0000e+00\n",
      "Epoch 3/150\n",
      "140/140 [==============================] - 0s 318us/sample - loss: 0.1223 - accuracy: 0.0000e+00\n",
      "Epoch 4/150\n",
      "140/140 [==============================] - 0s 89us/sample - loss: 0.1049 - accuracy: 0.0000e+00\n",
      "Epoch 5/150\n",
      "140/140 [==============================] - 0s 328us/sample - loss: 0.0901 - accuracy: 0.0000e+00\n",
      "Epoch 6/150\n",
      "140/140 [==============================] - 0s 150us/sample - loss: 0.0778 - accuracy: 0.0000e+00\n",
      "Epoch 7/150\n",
      "140/140 [==============================] - 0s 90us/sample - loss: 0.0674 - accuracy: 0.0000e+00\n",
      "Epoch 8/150\n",
      "140/140 [==============================] - 0s 204us/sample - loss: 0.0589 - accuracy: 0.0000e+00\n",
      "Epoch 9/150\n",
      "140/140 [==============================] - 0s 72us/sample - loss: 0.0510 - accuracy: 0.0000e+00\n",
      "Epoch 10/150\n",
      "140/140 [==============================] - 0s 149us/sample - loss: 0.0458 - accuracy: 0.0000e+00\n",
      "Epoch 11/150\n",
      "140/140 [==============================] - 0s 195us/sample - loss: 0.0413 - accuracy: 0.0000e+00\n",
      "Epoch 12/150\n",
      "140/140 [==============================] - 0s 67us/sample - loss: 0.0383 - accuracy: 0.0000e+00\n",
      "Epoch 13/150\n",
      "140/140 [==============================] - 0s 62us/sample - loss: 0.0353 - accuracy: 0.0000e+00\n",
      "Epoch 14/150\n",
      "140/140 [==============================] - 0s 204us/sample - loss: 0.0337 - accuracy: 0.0000e+00\n",
      "Epoch 15/150\n",
      "140/140 [==============================] - 0s 86us/sample - loss: 0.0318 - accuracy: 0.0071\n",
      "Epoch 16/150\n",
      "140/140 [==============================] - 0s 306us/sample - loss: 0.0310 - accuracy: 0.0071\n",
      "Epoch 17/150\n",
      "140/140 [==============================] - 0s 121us/sample - loss: 0.0298 - accuracy: 0.0071\n",
      "Epoch 18/150\n",
      "140/140 [==============================] - 0s 117us/sample - loss: 0.0288 - accuracy: 0.0071\n",
      "Epoch 19/150\n",
      "140/140 [==============================] - 0s 110us/sample - loss: 0.0280 - accuracy: 0.0071\n",
      "Epoch 20/150\n",
      "140/140 [==============================] - 0s 80us/sample - loss: 0.0271 - accuracy: 0.0071\n",
      "Epoch 21/150\n",
      "140/140 [==============================] - 0s 73us/sample - loss: 0.0262 - accuracy: 0.0071\n",
      "Epoch 22/150\n",
      "140/140 [==============================] - 0s 80us/sample - loss: 0.0254 - accuracy: 0.0071\n",
      "Epoch 23/150\n",
      "140/140 [==============================] - 0s 96us/sample - loss: 0.0245 - accuracy: 0.0071\n",
      "Epoch 24/150\n",
      "140/140 [==============================] - 0s 75us/sample - loss: 0.0236 - accuracy: 0.0071\n",
      "Epoch 25/150\n",
      "140/140 [==============================] - 0s 54us/sample - loss: 0.0228 - accuracy: 0.0071\n",
      "Epoch 26/150\n",
      "140/140 [==============================] - 0s 60us/sample - loss: 0.0219 - accuracy: 0.0071\n",
      "Epoch 27/150\n",
      "140/140 [==============================] - 0s 91us/sample - loss: 0.0210 - accuracy: 0.0071\n",
      "Epoch 28/150\n",
      "140/140 [==============================] - 0s 80us/sample - loss: 0.0200 - accuracy: 0.0071\n",
      "Epoch 29/150\n",
      "140/140 [==============================] - 0s 59us/sample - loss: 0.0190 - accuracy: 0.0071\n",
      "Epoch 30/150\n",
      "140/140 [==============================] - 0s 118us/sample - loss: 0.0180 - accuracy: 0.0071\n",
      "Epoch 31/150\n",
      "140/140 [==============================] - 0s 76us/sample - loss: 0.0168 - accuracy: 0.0071\n",
      "Epoch 32/150\n",
      "140/140 [==============================] - 0s 64us/sample - loss: 0.0155 - accuracy: 0.0071\n",
      "Epoch 33/150\n",
      "140/140 [==============================] - 0s 70us/sample - loss: 0.0140 - accuracy: 0.0071\n",
      "Epoch 34/150\n",
      "140/140 [==============================] - 0s 83us/sample - loss: 0.0127 - accuracy: 0.0071\n",
      "Epoch 35/150\n",
      "140/140 [==============================] - 0s 44us/sample - loss: 0.0114 - accuracy: 0.0071\n",
      "Epoch 36/150\n",
      "140/140 [==============================] - 0s 40us/sample - loss: 0.0105 - accuracy: 0.0071\n",
      "Epoch 37/150\n",
      "140/140 [==============================] - 0s 53us/sample - loss: 0.0094 - accuracy: 0.0071\n",
      "Epoch 38/150\n",
      "140/140 [==============================] - 0s 73us/sample - loss: 0.0086 - accuracy: 0.0071\n",
      "Epoch 39/150\n",
      "140/140 [==============================] - 0s 210us/sample - loss: 0.0078 - accuracy: 0.0071\n",
      "Epoch 40/150\n",
      "140/140 [==============================] - 0s 93us/sample - loss: 0.0072 - accuracy: 0.0071\n",
      "Epoch 41/150\n",
      "140/140 [==============================] - 0s 108us/sample - loss: 0.0067 - accuracy: 0.0071\n",
      "Epoch 42/150\n",
      "140/140 [==============================] - 0s 78us/sample - loss: 0.0062 - accuracy: 0.0071\n",
      "Epoch 43/150\n",
      "140/140 [==============================] - 0s 81us/sample - loss: 0.0058 - accuracy: 0.0071\n",
      "Epoch 44/150\n",
      "140/140 [==============================] - 0s 136us/sample - loss: 0.0054 - accuracy: 0.0071\n",
      "Epoch 45/150\n",
      "140/140 [==============================] - 0s 143us/sample - loss: 0.0051 - accuracy: 0.0071\n",
      "Epoch 46/150\n",
      "140/140 [==============================] - 0s 236us/sample - loss: 0.0047 - accuracy: 0.0071\n",
      "Epoch 47/150\n",
      "140/140 [==============================] - 0s 290us/sample - loss: 0.0044 - accuracy: 0.0071\n",
      "Epoch 48/150\n",
      "140/140 [==============================] - 0s 65us/sample - loss: 0.0041 - accuracy: 0.0071\n",
      "Epoch 49/150\n",
      "140/140 [==============================] - 0s 118us/sample - loss: 0.0039 - accuracy: 0.0071\n",
      "Epoch 50/150\n",
      "140/140 [==============================] - 0s 131us/sample - loss: 0.0036 - accuracy: 0.0071\n",
      "Epoch 51/150\n",
      "140/140 [==============================] - 0s 93us/sample - loss: 0.0034 - accuracy: 0.0071\n",
      "Epoch 52/150\n",
      "140/140 [==============================] - 0s 168us/sample - loss: 0.0032 - accuracy: 0.0071\n",
      "Epoch 53/150\n",
      "140/140 [==============================] - 0s 117us/sample - loss: 0.0030 - accuracy: 0.0071\n",
      "Epoch 54/150\n",
      "140/140 [==============================] - 0s 175us/sample - loss: 0.0028 - accuracy: 0.0071\n",
      "Epoch 55/150\n",
      "140/140 [==============================] - 0s 80us/sample - loss: 0.0027 - accuracy: 0.0071\n",
      "Epoch 56/150\n",
      "140/140 [==============================] - 0s 192us/sample - loss: 0.0025 - accuracy: 0.0071\n",
      "Epoch 57/150\n",
      "140/140 [==============================] - 0s 141us/sample - loss: 0.0024 - accuracy: 0.0071\n",
      "Epoch 58/150\n",
      "140/140 [==============================] - 0s 138us/sample - loss: 0.0023 - accuracy: 0.0071\n",
      "Epoch 59/150\n",
      "140/140 [==============================] - 0s 126us/sample - loss: 0.0021 - accuracy: 0.0071\n",
      "Epoch 60/150\n",
      "140/140 [==============================] - 0s 116us/sample - loss: 0.0020 - accuracy: 0.0071\n",
      "Epoch 61/150\n",
      "140/140 [==============================] - 0s 106us/sample - loss: 0.0019 - accuracy: 0.0071\n",
      "Epoch 62/150\n",
      "140/140 [==============================] - 0s 144us/sample - loss: 0.0018 - accuracy: 0.0071\n",
      "Epoch 63/150\n",
      "140/140 [==============================] - 0s 100us/sample - loss: 0.0017 - accuracy: 0.0071\n",
      "Epoch 64/150\n",
      "140/140 [==============================] - 0s 94us/sample - loss: 0.0016 - accuracy: 0.0071\n",
      "Epoch 65/150\n",
      "140/140 [==============================] - 0s 104us/sample - loss: 0.0015 - accuracy: 0.0071\n",
      "Epoch 66/150\n",
      "140/140 [==============================] - 0s 120us/sample - loss: 0.0014 - accuracy: 0.0071\n",
      "Epoch 67/150\n",
      "140/140 [==============================] - 0s 97us/sample - loss: 0.0014 - accuracy: 0.0071 \n",
      "Epoch 68/150\n",
      "140/140 [==============================] - 0s 93us/sample - loss: 0.0013 - accuracy: 0.0071\n",
      "Epoch 69/150\n",
      "140/140 [==============================] - 0s 95us/sample - loss: 0.0012 - accuracy: 0.0071\n",
      "Epoch 70/150\n",
      "140/140 [==============================] - 0s 92us/sample - loss: 0.0012 - accuracy: 0.0071 \n",
      "Epoch 71/150\n",
      "140/140 [==============================] - 0s 142us/sample - loss: 0.0011 - accuracy: 0.0071\n",
      "Epoch 72/150\n",
      "140/140 [==============================] - 0s 127us/sample - loss: 0.0011 - accuracy: 0.0071\n",
      "Epoch 73/150\n",
      "140/140 [==============================] - 0s 95us/sample - loss: 0.0010 - accuracy: 0.0071 \n",
      "Epoch 74/150\n",
      "140/140 [==============================] - 0s 122us/sample - loss: 9.7043e-04 - accuracy: 0.0071\n",
      "Epoch 75/150\n",
      "140/140 [==============================] - 0s 119us/sample - loss: 9.2893e-04 - accuracy: 0.0071\n",
      "Epoch 76/150\n",
      "140/140 [==============================] - 0s 124us/sample - loss: 8.8698e-04 - accuracy: 0.0071\n",
      "Epoch 77/150\n",
      "140/140 [==============================] - 0s 63us/sample - loss: 8.4431e-04 - accuracy: 0.0071\n",
      "Epoch 78/150\n",
      "140/140 [==============================] - 0s 95us/sample - loss: 8.0991e-04 - accuracy: 0.0071\n",
      "Epoch 79/150\n",
      "140/140 [==============================] - 0s 175us/sample - loss: 7.7440e-04 - accuracy: 0.0071\n",
      "Epoch 80/150\n",
      "140/140 [==============================] - 0s 214us/sample - loss: 7.3824e-04 - accuracy: 0.0071\n",
      "Epoch 81/150\n",
      "140/140 [==============================] - 0s 204us/sample - loss: 7.0236e-04 - accuracy: 0.0071\n",
      "Epoch 82/150\n",
      "140/140 [==============================] - 0s 257us/sample - loss: 6.7502e-04 - accuracy: 0.0071\n",
      "Epoch 83/150\n",
      "140/140 [==============================] - 0s 143us/sample - loss: 6.4177e-04 - accuracy: 0.0071\n",
      "Epoch 84/150\n",
      "140/140 [==============================] - 0s 319us/sample - loss: 6.1520e-04 - accuracy: 0.0071\n",
      "Epoch 85/150\n",
      "140/140 [==============================] - 0s 223us/sample - loss: 5.9176e-04 - accuracy: 0.0071\n",
      "Epoch 86/150\n",
      "140/140 [==============================] - 0s 72us/sample - loss: 5.6672e-04 - accuracy: 0.0071\n",
      "Epoch 87/150\n",
      "140/140 [==============================] - 0s 87us/sample - loss: 5.5203e-04 - accuracy: 0.0071\n",
      "Epoch 88/150\n",
      "140/140 [==============================] - 0s 78us/sample - loss: 5.3384e-04 - accuracy: 0.0071\n",
      "Epoch 89/150\n",
      "140/140 [==============================] - 0s 65us/sample - loss: 5.0748e-04 - accuracy: 0.0071\n",
      "Epoch 90/150\n",
      "140/140 [==============================] - 0s 88us/sample - loss: 4.9007e-04 - accuracy: 0.0071\n",
      "Epoch 91/150\n",
      "140/140 [==============================] - 0s 90us/sample - loss: 4.7317e-04 - accuracy: 0.0071\n",
      "Epoch 92/150\n",
      "140/140 [==============================] - 0s 72us/sample - loss: 4.5478e-04 - accuracy: 0.0071\n",
      "Epoch 93/150\n",
      "140/140 [==============================] - 0s 77us/sample - loss: 4.4330e-04 - accuracy: 0.0071\n",
      "Epoch 94/150\n",
      "140/140 [==============================] - 0s 75us/sample - loss: 4.2265e-04 - accuracy: 0.0071\n",
      "Epoch 95/150\n",
      "140/140 [==============================] - 0s 103us/sample - loss: 4.0985e-04 - accuracy: 0.0071\n",
      "Epoch 96/150\n",
      "140/140 [==============================] - 0s 91us/sample - loss: 3.9365e-04 - accuracy: 0.0071\n",
      "Epoch 97/150\n",
      "140/140 [==============================] - 0s 156us/sample - loss: 3.8078e-04 - accuracy: 0.0071\n",
      "Epoch 98/150\n",
      "140/140 [==============================] - 0s 162us/sample - loss: 3.6925e-04 - accuracy: 0.0071\n",
      "Epoch 99/150\n",
      "140/140 [==============================] - 0s 125us/sample - loss: 3.5845e-04 - accuracy: 0.0071\n",
      "Epoch 100/150\n",
      "140/140 [==============================] - 0s 185us/sample - loss: 3.4644e-04 - accuracy: 0.0071\n",
      "Epoch 101/150\n",
      "140/140 [==============================] - 0s 110us/sample - loss: 3.3443e-04 - accuracy: 0.0071\n",
      "Epoch 102/150\n",
      "140/140 [==============================] - 0s 51us/sample - loss: 3.3084e-04 - accuracy: 0.0071\n",
      "Epoch 103/150\n",
      "140/140 [==============================] - 0s 83us/sample - loss: 3.1503e-04 - accuracy: 0.0071\n",
      "Epoch 104/150\n",
      "140/140 [==============================] - 0s 109us/sample - loss: 3.0235e-04 - accuracy: 0.0071\n",
      "Epoch 105/150\n",
      "140/140 [==============================] - 0s 152us/sample - loss: 2.9387e-04 - accuracy: 0.0071\n",
      "Epoch 106/150\n",
      "140/140 [==============================] - 0s 71us/sample - loss: 2.8811e-04 - accuracy: 0.0071\n",
      "Epoch 107/150\n",
      "140/140 [==============================] - 0s 77us/sample - loss: 2.7578e-04 - accuracy: 0.0071\n",
      "Epoch 108/150\n",
      "140/140 [==============================] - 0s 222us/sample - loss: 2.6875e-04 - accuracy: 0.0071\n",
      "Epoch 109/150\n",
      "140/140 [==============================] - 0s 76us/sample - loss: 2.5973e-04 - accuracy: 0.0071\n",
      "Epoch 110/150\n",
      "140/140 [==============================] - 0s 85us/sample - loss: 2.5160e-04 - accuracy: 0.0071\n",
      "Epoch 111/150\n",
      "140/140 [==============================] - 0s 129us/sample - loss: 2.4475e-04 - accuracy: 0.0071\n",
      "Epoch 112/150\n",
      "140/140 [==============================] - 0s 66us/sample - loss: 2.4141e-04 - accuracy: 0.0071\n",
      "Epoch 113/150\n",
      "140/140 [==============================] - 0s 289us/sample - loss: 2.3225e-04 - accuracy: 0.0071\n",
      "Epoch 114/150\n",
      "140/140 [==============================] - 0s 334us/sample - loss: 2.2610e-04 - accuracy: 0.0071\n",
      "Epoch 115/150\n",
      "140/140 [==============================] - 0s 81us/sample - loss: 2.1759e-04 - accuracy: 0.0071\n",
      "Epoch 116/150\n",
      "140/140 [==============================] - 0s 191us/sample - loss: 2.1290e-04 - accuracy: 0.0071\n",
      "Epoch 117/150\n",
      "140/140 [==============================] - 0s 229us/sample - loss: 2.0771e-04 - accuracy: 0.0071\n",
      "Epoch 118/150\n",
      "140/140 [==============================] - 0s 402us/sample - loss: 2.0289e-04 - accuracy: 0.0071\n",
      "Epoch 119/150\n",
      "140/140 [==============================] - 0s 217us/sample - loss: 1.9550e-04 - accuracy: 0.0071\n",
      "Epoch 120/150\n",
      "140/140 [==============================] - 0s 241us/sample - loss: 1.9358e-04 - accuracy: 0.0071\n",
      "Epoch 121/150\n",
      "140/140 [==============================] - 0s 300us/sample - loss: 1.8477e-04 - accuracy: 0.0071\n",
      "Epoch 122/150\n",
      "140/140 [==============================] - 0s 233us/sample - loss: 1.8149e-04 - accuracy: 0.0071\n",
      "Epoch 123/150\n",
      "140/140 [==============================] - 0s 403us/sample - loss: 1.7485e-04 - accuracy: 0.0071\n",
      "Epoch 124/150\n",
      "140/140 [==============================] - 0s 134us/sample - loss: 1.7258e-04 - accuracy: 0.0071\n",
      "Epoch 125/150\n",
      "140/140 [==============================] - 0s 301us/sample - loss: 1.6586e-04 - accuracy: 0.0071\n",
      "Epoch 126/150\n",
      "140/140 [==============================] - 0s 422us/sample - loss: 1.6567e-04 - accuracy: 0.0071\n",
      "Epoch 127/150\n",
      "140/140 [==============================] - 0s 242us/sample - loss: 1.6094e-04 - accuracy: 0.0071\n",
      "Epoch 128/150\n",
      "140/140 [==============================] - 0s 115us/sample - loss: 1.5538e-04 - accuracy: 0.0071\n",
      "Epoch 129/150\n",
      "140/140 [==============================] - 0s 156us/sample - loss: 1.5363e-04 - accuracy: 0.0071\n",
      "Epoch 130/150\n",
      "140/140 [==============================] - 0s 218us/sample - loss: 1.4789e-04 - accuracy: 0.0071\n",
      "Epoch 131/150\n",
      "140/140 [==============================] - 0s 319us/sample - loss: 1.4942e-04 - accuracy: 0.0071\n",
      "Epoch 132/150\n",
      "140/140 [==============================] - 0s 67us/sample - loss: 1.4530e-04 - accuracy: 0.0071\n",
      "Epoch 133/150\n",
      "140/140 [==============================] - 0s 457us/sample - loss: 1.4276e-04 - accuracy: 0.0071\n",
      "Epoch 134/150\n",
      "140/140 [==============================] - 0s 87us/sample - loss: 1.3541e-04 - accuracy: 0.0071\n",
      "Epoch 135/150\n",
      "140/140 [==============================] - 0s 128us/sample - loss: 1.3473e-04 - accuracy: 0.0071\n",
      "Epoch 136/150\n",
      "140/140 [==============================] - 0s 112us/sample - loss: 1.2894e-04 - accuracy: 0.0071\n",
      "Epoch 137/150\n",
      "140/140 [==============================] - 0s 120us/sample - loss: 1.2812e-04 - accuracy: 0.0071\n",
      "Epoch 138/150\n",
      "140/140 [==============================] - 0s 96us/sample - loss: 1.2336e-04 - accuracy: 0.0071\n",
      "Epoch 139/150\n",
      "140/140 [==============================] - 0s 80us/sample - loss: 1.2377e-04 - accuracy: 0.0071\n",
      "Epoch 140/150\n",
      "140/140 [==============================] - ETA: 0s - loss: 2.7840e-05 - accuracy: 0.0000e+ - 0s 192us/sample - loss: 1.1911e-04 - accuracy: 0.0071\n",
      "Epoch 141/150\n",
      "140/140 [==============================] - 0s 154us/sample - loss: 1.2253e-04 - accuracy: 0.0071\n",
      "Epoch 142/150\n",
      "140/140 [==============================] - 0s 69us/sample - loss: 1.1531e-04 - accuracy: 0.0071\n",
      "Epoch 143/150\n",
      "140/140 [==============================] - 0s 152us/sample - loss: 1.1663e-04 - accuracy: 0.0071\n",
      "Epoch 144/150\n",
      "140/140 [==============================] - 0s 128us/sample - loss: 1.0958e-04 - accuracy: 0.0071\n",
      "Epoch 145/150\n",
      "140/140 [==============================] - 0s 127us/sample - loss: 1.0893e-04 - accuracy: 0.0071\n",
      "Epoch 146/150\n",
      "140/140 [==============================] - 0s 228us/sample - loss: 1.0786e-04 - accuracy: 0.0071\n",
      "Epoch 147/150\n",
      "140/140 [==============================] - 0s 52us/sample - loss: 1.0401e-04 - accuracy: 0.0071\n",
      "Epoch 148/150\n",
      "140/140 [==============================] - 0s 124us/sample - loss: 1.0470e-04 - accuracy: 0.0071\n",
      "Epoch 149/150\n",
      "140/140 [==============================] - 0s 116us/sample - loss: 1.0372e-04 - accuracy: 0.0071\n",
      "Epoch 150/150\n",
      "140/140 [==============================] - 0s 192us/sample - loss: 9.8740e-05 - accuracy: 0.0071\n"
     ]
    },
    {
     "data": {
      "text/plain": [
       "<tensorflow.python.keras.callbacks.History at 0x7f439c6a6dd0>"
      ]
     },
     "execution_count": 55,
     "metadata": {},
     "output_type": "execute_result"
    }
   ],
   "source": [
    "model.fit(x_train, y_train, epochs=150)"
   ]
  },
  {
   "cell_type": "markdown",
   "metadata": {},
   "source": [
    "## Prepare test data with extrapolation range"
   ]
  },
  {
   "cell_type": "code",
   "execution_count": 56,
   "metadata": {},
   "outputs": [
    {
     "name": "stdout",
     "output_type": "stream",
     "text": [
      "x_test.shape= (400,)\n",
      "y_test.shape= (400,)\n"
     ]
    },
    {
     "data": {
      "image/png": "[encoded data removed]",
      "text/plain": [
       "<Figure size 432x288 with 1 Axes>"
      ]
     },
     "metadata": {
      "needs_background": "light"
     },
     "output_type": "display_data"
    }
   ],
   "source": [
    "# Here we can define on which x values to test the model\n",
    "# THIS CAN BE DIFFERENT FROM THE TRAIN RANGE! (i.e. extrapoloation range)\n",
    "\n",
    "test_range_start = -2.0\n",
    "test_range_end   = +2.0\n",
    "\n",
    "x_test = np.arange(test_range_start, test_range_end, 0.01)\n",
    "y_test = x_test**2\n",
    "print(\"x_test.shape=\", x_test.shape)\n",
    "print(\"y_test.shape=\", y_test.shape)\n",
    "plt.scatter(x_test,y_test, marker=\".\")\n",
    "plt.show()"
   ]
  },
  {
   "cell_type": "markdown",
   "metadata": {},
   "source": [
    "## Test the model with test data"
   ]
  },
  {
   "cell_type": "code",
   "execution_count": 57,
   "metadata": {},
   "outputs": [],
   "source": [
    "preds = model.predict(x_test)"
   ]
  },
  {
   "cell_type": "code",
   "execution_count": 58,
   "metadata": {},
   "outputs": [
    {
     "data": {
      "text/plain": [
       "(400, 1)"
      ]
     },
     "execution_count": 58,
     "metadata": {},
     "output_type": "execute_result"
    }
   ],
   "source": [
    "preds.shape"
   ]
  },
  {
   "cell_type": "code",
   "execution_count": 59,
   "metadata": {},
   "outputs": [
    {
     "data": {
      "text/plain": [
       "array([[1.7670639],\n",
       "       [1.7589679],\n",
       "       [1.7508721],\n",
       "       [1.7427763],\n",
       "       [1.7346804],\n",
       "       [1.7265847],\n",
       "       [1.7184888],\n",
       "       [1.7103928],\n",
       "       [1.702297 ],\n",
       "       [1.6942014]], dtype=float32)"
      ]
     },
     "execution_count": 59,
     "metadata": {},
     "output_type": "execute_result"
    }
   ],
   "source": [
    "preds[:10]"
   ]
  },
  {
   "cell_type": "code",
   "execution_count": 60,
   "metadata": {},
   "outputs": [
    {
     "data": {
      "image/png": "[encoded data removed]",
      "text/plain": [
       "<Figure size 432x288 with 1 Axes>"
      ]
     },
     "metadata": {
      "needs_background": "light"
     },
     "output_type": "display_data"
    }
   ],
   "source": [
    "plt.scatter(x_test, preds,  marker=\".\", color=\"red\",   label=\"prediction\")\n",
    "plt.scatter(x_test, y_test, marker=\"+\", color=\"green\", label=\"ground truth\")\n",
    "plt.legend()\n",
    "plt.show()"
   ]
  },
  {
   "cell_type": "markdown",
   "metadata": {},
   "source": [
    "## Two polynomial models"
   ]
  },
  {
   "cell_type": "code",
   "execution_count": 61,
   "metadata": {},
   "outputs": [
    {
     "data": {
      "text/plain": [
       "(400,)"
      ]
     },
     "execution_count": 61,
     "metadata": {},
     "output_type": "execute_result"
    }
   ],
   "source": [
    "x_test.shape"
   ]
  },
  {
   "cell_type": "code",
   "execution_count": 65,
   "metadata": {},
   "outputs": [],
   "source": [
    "y1 = 1.4*x_test**2"
   ]
  },
  {
   "cell_type": "code",
   "execution_count": 66,
   "metadata": {},
   "outputs": [
    {
     "data": {
      "text/plain": [
       "(400,)"
      ]
     },
     "execution_count": 66,
     "metadata": {},
     "output_type": "execute_result"
    }
   ],
   "source": [
    "y1.shape"
   ]
  },
  {
   "cell_type": "code",
   "execution_count": 67,
   "metadata": {},
   "outputs": [
    {
     "data": {
      "image/png": "[encoded data removed]",
      "text/plain": [
       "<Figure size 432x288 with 1 Axes>"
      ]
     },
     "metadata": {
      "needs_background": "light"
     },
     "output_type": "display_data"
    }
   ],
   "source": [
    "plt.scatter(x_test, y1,     marker=\".\", color=\"red\",   label=\"prediction\")\n",
    "plt.scatter(x_test, y_test, marker=\"+\", color=\"green\", label=\"ground truth\")\n",
    "plt.legend()\n",
    "plt.show()"
   ]
  },
  {
   "cell_type": "code",
   "execution_count": 70,
   "metadata": {},
   "outputs": [],
   "source": [
    "#    a0  + a1*x       + a2*x^2         + a3*x^3\n",
    "y2 = 0.5 + 0.1*x_test + 0.1*x_test**2 + 0.9*x_test**3"
   ]
  },
  {
   "cell_type": "code",
   "execution_count": 72,
   "metadata": {},
   "outputs": [
    {
     "data": {
      "image/png": "[encoded data removed]",
      "text/plain": [
       "<Figure size 432x288 with 1 Axes>"
      ]
     },
     "metadata": {
      "needs_background": "light"
     },
     "output_type": "display_data"
    }
   ],
   "source": [
    "plt.scatter(x_test, y2,     marker=\".\", color=\"red\",   label=\"prediction\")\n",
    "plt.scatter(x_test, y_test, marker=\"+\", color=\"green\", label=\"ground truth\")\n",
    "plt.legend()\n",
    "plt.show()"
   ]
  },
  {
   "cell_type": "code",
   "execution_count": 81,
   "metadata": {},
   "outputs": [
    {
     "data": {
      "image/png": "[encoded data removed]",
      "text/plain": [
       "<Figure size 432x288 with 1 Axes>"
      ]
     },
     "metadata": {
      "needs_background": "light"
     },
     "output_type": "display_data"
    }
   ],
   "source": [
    "# And here a complete different model:\n",
    "# perhaps we know, that the data comes from a harmonic function\n",
    "# why not use a harmonic function as a model?\n",
    "\n",
    "a0 = 2.0\n",
    "a1 = 10.0\n",
    "\n",
    "y3 = a0 * np.sin(x_test*a1)\n",
    "\n",
    "plt.scatter(x_test, y3, marker=\".\",     color=\"red\",   label=\"prediction\")\n",
    "plt.scatter(x_test, y_test, marker=\"+\", color=\"green\", label=\"ground truth\")\n",
    "plt.legend()\n",
    "plt.show()"
   ]
  },
  {
   "cell_type": "code",
   "execution_count": null,
   "metadata": {},
   "outputs": [],
   "source": []
  }
 ],
 "metadata": {
  "kernelspec": {
   "display_name": "Python 3",
   "language": "python",
   "name": "python3"
  },
  "language_info": {
   "codemirror_mode": {
    "name": "ipython",
    "version": 3
   },
   "file_extension": ".py",
   "mimetype": "text/x-python",
   "name": "python",
   "nbconvert_exporter": "python",
   "pygments_lexer": "ipython3",
   "version": "3.7.7"
  },
  "toc-autonumbering": true
 },
 "nbformat": 4,
 "nbformat_minor": 4
}
