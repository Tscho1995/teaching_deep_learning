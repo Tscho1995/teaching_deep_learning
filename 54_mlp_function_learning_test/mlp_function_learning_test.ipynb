{
 "cells": [
  {
   "cell_type": "markdown",
   "metadata": {},
   "source": [
    "# Introduction"
   ]
  },
  {
   "cell_type": "markdown",
   "metadata": {},
   "source": [
    "In this notebook we try to let a MLP learn a non-linear test function, here: f(x)=x^2\n",
    "\n",
    "There are two common pifalls:\n",
    "- Pitfall #1: no data scaling --> MLP will have severe problems to find the right weights\n",
    "- Pitfall #2: only using linear activation functions --> MLP then cannot learn such non-linear functions\n",
    "\n",
    "This notebook is set up such that you can test both pitfalls with the following boolean switches:"
   ]
  },
  {
   "cell_type": "code",
   "execution_count": 1,
   "metadata": {},
   "outputs": [],
   "source": [
    "# Set this to \"True\" if you want to test what happens with no data scaling\n",
    "pitfall1 = False\n",
    "\n",
    "# Set this to \"True\" if you want to test what happens with using only linear activation functions\n",
    "pitfall2 = False"
   ]
  },
  {
   "cell_type": "markdown",
   "metadata": {},
   "source": [
    "# Check dependencies"
   ]
  },
  {
   "cell_type": "code",
   "execution_count": 2,
   "metadata": {},
   "outputs": [
    {
     "name": "stdout",
     "output_type": "stream",
     "text": [
      "2.1.0\n"
     ]
    }
   ],
   "source": [
    "import tensorflow as tf\n",
    "print(tf.__version__)"
   ]
  },
  {
   "cell_type": "code",
   "execution_count": 3,
   "metadata": {},
   "outputs": [
    {
     "name": "stdout",
     "output_type": "stream",
     "text": [
      "3.1.3\n"
     ]
    }
   ],
   "source": [
    "import matplotlib\n",
    "print(matplotlib.__version__)\n",
    "\n",
    "import matplotlib.pyplot as plt"
   ]
  },
  {
   "cell_type": "code",
   "execution_count": 4,
   "metadata": {},
   "outputs": [
    {
     "name": "stdout",
     "output_type": "stream",
     "text": [
      "1.18.1\n"
     ]
    }
   ],
   "source": [
    "import numpy as np\n",
    "print(np.__version__)"
   ]
  },
  {
   "cell_type": "code",
   "execution_count": 5,
   "metadata": {},
   "outputs": [],
   "source": [
    "import random"
   ]
  },
  {
   "cell_type": "markdown",
   "metadata": {},
   "source": [
    "# Try to learn `f(x)=x^2`"
   ]
  },
  {
   "cell_type": "markdown",
   "metadata": {},
   "source": [
    "## Prepare some example data"
   ]
  },
  {
   "cell_type": "code",
   "execution_count": 6,
   "metadata": {},
   "outputs": [],
   "source": [
    "x = np.arange(-20.0, 20.0, 0.2)\n",
    "\n",
    "if not pitfall1:\n",
    "    # It really helps to map/scale your\n",
    "    # inputs / outputs to [0,1]\n",
    "    # --> training of the NN will be much faster\n",
    "    max_value = max(x)\n",
    "    x = x/max_value\n",
    "\n",
    "y = x**2"
   ]
  },
  {
   "cell_type": "code",
   "execution_count": 7,
   "metadata": {},
   "outputs": [
    {
     "data": {
      "text/plain": [
       "numpy.ndarray"
      ]
     },
     "execution_count": 7,
     "metadata": {},
     "output_type": "execute_result"
    }
   ],
   "source": [
    "type(x)"
   ]
  },
  {
   "cell_type": "code",
   "execution_count": 8,
   "metadata": {},
   "outputs": [
    {
     "data": {
      "text/plain": [
       "(200,)"
      ]
     },
     "execution_count": 8,
     "metadata": {},
     "output_type": "execute_result"
    }
   ],
   "source": [
    "x.shape"
   ]
  },
  {
   "cell_type": "code",
   "execution_count": 9,
   "metadata": {},
   "outputs": [
    {
     "data": {
      "text/plain": [
       "numpy.ndarray"
      ]
     },
     "execution_count": 9,
     "metadata": {},
     "output_type": "execute_result"
    }
   ],
   "source": [
    "type(y)"
   ]
  },
  {
   "cell_type": "code",
   "execution_count": 10,
   "metadata": {},
   "outputs": [
    {
     "data": {
      "text/plain": [
       "(200,)"
      ]
     },
     "execution_count": 10,
     "metadata": {},
     "output_type": "execute_result"
    }
   ],
   "source": [
    "y.shape"
   ]
  },
  {
   "cell_type": "code",
   "execution_count": 11,
   "metadata": {},
   "outputs": [
    {
     "data": {
      "image/png": "[encoded data removed]",
      "text/plain": [
       "<Figure size 432x288 with 1 Axes>"
      ]
     },
     "metadata": {
      "needs_background": "light"
     },
     "output_type": "display_data"
    }
   ],
   "source": [
    "plt.plot(x,y,marker=\"+\")\n",
    "plt.xlabel(\"x\")\n",
    "plt.ylabel(\"y\")\n",
    "plt.title(\"Example data\")\n",
    "plt.show()"
   ]
  },
  {
   "cell_type": "markdown",
   "metadata": {},
   "source": [
    "## Shuffle the example data"
   ]
  },
  {
   "cell_type": "code",
   "execution_count": 12,
   "metadata": {},
   "outputs": [],
   "source": [
    "combined = list(zip(x,y))"
   ]
  },
  {
   "cell_type": "code",
   "execution_count": 13,
   "metadata": {},
   "outputs": [
    {
     "data": {
      "text/plain": [
       "[(-1.0101010101010175, 1.020304050607096),\n",
       " (-1.0000000000000073, 1.0000000000000147),\n",
       " (-0.9898989898989973, 0.9799000102030551),\n",
       " (-0.9797979797979871, 0.9600040812162167),\n",
       " (-0.9696969696969769, 0.9403122130394999),\n",
       " (-0.9595959595959668, 0.9208244056729042),\n",
       " (-0.9494949494949566, 0.9015406591164302),\n",
       " (-0.9393939393939466, 0.8824609733700778),\n",
       " (-0.9292929292929364, 0.8635853484338465),\n",
       " (-0.9191919191919262, 0.8449137843077367)]"
      ]
     },
     "execution_count": 13,
     "metadata": {},
     "output_type": "execute_result"
    }
   ],
   "source": [
    "combined[:10]"
   ]
  },
  {
   "cell_type": "code",
   "execution_count": 14,
   "metadata": {},
   "outputs": [],
   "source": [
    "random.shuffle(combined)"
   ]
  },
  {
   "cell_type": "code",
   "execution_count": 15,
   "metadata": {},
   "outputs": [],
   "source": [
    "x,y = zip(*combined)\n",
    "x = np.array(x)\n",
    "y = np.array(y)"
   ]
  },
  {
   "cell_type": "code",
   "execution_count": 16,
   "metadata": {},
   "outputs": [
    {
     "data": {
      "text/plain": [
       "array([-0.2020202 ,  0.82828283,  0.01010101,  0.04040404,  0.29292929,\n",
       "        0.91919192, -0.21212121,  0.45454545,  0.67676768, -0.52525253])"
      ]
     },
     "execution_count": 16,
     "metadata": {},
     "output_type": "execute_result"
    }
   ],
   "source": [
    "x[:10]"
   ]
  },
  {
   "cell_type": "code",
   "execution_count": 17,
   "metadata": {},
   "outputs": [
    {
     "data": {
      "text/plain": [
       "array([4.08121620e-02, 6.86052444e-01, 1.02030405e-04, 1.63248648e-03,\n",
       "       8.58075707e-02, 8.44913784e-01, 4.49954086e-02, 2.06611570e-01,\n",
       "       4.58014488e-01, 2.75890215e-01])"
      ]
     },
     "execution_count": 17,
     "metadata": {},
     "output_type": "execute_result"
    }
   ],
   "source": [
    "y[:10]"
   ]
  },
  {
   "cell_type": "markdown",
   "metadata": {},
   "source": [
    "## Split example data into training and test data"
   ]
  },
  {
   "cell_type": "code",
   "execution_count": 18,
   "metadata": {},
   "outputs": [
    {
     "data": {
      "text/plain": [
       "200"
      ]
     },
     "execution_count": 18,
     "metadata": {},
     "output_type": "execute_result"
    }
   ],
   "source": [
    "N = len(x)\n",
    "N"
   ]
  },
  {
   "cell_type": "code",
   "execution_count": 19,
   "metadata": {},
   "outputs": [
    {
     "data": {
      "text/plain": [
       "(200,)"
      ]
     },
     "execution_count": 19,
     "metadata": {},
     "output_type": "execute_result"
    }
   ],
   "source": [
    "x.shape"
   ]
  },
  {
   "cell_type": "code",
   "execution_count": 20,
   "metadata": {},
   "outputs": [],
   "source": [
    "x = x.reshape((N,1))\n",
    "y = y.reshape((N,1))"
   ]
  },
  {
   "cell_type": "code",
   "execution_count": 21,
   "metadata": {},
   "outputs": [
    {
     "data": {
      "text/plain": [
       "(200, 1)"
      ]
     },
     "execution_count": 21,
     "metadata": {},
     "output_type": "execute_result"
    }
   ],
   "source": [
    "x.shape"
   ]
  },
  {
   "cell_type": "code",
   "execution_count": 22,
   "metadata": {},
   "outputs": [
    {
     "data": {
      "text/plain": [
       "(200, 1)"
      ]
     },
     "execution_count": 22,
     "metadata": {},
     "output_type": "execute_result"
    }
   ],
   "source": [
    "y.shape"
   ]
  },
  {
   "cell_type": "code",
   "execution_count": 23,
   "metadata": {},
   "outputs": [
    {
     "data": {
      "text/plain": [
       "100"
      ]
     },
     "execution_count": 23,
     "metadata": {},
     "output_type": "execute_result"
    }
   ],
   "source": [
    "M = N//2\n",
    "M"
   ]
  },
  {
   "cell_type": "code",
   "execution_count": 24,
   "metadata": {},
   "outputs": [],
   "source": [
    "x_train = x[:M]\n",
    "y_train = y[:M]\n",
    "x_test  = x[M:]\n",
    "y_test  = y[M:]"
   ]
  },
  {
   "cell_type": "code",
   "execution_count": 25,
   "metadata": {},
   "outputs": [
    {
     "data": {
      "text/plain": [
       "(100, 1)"
      ]
     },
     "execution_count": 25,
     "metadata": {},
     "output_type": "execute_result"
    }
   ],
   "source": [
    "x_train.shape"
   ]
  },
  {
   "cell_type": "code",
   "execution_count": 26,
   "metadata": {},
   "outputs": [
    {
     "data": {
      "text/plain": [
       "(100, 1)"
      ]
     },
     "execution_count": 26,
     "metadata": {},
     "output_type": "execute_result"
    }
   ],
   "source": [
    "y_train.shape"
   ]
  },
  {
   "cell_type": "code",
   "execution_count": 27,
   "metadata": {},
   "outputs": [
    {
     "data": {
      "text/plain": [
       "array([[-0.2020202 ],\n",
       "       [ 0.82828283],\n",
       "       [ 0.01010101],\n",
       "       [ 0.04040404],\n",
       "       [ 0.29292929],\n",
       "       [ 0.91919192],\n",
       "       [-0.21212121],\n",
       "       [ 0.45454545],\n",
       "       [ 0.67676768],\n",
       "       [-0.52525253]])"
      ]
     },
     "execution_count": 27,
     "metadata": {},
     "output_type": "execute_result"
    }
   ],
   "source": [
    "x_train[:10]"
   ]
  },
  {
   "cell_type": "code",
   "execution_count": 28,
   "metadata": {},
   "outputs": [
    {
     "data": {
      "text/plain": [
       "array([[4.08121620e-02],\n",
       "       [6.86052444e-01],\n",
       "       [1.02030405e-04],\n",
       "       [1.63248648e-03],\n",
       "       [8.58075707e-02],\n",
       "       [8.44913784e-01],\n",
       "       [4.49954086e-02],\n",
       "       [2.06611570e-01],\n",
       "       [4.58014488e-01],\n",
       "       [2.75890215e-01]])"
      ]
     },
     "execution_count": 28,
     "metadata": {},
     "output_type": "execute_result"
    }
   ],
   "source": [
    "y_train[:10]"
   ]
  },
  {
   "cell_type": "markdown",
   "metadata": {},
   "source": [
    "## Prepare a MLP"
   ]
  },
  {
   "cell_type": "code",
   "execution_count": 29,
   "metadata": {},
   "outputs": [
    {
     "name": "stdout",
     "output_type": "stream",
     "text": [
      "Model: \"sequential\"\n",
      "_________________________________________________________________\n",
      "Layer (type)                 Output Shape              Param #   \n",
      "=================================================================\n",
      "dense (Dense)                (None, 50)                100       \n",
      "_________________________________________________________________\n",
      "dense_1 (Dense)              (None, 1)                 51        \n",
      "=================================================================\n",
      "Total params: 151\n",
      "Trainable params: 151\n",
      "Non-trainable params: 0\n",
      "_________________________________________________________________\n"
     ]
    }
   ],
   "source": [
    "from tensorflow import keras\n",
    "\n",
    "tf.keras.backend.clear_session()\n",
    "\n",
    "model = keras.Sequential()\n",
    "\n",
    "if pitfall2:\n",
    "    \"\"\"\n",
    "    this corresponds to the\n",
    "    activation function f(act) = act,\n",
    "    i.e., the identity function\n",
    "    \n",
    "    Quote from:\n",
    "    https://en.wikipedia.org/wiki/Activation_function#Comparison_of_activation_functions\n",
    "      'When multiple layers use the identity activation\n",
    "       function, the entire network is equivalent to a\n",
    "       single-layer model.''\n",
    "    \"\"\"\n",
    "    act_function = None\n",
    "else:\n",
    "    act_function = \"relu\"\n",
    "\n",
    "model.add(keras.layers.Dense(50,\n",
    "                             activation=act_function,\n",
    "                             input_shape=(1,)\n",
    "                            )\n",
    "         )\n",
    "model.add(keras.layers.Dense(1,\n",
    "                             activation=\"linear\"))\n",
    "\n",
    "model.compile(optimizer='adam',               \n",
    "              loss=tf.keras.losses.MeanSquaredError(),\n",
    "              metrics=['accuracy'])\n",
    "\n",
    "model.summary()"
   ]
  },
  {
   "cell_type": "markdown",
   "metadata": {},
   "source": [
    "## Train the MLP"
   ]
  },
  {
   "cell_type": "code",
   "execution_count": 30,
   "metadata": {},
   "outputs": [
    {
     "name": "stdout",
     "output_type": "stream",
     "text": [
      "[0]\n",
      "[0]\n"
     ]
    }
   ],
   "source": [
    "# Check for nan values in the input and target data\n",
    "print( sum(np.isnan(x_train)) )\n",
    "print( sum(np.isnan(y_train)) )"
   ]
  },
  {
   "cell_type": "code",
   "execution_count": 31,
   "metadata": {},
   "outputs": [
    {
     "name": "stdout",
     "output_type": "stream",
     "text": [
      "Train on 100 samples\n",
      "Epoch 1/100\n",
      "100/100 [==============================] - 0s 4ms/sample - loss: 0.1254 - accuracy: 0.0000e+00\n",
      "Epoch 2/100\n",
      "100/100 [==============================] - 0s 2ms/sample - loss: 0.0486 - accuracy: 0.0100\n",
      "Epoch 3/100\n",
      "100/100 [==============================] - 0s 3ms/sample - loss: 0.0322 - accuracy: 0.0100\n",
      "Epoch 4/100\n",
      "100/100 [==============================] - 0s 3ms/sample - loss: 0.0234 - accuracy: 0.0100\n",
      "Epoch 5/100\n",
      "100/100 [==============================] - 0s 3ms/sample - loss: 0.0172 - accuracy: 0.0100\n",
      "Epoch 6/100\n",
      "100/100 [==============================] - 0s 3ms/sample - loss: 0.0126 - accuracy: 0.0100\n",
      "Epoch 7/100\n",
      "100/100 [==============================] - 0s 3ms/sample - loss: 0.0097 - accuracy: 0.0100\n",
      "Epoch 8/100\n",
      "100/100 [==============================] - 0s 3ms/sample - loss: 0.0075 - accuracy: 0.0100\n",
      "Epoch 9/100\n",
      "100/100 [==============================] - 0s 2ms/sample - loss: 0.0060 - accuracy: 0.0100\n",
      "Epoch 10/100\n",
      "100/100 [==============================] - 0s 2ms/sample - loss: 0.0046 - accuracy: 0.0100\n",
      "Epoch 11/100\n",
      "100/100 [==============================] - 0s 3ms/sample - loss: 0.0038 - accuracy: 0.0100\n",
      "Epoch 12/100\n",
      "100/100 [==============================] - 0s 2ms/sample - loss: 0.0032 - accuracy: 0.0100\n",
      "Epoch 13/100\n",
      "100/100 [==============================] - 0s 3ms/sample - loss: 0.0027 - accuracy: 0.0100\n",
      "Epoch 14/100\n",
      "100/100 [==============================] - 0s 2ms/sample - loss: 0.0023 - accuracy: 0.0100\n",
      "Epoch 15/100\n",
      "100/100 [==============================] - 0s 2ms/sample - loss: 0.0022 - accuracy: 0.0100\n",
      "Epoch 16/100\n",
      "100/100 [==============================] - 0s 3ms/sample - loss: 0.0019 - accuracy: 0.0100\n",
      "Epoch 17/100\n",
      "100/100 [==============================] - 0s 3ms/sample - loss: 0.0015 - accuracy: 0.0100\n",
      "Epoch 18/100\n",
      "100/100 [==============================] - 0s 3ms/sample - loss: 0.0015 - accuracy: 0.0100\n",
      "Epoch 19/100\n",
      "100/100 [==============================] - 0s 2ms/sample - loss: 0.0013 - accuracy: 0.0100\n",
      "Epoch 20/100\n",
      "100/100 [==============================] - 0s 4ms/sample - loss: 0.0011 - accuracy: 0.0100\n",
      "Epoch 21/100\n",
      "100/100 [==============================] - 0s 2ms/sample - loss: 9.6095e-04 - accuracy: 0.0100\n",
      "Epoch 22/100\n",
      "100/100 [==============================] - 0s 2ms/sample - loss: 8.1963e-04 - accuracy: 0.0100\n",
      "Epoch 23/100\n",
      "100/100 [==============================] - 0s 2ms/sample - loss: 7.5538e-04 - accuracy: 0.0100\n",
      "Epoch 24/100\n",
      "100/100 [==============================] - 0s 3ms/sample - loss: 6.7382e-04 - accuracy: 0.0100\n",
      "Epoch 25/100\n",
      "100/100 [==============================] - 0s 3ms/sample - loss: 5.9207e-04 - accuracy: 0.0100\n",
      "Epoch 26/100\n",
      "100/100 [==============================] - 0s 3ms/sample - loss: 5.8064e-04 - accuracy: 0.0100\n",
      "Epoch 27/100\n",
      "100/100 [==============================] - 0s 3ms/sample - loss: 4.2908e-04 - accuracy: 0.0100\n",
      "Epoch 28/100\n",
      "100/100 [==============================] - 0s 2ms/sample - loss: 4.0483e-04 - accuracy: 0.0100\n",
      "Epoch 29/100\n",
      "100/100 [==============================] - 0s 3ms/sample - loss: 3.3781e-04 - accuracy: 0.0100TA: 0s - loss: 2.1103e-04 - accuracy\n",
      "Epoch 30/100\n",
      "100/100 [==============================] - 0s 3ms/sample - loss: 3.6777e-04 - accuracy: 0.0100\n",
      "Epoch 31/100\n",
      "100/100 [==============================] - 0s 3ms/sample - loss: 2.9048e-04 - accuracy: 0.0100\n",
      "Epoch 32/100\n",
      "100/100 [==============================] - 0s 3ms/sample - loss: 3.1198e-04 - accuracy: 0.0100\n",
      "Epoch 33/100\n",
      "100/100 [==============================] - 0s 3ms/sample - loss: 2.5027e-04 - accuracy: 0.0100\n",
      "Epoch 34/100\n",
      "100/100 [==============================] - 0s 3ms/sample - loss: 2.3065e-04 - accuracy: 0.0100\n",
      "Epoch 35/100\n",
      "100/100 [==============================] - 0s 3ms/sample - loss: 2.1930e-04 - accuracy: 0.0100\n",
      "Epoch 36/100\n",
      "100/100 [==============================] - 0s 2ms/sample - loss: 2.5448e-04 - accuracy: 0.0100\n",
      "Epoch 37/100\n",
      "100/100 [==============================] - 0s 2ms/sample - loss: 1.9508e-04 - accuracy: 0.0100\n",
      "Epoch 38/100\n",
      "100/100 [==============================] - 0s 2ms/sample - loss: 2.3453e-04 - accuracy: 0.0100\n",
      "Epoch 39/100\n",
      "100/100 [==============================] - 0s 3ms/sample - loss: 2.5444e-04 - accuracy: 0.0100\n",
      "Epoch 40/100\n",
      "100/100 [==============================] - 0s 3ms/sample - loss: 1.5964e-04 - accuracy: 0.0100\n",
      "Epoch 41/100\n",
      "100/100 [==============================] - 0s 3ms/sample - loss: 1.4318e-04 - accuracy: 0.0100\n",
      "Epoch 42/100\n",
      "100/100 [==============================] - 0s 3ms/sample - loss: 1.5262e-04 - accuracy: 0.0100\n",
      "Epoch 43/100\n",
      "100/100 [==============================] - 0s 4ms/sample - loss: 1.7871e-04 - accuracy: 0.0100\n",
      "Epoch 44/100\n",
      "100/100 [==============================] - 0s 4ms/sample - loss: 9.7876e-05 - accuracy: 0.0100\n",
      "Epoch 45/100\n",
      "100/100 [==============================] - 0s 2ms/sample - loss: 1.1445e-04 - accuracy: 0.0100\n",
      "Epoch 46/100\n",
      "100/100 [==============================] - 0s 4ms/sample - loss: 9.8800e-05 - accuracy: 0.0100\n",
      "Epoch 47/100\n",
      "100/100 [==============================] - 0s 3ms/sample - loss: 8.4426e-05 - accuracy: 0.0100\n",
      "Epoch 48/100\n",
      "100/100 [==============================] - 0s 4ms/sample - loss: 8.8722e-05 - accuracy: 0.0100\n",
      "Epoch 49/100\n",
      "100/100 [==============================] - 0s 3ms/sample - loss: 9.5388e-05 - accuracy: 0.0100\n",
      "Epoch 50/100\n",
      "100/100 [==============================] - 0s 2ms/sample - loss: 7.9891e-05 - accuracy: 0.0100\n",
      "Epoch 51/100\n",
      "100/100 [==============================] - 0s 3ms/sample - loss: 8.9821e-05 - accuracy: 0.0100\n",
      "Epoch 52/100\n",
      "100/100 [==============================] - 0s 2ms/sample - loss: 6.9023e-05 - accuracy: 0.0100\n",
      "Epoch 53/100\n",
      "100/100 [==============================] - 0s 3ms/sample - loss: 1.0355e-04 - accuracy: 0.0100\n",
      "Epoch 54/100\n",
      "100/100 [==============================] - 0s 2ms/sample - loss: 1.0432e-04 - accuracy: 0.0100\n",
      "Epoch 55/100\n",
      "100/100 [==============================] - 0s 2ms/sample - loss: 1.0576e-04 - accuracy: 0.0100\n",
      "Epoch 56/100\n",
      "100/100 [==============================] - 0s 3ms/sample - loss: 5.2672e-05 - accuracy: 0.0100\n",
      "Epoch 57/100\n",
      "100/100 [==============================] - 0s 3ms/sample - loss: 5.0927e-05 - accuracy: 0.0100\n",
      "Epoch 58/100\n",
      "100/100 [==============================] - 0s 2ms/sample - loss: 5.1963e-05 - accuracy: 0.0100\n",
      "Epoch 59/100\n",
      "100/100 [==============================] - 0s 3ms/sample - loss: 3.7766e-05 - accuracy: 0.0100\n",
      "Epoch 60/100\n",
      "100/100 [==============================] - 0s 2ms/sample - loss: 4.2350e-05 - accuracy: 0.0100\n",
      "Epoch 61/100\n",
      "100/100 [==============================] - 0s 3ms/sample - loss: 5.9750e-05 - accuracy: 0.0100\n",
      "Epoch 62/100\n",
      "100/100 [==============================] - 0s 3ms/sample - loss: 7.4879e-05 - accuracy: 0.0100\n",
      "Epoch 63/100\n",
      "100/100 [==============================] - 0s 4ms/sample - loss: 2.9792e-05 - accuracy: 0.0100\n",
      "Epoch 64/100\n",
      "100/100 [==============================] - 0s 5ms/sample - loss: 6.6952e-05 - accuracy: 0.0100\n",
      "Epoch 65/100\n",
      "100/100 [==============================] - 0s 4ms/sample - loss: 4.8450e-05 - accuracy: 0.0100\n",
      "Epoch 66/100\n",
      "100/100 [==============================] - 0s 3ms/sample - loss: 2.7803e-05 - accuracy: 0.0100\n",
      "Epoch 67/100\n",
      "100/100 [==============================] - 0s 4ms/sample - loss: 2.4553e-05 - accuracy: 0.0100\n",
      "Epoch 68/100\n",
      "100/100 [==============================] - 0s 3ms/sample - loss: 3.5470e-05 - accuracy: 0.0100\n",
      "Epoch 69/100\n",
      "100/100 [==============================] - 0s 4ms/sample - loss: 3.1563e-05 - accuracy: 0.0100\n",
      "Epoch 70/100\n",
      "100/100 [==============================] - 0s 3ms/sample - loss: 1.2803e-04 - accuracy: 0.0100\n",
      "Epoch 71/100\n",
      "100/100 [==============================] - 0s 3ms/sample - loss: 1.6855e-05 - accuracy: 0.0100\n",
      "Epoch 72/100\n",
      "100/100 [==============================] - 0s 2ms/sample - loss: 2.0484e-05 - accuracy: 0.0100\n",
      "Epoch 73/100\n",
      "100/100 [==============================] - 0s 2ms/sample - loss: 3.9724e-05 - accuracy: 0.0100\n",
      "Epoch 74/100\n",
      "100/100 [==============================] - 0s 3ms/sample - loss: 4.4662e-05 - accuracy: 0.0100\n",
      "Epoch 75/100\n",
      "100/100 [==============================] - 0s 3ms/sample - loss: 1.5226e-05 - accuracy: 0.0100\n",
      "Epoch 76/100\n",
      "100/100 [==============================] - 0s 4ms/sample - loss: 2.4279e-05 - accuracy: 0.0100\n",
      "Epoch 77/100\n",
      "100/100 [==============================] - 0s 3ms/sample - loss: 3.9789e-05 - accuracy: 0.0100\n",
      "Epoch 78/100\n",
      "100/100 [==============================] - 0s 3ms/sample - loss: 4.3577e-05 - accuracy: 0.0100\n",
      "Epoch 79/100\n",
      "100/100 [==============================] - 0s 4ms/sample - loss: 3.9620e-05 - accuracy: 0.0100\n",
      "Epoch 80/100\n",
      "100/100 [==============================] - 0s 3ms/sample - loss: 2.1887e-05 - accuracy: 0.0100\n",
      "Epoch 81/100\n",
      "100/100 [==============================] - 0s 3ms/sample - loss: 3.2951e-05 - accuracy: 0.0100\n",
      "Epoch 82/100\n",
      "100/100 [==============================] - 0s 3ms/sample - loss: 2.1950e-05 - accuracy: 0.0100\n",
      "Epoch 83/100\n",
      "100/100 [==============================] - 0s 2ms/sample - loss: 6.0105e-05 - accuracy: 0.0100\n",
      "Epoch 84/100\n",
      "100/100 [==============================] - 0s 2ms/sample - loss: 1.7940e-05 - accuracy: 0.0100\n",
      "Epoch 85/100\n",
      "100/100 [==============================] - 0s 3ms/sample - loss: 1.8647e-05 - accuracy: 0.0100\n",
      "Epoch 86/100\n",
      "100/100 [==============================] - 0s 3ms/sample - loss: 3.3581e-05 - accuracy: 0.0100\n",
      "Epoch 87/100\n",
      "100/100 [==============================] - 0s 3ms/sample - loss: 5.2268e-05 - accuracy: 0.0100\n",
      "Epoch 88/100\n",
      "100/100 [==============================] - 0s 3ms/sample - loss: 2.0075e-05 - accuracy: 0.0100\n",
      "Epoch 89/100\n",
      "100/100 [==============================] - 0s 3ms/sample - loss: 6.9112e-05 - accuracy: 0.0100\n",
      "Epoch 90/100\n",
      "100/100 [==============================] - 0s 3ms/sample - loss: 1.4003e-04 - accuracy: 0.0100\n",
      "Epoch 91/100\n",
      "100/100 [==============================] - 0s 3ms/sample - loss: 7.2985e-05 - accuracy: 0.0100\n",
      "Epoch 92/100\n",
      "100/100 [==============================] - 0s 3ms/sample - loss: 3.2776e-05 - accuracy: 0.0100\n",
      "Epoch 93/100\n",
      "100/100 [==============================] - 0s 3ms/sample - loss: 1.6297e-04 - accuracy: 0.0100\n",
      "Epoch 94/100\n",
      "100/100 [==============================] - 0s 4ms/sample - loss: 1.8204e-05 - accuracy: 0.0100\n",
      "Epoch 95/100\n",
      "100/100 [==============================] - 0s 4ms/sample - loss: 4.6989e-05 - accuracy: 0.0100\n",
      "Epoch 96/100\n",
      "100/100 [==============================] - 0s 4ms/sample - loss: 3.1691e-05 - accuracy: 0.0100\n",
      "Epoch 97/100\n",
      "100/100 [==============================] - 0s 3ms/sample - loss: 7.4524e-05 - accuracy: 0.0100\n",
      "Epoch 98/100\n",
      "100/100 [==============================] - 0s 3ms/sample - loss: 1.8900e-05 - accuracy: 0.0100\n",
      "Epoch 99/100\n",
      "100/100 [==============================] - 0s 3ms/sample - loss: 2.7113e-05 - accuracy: 0.0100\n",
      "Epoch 100/100\n",
      "100/100 [==============================] - 0s 4ms/sample - loss: 1.6604e-05 - accuracy: 0.0100\n"
     ]
    }
   ],
   "source": [
    "history = model.fit(x_train,\n",
    "                    y_train,\n",
    "                    batch_size = 1,\n",
    "                    epochs=100)"
   ]
  },
  {
   "cell_type": "markdown",
   "metadata": {},
   "source": [
    "## Test the model"
   ]
  },
  {
   "cell_type": "code",
   "execution_count": 32,
   "metadata": {},
   "outputs": [],
   "source": [
    "preds = model.predict(x_test)"
   ]
  },
  {
   "cell_type": "code",
   "execution_count": 33,
   "metadata": {},
   "outputs": [
    {
     "data": {
      "text/plain": [
       "numpy.ndarray"
      ]
     },
     "execution_count": 33,
     "metadata": {},
     "output_type": "execute_result"
    }
   ],
   "source": [
    "type(preds)"
   ]
  },
  {
   "cell_type": "code",
   "execution_count": 34,
   "metadata": {},
   "outputs": [
    {
     "data": {
      "text/plain": [
       "(100, 1)"
      ]
     },
     "execution_count": 34,
     "metadata": {},
     "output_type": "execute_result"
    }
   ],
   "source": [
    "preds.shape"
   ]
  },
  {
   "cell_type": "code",
   "execution_count": 35,
   "metadata": {},
   "outputs": [
    {
     "data": {
      "text/plain": [
       "array([[0.07557129],\n",
       "       [0.51138616],\n",
       "       [0.7667841 ],\n",
       "       [0.09448943],\n",
       "       [0.02544974],\n",
       "       [0.06092919],\n",
       "       [0.00879875],\n",
       "       [0.07070715],\n",
       "       [0.29274535],\n",
       "       [0.45177785]], dtype=float32)"
      ]
     },
     "execution_count": 35,
     "metadata": {},
     "output_type": "execute_result"
    }
   ],
   "source": [
    "preds[:10]"
   ]
  },
  {
   "cell_type": "code",
   "execution_count": 36,
   "metadata": {},
   "outputs": [
    {
     "data": {
      "text/plain": [
       "array([[0.07438017],\n",
       "       [0.51433527],\n",
       "       [0.75461688],\n",
       "       [0.09182736],\n",
       "       [0.02611978],\n",
       "       [0.05876951],\n",
       "       [0.00826446],\n",
       "       [0.06897255],\n",
       "       [0.28660341],\n",
       "       [0.44444444]])"
      ]
     },
     "execution_count": 36,
     "metadata": {},
     "output_type": "execute_result"
    }
   ],
   "source": [
    "y_test[:10]"
   ]
  },
  {
   "cell_type": "code",
   "execution_count": 37,
   "metadata": {},
   "outputs": [
    {
     "data": {
      "image/png": "[encoded data removed]",
      "text/plain": [
       "<Figure size 432x288 with 1 Axes>"
      ]
     },
     "metadata": {
      "needs_background": "light"
     },
     "output_type": "display_data"
    }
   ],
   "source": [
    "plt.scatter(x_test,preds)\n",
    "plt.show()"
   ]
  }
 ],
 "metadata": {
  "kernelspec": {
   "display_name": "Python 3",
   "language": "python",
   "name": "python3"
  },
  "language_info": {
   "codemirror_mode": {
    "name": "ipython",
    "version": 3
   },
   "file_extension": ".py",
   "mimetype": "text/x-python",
   "name": "python",
   "nbconvert_exporter": "python",
   "pygments_lexer": "ipython3",
   "version": "3.7.7"
  }
 },
 "nbformat": 4,
 "nbformat_minor": 4
}
