{
 "cells": [
  {
   "cell_type": "markdown",
   "metadata": {
    "toc": true
   },
   "source": [
    "<h1>Table of Contents<span class=\"tocSkip\"></span></h1>\n",
    "<div class=\"toc\"><ul class=\"toc-item\"><li><span><a href=\"#Introduction\" data-toc-modified-id=\"Introduction-1\"><span class=\"toc-item-num\">1&nbsp;&nbsp;</span>Introduction</a></span></li><li><span><a href=\"#Classes-for-building-up-a-computation-graph\" data-toc-modified-id=\"Classes-for-building-up-a-computation-graph-2\"><span class=\"toc-item-num\">2&nbsp;&nbsp;</span>Classes for building up a computation graph</a></span></li><li><span><a href=\"#Building-up-a-simple-computation-graph:-a-single-neuron\" data-toc-modified-id=\"Building-up-a-simple-computation-graph:-a-single-neuron-3\"><span class=\"toc-item-num\">3&nbsp;&nbsp;</span>Building up a simple computation graph: a single neuron</a></span></li><li><span><a href=\"#Implementing-Backpropagation\" data-toc-modified-id=\"Implementing-Backpropagation-4\"><span class=\"toc-item-num\">4&nbsp;&nbsp;</span>Implementing Backpropagation</a></span></li><li><span><a href=\"#Let-us-train-a-single-neuron-to-learn-to-add-the-3-inputs\" data-toc-modified-id=\"Let-us-train-a-single-neuron-to-learn-to-add-the-3-inputs-5\"><span class=\"toc-item-num\">5&nbsp;&nbsp;</span>Let us train a single neuron to learn to add the 3 inputs</a></span></li></ul></div>"
   ]
  },
  {
   "cell_type": "markdown",
   "metadata": {},
   "source": [
    "# Introduction\n",
    "\n",
    "MiniFlow is not TensorFlow.\n",
    "\n",
    "It is a very minimalistic framework with the goal to introduce students into the idea of\n",
    "- representing a neural network as a computation graph\n",
    "- computing the gradient of the error function with respect to the model parameters by using Reverse-mode autodiff"
   ]
  },
  {
   "cell_type": "markdown",
   "metadata": {
    "collapsed": true
   },
   "source": [
    "# Classes for building up a computation graph"
   ]
  },
  {
   "cell_type": "code",
   "execution_count": 1,
   "metadata": {
    "collapsed": true
   },
   "outputs": [],
   "source": [
    "class node:\n",
    "    \"\"\"\n",
    "    A graph node can just store a value\n",
    "    \"\"\"\n",
    "    \n",
    "    def __init__(self, name):\n",
    "        self.name = name\n",
    "        self.value = 0.0\n",
    "        self._w = 0.0\n",
    "        self.is_input_for = []\n",
    "        \n",
    "    def compute(self):\n",
    "        pass\n",
    "    \n",
    "    def derive(self, w):\n",
    "        pass\n",
    "        \n",
    "\n",
    "\n",
    "class node_op_unary(node):\n",
    "    \"\"\"\n",
    "    Base class for unary operation nodes,\n",
    "    e.g. Relu(x), abs(x)\n",
    "    \"\"\"\n",
    "    \n",
    "    def __init__(self, name, input1):\n",
    "        node.__init__(self, name)\n",
    "        self.input1 = input1\n",
    "        input1.is_input_for.append( self )\n",
    "\n",
    "        \n",
    "\n",
    "class node_op_binary(node):\n",
    "    \"\"\"\n",
    "    Base class for binary operation nodes,\n",
    "    e.g. x*y, x+y, x-y\n",
    "    \"\"\"\n",
    "    \n",
    "    def __init__(self, name, input1, input2):\n",
    "        node.__init__(self, name)\n",
    "        self.input1 = input1\n",
    "        self.input2 = input2\n",
    "        input1.is_input_for.append( self )\n",
    "        input2.is_input_for.append( self )\n",
    "\n",
    "\n",
    "        \n",
    "class node_op_mult(node_op_binary):\n",
    "    \"\"\"\n",
    "    x*y\n",
    "    \"\"\"\n",
    "    \n",
    "    def __init__(self, name, input1, input2):\n",
    "        node_op_binary.__init__(self, name, input1, input2)\n",
    "    \n",
    "    def compute(self):\n",
    "        self.value = self.input1.value * self.input2.value\n",
    "        \n",
    "    def derive(self, w):\n",
    "        \"\"\"\n",
    "        compute the derivative of this node\n",
    "        with respect to node <w>\n",
    "        \"\"\"\n",
    "        if w==self.input1:\n",
    "            return self.input2.value\n",
    "        elif w==self.input2:\n",
    "            return self.input1.value\n",
    "        \n",
    "\n",
    "        \n",
    "class node_op_add(node_op_binary):\n",
    "    \"\"\"\n",
    "    x+y\n",
    "    \"\"\"\n",
    "    \n",
    "    def __init__(self, name, input1, input2):\n",
    "        node_op_binary.__init__(self, name, input1, input2)\n",
    "    \n",
    "    def compute(self):\n",
    "        self.value = self.input1.value + self.input2.value\n",
    "        \n",
    "    def derive(self, w):\n",
    "        \"\"\"\n",
    "        compute the derivative of this node\n",
    "        with respect to node <w>\n",
    "        \"\"\"\n",
    "        if w == self.input1:\n",
    "            return 1.0\n",
    "        elif w == self.input2:\n",
    "            return +1.0\n",
    "        \n",
    "\n",
    "        \n",
    "class node_op_sub(node_op_binary):\n",
    "    \"\"\"\n",
    "    x-y\n",
    "    \"\"\"\n",
    "    \n",
    "    def __init__(self, name, input1, input2):\n",
    "        node_op_binary.__init__(self, name, input1, input2)\n",
    "    \n",
    "    def compute(self):\n",
    "        self.value = self.input1.value - self.input2.value  \n",
    "        \n",
    "    def derive(self, w):\n",
    "        \"\"\"\n",
    "        compute the derivative of this node\n",
    "        with respect to node <w>\n",
    "        \"\"\"\n",
    "        if w == self.input1:\n",
    "            return 1.0\n",
    "        elif w == self.input2:\n",
    "            return -1.0\n",
    "        \n",
    "\n",
    "        \n",
    "class node_op_relu(node_op_unary):\n",
    "    \"\"\"\n",
    "    Relu(x)\n",
    "    \"\"\"\n",
    "    \n",
    "    def __init__(self, name, input1):\n",
    "        node_op_unary.__init__(self, name, input1)\n",
    "        \n",
    "    def compute(self):\n",
    "        \"\"\"\n",
    "        compute output of this node: Relu(input)\n",
    "        \"\"\"\n",
    "        if self.input1.value < 0.0:\n",
    "            self.value = 0.0\n",
    "        else:\n",
    "            self.value = self.input1.value\n",
    "            \n",
    "            \n",
    "    def derive(self, w):\n",
    "        \"\"\"\n",
    "        compute the derivative of this node\n",
    "        with respect to node <w>\n",
    "        \"\"\"\n",
    "        if w.value < 0.0:\n",
    "            return 0.0\n",
    "        else:\n",
    "            return 1.0\n",
    "            \n",
    "\n",
    "            \n",
    "class node_op_abs(node_op_unary):\n",
    "    \"\"\"\n",
    "    abs(x)\n",
    "    \"\"\"\n",
    "    \n",
    "    def __init__(self, name, input1):\n",
    "        node_op_unary.__init__(self, name, input1)\n",
    "        \n",
    "    def compute(self):\n",
    "        \"\"\"\n",
    "        compute output of this node: abs(input)\n",
    "        \"\"\"\n",
    "        self.value = abs(self.input1.value)\n",
    "        \n",
    "    def derive(self, w):\n",
    "        \"\"\"\n",
    "        compute the derivative of this node\n",
    "        with respect to node <w>\n",
    "        \"\"\"\n",
    "        if w.value > 0.0:\n",
    "            return 1.0\n",
    "        elif w.value < 0:\n",
    "            return -1.0\n",
    "        else:\n",
    "            return 0.0"
   ]
  },
  {
   "cell_type": "markdown",
   "metadata": {},
   "source": [
    "# Building up a simple computation graph: a single neuron"
   ]
  },
  {
   "cell_type": "markdown",
   "metadata": {},
   "source": [
    "The neuron will have 3 inputs and 3 weights will be learned."
   ]
  },
  {
   "cell_type": "code",
   "execution_count": 2,
   "metadata": {
    "collapsed": true
   },
   "outputs": [],
   "source": [
    "# 3 input nodes\n",
    "w1 = node(\"w1 (input)\")\n",
    "w2 = node(\"w2 (input)\")\n",
    "w3 = node(\"w3 (input)\")\n",
    "\n",
    "# 3 parameter nodes (weights)\n",
    "w4 = node(\"w4 (weight)\")\n",
    "w5 = node(\"w5 (weight)\")\n",
    "w6 = node(\"w6 (weight)\")\n",
    "\n",
    "# computation of activation\n",
    "w7 = node_op_mult(\"w7=w1*w4\", w1,w4)\n",
    "w8 = node_op_mult(\"w8=w2*w5\", w2,w5)\n",
    "w9 = node_op_mult(\"w9=w3*w6\", w3,w6)\n",
    "w10 = node_op_add(\"w10=w7+w8\", w7,w8)\n",
    "w11 = node_op_add(\"w11=w10+w9\", w10,w9)\n",
    "\n",
    "# computation of output value\n",
    "w12 = node_op_relu(\"w12=relu(w11)\", w11)\n",
    "\n",
    "# teacher value\n",
    "w13 = node(\"w13=teacher value\")\n",
    "\n",
    "# computation of loss\n",
    "w14 = node_op_sub(\"w14=w13-w12\", w13,w12)\n",
    "w15 = node_op_abs(\"w15=abs(w14)\", w14)\n",
    "\n",
    "# add all generated nodes to a Python list\n",
    "all_nodes = [w1,w2,w3,w4,w5,w6,w7,w8,w9,w10,w11,w12,w13,w14,w15]\n",
    "\n",
    "def feedforward(all_nodes):\n",
    "    \"\"\"\n",
    "    Let all nodes compute their outputs\n",
    "    starting from the first node\n",
    "    and going to the last node in the list\n",
    "    \"\"\"\n",
    "    \n",
    "    for n in all_nodes:\n",
    "        n.compute()"
   ]
  },
  {
   "cell_type": "code",
   "execution_count": 3,
   "metadata": {
    "collapsed": true
   },
   "outputs": [],
   "source": [
    "w1.value = 2.0\n",
    "w2.value = 1.0\n",
    "w3.value = 1.0\n",
    "w4.value = 10.0\n",
    "\n",
    "feedforward(all_nodes)"
   ]
  },
  {
   "cell_type": "code",
   "execution_count": 4,
   "metadata": {},
   "outputs": [
    {
     "data": {
      "text/plain": [
       "20.0"
      ]
     },
     "execution_count": 4,
     "metadata": {},
     "output_type": "execute_result"
    }
   ],
   "source": [
    "w7.value"
   ]
  },
  {
   "cell_type": "code",
   "execution_count": 5,
   "metadata": {},
   "outputs": [
    {
     "data": {
      "text/plain": [
       "20.0"
      ]
     },
     "execution_count": 5,
     "metadata": {},
     "output_type": "execute_result"
    }
   ],
   "source": [
    "w11.value"
   ]
  },
  {
   "cell_type": "code",
   "execution_count": 6,
   "metadata": {},
   "outputs": [
    {
     "data": {
      "text/plain": [
       "20.0"
      ]
     },
     "execution_count": 6,
     "metadata": {},
     "output_type": "execute_result"
    }
   ],
   "source": [
    "w12.value"
   ]
  },
  {
   "cell_type": "code",
   "execution_count": 7,
   "metadata": {},
   "outputs": [
    {
     "data": {
      "text/plain": [
       "0.0"
      ]
     },
     "execution_count": 7,
     "metadata": {},
     "output_type": "execute_result"
    }
   ],
   "source": [
    "w13.value"
   ]
  },
  {
   "cell_type": "code",
   "execution_count": 8,
   "metadata": {},
   "outputs": [
    {
     "data": {
      "text/plain": [
       "-20.0"
      ]
     },
     "execution_count": 8,
     "metadata": {},
     "output_type": "execute_result"
    }
   ],
   "source": [
    "w14.value"
   ]
  },
  {
   "cell_type": "code",
   "execution_count": 9,
   "metadata": {},
   "outputs": [
    {
     "data": {
      "text/plain": [
       "20.0"
      ]
     },
     "execution_count": 9,
     "metadata": {},
     "output_type": "execute_result"
    }
   ],
   "source": [
    "w15.value"
   ]
  },
  {
   "cell_type": "markdown",
   "metadata": {},
   "source": [
    "# Implementing Backpropagation"
   ]
  },
  {
   "cell_type": "code",
   "execution_count": 18,
   "metadata": {
    "collapsed": true
   },
   "outputs": [],
   "source": [
    "def backpropagation(all_nodes):\n",
    "    \"\"\"    \n",
    "    For each computation node w, compute:\n",
    "    \n",
    "           d loss    d loss         d next_node\n",
    "    _w =   ------ =  ----------- *  ----------- \n",
    "           d w       d next_node    d w\n",
    "                        \n",
    "         = next_node._w * dnext_dw\n",
    "         = (how does the next node change the output?) *\n",
    "           (how does this node change the output of the next node?)\n",
    "          \n",
    "    In other words: do reverse-mode autodiff\n",
    "    \"\"\"\n",
    "    \n",
    "    \n",
    "    nr_nodes = len(all_nodes)\n",
    "    \n",
    "    # set seed variable\n",
    "    all_nodes[-1]._w = 1.0\n",
    "    \n",
    "    # go through all nodes, but in reverse order\n",
    "    for w in reversed( all_nodes[0:nr_nodes-1] ):\n",
    "        \n",
    "        # compute how this node\n",
    "        # changes the output of the error node\n",
    "        w._w = 0.0\n",
    "        \n",
    "        # multi-variate chain rule\n",
    "        for next_node in w.is_input_for:\n",
    "            # compute the derivative of the next node\n",
    "            # with respect to node n\n",
    "            dnext_dw = next_node.derive( w )\n",
    "            #print(\"\\tcomputing dnext_dw = d {} / d {} = {}\"\n",
    "            #      .format(next_node.name, w.name, dnext_dw) )\n",
    "            #print(\"\\tnext_node._w = \", next_node._w)\n",
    "            w._w += next_node._w * dnext_dw\n",
    "            \n",
    "        #print(\"computed _{} = {}\".format(w.name, w._w) )"
   ]
  },
  {
   "cell_type": "code",
   "execution_count": 19,
   "metadata": {},
   "outputs": [],
   "source": [
    "backpropagation(all_nodes)"
   ]
  },
  {
   "cell_type": "markdown",
   "metadata": {},
   "source": [
    "# Let us train a single neuron to learn to add the 3 inputs"
   ]
  },
  {
   "cell_type": "markdown",
   "metadata": {},
   "source": [
    "We will start with random start weights and check whether the training procedure correctly sets the weights, such that the outputs are as desired:"
   ]
  },
  {
   "cell_type": "code",
   "execution_count": 48,
   "metadata": {},
   "outputs": [
    {
     "name": "stdout",
     "output_type": "stream",
     "text": [
      "step: 10\n",
      "\t(w4,w5,w6) = (0.2422,1.3296,0.8517)\n",
      "step: 20\n",
      "\t(w4,w5,w6) = (0.3002,1.3530,0.8874)\n",
      "step: 30\n",
      "\t(w4,w5,w6) = (0.3551,1.3792,0.9273)\n",
      "step: 40\n",
      "\t(w4,w5,w6) = (0.3906,1.3857,0.9295)\n",
      "step: 50\n",
      "\t(w4,w5,w6) = (0.4273,1.3950,0.9626)\n",
      "step: 60\n",
      "\t(w4,w5,w6) = (0.4648,1.4021,0.9710)\n",
      "step: 70\n",
      "\t(w4,w5,w6) = (0.4930,1.4018,0.9746)\n",
      "step: 80\n",
      "\t(w4,w5,w6) = (0.5206,1.3893,0.9893)\n",
      "step: 90\n",
      "\t(w4,w5,w6) = (0.5424,1.3843,0.9931)\n",
      "step: 100\n",
      "\t(w4,w5,w6) = (0.5648,1.3753,0.9967)\n",
      "step: 110\n",
      "\t(w4,w5,w6) = (0.5823,1.3465,0.9871)\n",
      "step: 120\n",
      "\t(w4,w5,w6) = (0.6070,1.3421,0.9759)\n",
      "step: 130\n",
      "\t(w4,w5,w6) = (0.6369,1.3426,0.9948)\n",
      "step: 140\n",
      "\t(w4,w5,w6) = (0.6575,1.3301,0.9936)\n",
      "step: 150\n",
      "\t(w4,w5,w6) = (0.6738,1.3210,0.9908)\n",
      "step: 160\n",
      "\t(w4,w5,w6) = (0.6838,1.2936,0.9978)\n",
      "step: 170\n",
      "\t(w4,w5,w6) = (0.7218,1.2819,1.0214)\n",
      "step: 180\n",
      "\t(w4,w5,w6) = (0.7336,1.2622,1.0198)\n",
      "step: 190\n",
      "\t(w4,w5,w6) = (0.7315,1.2314,1.0055)\n",
      "step: 200\n",
      "\t(w4,w5,w6) = (0.7454,1.2122,0.9982)\n",
      "step: 210\n",
      "\t(w4,w5,w6) = (0.7529,1.1943,0.9878)\n",
      "step: 220\n",
      "\t(w4,w5,w6) = (0.7803,1.2005,1.0049)\n",
      "step: 230\n",
      "\t(w4,w5,w6) = (0.7997,1.1884,1.0029)\n",
      "step: 240\n",
      "\t(w4,w5,w6) = (0.8177,1.1855,1.0025)\n",
      "step: 250\n",
      "\t(w4,w5,w6) = (0.8402,1.1822,0.9940)\n",
      "step: 260\n",
      "\t(w4,w5,w6) = (0.8661,1.1693,0.9958)\n",
      "step: 270\n",
      "\t(w4,w5,w6) = (0.8687,1.1364,1.0058)\n",
      "step: 280\n",
      "\t(w4,w5,w6) = (0.8737,1.1261,1.0072)\n",
      "step: 290\n",
      "\t(w4,w5,w6) = (0.9008,1.1270,1.0136)\n",
      "step: 300\n",
      "\t(w4,w5,w6) = (0.8852,1.0884,1.0073)\n",
      "step: 310\n",
      "\t(w4,w5,w6) = (0.8831,1.0579,0.9782)\n",
      "step: 320\n",
      "\t(w4,w5,w6) = (0.9277,1.0700,1.0098)\n",
      "step: 330\n",
      "\t(w4,w5,w6) = (0.9572,1.0745,1.0264)\n",
      "step: 340\n",
      "\t(w4,w5,w6) = (0.9408,1.0388,1.0130)\n",
      "step: 350\n",
      "\t(w4,w5,w6) = (0.9533,1.0185,1.0099)\n",
      "step: 360\n",
      "\t(w4,w5,w6) = (0.9741,1.0255,1.0234)\n",
      "step: 370\n",
      "\t(w4,w5,w6) = (0.9892,1.0170,1.0109)\n",
      "step: 380\n",
      "\t(w4,w5,w6) = (0.9836,1.0087,1.0062)\n",
      "step: 390\n",
      "\t(w4,w5,w6) = (0.9964,1.0064,0.9992)\n",
      "step: 400\n",
      "\t(w4,w5,w6) = (1.0009,1.0039,1.0007)\n",
      "step: 410\n",
      "\t(w4,w5,w6) = (0.9919,0.9930,0.9942)\n",
      "step: 420\n",
      "\t(w4,w5,w6) = (1.0060,1.0063,0.9975)\n",
      "step: 430\n",
      "\t(w4,w5,w6) = (0.9915,0.9971,1.0004)\n",
      "step: 440\n",
      "\t(w4,w5,w6) = (1.0025,0.9922,0.9934)\n",
      "step: 450\n",
      "\t(w4,w5,w6) = (1.0069,1.0006,0.9988)\n",
      "step: 460\n",
      "\t(w4,w5,w6) = (0.9994,0.9986,1.0020)\n",
      "step: 470\n",
      "\t(w4,w5,w6) = (1.0110,1.0014,1.0007)\n",
      "step: 480\n",
      "\t(w4,w5,w6) = (1.0095,0.9963,0.9941)\n",
      "step: 490\n",
      "\t(w4,w5,w6) = (1.0019,0.9936,0.9968)\n",
      "step: 500\n",
      "\t(w4,w5,w6) = (0.9999,0.9979,0.9938)\n",
      "step: 510\n",
      "\t(w4,w5,w6) = (1.0101,1.0059,0.9925)\n",
      "step: 520\n",
      "\t(w4,w5,w6) = (1.0078,0.9982,0.9995)\n",
      "step: 530\n",
      "\t(w4,w5,w6) = (1.0050,0.9980,1.0070)\n",
      "step: 540\n",
      "\t(w4,w5,w6) = (1.0025,0.9935,0.9949)\n",
      "step: 550\n",
      "\t(w4,w5,w6) = (1.0113,0.9925,1.0014)\n",
      "step: 560\n",
      "\t(w4,w5,w6) = (1.0073,0.9886,0.9923)\n",
      "step: 570\n",
      "\t(w4,w5,w6) = (1.0083,0.9927,1.0026)\n",
      "step: 580\n",
      "\t(w4,w5,w6) = (0.9974,0.9975,0.9968)\n",
      "step: 590\n",
      "\t(w4,w5,w6) = (1.0012,1.0084,1.0001)\n",
      "step: 600\n",
      "\t(w4,w5,w6) = (1.0021,0.9975,1.0033)\n",
      "step: 610\n",
      "\t(w4,w5,w6) = (0.9984,1.0081,0.9977)\n",
      "step: 620\n",
      "\t(w4,w5,w6) = (1.0125,1.0012,1.0059)\n",
      "step: 630\n",
      "\t(w4,w5,w6) = (1.0115,1.0009,1.0048)\n",
      "step: 640\n",
      "\t(w4,w5,w6) = (1.0032,1.0058,1.0000)\n",
      "step: 650\n",
      "\t(w4,w5,w6) = (1.0000,0.9933,0.9987)\n",
      "step: 660\n",
      "\t(w4,w5,w6) = (1.0013,0.9991,1.0126)\n",
      "step: 670\n",
      "\t(w4,w5,w6) = (0.9981,1.0019,1.0062)\n",
      "step: 680\n",
      "\t(w4,w5,w6) = (1.0004,0.9982,1.0079)\n",
      "step: 690\n",
      "\t(w4,w5,w6) = (1.0035,0.9910,1.0065)\n",
      "step: 700\n",
      "\t(w4,w5,w6) = (1.0030,0.9918,1.0144)\n",
      "step: 710\n",
      "\t(w4,w5,w6) = (0.9946,0.9940,1.0101)\n",
      "step: 720\n",
      "\t(w4,w5,w6) = (1.0038,1.0013,0.9976)\n",
      "step: 730\n",
      "\t(w4,w5,w6) = (1.0133,1.0008,0.9982)\n",
      "step: 740\n",
      "\t(w4,w5,w6) = (0.9946,1.0041,0.9973)\n",
      "step: 750\n",
      "\t(w4,w5,w6) = (1.0016,1.0068,1.0015)\n",
      "step: 760\n",
      "\t(w4,w5,w6) = (1.0046,1.0029,0.9998)\n",
      "step: 770\n",
      "\t(w4,w5,w6) = (0.9982,0.9993,0.9997)\n",
      "step: 780\n",
      "\t(w4,w5,w6) = (1.0053,1.0042,0.9963)\n",
      "step: 790\n",
      "\t(w4,w5,w6) = (1.0026,0.9978,1.0044)\n",
      "step: 800\n",
      "\t(w4,w5,w6) = (0.9985,1.0005,0.9992)\n",
      "step: 810\n",
      "\t(w4,w5,w6) = (0.9858,1.0070,1.0058)\n",
      "step: 820\n",
      "\t(w4,w5,w6) = (0.9923,0.9927,0.9954)\n",
      "step: 830\n",
      "\t(w4,w5,w6) = (1.0011,1.0077,1.0009)\n",
      "step: 840\n",
      "\t(w4,w5,w6) = (0.9952,0.9989,0.9905)\n",
      "step: 850\n",
      "\t(w4,w5,w6) = (0.9937,1.0075,0.9894)\n",
      "step: 860\n",
      "\t(w4,w5,w6) = (0.9965,0.9943,1.0040)\n",
      "step: 870\n",
      "\t(w4,w5,w6) = (1.0015,0.9989,0.9988)\n",
      "step: 880\n",
      "\t(w4,w5,w6) = (0.9962,0.9948,1.0127)\n",
      "step: 890\n",
      "\t(w4,w5,w6) = (1.0005,1.0062,1.0124)\n",
      "step: 900\n",
      "\t(w4,w5,w6) = (0.9951,0.9951,0.9978)\n",
      "step: 910\n",
      "\t(w4,w5,w6) = (0.9980,0.9948,0.9946)\n",
      "step: 920\n",
      "\t(w4,w5,w6) = (1.0072,1.0003,0.9942)\n",
      "step: 930\n",
      "\t(w4,w5,w6) = (0.9999,1.0140,0.9958)\n",
      "step: 940\n",
      "\t(w4,w5,w6) = (0.9957,0.9937,0.9940)\n",
      "step: 950\n",
      "\t(w4,w5,w6) = (1.0053,1.0080,1.0035)\n",
      "step: 960\n",
      "\t(w4,w5,w6) = (1.0002,1.0118,0.9994)\n",
      "step: 970\n",
      "\t(w4,w5,w6) = (1.0101,1.0093,1.0019)\n",
      "step: 980\n",
      "\t(w4,w5,w6) = (1.0042,1.0006,0.9837)\n",
      "step: 990\n",
      "\t(w4,w5,w6) = (1.0024,1.0172,0.9936)\n",
      "step: 1000\n",
      "\t(w4,w5,w6) = (0.9962,1.0034,0.9822)\n"
     ]
    }
   ],
   "source": [
    "from random import random\n",
    "\n",
    "# set start weights\n",
    "w4.value = 0.2\n",
    "w5.value = 1.3\n",
    "w6.value = 0.8\n",
    "\n",
    "show_debug_info = False\n",
    "learn_rate = 0.01\n",
    "steps = 1000\n",
    "errors = []\n",
    "for step in range(1,steps+1):\n",
    "    \n",
    "    if show_debug_info:\n",
    "        print(\"step:\", step)\n",
    "    else:\n",
    "        if step % 10 == 0:\n",
    "            print(\"step:\", step)\n",
    "            print(\"\\t(w4,w5,w6) = ({:.4f},{:.4f},{:.4f})\"\n",
    "                  .format(w4.value, w5.value, w6.value) )\n",
    "        \n",
    "    \n",
    "    # 1. randomly generate 3 input values\n",
    "    w1.value = random()\n",
    "    w2.value = random()\n",
    "    w3.value = random()\n",
    "    if show_debug_info:\n",
    "        print(\"\\tinput vec: ({0:.2},{1:.2},{2:.2})\"\n",
    "              .format(w1.value,w2.value,w3.value))\n",
    "    \n",
    "    # 2. compute and set teacher value\n",
    "    w13.value = w1.value + w2.value + w3.value\n",
    "    \n",
    "    # 3. forward propagation\n",
    "    feedforward(all_nodes)\n",
    "    \n",
    "    # 4. compare actual output with teacher value\n",
    "    if show_debug_info:\n",
    "        print(\"\\tis: {0:.2} vs. teacher: {1:.2}\"\n",
    "              .format(w12.value, w13.value))\n",
    "    \n",
    "    # 5. train (adapt) weights?\n",
    "    if True:\n",
    "            \n",
    "        # 5.1 compute gradient\n",
    "        backpropagation(all_nodes)\n",
    "        \n",
    "        # 5.2 show gradient\n",
    "        if show_debug_info:\n",
    "            print(\"\\tThe gradient is: ({:.2f},{:.2f},{:.2f})\"\n",
    "                  .format(w4._w, w5._w, w6._w) )\n",
    "        \n",
    "        # 5.3 adapt weights\n",
    "        w4.value += learn_rate * -w4._w\n",
    "        w5.value += learn_rate * -w5._w\n",
    "        w6.value += learn_rate * -w6._w\n",
    "            \n",
    "    # 6. compute error and store it in a list\n",
    "    error = abs(w12.value - w13.value)\n",
    "    errors.append( error )    "
   ]
  },
  {
   "cell_type": "code",
   "execution_count": 50,
   "metadata": {},
   "outputs": [
    {
     "data": {
      "image/png": "[encoded data removed]",
      "text/plain": [
       "<matplotlib.figure.Figure at 0x2de8c8ffda0>"
      ]
     },
     "metadata": {},
     "output_type": "display_data"
    }
   ],
   "source": [
    "import matplotlib.pyplot as plt\n",
    "\n",
    "plt.plot(errors)\n",
    "plt.show()"
   ]
  },
  {
   "cell_type": "code",
   "execution_count": null,
   "metadata": {
    "collapsed": true
   },
   "outputs": [],
   "source": []
  }
 ],
 "metadata": {
  "kernelspec": {
   "display_name": "Python 3",
   "language": "python",
   "name": "python3"
  },
  "language_info": {
   "codemirror_mode": {
    "name": "ipython",
    "version": 3
   },
   "file_extension": ".py",
   "mimetype": "text/x-python",
   "name": "python",
   "nbconvert_exporter": "python",
   "pygments_lexer": "ipython3",
   "version": "3.6.2"
  },
  "toc": {
   "base_numbering": 1,
   "nav_menu": {},
   "number_sections": true,
   "sideBar": true,
   "skip_h1_title": false,
   "title_cell": "Table of Contents",
   "title_sidebar": "Contents",
   "toc_cell": true,
   "toc_position": {
    "height": "calc(100% - 180px)",
    "left": "10px",
    "top": "150px",
    "width": "165px"
   },
   "toc_section_display": true,
   "toc_window_display": true
  }
 },
 "nbformat": 4,
 "nbformat_minor": 2
}
