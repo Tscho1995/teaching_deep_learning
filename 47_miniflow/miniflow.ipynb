{
 "cells": [
  {
   "cell_type": "markdown",
   "metadata": {
    "toc": true
   },
   "source": [
    "<h1>Table of Contents<span class=\"tocSkip\"></span></h1>\n",
    "<div class=\"toc\"><ul class=\"toc-item\"><li><span><a href=\"#Introduction\" data-toc-modified-id=\"Introduction-1\"><span class=\"toc-item-num\">1&nbsp;&nbsp;</span>Introduction</a></span></li><li><span><a href=\"#Classes-for-building-up-a-computation-graph\" data-toc-modified-id=\"Classes-for-building-up-a-computation-graph-2\"><span class=\"toc-item-num\">2&nbsp;&nbsp;</span>Classes for building up a computation graph</a></span></li><li><span><a href=\"#Building-up-a-simple-computation-graph:-a-single-neuron\" data-toc-modified-id=\"Building-up-a-simple-computation-graph:-a-single-neuron-3\"><span class=\"toc-item-num\">3&nbsp;&nbsp;</span>Building up a simple computation graph: a single neuron</a></span></li><li><span><a href=\"#Implementing-Backpropagation\" data-toc-modified-id=\"Implementing-Backpropagation-4\"><span class=\"toc-item-num\">4&nbsp;&nbsp;</span>Implementing Backpropagation</a></span></li><li><span><a href=\"#Let-us-train-a-single-neuron-to-learn-to-add-the-3-inputs\" data-toc-modified-id=\"Let-us-train-a-single-neuron-to-learn-to-add-the-3-inputs-5\"><span class=\"toc-item-num\">5&nbsp;&nbsp;</span>Let us train a single neuron to learn to add the 3 inputs</a></span></li></ul></div>"
   ]
  },
  {
   "cell_type": "markdown",
   "metadata": {},
   "source": [
    "# Introduction\n",
    "\n",
    "MiniFlow is not TensorFlow.\n",
    "\n",
    "It is a very minimalistic framework with the goal to introduce students into the idea of\n",
    "- representing a neural network as a computation graph\n",
    "- computing the gradient of the error function with respect to the model parameters by using Reverse-mode autodiff"
   ]
  },
  {
   "cell_type": "markdown",
   "metadata": {
    "collapsed": true
   },
   "source": [
    "# Classes for building up a computation graph"
   ]
  },
  {
   "cell_type": "code",
   "execution_count": 1,
   "metadata": {
    "collapsed": true
   },
   "outputs": [],
   "source": [
    "class node:\n",
    "    \"\"\"\n",
    "    A graph node can just store a value\n",
    "    \"\"\"\n",
    "    \n",
    "    def __init__(self, name):\n",
    "        self.name = name\n",
    "        self.value = 0.0\n",
    "        self._w = 0.0\n",
    "        self.is_input_for = []\n",
    "        \n",
    "    def compute(self):\n",
    "        pass\n",
    "    \n",
    "    def derive(self, w):\n",
    "        pass\n",
    "        \n",
    "\n",
    "\n",
    "class node_op_unary(node):\n",
    "    \"\"\"\n",
    "    Base class for unary operation nodes,\n",
    "    e.g. Relu(x), abs(x)\n",
    "    \"\"\"\n",
    "    \n",
    "    def __init__(self, name, input1):\n",
    "        node.__init__(self, name)\n",
    "        self.input1 = input1\n",
    "        input1.is_input_for.append( self )\n",
    "\n",
    "        \n",
    "\n",
    "class node_op_binary(node):\n",
    "    \"\"\"\n",
    "    Base class for binary operation nodes,\n",
    "    e.g. x*y, x+y, x-y\n",
    "    \"\"\"\n",
    "    \n",
    "    def __init__(self, name, input1, input2):\n",
    "        node.__init__(self, name)\n",
    "        self.input1 = input1\n",
    "        self.input2 = input2\n",
    "        input1.is_input_for.append( self )\n",
    "        input2.is_input_for.append( self )\n",
    "\n",
    "\n",
    "        \n",
    "class node_op_mult(node_op_binary):\n",
    "    \"\"\"\n",
    "    x*y\n",
    "    \"\"\"\n",
    "    \n",
    "    def __init__(self, name, input1, input2):\n",
    "        node_op_binary.__init__(self, name, input1, input2)\n",
    "    \n",
    "    def compute(self):\n",
    "        self.value = self.input1.value * self.input2.value\n",
    "        \n",
    "    def derive(self, w):\n",
    "        \"\"\"\n",
    "        compute the derivative of this node\n",
    "        with respect to node <w>\n",
    "        \"\"\"\n",
    "        if w==self.input1:\n",
    "            return self.input2.value\n",
    "        elif w==self.input2:\n",
    "            return self.input1.value\n",
    "        \n",
    "\n",
    "        \n",
    "class node_op_add(node_op_binary):\n",
    "    \"\"\"\n",
    "    x+y\n",
    "    \"\"\"\n",
    "    \n",
    "    def __init__(self, name, input1, input2):\n",
    "        node_op_binary.__init__(self, name, input1, input2)\n",
    "    \n",
    "    def compute(self):\n",
    "        self.value = self.input1.value + self.input2.value\n",
    "        \n",
    "    def derive(self, w):\n",
    "        \"\"\"\n",
    "        compute the derivative of this node\n",
    "        with respect to node <w>\n",
    "        \"\"\"\n",
    "        if w == self.input1:\n",
    "            return 1.0\n",
    "        elif w == self.input2:\n",
    "            return +1.0\n",
    "        \n",
    "\n",
    "        \n",
    "class node_op_sub(node_op_binary):\n",
    "    \"\"\"\n",
    "    x-y\n",
    "    \"\"\"\n",
    "    \n",
    "    def __init__(self, name, input1, input2):\n",
    "        node_op_binary.__init__(self, name, input1, input2)\n",
    "    \n",
    "    def compute(self):\n",
    "        self.value = self.input1.value - self.input2.value  \n",
    "        \n",
    "    def derive(self, w):\n",
    "        \"\"\"\n",
    "        compute the derivative of this node\n",
    "        with respect to node <w>\n",
    "        \"\"\"\n",
    "        if w == self.input1:\n",
    "            return 1.0\n",
    "        elif w == self.input2:\n",
    "            return -1.0\n",
    "        \n",
    "\n",
    "        \n",
    "class node_op_relu(node_op_unary):\n",
    "    \"\"\"\n",
    "    Relu(x)\n",
    "    \"\"\"\n",
    "    \n",
    "    def __init__(self, name, input1):\n",
    "        node_op_unary.__init__(self, name, input1)\n",
    "        \n",
    "    def compute(self):\n",
    "        \"\"\"\n",
    "        compute output of this node: Relu(input)\n",
    "        \"\"\"\n",
    "        if self.input1.value < 0.0:\n",
    "            self.value = 0.0\n",
    "        else:\n",
    "            self.value = self.input1.value\n",
    "            \n",
    "            \n",
    "    def derive(self, w):\n",
    "        \"\"\"\n",
    "        compute the derivative of this node\n",
    "        with respect to node <w>\n",
    "        \"\"\"\n",
    "        if w.value < 0.0:\n",
    "            return 0.0\n",
    "        else:\n",
    "            return 1.0\n",
    "            \n",
    "\n",
    "            \n",
    "class node_op_abs(node_op_unary):\n",
    "    \"\"\"\n",
    "    abs(x)\n",
    "    \"\"\"\n",
    "    \n",
    "    def __init__(self, name, input1):\n",
    "        node_op_unary.__init__(self, name, input1)\n",
    "        \n",
    "    def compute(self):\n",
    "        \"\"\"\n",
    "        compute output of this node: abs(input)\n",
    "        \"\"\"\n",
    "        self.value = abs(self.input1.value)\n",
    "        \n",
    "    def derive(self, w):\n",
    "        \"\"\"\n",
    "        compute the derivative of this node\n",
    "        with respect to node <w>\n",
    "        \"\"\"\n",
    "        if w.value > 0.0:\n",
    "            return 1.0\n",
    "        elif w.value < 0:\n",
    "            return -1.0\n",
    "        else:\n",
    "            return 0.0"
   ]
  },
  {
   "cell_type": "markdown",
   "metadata": {},
   "source": [
    "# Building up a simple computation graph: a single neuron"
   ]
  },
  {
   "cell_type": "markdown",
   "metadata": {},
   "source": [
    "The neuron will have 3 inputs and 3 weights will be learned."
   ]
  },
  {
   "cell_type": "code",
   "execution_count": 2,
   "metadata": {
    "collapsed": true
   },
   "outputs": [],
   "source": [
    "# 3 input nodes\n",
    "w1 = node(\"w1 (input)\")\n",
    "w2 = node(\"w2 (input)\")\n",
    "w3 = node(\"w3 (input)\")\n",
    "\n",
    "# 3 parameter nodes (weights)\n",
    "w4 = node(\"w4 (weight)\")\n",
    "w5 = node(\"w5 (weight)\")\n",
    "w6 = node(\"w6 (weight)\")\n",
    "\n",
    "# computation of activation\n",
    "w7 = node_op_mult(\"w7=w1*w4\", w1,w4)\n",
    "w8 = node_op_mult(\"w8=w2*w5\", w2,w5)\n",
    "w9 = node_op_mult(\"w9=w3*w6\", w3,w6)\n",
    "w10 = node_op_add(\"w10=w7+w8\", w7,w8)\n",
    "w11 = node_op_add(\"w11=w10+w9\", w10,w9)\n",
    "\n",
    "# computation of output value\n",
    "w12 = node_op_relu(\"w12=relu(w11)\", w11)\n",
    "\n",
    "# teacher value\n",
    "w13 = node(\"w13=teacher value\")\n",
    "\n",
    "# computation of loss\n",
    "w14 = node_op_sub(\"w14=w13-w12\", w13,w12)\n",
    "w15 = node_op_abs(\"w15=abs(w14)\", w14)\n",
    "\n",
    "# add all generated nodes to a Python list\n",
    "all_nodes = [w1,w2,w3,w4,w5,w6,w7,w8,w9,w10,w11,w12,w13,w14,w15]\n",
    "\n",
    "def feedforward(all_nodes):\n",
    "    \"\"\"\n",
    "    Let all nodes compute their outputs\n",
    "    starting from the first node\n",
    "    and going to the last node in the list\n",
    "    \"\"\"\n",
    "    \n",
    "    for n in all_nodes:\n",
    "        n.compute()"
   ]
  },
  {
   "cell_type": "code",
   "execution_count": 3,
   "metadata": {
    "collapsed": true
   },
   "outputs": [],
   "source": [
    "w1.value = 2.0\n",
    "w2.value = 1.0\n",
    "w3.value = 1.0\n",
    "w4.value = 10.0\n",
    "\n",
    "feedforward(all_nodes)"
   ]
  },
  {
   "cell_type": "code",
   "execution_count": 4,
   "metadata": {},
   "outputs": [
    {
     "data": {
      "text/plain": [
       "20.0"
      ]
     },
     "execution_count": 4,
     "metadata": {},
     "output_type": "execute_result"
    }
   ],
   "source": [
    "w7.value"
   ]
  },
  {
   "cell_type": "code",
   "execution_count": 5,
   "metadata": {},
   "outputs": [
    {
     "data": {
      "text/plain": [
       "20.0"
      ]
     },
     "execution_count": 5,
     "metadata": {},
     "output_type": "execute_result"
    }
   ],
   "source": [
    "w11.value"
   ]
  },
  {
   "cell_type": "code",
   "execution_count": 6,
   "metadata": {},
   "outputs": [
    {
     "data": {
      "text/plain": [
       "20.0"
      ]
     },
     "execution_count": 6,
     "metadata": {},
     "output_type": "execute_result"
    }
   ],
   "source": [
    "w12.value"
   ]
  },
  {
   "cell_type": "code",
   "execution_count": 7,
   "metadata": {},
   "outputs": [
    {
     "data": {
      "text/plain": [
       "0.0"
      ]
     },
     "execution_count": 7,
     "metadata": {},
     "output_type": "execute_result"
    }
   ],
   "source": [
    "w13.value"
   ]
  },
  {
   "cell_type": "code",
   "execution_count": 8,
   "metadata": {},
   "outputs": [
    {
     "data": {
      "text/plain": [
       "-20.0"
      ]
     },
     "execution_count": 8,
     "metadata": {},
     "output_type": "execute_result"
    }
   ],
   "source": [
    "w14.value"
   ]
  },
  {
   "cell_type": "code",
   "execution_count": 9,
   "metadata": {},
   "outputs": [
    {
     "data": {
      "text/plain": [
       "20.0"
      ]
     },
     "execution_count": 9,
     "metadata": {},
     "output_type": "execute_result"
    }
   ],
   "source": [
    "w15.value"
   ]
  },
  {
   "cell_type": "markdown",
   "metadata": {},
   "source": [
    "# Implementing Backpropagation"
   ]
  },
  {
   "cell_type": "code",
   "execution_count": 18,
   "metadata": {
    "collapsed": true
   },
   "outputs": [],
   "source": [
    "def backpropagation(all_nodes):\n",
    "    \"\"\"    \n",
    "    For each computation node w, compute:\n",
    "    \n",
    "           d loss    d loss         d next_node\n",
    "    _w =   ------ =  ----------- *  ----------- \n",
    "           d w       d next_node    d w\n",
    "                        \n",
    "         = next_node._w * dnext_dw\n",
    "         = (how does the next node change the output?) *\n",
    "           (how does this node change the output of the next node?)\n",
    "          \n",
    "    In other words: do reverse-mode autodiff\n",
    "    \"\"\"\n",
    "    \n",
    "    \n",
    "    nr_nodes = len(all_nodes)\n",
    "    \n",
    "    # set seed variable\n",
    "    all_nodes[-1]._w = 1.0\n",
    "    \n",
    "    # go through all nodes, but in reverse order\n",
    "    for w in reversed( all_nodes[0:nr_nodes-1] ):\n",
    "        \n",
    "        # compute how this node\n",
    "        # changes the output of the error node\n",
    "        w._w = 0.0\n",
    "        \n",
    "        # multi-variate chain rule\n",
    "        for next_node in w.is_input_for:\n",
    "            # compute the derivative of the next node\n",
    "            # with respect to node n\n",
    "            dnext_dw = next_node.derive( w )\n",
    "            #print(\"\\tcomputing dnext_dw = d {} / d {} = {}\"\n",
    "            #      .format(next_node.name, w.name, dnext_dw) )\n",
    "            #print(\"\\tnext_node._w = \", next_node._w)\n",
    "            w._w += next_node._w * dnext_dw\n",
    "            \n",
    "        #print(\"computed _{} = {}\".format(w.name, w._w) )"
   ]
  },
  {
   "cell_type": "code",
   "execution_count": 19,
   "metadata": {},
   "outputs": [],
   "source": [
    "backpropagation(all_nodes)"
   ]
  },
  {
   "cell_type": "markdown",
   "metadata": {},
   "source": [
    "# Let us train a single neuron to learn to add the 3 inputs"
   ]
  },
  {
   "cell_type": "markdown",
   "metadata": {},
   "source": [
    "We will start with random start weights and check whether the training procedure correctly sets the weights, such that the outputs are as desired:"
   ]
  },
  {
   "cell_type": "code",
   "execution_count": 71,
   "metadata": {},
   "outputs": [
    {
     "name": "stdout",
     "output_type": "stream",
     "text": [
      "step: 20\n",
      "\t(w4,w5,w6) = (0.2931,1.3372,0.8572)\n",
      "step: 40\n",
      "\t(w4,w5,w6) = (0.3929,1.3603,0.9190)\n",
      "step: 60\n",
      "\t(w4,w5,w6) = (0.4675,1.4101,0.9830)\n",
      "step: 80\n",
      "\t(w4,w5,w6) = (0.5276,1.4054,1.0038)\n",
      "step: 100\n",
      "\t(w4,w5,w6) = (0.5699,1.3952,1.0050)\n",
      "step: 120\n",
      "\t(w4,w5,w6) = (0.6186,1.3756,0.9908)\n",
      "step: 140\n",
      "\t(w4,w5,w6) = (0.6202,1.2970,0.9551)\n",
      "step: 160\n",
      "\t(w4,w5,w6) = (0.6697,1.2805,0.9883)\n",
      "step: 180\n",
      "\t(w4,w5,w6) = (0.7242,1.2583,1.0087)\n",
      "step: 200\n",
      "\t(w4,w5,w6) = (0.7493,1.2411,0.9998)\n",
      "step: 220\n",
      "\t(w4,w5,w6) = (0.7930,1.2107,1.0166)\n",
      "step: 240\n",
      "\t(w4,w5,w6) = (0.8143,1.1762,1.0096)\n",
      "step: 260\n",
      "\t(w4,w5,w6) = (0.8567,1.1513,1.0301)\n",
      "step: 280\n",
      "\t(w4,w5,w6) = (0.8856,1.1295,1.0214)\n",
      "step: 300\n",
      "\t(w4,w5,w6) = (0.9073,1.1026,1.0281)\n",
      "step: 320\n",
      "\t(w4,w5,w6) = (0.9442,1.0655,0.9965)\n",
      "step: 340\n",
      "\t(w4,w5,w6) = (0.9791,1.0417,1.0074)\n",
      "step: 360\n",
      "\t(w4,w5,w6) = (0.9903,1.0052,1.0032)\n",
      "step: 380\n",
      "\t(w4,w5,w6) = (1.0082,1.0009,1.0021)\n",
      "step: 400\n",
      "\t(w4,w5,w6) = (0.9936,1.0093,0.9900)\n",
      "step: 420\n",
      "\t(w4,w5,w6) = (0.9988,0.9981,1.0006)\n",
      "step: 440\n",
      "\t(w4,w5,w6) = (1.0021,0.9866,0.9985)\n",
      "step: 460\n",
      "\t(w4,w5,w6) = (1.0032,0.9955,1.0038)\n",
      "step: 480\n",
      "\t(w4,w5,w6) = (0.9921,1.0012,0.9983)\n",
      "step: 500\n",
      "\t(w4,w5,w6) = (1.0095,1.0016,0.9980)\n",
      "step: 520\n",
      "\t(w4,w5,w6) = (1.0065,1.0063,1.0111)\n",
      "step: 540\n",
      "\t(w4,w5,w6) = (1.0011,0.9914,0.9942)\n",
      "step: 560\n",
      "\t(w4,w5,w6) = (1.0036,1.0119,0.9968)\n",
      "step: 580\n",
      "\t(w4,w5,w6) = (0.9902,0.9952,0.9939)\n",
      "step: 600\n",
      "\t(w4,w5,w6) = (0.9953,0.9954,0.9978)\n",
      "step: 620\n",
      "\t(w4,w5,w6) = (1.0002,0.9969,1.0027)\n",
      "step: 640\n",
      "\t(w4,w5,w6) = (1.0056,0.9944,0.9976)\n",
      "step: 660\n",
      "\t(w4,w5,w6) = (0.9968,1.0030,0.9947)\n",
      "step: 680\n",
      "\t(w4,w5,w6) = (1.0015,0.9893,0.9981)\n",
      "step: 700\n",
      "\t(w4,w5,w6) = (0.9943,1.0000,0.9981)\n",
      "step: 720\n",
      "\t(w4,w5,w6) = (1.0026,0.9900,1.0006)\n",
      "step: 740\n",
      "\t(w4,w5,w6) = (0.9924,1.0089,0.9867)\n",
      "step: 760\n",
      "\t(w4,w5,w6) = (0.9842,0.9973,1.0031)\n",
      "step: 780\n",
      "\t(w4,w5,w6) = (0.9918,0.9980,1.0066)\n",
      "step: 800\n",
      "\t(w4,w5,w6) = (1.0066,1.0030,1.0059)\n",
      "step: 820\n",
      "\t(w4,w5,w6) = (0.9956,0.9937,1.0059)\n",
      "step: 840\n",
      "\t(w4,w5,w6) = (0.9948,0.9987,0.9995)\n",
      "step: 860\n",
      "\t(w4,w5,w6) = (1.0068,0.9983,0.9896)\n",
      "step: 880\n",
      "\t(w4,w5,w6) = (1.0099,0.9984,0.9945)\n",
      "step: 900\n",
      "\t(w4,w5,w6) = (1.0018,0.9916,1.0018)\n",
      "step: 920\n",
      "\t(w4,w5,w6) = (1.0014,1.0029,1.0056)\n",
      "step: 940\n",
      "\t(w4,w5,w6) = (0.9972,1.0046,0.9950)\n",
      "step: 960\n",
      "\t(w4,w5,w6) = (1.0034,1.0092,0.9948)\n",
      "step: 980\n",
      "\t(w4,w5,w6) = (1.0092,1.0090,0.9887)\n",
      "step: 1000\n",
      "\t(w4,w5,w6) = (1.0050,0.9887,1.0005)\n",
      "step: 1020\n",
      "\t(w4,w5,w6) = (1.0035,1.0072,0.9930)\n",
      "step: 1040\n",
      "\t(w4,w5,w6) = (0.9971,1.0022,0.9986)\n",
      "step: 1060\n",
      "\t(w4,w5,w6) = (0.9959,0.9965,1.0017)\n",
      "step: 1080\n",
      "\t(w4,w5,w6) = (0.9938,0.9990,0.9936)\n",
      "step: 1100\n",
      "\t(w4,w5,w6) = (1.0051,1.0063,0.9918)\n",
      "step: 1120\n",
      "\t(w4,w5,w6) = (1.0023,1.0076,0.9981)\n",
      "step: 1140\n",
      "\t(w4,w5,w6) = (1.0008,1.0043,1.0090)\n",
      "step: 1160\n",
      "\t(w4,w5,w6) = (0.9981,0.9982,0.9884)\n",
      "step: 1180\n",
      "\t(w4,w5,w6) = (1.0049,1.0046,0.9997)\n",
      "step: 1200\n",
      "\t(w4,w5,w6) = (0.9998,0.9992,0.9885)\n",
      "step: 1220\n",
      "\t(w4,w5,w6) = (1.0024,0.9885,0.9922)\n",
      "step: 1240\n",
      "\t(w4,w5,w6) = (0.9919,1.0092,1.0041)\n",
      "step: 1260\n",
      "\t(w4,w5,w6) = (0.9967,1.0085,1.0051)\n",
      "step: 1280\n",
      "\t(w4,w5,w6) = (0.9958,1.0052,1.0037)\n",
      "step: 1300\n",
      "\t(w4,w5,w6) = (1.0068,0.9959,1.0039)\n",
      "step: 1320\n",
      "\t(w4,w5,w6) = (0.9952,1.0062,0.9979)\n",
      "step: 1340\n",
      "\t(w4,w5,w6) = (1.0030,0.9953,0.9984)\n",
      "step: 1360\n",
      "\t(w4,w5,w6) = (0.9875,1.0022,0.9885)\n",
      "step: 1380\n",
      "\t(w4,w5,w6) = (1.0007,1.0007,1.0025)\n",
      "step: 1400\n",
      "\t(w4,w5,w6) = (0.9934,1.0019,0.9922)\n",
      "step: 1420\n",
      "\t(w4,w5,w6) = (0.9905,0.9975,1.0050)\n",
      "step: 1440\n",
      "\t(w4,w5,w6) = (0.9973,0.9927,0.9915)\n",
      "step: 1460\n",
      "\t(w4,w5,w6) = (0.9942,0.9998,0.9974)\n",
      "step: 1480\n",
      "\t(w4,w5,w6) = (0.9929,1.0078,0.9879)\n",
      "step: 1500\n",
      "\t(w4,w5,w6) = (0.9924,0.9945,0.9986)\n",
      "step: 1520\n",
      "\t(w4,w5,w6) = (1.0037,1.0001,1.0003)\n",
      "step: 1540\n",
      "\t(w4,w5,w6) = (1.0078,1.0011,1.0091)\n",
      "step: 1560\n",
      "\t(w4,w5,w6) = (0.9934,1.0009,1.0043)\n",
      "step: 1580\n",
      "\t(w4,w5,w6) = (1.0017,0.9964,0.9916)\n",
      "step: 1600\n",
      "\t(w4,w5,w6) = (1.0074,0.9980,0.9990)\n",
      "step: 1620\n",
      "\t(w4,w5,w6) = (0.9923,1.0044,1.0098)\n",
      "step: 1640\n",
      "\t(w4,w5,w6) = (1.0010,0.9963,1.0040)\n",
      "step: 1660\n",
      "\t(w4,w5,w6) = (0.9967,0.9915,1.0000)\n",
      "step: 1680\n",
      "\t(w4,w5,w6) = (1.0045,1.0016,1.0005)\n",
      "step: 1700\n",
      "\t(w4,w5,w6) = (1.0008,1.0041,1.0085)\n",
      "step: 1720\n",
      "\t(w4,w5,w6) = (1.0092,0.9953,0.9941)\n",
      "step: 1740\n",
      "\t(w4,w5,w6) = (0.9946,0.9984,0.9977)\n",
      "step: 1760\n",
      "\t(w4,w5,w6) = (0.9951,0.9944,1.0083)\n",
      "step: 1780\n",
      "\t(w4,w5,w6) = (1.0022,0.9928,0.9905)\n",
      "step: 1800\n",
      "\t(w4,w5,w6) = (1.0008,1.0040,1.0000)\n",
      "step: 1820\n",
      "\t(w4,w5,w6) = (0.9965,1.0073,1.0124)\n",
      "step: 1840\n",
      "\t(w4,w5,w6) = (0.9925,0.9972,0.9952)\n",
      "step: 1860\n",
      "\t(w4,w5,w6) = (1.0036,0.9956,1.0010)\n",
      "step: 1880\n",
      "\t(w4,w5,w6) = (0.9938,1.0029,0.9993)\n",
      "step: 1900\n",
      "\t(w4,w5,w6) = (0.9985,0.9946,0.9972)\n",
      "step: 1920\n",
      "\t(w4,w5,w6) = (1.0059,1.0013,0.9973)\n",
      "step: 1940\n",
      "\t(w4,w5,w6) = (1.0038,0.9879,1.0020)\n",
      "step: 1960\n",
      "\t(w4,w5,w6) = (0.9915,0.9987,0.9989)\n",
      "step: 1980\n",
      "\t(w4,w5,w6) = (0.9947,1.0073,1.0009)\n",
      "step: 2000\n",
      "\t(w4,w5,w6) = (1.0060,0.9901,0.9941)\n"
     ]
    }
   ],
   "source": [
    "from random import random\n",
    "import numpy as np\n",
    "\n",
    "# set start weights\n",
    "w4.value = 0.2\n",
    "w5.value = 1.3\n",
    "w6.value = 0.8\n",
    "\n",
    "show_debug_info = False\n",
    "learn_rate = 0.01\n",
    "steps = 2000\n",
    "errors = []\n",
    "for step in range(1,steps+1):\n",
    "    \n",
    "    if show_debug_info:\n",
    "        print(\"step:\", step)\n",
    "    else:\n",
    "        if step % (steps/100) == 0:\n",
    "            print(\"step:\", step)\n",
    "            print(\"\\t(w4,w5,w6) = ({:.4f},{:.4f},{:.4f})\"\n",
    "                  .format(w4.value, w5.value, w6.value) )\n",
    "        \n",
    "    \n",
    "    # 1. randomly generate 3 input values\n",
    "    w1.value = random()\n",
    "    w2.value = random()\n",
    "    w3.value = random()\n",
    "    if show_debug_info:\n",
    "        print(\"\\tinput vec: ({0:.2},{1:.2},{2:.2})\"\n",
    "              .format(w1.value,w2.value,w3.value))\n",
    "    \n",
    "    # 2. compute and set teacher value\n",
    "    w13.value = w1.value + w2.value + w3.value # test function 1\n",
    "    #w13.value = w1.value + 2.0*w2.value + 3.0*w3.value # test function 2\n",
    "    #w13.value = w1.value # test function 3\n",
    "    #w13.value = w1.value+w3.value # test function 4\n",
    "    #w13.value = w1.value*w1.value # test function 5\n",
    "    \n",
    "    # 3. forward propagation\n",
    "    feedforward(all_nodes)\n",
    "    \n",
    "    # 4. compare actual output with teacher value\n",
    "    if show_debug_info:\n",
    "        print(\"\\tis: {0:.2} vs. teacher: {1:.2}\"\n",
    "              .format(w12.value, w13.value))\n",
    "    \n",
    "    # 5. train (adapt) weights?\n",
    "    if True:\n",
    "            \n",
    "        # 5.1 compute gradient\n",
    "        backpropagation(all_nodes)\n",
    "        \n",
    "        # 5.2 show gradient\n",
    "        if show_debug_info:\n",
    "            print(\"\\tThe gradient is: ({:.2f},{:.2f},{:.2f})\"\n",
    "                  .format(w4._w, w5._w, w6._w) )\n",
    "        \n",
    "        # 5.3 adapt weights\n",
    "        w4.value += learn_rate * -w4._w\n",
    "        w5.value += learn_rate * -w5._w\n",
    "        w6.value += learn_rate * -w6._w\n",
    "            \n",
    "    # 6. compute error and store it in a list\n",
    "    error = abs(w12.value - w13.value)\n",
    "    errors.append( error )    "
   ]
  },
  {
   "cell_type": "code",
   "execution_count": 72,
   "metadata": {},
   "outputs": [
    {
     "data": {
      "image/png": "[encoded data removed]",
      "text/plain": [
       "<matplotlib.figure.Figure at 0x2de8de77d68>"
      ]
     },
     "metadata": {},
     "output_type": "display_data"
    }
   ],
   "source": [
    "import matplotlib.pyplot as plt\n",
    "\n",
    "plt.plot(errors)\n",
    "plt.show()"
   ]
  },
  {
   "cell_type": "code",
   "execution_count": null,
   "metadata": {
    "collapsed": true
   },
   "outputs": [],
   "source": []
  }
 ],
 "metadata": {
  "kernelspec": {
   "display_name": "Python 3",
   "language": "python",
   "name": "python3"
  },
  "language_info": {
   "codemirror_mode": {
    "name": "ipython",
    "version": 3
   },
   "file_extension": ".py",
   "mimetype": "text/x-python",
   "name": "python",
   "nbconvert_exporter": "python",
   "pygments_lexer": "ipython3",
   "version": "3.6.2"
  },
  "toc": {
   "base_numbering": 1,
   "nav_menu": {},
   "number_sections": true,
   "sideBar": true,
   "skip_h1_title": false,
   "title_cell": "Table of Contents",
   "title_sidebar": "Contents",
   "toc_cell": true,
   "toc_position": {
    "height": "calc(100% - 180px)",
    "left": "10px",
    "top": "150px",
    "width": "165px"
   },
   "toc_section_display": true,
   "toc_window_display": true
  }
 },
 "nbformat": 4,
 "nbformat_minor": 2
}
