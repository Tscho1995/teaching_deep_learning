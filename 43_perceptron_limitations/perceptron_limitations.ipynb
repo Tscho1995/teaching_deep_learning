{
 "cells": [
  {
   "cell_type": "markdown",
   "metadata": {
    "toc": true
   },
   "source": [
    "<h1>Inhaltsverzeichnis<span class=\"tocSkip\"></span></h1>\n",
    "<div class=\"toc\"><ul class=\"toc-item\"><li><span><a href=\"#Perzeptronfunktionen-definieren\" data-toc-modified-id=\"Perzeptronfunktionen-definieren-1\"><span class=\"toc-item-num\">1&nbsp;&nbsp;</span>Perzeptronfunktionen definieren</a></span></li><li><span><a href=\"#Beispieldaten-erzeugen\" data-toc-modified-id=\"Beispieldaten-erzeugen-2\"><span class=\"toc-item-num\">2&nbsp;&nbsp;</span>Beispieldaten erzeugen</a></span></li><li><span><a href=\"#Trainings--und-Testdaten-erzeugen\" data-toc-modified-id=\"Trainings--und-Testdaten-erzeugen-3\"><span class=\"toc-item-num\">3&nbsp;&nbsp;</span>Trainings- und Testdaten erzeugen</a></span></li><li><span><a href=\"#Netz-aufbauen-und-trainieren\" data-toc-modified-id=\"Netz-aufbauen-und-trainieren-4\"><span class=\"toc-item-num\">4&nbsp;&nbsp;</span>Netz aufbauen und trainieren</a></span></li><li><span><a href=\"#Netz-testen\" data-toc-modified-id=\"Netz-testen-5\"><span class=\"toc-item-num\">5&nbsp;&nbsp;</span>Netz testen</a></span></li></ul></div>"
   ]
  },
  {
   "cell_type": "markdown",
   "metadata": {},
   "source": [
    "# Perzeptronfunktionen definieren"
   ]
  },
  {
   "cell_type": "code",
   "execution_count": 1,
   "metadata": {},
   "outputs": [],
   "source": [
    "import numpy as np\n",
    "from random import randint\n",
    "\n",
    "# RELU\n",
    "def f(x):\n",
    "    if x < 0:\n",
    "        return 0\n",
    "    else:\n",
    "        return x\n",
    "    \n",
    "f = np.vectorize(f)\n",
    "\n",
    "def create_new_perceptron(nr_inputs, nr_outputs):\n",
    "    low = -1\n",
    "    high = +1\n",
    "    W = np.random.uniform(low,high, (nr_inputs, nr_outputs) )\n",
    "    return W\n",
    "\n",
    "\n",
    "def test_perceptron(W, x_test, y_test):\n",
    "    \n",
    "    nr_test_samples = x_test.shape[0]    \n",
    "    correct = 0\n",
    "    for test_sample_nr in range(0,nr_test_samples):\n",
    "        \n",
    "        # Berechnet den Output\n",
    "        row_vec = x_test[test_sample_nr, :]\n",
    "        x = np.append(row_vec,[1])\n",
    "        out = predict(W,x)\n",
    "        \n",
    "        # Was wäre richtig gewesen?        \n",
    "        one_hot_vec = y_test[test_sample_nr, :]\n",
    "        gt_label = np.argmax( one_hot_vec )\n",
    "\n",
    "        # Was wurde prädiziert?\n",
    "        is_label = np.argmax( out )\n",
    "\n",
    "        #print(gt_label, is_label)\n",
    "        if is_label == gt_label:\n",
    "            correct += 1     \n",
    "            \n",
    "    print(\"Korrekt: {} von {}\".format(correct,nr_test_samples))\n",
    "    \n",
    "    return correct/nr_test_samples\n",
    "    \n",
    "\n",
    "def train_perceptron(W,\n",
    "                     x_train, y_train,\n",
    "                     x_test, y_test,\n",
    "                     nr_train_steps,\n",
    "                     alpha):\n",
    "    \n",
    "    nr_outputs = y_train.shape[1]\n",
    "    \n",
    "    history = []\n",
    "       \n",
    "    for train_step_nr in range(0, nr_train_steps):\n",
    "        \n",
    "        rnd_img_nr = randint(0,y_train.shape[0]-1)\n",
    "        \n",
    "        # Suche zufällige Zeile aus den\n",
    "        # Trainingsdaten raus\n",
    "        row_vec = x_train[rnd_img_nr, :]        \n",
    "        x = np.append(row_vec,[1])        \n",
    "        out = predict(W,x)\n",
    "        \n",
    "        # Was hätte rauskommen sollen?\n",
    "        one_hot_vec = y_train[rnd_img_nr, :]\n",
    "                                \n",
    "        # Fehlerberechnung        \n",
    "        error = one_hot_vec - out\n",
    "        \n",
    "        # Trainingsschritt\n",
    "        for j in range(0, nr_outputs):\n",
    "            delta_w_vector = alpha * error[j] * x\n",
    "            #if train_step_nr % 100 == 0:\n",
    "            #    print(\"max weight change\", delta_w_vector.max())\n",
    "            W[:,j] =  W[:,j] + delta_w_vector \n",
    "            \n",
    "        if train_step_nr % 100 == 0:\n",
    "            print(\"\\nTrain step: \", train_step_nr)\n",
    "            correct_ratio = test_perceptron(W, x_test, y_test)\n",
    "            history.append( correct_ratio )\n",
    "            \n",
    "    return history\n",
    "\n",
    "\n",
    "def predict(W,x):\n",
    "    act = np.matmul(x, W)\n",
    "    out = f(act)\n",
    "    return out\n",
    "    "
   ]
  },
  {
   "cell_type": "markdown",
   "metadata": {},
   "source": [
    "# Beispieldaten erzeugen"
   ]
  },
  {
   "cell_type": "code",
   "execution_count": 2,
   "metadata": {},
   "outputs": [],
   "source": [
    "min_coord = -1.0\n",
    "max_coord = +1.0\n",
    "nr_train_samples = 1000\n",
    "data_x = np.random.uniform(min_coord,max_coord, (nr_train_samples, 2))"
   ]
  },
  {
   "cell_type": "code",
   "execution_count": 3,
   "metadata": {},
   "outputs": [
    {
     "data": {
      "text/plain": [
       "(1000, 2)"
      ]
     },
     "execution_count": 3,
     "metadata": {},
     "output_type": "execute_result"
    }
   ],
   "source": [
    "data_x.shape"
   ]
  },
  {
   "cell_type": "code",
   "execution_count": 4,
   "metadata": {},
   "outputs": [
    {
     "data": {
      "text/plain": [
       "array([[-0.77120413, -0.14779723],\n",
       "       [-0.90003108,  0.02844603],\n",
       "       [ 0.6864965 ,  0.72308186],\n",
       "       [-0.55227568, -0.41729555],\n",
       "       [-0.24016056,  0.25117915],\n",
       "       [-0.45418489, -0.8325823 ],\n",
       "       [ 0.06266061,  0.34813441],\n",
       "       [ 0.82477873, -0.04317149],\n",
       "       [-0.85488562,  0.13172732],\n",
       "       [ 0.76909927, -0.86041624]])"
      ]
     },
     "execution_count": 4,
     "metadata": {},
     "output_type": "execute_result"
    }
   ],
   "source": [
    "data_x[:10]"
   ]
  },
  {
   "cell_type": "code",
   "execution_count": 5,
   "metadata": {},
   "outputs": [
    {
     "data": {
      "image/png": "[encoded data removed]",
      "text/plain": [
       "<Figure size 432x288 with 1 Axes>"
      ]
     },
     "metadata": {
      "needs_background": "light"
     },
     "output_type": "display_data"
    }
   ],
   "source": [
    "import matplotlib.pyplot as plt\n",
    "plt.scatter(data_x[:,0], data_x[:,1], color=\"black\")\n",
    "plt.show()"
   ]
  },
  {
   "cell_type": "code",
   "execution_count": 6,
   "metadata": {},
   "outputs": [],
   "source": [
    "# Left/Right\n",
    "def gt_class1(point):\n",
    "    if point[0]<0.0:\n",
    "        return [1,0]\n",
    "    else:\n",
    "        return [0,1]"
   ]
  },
  {
   "cell_type": "code",
   "execution_count": 47,
   "metadata": {},
   "outputs": [],
   "source": [
    "# Circle\n",
    "import math\n",
    "\n",
    "def gt_class2(point):\n",
    "    x = point[0]\n",
    "    y = point[1]\n",
    "    dist = math.sqrt(x**2+y**2)\n",
    "    if dist<0.5:\n",
    "        return [1,0]\n",
    "    else:\n",
    "        return [0,1]"
   ]
  },
  {
   "cell_type": "code",
   "execution_count": 59,
   "metadata": {
    "collapsed": true
   },
   "outputs": [],
   "source": [
    "# Diagonal\n",
    "import math\n",
    "\n",
    "def gt_class3(point):\n",
    "    x = point[0]\n",
    "    y = point[1]\n",
    "    if x*1.0+y*1.0<0.5:\n",
    "        return [1,0]\n",
    "    else:\n",
    "        return [0,1]"
   ]
  },
  {
   "cell_type": "markdown",
   "metadata": {},
   "source": [
    "Wählen Sie hier zwischen:\n",
    "\n",
    "- gt_class1\n",
    "- gt_class2\n",
    "- gt_class3\n",
    "\n",
    "um zu testen, wie gut das Perzeptron unterschiedliche Klassifikationsprobleme lösen kann."
   ]
  },
  {
   "cell_type": "code",
   "execution_count": 48,
   "metadata": {},
   "outputs": [],
   "source": [
    "gt_class = gt_class2"
   ]
  },
  {
   "cell_type": "code",
   "execution_count": 49,
   "metadata": {},
   "outputs": [
    {
     "data": {
      "text/plain": [
       "[0, 1]"
      ]
     },
     "execution_count": 49,
     "metadata": {},
     "output_type": "execute_result"
    }
   ],
   "source": [
    "gt_class((-0.5,1.0))"
   ]
  },
  {
   "cell_type": "code",
   "execution_count": 50,
   "metadata": {},
   "outputs": [
    {
     "data": {
      "text/plain": [
       "[0, 1]"
      ]
     },
     "execution_count": 50,
     "metadata": {},
     "output_type": "execute_result"
    }
   ],
   "source": [
    "gt_class((-0.5,-1.0))"
   ]
  },
  {
   "cell_type": "code",
   "execution_count": 51,
   "metadata": {},
   "outputs": [
    {
     "data": {
      "text/plain": [
       "[0, 1]"
      ]
     },
     "execution_count": 51,
     "metadata": {},
     "output_type": "execute_result"
    }
   ],
   "source": [
    "gt_class((+0.1,-1.0))"
   ]
  },
  {
   "cell_type": "code",
   "execution_count": 52,
   "metadata": {},
   "outputs": [
    {
     "data": {
      "text/plain": [
       "[1, 0]"
      ]
     },
     "execution_count": 52,
     "metadata": {},
     "output_type": "execute_result"
    }
   ],
   "source": [
    "gt_class((+0.1,-.1))"
   ]
  },
  {
   "cell_type": "code",
   "execution_count": 53,
   "metadata": {},
   "outputs": [
    {
     "name": "stdout",
     "output_type": "stream",
     "text": [
      "[0.33967015 0.38834379] [0, 1]\n",
      "[-0.77510456 -0.29808479] [0, 1]\n",
      "[ 0.71482856 -0.81160969] [0, 1]\n",
      "[ 0.42511411 -0.05042226] [1, 0]\n",
      "[0.24965868 0.55891767] [0, 1]\n",
      "[-0.0372393   0.75858595] [0, 1]\n",
      "[-0.07005531  0.84233271] [0, 1]\n",
      "[-0.92931687 -0.79445349] [0, 1]\n",
      "[-0.3137514  0.0577674] [1, 0]\n",
      "[0.10039862 0.63360756] [0, 1]\n"
     ]
    }
   ],
   "source": [
    "for p in data_x[:10]:\n",
    "    print(p, gt_class(p))"
   ]
  },
  {
   "cell_type": "code",
   "execution_count": 54,
   "metadata": {},
   "outputs": [],
   "source": [
    "data_y = [gt_class(p) for p in data_x]"
   ]
  },
  {
   "cell_type": "code",
   "execution_count": 55,
   "metadata": {},
   "outputs": [
    {
     "data": {
      "text/plain": [
       "[[0, 1],\n",
       " [0, 1],\n",
       " [0, 1],\n",
       " [1, 0],\n",
       " [0, 1],\n",
       " [0, 1],\n",
       " [0, 1],\n",
       " [0, 1],\n",
       " [1, 0],\n",
       " [0, 1]]"
      ]
     },
     "execution_count": 55,
     "metadata": {},
     "output_type": "execute_result"
    }
   ],
   "source": [
    "data_y[:10]"
   ]
  },
  {
   "cell_type": "code",
   "execution_count": 56,
   "metadata": {},
   "outputs": [],
   "source": [
    "data_y = np.array( [gt_class(p) for p in data_x ] )"
   ]
  },
  {
   "cell_type": "code",
   "execution_count": 57,
   "metadata": {},
   "outputs": [
    {
     "data": {
      "text/plain": [
       "numpy.ndarray"
      ]
     },
     "execution_count": 57,
     "metadata": {},
     "output_type": "execute_result"
    }
   ],
   "source": [
    "type(data_y)"
   ]
  },
  {
   "cell_type": "code",
   "execution_count": 58,
   "metadata": {},
   "outputs": [
    {
     "data": {
      "text/plain": [
       "(1000, 2)"
      ]
     },
     "execution_count": 58,
     "metadata": {},
     "output_type": "execute_result"
    }
   ],
   "source": [
    "data_y.shape"
   ]
  },
  {
   "cell_type": "code",
   "execution_count": 59,
   "metadata": {},
   "outputs": [],
   "source": [
    "colors = [np.argmax(row) for row in data_y]"
   ]
  },
  {
   "cell_type": "code",
   "execution_count": 60,
   "metadata": {},
   "outputs": [
    {
     "data": {
      "text/plain": [
       "[1, 1, 1, 0, 1, 1, 1, 1, 0, 1]"
      ]
     },
     "execution_count": 60,
     "metadata": {},
     "output_type": "execute_result"
    }
   ],
   "source": [
    "colors[:10]"
   ]
  },
  {
   "cell_type": "code",
   "execution_count": 61,
   "metadata": {},
   "outputs": [
    {
     "data": {
      "image/png": "[encoded data removed]",
      "text/plain": [
       "<Figure size 432x288 with 1 Axes>"
      ]
     },
     "metadata": {
      "needs_background": "light"
     },
     "output_type": "display_data"
    }
   ],
   "source": [
    "import matplotlib.pyplot as plt\n",
    "plt.scatter(data_x[:,0], data_x[:,1], c=colors)\n",
    "plt.show()"
   ]
  },
  {
   "cell_type": "code",
   "execution_count": 62,
   "metadata": {},
   "outputs": [],
   "source": [
    "def generate_example_data(how_much):\n",
    "    min_coord = -1.0\n",
    "    max_coord = +1.0\n",
    "    data_x = np.random.uniform(min_coord,max_coord, (how_much, 2))\n",
    "    data_y = np.array( [gt_class(p) for p in data_x ] )\n",
    "    return data_x, data_y"
   ]
  },
  {
   "cell_type": "markdown",
   "metadata": {},
   "source": [
    "# Trainings- und Testdaten erzeugen"
   ]
  },
  {
   "cell_type": "code",
   "execution_count": 63,
   "metadata": {},
   "outputs": [],
   "source": [
    "data_x, data_y = generate_example_data(1000)"
   ]
  },
  {
   "cell_type": "code",
   "execution_count": 64,
   "metadata": {},
   "outputs": [
    {
     "data": {
      "text/plain": [
       "(1000, 2)"
      ]
     },
     "execution_count": 64,
     "metadata": {},
     "output_type": "execute_result"
    }
   ],
   "source": [
    "data_x.shape"
   ]
  },
  {
   "cell_type": "code",
   "execution_count": 65,
   "metadata": {},
   "outputs": [
    {
     "data": {
      "text/plain": [
       "(1000, 2)"
      ]
     },
     "execution_count": 65,
     "metadata": {},
     "output_type": "execute_result"
    }
   ],
   "source": [
    "data_y.shape"
   ]
  },
  {
   "cell_type": "code",
   "execution_count": 66,
   "metadata": {},
   "outputs": [],
   "source": [
    "N = int(data_x.shape[0] * 0.8)"
   ]
  },
  {
   "cell_type": "code",
   "execution_count": 67,
   "metadata": {},
   "outputs": [
    {
     "data": {
      "text/plain": [
       "800"
      ]
     },
     "execution_count": 67,
     "metadata": {},
     "output_type": "execute_result"
    }
   ],
   "source": [
    "N"
   ]
  },
  {
   "cell_type": "code",
   "execution_count": 68,
   "metadata": {},
   "outputs": [],
   "source": [
    "x_train = data_x[:N]\n",
    "y_train = data_y[:N]\n",
    "x_test  = data_x[N:]\n",
    "y_test  = data_y[N:]"
   ]
  },
  {
   "cell_type": "code",
   "execution_count": 69,
   "metadata": {},
   "outputs": [
    {
     "data": {
      "text/plain": [
       "(800, 2)"
      ]
     },
     "execution_count": 69,
     "metadata": {},
     "output_type": "execute_result"
    }
   ],
   "source": [
    "x_train.shape"
   ]
  },
  {
   "cell_type": "code",
   "execution_count": 70,
   "metadata": {},
   "outputs": [
    {
     "data": {
      "text/plain": [
       "(800, 2)"
      ]
     },
     "execution_count": 70,
     "metadata": {},
     "output_type": "execute_result"
    }
   ],
   "source": [
    "y_train.shape"
   ]
  },
  {
   "cell_type": "code",
   "execution_count": 71,
   "metadata": {},
   "outputs": [
    {
     "data": {
      "text/plain": [
       "(200, 2)"
      ]
     },
     "execution_count": 71,
     "metadata": {},
     "output_type": "execute_result"
    }
   ],
   "source": [
    "x_test.shape"
   ]
  },
  {
   "cell_type": "code",
   "execution_count": 72,
   "metadata": {},
   "outputs": [
    {
     "data": {
      "text/plain": [
       "(200, 2)"
      ]
     },
     "execution_count": 72,
     "metadata": {},
     "output_type": "execute_result"
    }
   ],
   "source": [
    "y_test.shape"
   ]
  },
  {
   "cell_type": "markdown",
   "metadata": {},
   "source": [
    "# Netz aufbauen und trainieren"
   ]
  },
  {
   "cell_type": "code",
   "execution_count": 73,
   "metadata": {},
   "outputs": [],
   "source": [
    "n_inputs = 2+1\n",
    "n_outputs = 2\n",
    "W = create_new_perceptron(n_inputs,n_outputs)"
   ]
  },
  {
   "cell_type": "code",
   "execution_count": 74,
   "metadata": {},
   "outputs": [
    {
     "data": {
      "text/plain": [
       "(3, 2)"
      ]
     },
     "execution_count": 74,
     "metadata": {},
     "output_type": "execute_result"
    }
   ],
   "source": [
    "W.shape"
   ]
  },
  {
   "cell_type": "code",
   "execution_count": 75,
   "metadata": {},
   "outputs": [
    {
     "data": {
      "text/plain": [
       "array([[-0.8566914 , -0.99193626],\n",
       "       [ 0.28525631, -0.74534079],\n",
       "       [ 0.20052845,  0.23459817]])"
      ]
     },
     "execution_count": 75,
     "metadata": {},
     "output_type": "execute_result"
    }
   ],
   "source": [
    "W"
   ]
  },
  {
   "cell_type": "code",
   "execution_count": 76,
   "metadata": {},
   "outputs": [
    {
     "name": "stdout",
     "output_type": "stream",
     "text": [
      "Korrekt: 66 von 200\n"
     ]
    },
    {
     "data": {
      "text/plain": [
       "0.33"
      ]
     },
     "execution_count": 76,
     "metadata": {},
     "output_type": "execute_result"
    }
   ],
   "source": [
    "test_perceptron(W, x_test, y_test)"
   ]
  },
  {
   "cell_type": "code",
   "execution_count": 77,
   "metadata": {},
   "outputs": [
    {
     "name": "stdout",
     "output_type": "stream",
     "text": [
      "\n",
      "Train step:  0\n",
      "Korrekt: 65 von 200\n",
      "\n",
      "Train step:  100\n",
      "Korrekt: 92 von 200\n",
      "\n",
      "Train step:  200\n",
      "Korrekt: 107 von 200\n",
      "\n",
      "Train step:  300\n",
      "Korrekt: 129 von 200\n",
      "\n",
      "Train step:  400\n",
      "Korrekt: 135 von 200\n",
      "\n",
      "Train step:  500\n",
      "Korrekt: 145 von 200\n",
      "\n",
      "Train step:  600\n",
      "Korrekt: 149 von 200\n",
      "\n",
      "Train step:  700\n",
      "Korrekt: 158 von 200\n",
      "\n",
      "Train step:  800\n",
      "Korrekt: 158 von 200\n",
      "\n",
      "Train step:  900\n",
      "Korrekt: 158 von 200\n"
     ]
    }
   ],
   "source": [
    "alpha = 0.01\n",
    "nr_train_steps = 1000\n",
    "history = train_perceptron(W,\n",
    "                           x_train, y_train,\n",
    "                           x_test, y_test,\n",
    "                           nr_train_steps,\n",
    "                           alpha)"
   ]
  },
  {
   "cell_type": "markdown",
   "metadata": {
    "collapsed": true
   },
   "source": [
    "# Netz testen"
   ]
  },
  {
   "cell_type": "code",
   "execution_count": 78,
   "metadata": {},
   "outputs": [
    {
     "data": {
      "text/plain": [
       "(200, 2)"
      ]
     },
     "execution_count": 78,
     "metadata": {},
     "output_type": "execute_result"
    }
   ],
   "source": [
    "x_test.shape"
   ]
  },
  {
   "cell_type": "code",
   "execution_count": 79,
   "metadata": {},
   "outputs": [
    {
     "data": {
      "text/plain": [
       "array([[ 0.13339865, -0.37798307],\n",
       "       [-0.55260711, -0.42113538],\n",
       "       [ 0.91414606,  0.1639268 ],\n",
       "       [ 0.02606508,  0.17170754],\n",
       "       [-0.30860608,  0.57518689]])"
      ]
     },
     "execution_count": 79,
     "metadata": {},
     "output_type": "execute_result"
    }
   ],
   "source": [
    "x_test[:5]"
   ]
  },
  {
   "cell_type": "code",
   "execution_count": 80,
   "metadata": {},
   "outputs": [
    {
     "data": {
      "text/plain": [
       "(200, 2)"
      ]
     },
     "execution_count": 80,
     "metadata": {},
     "output_type": "execute_result"
    }
   ],
   "source": [
    "y_test.shape"
   ]
  },
  {
   "cell_type": "code",
   "execution_count": 81,
   "metadata": {},
   "outputs": [
    {
     "data": {
      "text/plain": [
       "array([[1, 0],\n",
       "       [0, 1],\n",
       "       [0, 1],\n",
       "       [1, 0],\n",
       "       [0, 1]])"
      ]
     },
     "execution_count": 81,
     "metadata": {},
     "output_type": "execute_result"
    }
   ],
   "source": [
    "y_test[:5]"
   ]
  },
  {
   "cell_type": "code",
   "execution_count": 82,
   "metadata": {},
   "outputs": [
    {
     "data": {
      "image/png": "[encoded data removed]",
      "text/plain": [
       "<Figure size 432x288 with 1 Axes>"
      ]
     },
     "metadata": {
      "needs_background": "light"
     },
     "output_type": "display_data"
    }
   ],
   "source": [
    "plt.scatter(x_test[:,0], x_test[:,1], color=\"black\")\n",
    "plt.show()"
   ]
  },
  {
   "cell_type": "code",
   "execution_count": 83,
   "metadata": {},
   "outputs": [],
   "source": [
    "all_outputs = []\n",
    "for row_vec in x_test:\n",
    "    x = np.append(row_vec,[1])\n",
    "    out = predict(W,x)\n",
    "    all_outputs.append( out )"
   ]
  },
  {
   "cell_type": "code",
   "execution_count": 84,
   "metadata": {},
   "outputs": [
    {
     "data": {
      "text/plain": [
       "[array([0.21389576, 0.78894125]),\n",
       " array([0.27314415, 0.74844011]),\n",
       " array([0.17145134, 0.80749251]),\n",
       " array([0.25137939, 0.75150384]),\n",
       " array([0.3018092 , 0.70801737]),\n",
       " array([0.20430197, 0.80412256]),\n",
       " array([0.23517812, 0.76854354]),\n",
       " array([0.11724644, 0.86800495]),\n",
       " array([0.34743647, 0.6740624 ]),\n",
       " array([0.27223789, 0.74027507])]"
      ]
     },
     "execution_count": 84,
     "metadata": {},
     "output_type": "execute_result"
    }
   ],
   "source": [
    "all_outputs[:10]"
   ]
  },
  {
   "cell_type": "code",
   "execution_count": 85,
   "metadata": {},
   "outputs": [],
   "source": [
    "colors = [np.argmax(outarray) for outarray in all_outputs]"
   ]
  },
  {
   "cell_type": "code",
   "execution_count": 86,
   "metadata": {},
   "outputs": [
    {
     "data": {
      "text/plain": [
       "[1, 1, 1, 1, 1, 1, 1, 1, 1, 1, 1, 1, 1, 1, 1, 1, 1, 1, 1, 1]"
      ]
     },
     "execution_count": 86,
     "metadata": {},
     "output_type": "execute_result"
    }
   ],
   "source": [
    "colors[:20]"
   ]
  },
  {
   "cell_type": "code",
   "execution_count": 87,
   "metadata": {},
   "outputs": [
    {
     "data": {
      "image/png": "[encoded data removed]",
      "text/plain": [
       "<Figure size 432x288 with 1 Axes>"
      ]
     },
     "metadata": {
      "needs_background": "light"
     },
     "output_type": "display_data"
    }
   ],
   "source": [
    "plt.scatter(x_test[:,0], x_test[:,1], c=colors)\n",
    "plt.show()"
   ]
  },
  {
   "cell_type": "code",
   "execution_count": null,
   "metadata": {
    "collapsed": true
   },
   "outputs": [],
   "source": []
  }
 ],
 "metadata": {
  "kernelspec": {
   "display_name": "Python 3",
   "language": "python",
   "name": "python3"
  },
  "language_info": {
   "codemirror_mode": {
    "name": "ipython",
    "version": 3
   },
   "file_extension": ".py",
   "mimetype": "text/x-python",
   "name": "python",
   "nbconvert_exporter": "python",
   "pygments_lexer": "ipython3",
   "version": "3.7.7"
  },
  "toc": {
   "base_numbering": 1,
   "nav_menu": {},
   "number_sections": true,
   "sideBar": true,
   "skip_h1_title": false,
   "title_cell": "Inhaltsverzeichnis",
   "title_sidebar": "Inhalte",
   "toc_cell": true,
   "toc_position": {
    "height": "calc(100% - 180px)",
    "left": "10px",
    "top": "150px",
    "width": "165px"
   },
   "toc_section_display": true,
   "toc_window_display": true
  }
 },
 "nbformat": 4,
 "nbformat_minor": 2
}
