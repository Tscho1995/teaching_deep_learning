{
 "cells": [
  {
   "cell_type": "markdown",
   "metadata": {
    "toc": true
   },
   "source": [
    "<h1>Inhaltsverzeichnis<span class=\"tocSkip\"></span></h1>\n",
    "<div class=\"toc\"><ul class=\"toc-item\"><li><span><a href=\"#Perzeptronfunktionen-definieren\" data-toc-modified-id=\"Perzeptronfunktionen-definieren-1\"><span class=\"toc-item-num\">1&nbsp;&nbsp;</span>Perzeptronfunktionen definieren</a></span></li><li><span><a href=\"#Beispieldaten-erzeugen\" data-toc-modified-id=\"Beispieldaten-erzeugen-2\"><span class=\"toc-item-num\">2&nbsp;&nbsp;</span>Beispieldaten erzeugen</a></span></li><li><span><a href=\"#Trainings--und-Testdaten-erzeugen\" data-toc-modified-id=\"Trainings--und-Testdaten-erzeugen-3\"><span class=\"toc-item-num\">3&nbsp;&nbsp;</span>Trainings- und Testdaten erzeugen</a></span></li><li><span><a href=\"#Netz-aufbauen-und-trainieren\" data-toc-modified-id=\"Netz-aufbauen-und-trainieren-4\"><span class=\"toc-item-num\">4&nbsp;&nbsp;</span>Netz aufbauen und trainieren</a></span></li><li><span><a href=\"#Netz-testen\" data-toc-modified-id=\"Netz-testen-5\"><span class=\"toc-item-num\">5&nbsp;&nbsp;</span>Netz testen</a></span></li></ul></div>"
   ]
  },
  {
   "cell_type": "markdown",
   "metadata": {},
   "source": [
    "# Perzeptronfunktionen definieren"
   ]
  },
  {
   "cell_type": "code",
   "execution_count": 1,
   "metadata": {
    "collapsed": true
   },
   "outputs": [],
   "source": [
    "import numpy as np\n",
    "from random import randint\n",
    "\n",
    "# RELU\n",
    "def f(x):\n",
    "    if x < 0:\n",
    "        return 0\n",
    "    else:\n",
    "        return x\n",
    "    \n",
    "f = np.vectorize(f)\n",
    "\n",
    "def create_new_perceptron(nr_inputs, nr_outputs):\n",
    "    low = -1\n",
    "    high = +1\n",
    "    W = np.random.uniform(low,high, (nr_inputs, nr_outputs) )\n",
    "    return W\n",
    "\n",
    "\n",
    "def test_perceptron(W, x_test, y_test):\n",
    "    \n",
    "    nr_test_images = x_test.shape[0]    \n",
    "    correct = 0\n",
    "    for test_img_nr in range(0,nr_test_images):\n",
    "        \n",
    "        # Berechnet den Output\n",
    "        row_vec = x_test[test_img_nr, :]\n",
    "        x = np.append(row_vec,[1])\n",
    "        out = predict(W,x)\n",
    "        \n",
    "        # Was wäre richtig gewesen?        \n",
    "        one_hot_vec = y_test[test_img_nr, :]\n",
    "        gt_label = np.argmax( one_hot_vec )\n",
    "\n",
    "        # Was wurde prädiziert?\n",
    "        is_label = np.argmax( out )\n",
    "\n",
    "        #print(gt_label, is_label)\n",
    "        if is_label == gt_label:\n",
    "            correct += 1     \n",
    "            \n",
    "    print(\"Korrekt: {} von {}\".format(correct,nr_test_images))\n",
    "    \n",
    "    return correct/nr_test_images\n",
    "    \n",
    "\n",
    "def train_perceptron(W,\n",
    "                     x_train, y_train,\n",
    "                     x_test, y_test,\n",
    "                     nr_train_steps,\n",
    "                     alpha):\n",
    "    \n",
    "    nr_outputs = y_train.shape[1]\n",
    "    \n",
    "    history = []\n",
    "       \n",
    "    for train_step_nr in range(0, nr_train_steps):\n",
    "        \n",
    "        rnd_img_nr = randint(0,y_train.shape[0]-1)\n",
    "        \n",
    "        # Suche zufällige Zeile aus den\n",
    "        # Trainingsdaten raus\n",
    "        row_vec = x_train[rnd_img_nr, :]        \n",
    "        x = np.append(row_vec,[1])        \n",
    "        out = predict(W,x)\n",
    "        \n",
    "        # Was hätte rauskommen sollen?\n",
    "        one_hot_vec = y_train[rnd_img_nr, :]\n",
    "                                \n",
    "        # Fehlerberechnung        \n",
    "        error = one_hot_vec - out\n",
    "        \n",
    "        # Trainingsschritt\n",
    "        for j in range(0, nr_outputs):\n",
    "            delta_w_vector = alpha * error[j] * x\n",
    "            #if train_step_nr % 100 == 0:\n",
    "            #    print(\"max weight change\", delta_w_vector.max())\n",
    "            W[:,j] =  W[:,j] + delta_w_vector \n",
    "            \n",
    "        if train_step_nr % 100 == 0:\n",
    "            print(\"\\nTrain step: \", train_step_nr)\n",
    "            correct_ratio = test_perceptron(W, x_test, y_test)\n",
    "            history.append( correct_ratio )\n",
    "            \n",
    "    return history\n",
    "\n",
    "\n",
    "def predict(W,x):\n",
    "    act = np.matmul(x, W)\n",
    "    out = f(act)\n",
    "    return out\n",
    "    "
   ]
  },
  {
   "cell_type": "markdown",
   "metadata": {},
   "source": [
    "# Beispieldaten erzeugen"
   ]
  },
  {
   "cell_type": "code",
   "execution_count": 2,
   "metadata": {
    "collapsed": true
   },
   "outputs": [],
   "source": [
    "min_coord = -1.0\n",
    "max_coord = +1.0\n",
    "nr_train_samples = 1000\n",
    "data_x = np.random.uniform(min_coord,max_coord, (nr_train_samples, 2))"
   ]
  },
  {
   "cell_type": "code",
   "execution_count": 3,
   "metadata": {},
   "outputs": [
    {
     "data": {
      "text/plain": [
       "(1000, 2)"
      ]
     },
     "execution_count": 3,
     "metadata": {},
     "output_type": "execute_result"
    }
   ],
   "source": [
    "data_x.shape"
   ]
  },
  {
   "cell_type": "code",
   "execution_count": 4,
   "metadata": {},
   "outputs": [
    {
     "data": {
      "text/plain": [
       "array([[ 0.62547633,  0.86894558],\n",
       "       [-0.31020962, -0.18919395],\n",
       "       [-0.61034536,  0.24015851],\n",
       "       [ 0.78092968,  0.05075688],\n",
       "       [ 0.80410028,  0.73866312],\n",
       "       [-0.71854396, -0.044873  ],\n",
       "       [-0.92109893, -0.10825965],\n",
       "       [-0.70753573, -0.74395557],\n",
       "       [ 0.518785  , -0.48217177],\n",
       "       [-0.25695418, -0.34726175]])"
      ]
     },
     "execution_count": 4,
     "metadata": {},
     "output_type": "execute_result"
    }
   ],
   "source": [
    "data_x[:10]"
   ]
  },
  {
   "cell_type": "code",
   "execution_count": 5,
   "metadata": {},
   "outputs": [
    {
     "data": {
      "image/png": "[encoded data removed]",
      "text/plain": [
       "<matplotlib.figure.Figure at 0x1d46b0ea668>"
      ]
     },
     "metadata": {},
     "output_type": "display_data"
    }
   ],
   "source": [
    "import matplotlib.pyplot as plt\n",
    "plt.scatter(data_x[:,0], data_x[:,1], color=\"black\")\n",
    "plt.show()"
   ]
  },
  {
   "cell_type": "code",
   "execution_count": 6,
   "metadata": {
    "collapsed": true
   },
   "outputs": [],
   "source": [
    "# Left/Right\n",
    "def gt_class1(point):\n",
    "    if point[0]<0.0:\n",
    "        return [1,0]\n",
    "    else:\n",
    "        return [0,1]"
   ]
  },
  {
   "cell_type": "code",
   "execution_count": 7,
   "metadata": {
    "collapsed": true
   },
   "outputs": [],
   "source": [
    "# Circle\n",
    "import math\n",
    "\n",
    "def gt_class2(point):\n",
    "    x = point[0]\n",
    "    y = point[1]\n",
    "    dist = math.sqrt(x**2+y**2)\n",
    "    if dist<0.5:\n",
    "        return [1,0]\n",
    "    else:\n",
    "        return [0,1]"
   ]
  },
  {
   "cell_type": "code",
   "execution_count": 8,
   "metadata": {
    "collapsed": true
   },
   "outputs": [],
   "source": [
    "# Diagonal\n",
    "import math\n",
    "\n",
    "def gt_class3(point):\n",
    "    x = point[0]\n",
    "    y = point[1]\n",
    "    if x*1.0+y*1.0<0.5:\n",
    "        return [1,0]\n",
    "    else:\n",
    "        return [0,1]"
   ]
  },
  {
   "cell_type": "markdown",
   "metadata": {},
   "source": [
    "Wählen Sie hier zwischen:\n",
    "\n",
    "- gt_class1\n",
    "- gt_class2\n",
    "- gt_class3\n",
    "\n",
    "um zu testen, wie gut das Perzeptron unterschiedliche Klassifikationsprobleme lösen kann."
   ]
  },
  {
   "cell_type": "code",
   "execution_count": 9,
   "metadata": {
    "collapsed": true
   },
   "outputs": [],
   "source": [
    "gt_class = gt_class1"
   ]
  },
  {
   "cell_type": "code",
   "execution_count": 10,
   "metadata": {},
   "outputs": [
    {
     "data": {
      "text/plain": [
       "[1, 0]"
      ]
     },
     "execution_count": 10,
     "metadata": {},
     "output_type": "execute_result"
    }
   ],
   "source": [
    "gt_class((-0.5,1.0))"
   ]
  },
  {
   "cell_type": "code",
   "execution_count": 11,
   "metadata": {},
   "outputs": [
    {
     "data": {
      "text/plain": [
       "[1, 0]"
      ]
     },
     "execution_count": 11,
     "metadata": {},
     "output_type": "execute_result"
    }
   ],
   "source": [
    "gt_class((-0.5,-1.0))"
   ]
  },
  {
   "cell_type": "code",
   "execution_count": 12,
   "metadata": {},
   "outputs": [
    {
     "data": {
      "text/plain": [
       "[0, 1]"
      ]
     },
     "execution_count": 12,
     "metadata": {},
     "output_type": "execute_result"
    }
   ],
   "source": [
    "gt_class((+0.1,-1.0))"
   ]
  },
  {
   "cell_type": "code",
   "execution_count": 13,
   "metadata": {},
   "outputs": [
    {
     "data": {
      "text/plain": [
       "[0, 1]"
      ]
     },
     "execution_count": 13,
     "metadata": {},
     "output_type": "execute_result"
    }
   ],
   "source": [
    "gt_class((+0.1,-.1))"
   ]
  },
  {
   "cell_type": "code",
   "execution_count": 14,
   "metadata": {},
   "outputs": [
    {
     "name": "stdout",
     "output_type": "stream",
     "text": [
      "[ 0.62547633  0.86894558] [0, 1]\n",
      "[-0.31020962 -0.18919395] [1, 0]\n",
      "[-0.61034536  0.24015851] [1, 0]\n",
      "[ 0.78092968  0.05075688] [0, 1]\n",
      "[ 0.80410028  0.73866312] [0, 1]\n",
      "[-0.71854396 -0.044873  ] [1, 0]\n",
      "[-0.92109893 -0.10825965] [1, 0]\n",
      "[-0.70753573 -0.74395557] [1, 0]\n",
      "[ 0.518785   -0.48217177] [0, 1]\n",
      "[-0.25695418 -0.34726175] [1, 0]\n"
     ]
    }
   ],
   "source": [
    "for p in data_x[:10]:\n",
    "    print(p, gt_class(p))"
   ]
  },
  {
   "cell_type": "code",
   "execution_count": 15,
   "metadata": {
    "collapsed": true
   },
   "outputs": [],
   "source": [
    "data_y = [gt_class(p) for p in data_x]"
   ]
  },
  {
   "cell_type": "code",
   "execution_count": 16,
   "metadata": {},
   "outputs": [
    {
     "data": {
      "text/plain": [
       "[[0, 1],\n",
       " [1, 0],\n",
       " [1, 0],\n",
       " [0, 1],\n",
       " [0, 1],\n",
       " [1, 0],\n",
       " [1, 0],\n",
       " [1, 0],\n",
       " [0, 1],\n",
       " [1, 0]]"
      ]
     },
     "execution_count": 16,
     "metadata": {},
     "output_type": "execute_result"
    }
   ],
   "source": [
    "data_y[:10]"
   ]
  },
  {
   "cell_type": "code",
   "execution_count": 17,
   "metadata": {
    "collapsed": true
   },
   "outputs": [],
   "source": [
    "data_y = np.array( [gt_class(p) for p in data_x ] )"
   ]
  },
  {
   "cell_type": "code",
   "execution_count": 18,
   "metadata": {},
   "outputs": [
    {
     "data": {
      "text/plain": [
       "numpy.ndarray"
      ]
     },
     "execution_count": 18,
     "metadata": {},
     "output_type": "execute_result"
    }
   ],
   "source": [
    "type(data_y)"
   ]
  },
  {
   "cell_type": "code",
   "execution_count": 19,
   "metadata": {},
   "outputs": [
    {
     "data": {
      "text/plain": [
       "(1000, 2)"
      ]
     },
     "execution_count": 19,
     "metadata": {},
     "output_type": "execute_result"
    }
   ],
   "source": [
    "data_y.shape"
   ]
  },
  {
   "cell_type": "code",
   "execution_count": 20,
   "metadata": {
    "collapsed": true
   },
   "outputs": [],
   "source": [
    "colors = [np.argmax(row) for row in data_y]"
   ]
  },
  {
   "cell_type": "code",
   "execution_count": 21,
   "metadata": {},
   "outputs": [
    {
     "data": {
      "text/plain": [
       "[1, 0, 0, 1, 1, 0, 0, 0, 1, 0]"
      ]
     },
     "execution_count": 21,
     "metadata": {},
     "output_type": "execute_result"
    }
   ],
   "source": [
    "colors[:10]"
   ]
  },
  {
   "cell_type": "code",
   "execution_count": 22,
   "metadata": {},
   "outputs": [
    {
     "data": {
      "image/png": "[encoded data removed]",
      "text/plain": [
       "<matplotlib.figure.Figure at 0x1d46d4ac2b0>"
      ]
     },
     "metadata": {},
     "output_type": "display_data"
    }
   ],
   "source": [
    "import matplotlib.pyplot as plt\n",
    "plt.scatter(data_x[:,0], data_x[:,1], c=colors)\n",
    "plt.show()"
   ]
  },
  {
   "cell_type": "code",
   "execution_count": 23,
   "metadata": {
    "collapsed": true
   },
   "outputs": [],
   "source": [
    "def generate_example_data(how_much):\n",
    "    min_coord = -1.0\n",
    "    max_coord = +1.0\n",
    "    data_x = np.random.uniform(min_coord,max_coord, (how_much, 2))\n",
    "    data_y = np.array( [gt_class(p) for p in data_x ] )\n",
    "    return data_x, data_y"
   ]
  },
  {
   "cell_type": "markdown",
   "metadata": {},
   "source": [
    "# Trainings- und Testdaten erzeugen"
   ]
  },
  {
   "cell_type": "code",
   "execution_count": 24,
   "metadata": {
    "collapsed": true
   },
   "outputs": [],
   "source": [
    "data_x, data_y = generate_example_data(1000)"
   ]
  },
  {
   "cell_type": "code",
   "execution_count": 25,
   "metadata": {},
   "outputs": [
    {
     "data": {
      "text/plain": [
       "(1000, 2)"
      ]
     },
     "execution_count": 25,
     "metadata": {},
     "output_type": "execute_result"
    }
   ],
   "source": [
    "data_x.shape"
   ]
  },
  {
   "cell_type": "code",
   "execution_count": 26,
   "metadata": {},
   "outputs": [
    {
     "data": {
      "text/plain": [
       "(1000, 2)"
      ]
     },
     "execution_count": 26,
     "metadata": {},
     "output_type": "execute_result"
    }
   ],
   "source": [
    "data_y.shape"
   ]
  },
  {
   "cell_type": "code",
   "execution_count": 27,
   "metadata": {
    "collapsed": true
   },
   "outputs": [],
   "source": [
    "N = int(data_x.shape[0] * 0.8)"
   ]
  },
  {
   "cell_type": "code",
   "execution_count": 28,
   "metadata": {},
   "outputs": [
    {
     "data": {
      "text/plain": [
       "800"
      ]
     },
     "execution_count": 28,
     "metadata": {},
     "output_type": "execute_result"
    }
   ],
   "source": [
    "N"
   ]
  },
  {
   "cell_type": "code",
   "execution_count": 29,
   "metadata": {
    "collapsed": true
   },
   "outputs": [],
   "source": [
    "x_train = data_x[:N]\n",
    "y_train = data_y[:N]\n",
    "x_test  = data_x[N:]\n",
    "y_test  = data_y[N:]"
   ]
  },
  {
   "cell_type": "code",
   "execution_count": 30,
   "metadata": {},
   "outputs": [
    {
     "data": {
      "text/plain": [
       "(800, 2)"
      ]
     },
     "execution_count": 30,
     "metadata": {},
     "output_type": "execute_result"
    }
   ],
   "source": [
    "x_train.shape"
   ]
  },
  {
   "cell_type": "code",
   "execution_count": 31,
   "metadata": {},
   "outputs": [
    {
     "data": {
      "text/plain": [
       "(800, 2)"
      ]
     },
     "execution_count": 31,
     "metadata": {},
     "output_type": "execute_result"
    }
   ],
   "source": [
    "y_train.shape"
   ]
  },
  {
   "cell_type": "code",
   "execution_count": 32,
   "metadata": {},
   "outputs": [
    {
     "data": {
      "text/plain": [
       "(200, 2)"
      ]
     },
     "execution_count": 32,
     "metadata": {},
     "output_type": "execute_result"
    }
   ],
   "source": [
    "x_test.shape"
   ]
  },
  {
   "cell_type": "code",
   "execution_count": 33,
   "metadata": {},
   "outputs": [
    {
     "data": {
      "text/plain": [
       "(200, 2)"
      ]
     },
     "execution_count": 33,
     "metadata": {},
     "output_type": "execute_result"
    }
   ],
   "source": [
    "y_test.shape"
   ]
  },
  {
   "cell_type": "markdown",
   "metadata": {},
   "source": [
    "# Netz aufbauen und trainieren"
   ]
  },
  {
   "cell_type": "code",
   "execution_count": 34,
   "metadata": {
    "collapsed": true
   },
   "outputs": [],
   "source": [
    "n_inputs = 2+1\n",
    "n_outputs = 2\n",
    "W = create_new_perceptron(n_inputs,n_outputs)"
   ]
  },
  {
   "cell_type": "code",
   "execution_count": 35,
   "metadata": {},
   "outputs": [
    {
     "data": {
      "text/plain": [
       "(3, 2)"
      ]
     },
     "execution_count": 35,
     "metadata": {},
     "output_type": "execute_result"
    }
   ],
   "source": [
    "W.shape"
   ]
  },
  {
   "cell_type": "code",
   "execution_count": 36,
   "metadata": {},
   "outputs": [
    {
     "data": {
      "text/plain": [
       "array([[-0.51994022,  0.05883627],\n",
       "       [-0.12196871, -0.85974888],\n",
       "       [-0.09516655,  0.00812293]])"
      ]
     },
     "execution_count": 36,
     "metadata": {},
     "output_type": "execute_result"
    }
   ],
   "source": [
    "W"
   ]
  },
  {
   "cell_type": "code",
   "execution_count": 37,
   "metadata": {},
   "outputs": [
    {
     "name": "stdout",
     "output_type": "stream",
     "text": [
      "Korrekt: 67 von 200\n"
     ]
    },
    {
     "data": {
      "text/plain": [
       "0.335"
      ]
     },
     "execution_count": 37,
     "metadata": {},
     "output_type": "execute_result"
    }
   ],
   "source": [
    "test_perceptron(W, x_test, y_test)"
   ]
  },
  {
   "cell_type": "code",
   "execution_count": 38,
   "metadata": {},
   "outputs": [
    {
     "name": "stdout",
     "output_type": "stream",
     "text": [
      "\n",
      "Train step:  0\n",
      "Korrekt: 67 von 200\n",
      "\n",
      "Train step:  100\n",
      "Korrekt: 110 von 200\n",
      "\n",
      "Train step:  200\n",
      "Korrekt: 153 von 200\n",
      "\n",
      "Train step:  300\n",
      "Korrekt: 173 von 200\n",
      "\n",
      "Train step:  400\n",
      "Korrekt: 183 von 200\n",
      "\n",
      "Train step:  500\n",
      "Korrekt: 188 von 200\n",
      "\n",
      "Train step:  600\n",
      "Korrekt: 190 von 200\n",
      "\n",
      "Train step:  700\n",
      "Korrekt: 192 von 200\n",
      "\n",
      "Train step:  800\n",
      "Korrekt: 190 von 200\n",
      "\n",
      "Train step:  900\n",
      "Korrekt: 192 von 200\n"
     ]
    }
   ],
   "source": [
    "alpha = 0.01\n",
    "nr_train_steps = 1000\n",
    "history = train_perceptron(W,\n",
    "                           x_train, y_train,\n",
    "                           x_test, y_test,\n",
    "                           nr_train_steps,\n",
    "                           alpha)"
   ]
  },
  {
   "cell_type": "markdown",
   "metadata": {
    "collapsed": true
   },
   "source": [
    "# Netz testen"
   ]
  },
  {
   "cell_type": "code",
   "execution_count": 39,
   "metadata": {},
   "outputs": [
    {
     "data": {
      "text/plain": [
       "(200, 2)"
      ]
     },
     "execution_count": 39,
     "metadata": {},
     "output_type": "execute_result"
    }
   ],
   "source": [
    "x_test.shape"
   ]
  },
  {
   "cell_type": "code",
   "execution_count": 40,
   "metadata": {},
   "outputs": [
    {
     "data": {
      "text/plain": [
       "array([[ 0.33334606, -0.86927149],\n",
       "       [ 0.48810852, -0.85289296],\n",
       "       [-0.30746092,  0.95307963],\n",
       "       [ 0.4987551 ,  0.32995591],\n",
       "       [ 0.63584109,  0.36305378]])"
      ]
     },
     "execution_count": 40,
     "metadata": {},
     "output_type": "execute_result"
    }
   ],
   "source": [
    "x_test[:5]"
   ]
  },
  {
   "cell_type": "code",
   "execution_count": 41,
   "metadata": {},
   "outputs": [
    {
     "data": {
      "text/plain": [
       "(200, 2)"
      ]
     },
     "execution_count": 41,
     "metadata": {},
     "output_type": "execute_result"
    }
   ],
   "source": [
    "y_test.shape"
   ]
  },
  {
   "cell_type": "code",
   "execution_count": 42,
   "metadata": {},
   "outputs": [
    {
     "data": {
      "text/plain": [
       "array([[0, 1],\n",
       "       [0, 1],\n",
       "       [1, 0],\n",
       "       [0, 1],\n",
       "       [0, 1]])"
      ]
     },
     "execution_count": 42,
     "metadata": {},
     "output_type": "execute_result"
    }
   ],
   "source": [
    "y_test[:5]"
   ]
  },
  {
   "cell_type": "code",
   "execution_count": 43,
   "metadata": {},
   "outputs": [
    {
     "data": {
      "image/png": "[encoded data removed]",
      "text/plain": [
       "<matplotlib.figure.Figure at 0x1d46d5d9358>"
      ]
     },
     "metadata": {},
     "output_type": "display_data"
    }
   ],
   "source": [
    "plt.scatter(x_test[:,0], x_test[:,1], color=\"black\")\n",
    "plt.show()"
   ]
  },
  {
   "cell_type": "code",
   "execution_count": 44,
   "metadata": {},
   "outputs": [],
   "source": [
    "all_outputs = []\n",
    "for row_vec in x_test:\n",
    "    x = np.append(row_vec,[1])\n",
    "    out = predict(W,x)\n",
    "    all_outputs.append( out )"
   ]
  },
  {
   "cell_type": "code",
   "execution_count": 45,
   "metadata": {},
   "outputs": [
    {
     "data": {
      "text/plain": [
       "[array([ 0.19592114,  0.90550061]),\n",
       " array([ 0.07047011,  1.06311175]),\n",
       " array([ 0.70442428,  0.08965472]),\n",
       " array([ 0.05500195,  0.97189526]),\n",
       " array([0, 1]),\n",
       " array([ 0.82735212,  0.        ]),\n",
       " array([ 0.19706571,  0.80880828]),\n",
       " array([ 0.21402564,  0.71061534]),\n",
       " array([0, 1]),\n",
       " array([0, 1])]"
      ]
     },
     "execution_count": 45,
     "metadata": {},
     "output_type": "execute_result"
    }
   ],
   "source": [
    "all_outputs[:10]"
   ]
  },
  {
   "cell_type": "code",
   "execution_count": 46,
   "metadata": {
    "collapsed": true
   },
   "outputs": [],
   "source": [
    "colors = [np.argmax(outarray) for outarray in all_outputs]"
   ]
  },
  {
   "cell_type": "code",
   "execution_count": 47,
   "metadata": {},
   "outputs": [
    {
     "data": {
      "text/plain": [
       "[1, 1, 0, 1, 1, 0, 1, 1, 1, 1, 0, 1, 0, 0, 0, 0, 0, 0, 0, 0]"
      ]
     },
     "execution_count": 47,
     "metadata": {},
     "output_type": "execute_result"
    }
   ],
   "source": [
    "colors[:20]"
   ]
  },
  {
   "cell_type": "code",
   "execution_count": 48,
   "metadata": {},
   "outputs": [
    {
     "data": {
      "image/png": "[encoded data removed]",
      "text/plain": [
       "<matplotlib.figure.Figure at 0x1d46d604668>"
      ]
     },
     "metadata": {},
     "output_type": "display_data"
    }
   ],
   "source": [
    "plt.scatter(x_test[:,0], x_test[:,1], c=colors)\n",
    "plt.show()"
   ]
  },
  {
   "cell_type": "code",
   "execution_count": null,
   "metadata": {
    "collapsed": true
   },
   "outputs": [],
   "source": []
  }
 ],
 "metadata": {
  "kernelspec": {
   "display_name": "Python 3",
   "language": "python",
   "name": "python3"
  },
  "language_info": {
   "codemirror_mode": {
    "name": "ipython",
    "version": 3
   },
   "file_extension": ".py",
   "mimetype": "text/x-python",
   "name": "python",
   "nbconvert_exporter": "python",
   "pygments_lexer": "ipython3",
   "version": "3.6.2"
  },
  "toc": {
   "base_numbering": 1,
   "nav_menu": {},
   "number_sections": true,
   "sideBar": true,
   "skip_h1_title": false,
   "title_cell": "Inhaltsverzeichnis",
   "title_sidebar": "Inhalte",
   "toc_cell": true,
   "toc_position": {},
   "toc_section_display": true,
   "toc_window_display": true
  }
 },
 "nbformat": 4,
 "nbformat_minor": 2
}
