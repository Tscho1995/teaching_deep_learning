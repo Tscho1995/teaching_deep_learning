{
 "cells": [
  {
   "cell_type": "markdown",
   "metadata": {
    "toc": true
   },
   "source": [
    "<h1>Inhaltsverzeichnis<span class=\"tocSkip\"></span></h1>\n",
    "<div class=\"toc\"><ul class=\"toc-item\"><li><span><a href=\"#Einleitung\" data-toc-modified-id=\"Einleitung-1\"><span class=\"toc-item-num\">1&nbsp;&nbsp;</span>Einleitung</a></span></li><li><span><a href=\"#Eine-Perzeptronschicht\" data-toc-modified-id=\"Eine-Perzeptronschicht-2\"><span class=\"toc-item-num\">2&nbsp;&nbsp;</span>Eine Perzeptronschicht</a></span></li><li><span><a href=\"#Mehrere-Schichten-zu-einem-Multi-Layer-Perzeptron-zusammensetzen\" data-toc-modified-id=\"Mehrere-Schichten-zu-einem-Multi-Layer-Perzeptron-zusammensetzen-3\"><span class=\"toc-item-num\">3&nbsp;&nbsp;</span>Mehrere Schichten zu einem Multi-Layer Perzeptron zusammensetzen</a></span></li><li><span><a href=\"#Ein-Feedforward-Schritt\" data-toc-modified-id=\"Ein-Feedforward-Schritt-4\"><span class=\"toc-item-num\">4&nbsp;&nbsp;</span>Ein Feedforward-Schritt</a></span></li><li><span><a href=\"#Testen,-ob-das-MLP-richtig-rechnet\" data-toc-modified-id=\"Testen,-ob-das-MLP-richtig-rechnet-5\"><span class=\"toc-item-num\">5&nbsp;&nbsp;</span>Testen, ob das MLP richtig rechnet</a></span></li></ul></div>"
   ]
  },
  {
   "cell_type": "markdown",
   "metadata": {},
   "source": [
    "# Einleitung\n",
    "\n",
    "Den Vorwärtsschritt eines MLPs zu implementieren ist nicht kompliziert. Das soll dieses Jupyter Notebook zeigen."
   ]
  },
  {
   "cell_type": "markdown",
   "metadata": {},
   "source": [
    "# Eine Perzeptronschicht"
   ]
  },
  {
   "cell_type": "code",
   "execution_count": 47,
   "metadata": {
    "collapsed": true
   },
   "outputs": [],
   "source": [
    "import numpy as np\n",
    "from random import randint\n",
    "\n",
    "# RELU\n",
    "def f(x):\n",
    "    if x < 0.0:\n",
    "        return 0.0\n",
    "    else:\n",
    "        return x\n",
    "    \n",
    "f = np.vectorize(f)\n",
    "\n",
    "def create_new_perceptron(nr_inputs, nr_outputs):\n",
    "    low = -1\n",
    "    high = +1\n",
    "    bias_input = 1\n",
    "    W = np.random.uniform(low,high, (nr_inputs+bias_input, nr_outputs) )\n",
    "    return W\n",
    "\n",
    "def predict(W,x):\n",
    "    x_with_bias = np.append(x,[1.0])\n",
    "    act = np.matmul(x_with_bias, W)\n",
    "    out = f(act)\n",
    "    return out"
   ]
  },
  {
   "cell_type": "markdown",
   "metadata": {},
   "source": [
    "# Mehrere Schichten zu einem Multi-Layer Perzeptron zusammensetzen"
   ]
  },
  {
   "cell_type": "code",
   "execution_count": 48,
   "metadata": {
    "collapsed": true
   },
   "outputs": [],
   "source": [
    "nr_inputs = 784\n",
    "nr_hidden1 = 100\n",
    "nr_hidden2 = 25\n",
    "nr_outputs = 10"
   ]
  },
  {
   "cell_type": "code",
   "execution_count": 49,
   "metadata": {
    "collapsed": true
   },
   "outputs": [],
   "source": [
    "W1 = create_new_perceptron(nr_inputs,nr_hidden1)"
   ]
  },
  {
   "cell_type": "code",
   "execution_count": 50,
   "metadata": {},
   "outputs": [
    {
     "data": {
      "text/plain": [
       "(785, 100)"
      ]
     },
     "execution_count": 50,
     "metadata": {},
     "output_type": "execute_result"
    }
   ],
   "source": [
    "W1.shape"
   ]
  },
  {
   "cell_type": "code",
   "execution_count": 51,
   "metadata": {},
   "outputs": [
    {
     "data": {
      "text/plain": [
       "array([[ 0.17970019,  0.04730199,  0.16197029, ...,  0.36503661,\n",
       "        -0.13975744, -0.16192332],\n",
       "       [-0.55348795, -0.87826801,  0.40773975, ...,  0.25488725,\n",
       "        -0.35990648, -0.04375535],\n",
       "       [-0.450479  , -0.01631502, -0.32322278, ...,  0.78929776,\n",
       "         0.48899307,  0.18346241],\n",
       "       ..., \n",
       "       [-0.89198726,  0.99592803, -0.22785526, ...,  0.74483429,\n",
       "        -0.20757338,  0.61099295],\n",
       "       [ 0.39258126,  0.43651452, -0.06137812, ..., -0.03693401,\n",
       "         0.75123778, -0.51874089],\n",
       "       [-0.67374188, -0.60380356,  0.23314979, ..., -0.62090501,\n",
       "        -0.95009144, -0.44878915]])"
      ]
     },
     "execution_count": 51,
     "metadata": {},
     "output_type": "execute_result"
    }
   ],
   "source": [
    "W1"
   ]
  },
  {
   "cell_type": "code",
   "execution_count": 52,
   "metadata": {
    "collapsed": true
   },
   "outputs": [],
   "source": [
    "W2 = create_new_perceptron(nr_hidden1, nr_hidden2)"
   ]
  },
  {
   "cell_type": "code",
   "execution_count": 53,
   "metadata": {},
   "outputs": [
    {
     "data": {
      "text/plain": [
       "(101, 25)"
      ]
     },
     "execution_count": 53,
     "metadata": {},
     "output_type": "execute_result"
    }
   ],
   "source": [
    "W2.shape"
   ]
  },
  {
   "cell_type": "code",
   "execution_count": 54,
   "metadata": {
    "collapsed": true
   },
   "outputs": [],
   "source": [
    "W3 = create_new_perceptron(nr_hidden2, nr_outputs)"
   ]
  },
  {
   "cell_type": "code",
   "execution_count": 55,
   "metadata": {},
   "outputs": [
    {
     "data": {
      "text/plain": [
       "(26, 10)"
      ]
     },
     "execution_count": 55,
     "metadata": {},
     "output_type": "execute_result"
    }
   ],
   "source": [
    "W3.shape"
   ]
  },
  {
   "cell_type": "code",
   "execution_count": 56,
   "metadata": {},
   "outputs": [
    {
     "data": {
      "text/plain": [
       "78500"
      ]
     },
     "execution_count": 56,
     "metadata": {},
     "output_type": "execute_result"
    }
   ],
   "source": [
    "W1.size"
   ]
  },
  {
   "cell_type": "code",
   "execution_count": 57,
   "metadata": {
    "collapsed": true
   },
   "outputs": [],
   "source": [
    "nr_params = W1.size+W2.size+W3.size"
   ]
  },
  {
   "cell_type": "code",
   "execution_count": 58,
   "metadata": {},
   "outputs": [
    {
     "data": {
      "text/plain": [
       "81285"
      ]
     },
     "execution_count": 58,
     "metadata": {},
     "output_type": "execute_result"
    }
   ],
   "source": [
    "nr_params"
   ]
  },
  {
   "cell_type": "markdown",
   "metadata": {},
   "source": [
    "# Ein Feedforward-Schritt"
   ]
  },
  {
   "cell_type": "code",
   "execution_count": 59,
   "metadata": {
    "collapsed": true
   },
   "outputs": [],
   "source": [
    "x = np.ones(784)"
   ]
  },
  {
   "cell_type": "code",
   "execution_count": 60,
   "metadata": {},
   "outputs": [
    {
     "data": {
      "text/plain": [
       "array([ 1.,  1.,  1.,  1.,  1.,  1.,  1.,  1.,  1.,  1.])"
      ]
     },
     "execution_count": 60,
     "metadata": {},
     "output_type": "execute_result"
    }
   ],
   "source": [
    "x[:10]"
   ]
  },
  {
   "cell_type": "code",
   "execution_count": 61,
   "metadata": {
    "collapsed": true
   },
   "outputs": [],
   "source": [
    "y1 = predict(W1,x)"
   ]
  },
  {
   "cell_type": "code",
   "execution_count": 62,
   "metadata": {},
   "outputs": [
    {
     "data": {
      "text/plain": [
       "(100,)"
      ]
     },
     "execution_count": 62,
     "metadata": {},
     "output_type": "execute_result"
    }
   ],
   "source": [
    "y1.shape"
   ]
  },
  {
   "cell_type": "code",
   "execution_count": 63,
   "metadata": {},
   "outputs": [
    {
     "data": {
      "text/plain": [
       "array([  0.        ,   0.        ,   0.        ,   0.        ,\n",
       "        20.08852199,   5.02009473,   0.        ,   0.        ,\n",
       "         0.74754486,   0.        ,   0.        ,   3.30960782,\n",
       "         7.98669607,   0.        ,   0.        ,  12.00390724,\n",
       "         0.        ,   2.99901936,   0.30361848,   0.        ,\n",
       "         0.        ,   2.26955867,   9.91087627,   1.8526322 ,\n",
       "         9.76666001,   0.        ,   0.        ,  12.83898342,\n",
       "         0.        ,   0.        ,   0.        ,   0.        ,\n",
       "         2.44674318,   0.        ,   0.        ,  13.26191557,\n",
       "         0.        ,   0.        ,  16.25497103,  12.62465198,\n",
       "         5.57821979,  13.93865136,   3.06310243,   3.67745757,\n",
       "         0.        ,   0.        ,   0.        ,   0.        ,\n",
       "        11.95505195,   0.        ,   0.        ,   0.        ,\n",
       "         0.        ,   0.        ,  19.93404467,  34.40937934,\n",
       "        13.0551871 ,   3.54666891,   0.        ,   0.        ,\n",
       "         0.05575272,   0.        ,  16.24786072,   7.80066939,\n",
       "         3.50757706,   3.97206618,   0.        ,  18.61249912,\n",
       "         0.        ,  10.6445324 ,   9.28359873,  14.28404519,\n",
       "        32.7291688 ,  13.27425149,   4.8464527 ,   4.93864515,\n",
       "         0.        ,  15.342596  ,   0.        ,   1.06258076,\n",
       "         0.        ,   0.        ,   0.        ,   3.84478421,\n",
       "         0.        ,   0.        ,   0.        ,   2.66988011,\n",
       "         6.80166136,   5.31793355,   0.        ,  11.59018765,\n",
       "        37.8304576 ,   0.        ,   0.        ,   8.15912845,\n",
       "        14.95652487,   0.        ,   0.        ,   5.71985261])"
      ]
     },
     "execution_count": 63,
     "metadata": {},
     "output_type": "execute_result"
    }
   ],
   "source": [
    "y1"
   ]
  },
  {
   "cell_type": "code",
   "execution_count": 64,
   "metadata": {
    "collapsed": true
   },
   "outputs": [],
   "source": [
    "y2 = predict(W2,y1)"
   ]
  },
  {
   "cell_type": "code",
   "execution_count": 65,
   "metadata": {},
   "outputs": [
    {
     "data": {
      "text/plain": [
       "(25,)"
      ]
     },
     "execution_count": 65,
     "metadata": {},
     "output_type": "execute_result"
    }
   ],
   "source": [
    "y2.shape"
   ]
  },
  {
   "cell_type": "code",
   "execution_count": 66,
   "metadata": {
    "collapsed": true
   },
   "outputs": [],
   "source": [
    "y3 = predict(W3,y2)"
   ]
  },
  {
   "cell_type": "code",
   "execution_count": 67,
   "metadata": {},
   "outputs": [
    {
     "data": {
      "text/plain": [
       "array([   0.        ,    0.        ,   51.62769581,  236.97876377,\n",
       "          0.        ,  170.62148104,    0.        ,    0.        ,\n",
       "          0.        ,    0.        ])"
      ]
     },
     "execution_count": 67,
     "metadata": {},
     "output_type": "execute_result"
    }
   ],
   "source": [
    "y3"
   ]
  },
  {
   "cell_type": "markdown",
   "metadata": {},
   "source": [
    "# Testen, ob das MLP richtig rechnet"
   ]
  },
  {
   "cell_type": "code",
   "execution_count": 72,
   "metadata": {
    "collapsed": true
   },
   "outputs": [],
   "source": [
    "W1 = np.ones( (nr_inputs +1, nr_hidden1) )\n",
    "W2 = np.ones( (nr_hidden1+1, nr_hidden2) )\n",
    "W3 = np.ones( (nr_hidden2+1, nr_outputs) )\n",
    "x = np.ones(784)"
   ]
  },
  {
   "cell_type": "code",
   "execution_count": 73,
   "metadata": {},
   "outputs": [],
   "source": [
    "y1 = predict(W1,x)"
   ]
  },
  {
   "cell_type": "code",
   "execution_count": 74,
   "metadata": {},
   "outputs": [
    {
     "data": {
      "text/plain": [
       "array([ 785.,  785.,  785.,  785.,  785.,  785.,  785.,  785.,  785.,\n",
       "        785.,  785.,  785.,  785.,  785.,  785.,  785.,  785.,  785.,\n",
       "        785.,  785.,  785.,  785.,  785.,  785.,  785.,  785.,  785.,\n",
       "        785.,  785.,  785.,  785.,  785.,  785.,  785.,  785.,  785.,\n",
       "        785.,  785.,  785.,  785.,  785.,  785.,  785.,  785.,  785.,\n",
       "        785.,  785.,  785.,  785.,  785.,  785.,  785.,  785.,  785.,\n",
       "        785.,  785.,  785.,  785.,  785.,  785.,  785.,  785.,  785.,\n",
       "        785.,  785.,  785.,  785.,  785.,  785.,  785.,  785.,  785.,\n",
       "        785.,  785.,  785.,  785.,  785.,  785.,  785.,  785.,  785.,\n",
       "        785.,  785.,  785.,  785.,  785.,  785.,  785.,  785.,  785.,\n",
       "        785.,  785.,  785.,  785.,  785.,  785.,  785.,  785.,  785.,  785.])"
      ]
     },
     "execution_count": 74,
     "metadata": {},
     "output_type": "execute_result"
    }
   ],
   "source": [
    "y1"
   ]
  },
  {
   "cell_type": "code",
   "execution_count": 75,
   "metadata": {
    "collapsed": true
   },
   "outputs": [],
   "source": [
    "y2 = predict(W2,y1)"
   ]
  },
  {
   "cell_type": "code",
   "execution_count": 76,
   "metadata": {},
   "outputs": [
    {
     "data": {
      "text/plain": [
       "array([ 78501.,  78501.,  78501.,  78501.,  78501.,  78501.,  78501.,\n",
       "        78501.,  78501.,  78501.,  78501.,  78501.,  78501.,  78501.,\n",
       "        78501.,  78501.,  78501.,  78501.,  78501.,  78501.,  78501.,\n",
       "        78501.,  78501.,  78501.,  78501.])"
      ]
     },
     "execution_count": 76,
     "metadata": {},
     "output_type": "execute_result"
    }
   ],
   "source": [
    "y2"
   ]
  },
  {
   "cell_type": "code",
   "execution_count": 77,
   "metadata": {
    "collapsed": true
   },
   "outputs": [],
   "source": [
    "y3 = predict(W3,y2)"
   ]
  },
  {
   "cell_type": "code",
   "execution_count": 78,
   "metadata": {},
   "outputs": [
    {
     "data": {
      "text/plain": [
       "array([ 1962526.,  1962526.,  1962526.,  1962526.,  1962526.,  1962526.,\n",
       "        1962526.,  1962526.,  1962526.,  1962526.])"
      ]
     },
     "execution_count": 78,
     "metadata": {},
     "output_type": "execute_result"
    }
   ],
   "source": [
    "y3"
   ]
  },
  {
   "cell_type": "code",
   "execution_count": null,
   "metadata": {
    "collapsed": true
   },
   "outputs": [],
   "source": []
  }
 ],
 "metadata": {
  "kernelspec": {
   "display_name": "Python 3",
   "language": "python",
   "name": "python3"
  },
  "language_info": {
   "codemirror_mode": {
    "name": "ipython",
    "version": 3
   },
   "file_extension": ".py",
   "mimetype": "text/x-python",
   "name": "python",
   "nbconvert_exporter": "python",
   "pygments_lexer": "ipython3",
   "version": "3.6.2"
  },
  "toc": {
   "base_numbering": 1,
   "nav_menu": {},
   "number_sections": true,
   "sideBar": true,
   "skip_h1_title": false,
   "title_cell": "Inhaltsverzeichnis",
   "title_sidebar": "Inhalte",
   "toc_cell": true,
   "toc_position": {},
   "toc_section_display": true,
   "toc_window_display": true
  }
 },
 "nbformat": 4,
 "nbformat_minor": 2
}
