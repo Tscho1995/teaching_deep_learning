{
 "cells": [
  {
   "cell_type": "markdown",
   "metadata": {
    "toc": true
   },
   "source": [
    "<h1>Table of Contents<span class=\"tocSkip\"></span></h1>\n",
    "<div class=\"toc\"><ul class=\"toc-item\"><li><span><a href=\"#Daten-einladen\" data-toc-modified-id=\"Daten-einladen-1\"><span class=\"toc-item-num\">1&nbsp;&nbsp;</span>Daten einladen</a></span></li><li><span><a href=\"#Daten-anschauen\" data-toc-modified-id=\"Daten-anschauen-2\"><span class=\"toc-item-num\">2&nbsp;&nbsp;</span>Daten anschauen</a></span></li><li><span><a href=\"#Ein-Teil-der-Daten-mal-plotten\" data-toc-modified-id=\"Ein-Teil-der-Daten-mal-plotten-3\"><span class=\"toc-item-num\">3&nbsp;&nbsp;</span>Ein Teil der Daten mal plotten</a></span></li><li><span><a href=\"#Daten-vorverarbeiten\" data-toc-modified-id=\"Daten-vorverarbeiten-4\"><span class=\"toc-item-num\">4&nbsp;&nbsp;</span>Daten vorverarbeiten</a></span></li><li><span><a href=\"#Ein-MLP-in-Keras-zusammenbauen\" data-toc-modified-id=\"Ein-MLP-in-Keras-zusammenbauen-5\"><span class=\"toc-item-num\">5&nbsp;&nbsp;</span>Ein MLP in Keras zusammenbauen</a></span></li><li><span><a href=\"#Testen-des-MLPs\" data-toc-modified-id=\"Testen-des-MLPs-6\"><span class=\"toc-item-num\">6&nbsp;&nbsp;</span>Testen des MLPs</a></span></li></ul></div>"
   ]
  },
  {
   "cell_type": "markdown",
   "metadata": {},
   "source": [
    "# Daten einladen"
   ]
  },
  {
   "cell_type": "code",
   "execution_count": 1,
   "metadata": {
    "collapsed": true
   },
   "outputs": [],
   "source": [
    "import pandas as pd\n",
    "train_data = pd.read_csv(\"daten/train.csv\")"
   ]
  },
  {
   "cell_type": "markdown",
   "metadata": {},
   "source": [
    "# Daten anschauen"
   ]
  },
  {
   "cell_type": "code",
   "execution_count": 2,
   "metadata": {},
   "outputs": [
    {
     "data": {
      "text/html": [
       "<div>\n",
       "<style>\n",
       "    .dataframe thead tr:only-child th {\n",
       "        text-align: right;\n",
       "    }\n",
       "\n",
       "    .dataframe thead th {\n",
       "        text-align: left;\n",
       "    }\n",
       "\n",
       "    .dataframe tbody tr th {\n",
       "        vertical-align: top;\n",
       "    }\n",
       "</style>\n",
       "<table border=\"1\" class=\"dataframe\">\n",
       "  <thead>\n",
       "    <tr style=\"text-align: right;\">\n",
       "      <th></th>\n",
       "      <th>Id</th>\n",
       "      <th>MSSubClass</th>\n",
       "      <th>MSZoning</th>\n",
       "      <th>LotFrontage</th>\n",
       "      <th>LotArea</th>\n",
       "      <th>Street</th>\n",
       "      <th>Alley</th>\n",
       "      <th>LotShape</th>\n",
       "      <th>LandContour</th>\n",
       "      <th>Utilities</th>\n",
       "      <th>...</th>\n",
       "      <th>PoolArea</th>\n",
       "      <th>PoolQC</th>\n",
       "      <th>Fence</th>\n",
       "      <th>MiscFeature</th>\n",
       "      <th>MiscVal</th>\n",
       "      <th>MoSold</th>\n",
       "      <th>YrSold</th>\n",
       "      <th>SaleType</th>\n",
       "      <th>SaleCondition</th>\n",
       "      <th>SalePrice</th>\n",
       "    </tr>\n",
       "  </thead>\n",
       "  <tbody>\n",
       "    <tr>\n",
       "      <th>0</th>\n",
       "      <td>1</td>\n",
       "      <td>60</td>\n",
       "      <td>RL</td>\n",
       "      <td>65.0</td>\n",
       "      <td>8450</td>\n",
       "      <td>Pave</td>\n",
       "      <td>NaN</td>\n",
       "      <td>Reg</td>\n",
       "      <td>Lvl</td>\n",
       "      <td>AllPub</td>\n",
       "      <td>...</td>\n",
       "      <td>0</td>\n",
       "      <td>NaN</td>\n",
       "      <td>NaN</td>\n",
       "      <td>NaN</td>\n",
       "      <td>0</td>\n",
       "      <td>2</td>\n",
       "      <td>2008</td>\n",
       "      <td>WD</td>\n",
       "      <td>Normal</td>\n",
       "      <td>208500</td>\n",
       "    </tr>\n",
       "    <tr>\n",
       "      <th>1</th>\n",
       "      <td>2</td>\n",
       "      <td>20</td>\n",
       "      <td>RL</td>\n",
       "      <td>80.0</td>\n",
       "      <td>9600</td>\n",
       "      <td>Pave</td>\n",
       "      <td>NaN</td>\n",
       "      <td>Reg</td>\n",
       "      <td>Lvl</td>\n",
       "      <td>AllPub</td>\n",
       "      <td>...</td>\n",
       "      <td>0</td>\n",
       "      <td>NaN</td>\n",
       "      <td>NaN</td>\n",
       "      <td>NaN</td>\n",
       "      <td>0</td>\n",
       "      <td>5</td>\n",
       "      <td>2007</td>\n",
       "      <td>WD</td>\n",
       "      <td>Normal</td>\n",
       "      <td>181500</td>\n",
       "    </tr>\n",
       "    <tr>\n",
       "      <th>2</th>\n",
       "      <td>3</td>\n",
       "      <td>60</td>\n",
       "      <td>RL</td>\n",
       "      <td>68.0</td>\n",
       "      <td>11250</td>\n",
       "      <td>Pave</td>\n",
       "      <td>NaN</td>\n",
       "      <td>IR1</td>\n",
       "      <td>Lvl</td>\n",
       "      <td>AllPub</td>\n",
       "      <td>...</td>\n",
       "      <td>0</td>\n",
       "      <td>NaN</td>\n",
       "      <td>NaN</td>\n",
       "      <td>NaN</td>\n",
       "      <td>0</td>\n",
       "      <td>9</td>\n",
       "      <td>2008</td>\n",
       "      <td>WD</td>\n",
       "      <td>Normal</td>\n",
       "      <td>223500</td>\n",
       "    </tr>\n",
       "    <tr>\n",
       "      <th>3</th>\n",
       "      <td>4</td>\n",
       "      <td>70</td>\n",
       "      <td>RL</td>\n",
       "      <td>60.0</td>\n",
       "      <td>9550</td>\n",
       "      <td>Pave</td>\n",
       "      <td>NaN</td>\n",
       "      <td>IR1</td>\n",
       "      <td>Lvl</td>\n",
       "      <td>AllPub</td>\n",
       "      <td>...</td>\n",
       "      <td>0</td>\n",
       "      <td>NaN</td>\n",
       "      <td>NaN</td>\n",
       "      <td>NaN</td>\n",
       "      <td>0</td>\n",
       "      <td>2</td>\n",
       "      <td>2006</td>\n",
       "      <td>WD</td>\n",
       "      <td>Abnorml</td>\n",
       "      <td>140000</td>\n",
       "    </tr>\n",
       "    <tr>\n",
       "      <th>4</th>\n",
       "      <td>5</td>\n",
       "      <td>60</td>\n",
       "      <td>RL</td>\n",
       "      <td>84.0</td>\n",
       "      <td>14260</td>\n",
       "      <td>Pave</td>\n",
       "      <td>NaN</td>\n",
       "      <td>IR1</td>\n",
       "      <td>Lvl</td>\n",
       "      <td>AllPub</td>\n",
       "      <td>...</td>\n",
       "      <td>0</td>\n",
       "      <td>NaN</td>\n",
       "      <td>NaN</td>\n",
       "      <td>NaN</td>\n",
       "      <td>0</td>\n",
       "      <td>12</td>\n",
       "      <td>2008</td>\n",
       "      <td>WD</td>\n",
       "      <td>Normal</td>\n",
       "      <td>250000</td>\n",
       "    </tr>\n",
       "  </tbody>\n",
       "</table>\n",
       "<p>5 rows × 81 columns</p>\n",
       "</div>"
      ],
      "text/plain": [
       "   Id  MSSubClass MSZoning  LotFrontage  LotArea Street Alley LotShape  \\\n",
       "0   1          60       RL         65.0     8450   Pave   NaN      Reg   \n",
       "1   2          20       RL         80.0     9600   Pave   NaN      Reg   \n",
       "2   3          60       RL         68.0    11250   Pave   NaN      IR1   \n",
       "3   4          70       RL         60.0     9550   Pave   NaN      IR1   \n",
       "4   5          60       RL         84.0    14260   Pave   NaN      IR1   \n",
       "\n",
       "  LandContour Utilities    ...     PoolArea PoolQC Fence MiscFeature MiscVal  \\\n",
       "0         Lvl    AllPub    ...            0    NaN   NaN         NaN       0   \n",
       "1         Lvl    AllPub    ...            0    NaN   NaN         NaN       0   \n",
       "2         Lvl    AllPub    ...            0    NaN   NaN         NaN       0   \n",
       "3         Lvl    AllPub    ...            0    NaN   NaN         NaN       0   \n",
       "4         Lvl    AllPub    ...            0    NaN   NaN         NaN       0   \n",
       "\n",
       "  MoSold YrSold  SaleType  SaleCondition  SalePrice  \n",
       "0      2   2008        WD         Normal     208500  \n",
       "1      5   2007        WD         Normal     181500  \n",
       "2      9   2008        WD         Normal     223500  \n",
       "3      2   2006        WD        Abnorml     140000  \n",
       "4     12   2008        WD         Normal     250000  \n",
       "\n",
       "[5 rows x 81 columns]"
      ]
     },
     "execution_count": 2,
     "metadata": {},
     "output_type": "execute_result"
    }
   ],
   "source": [
    "train_data[0:5]"
   ]
  },
  {
   "cell_type": "code",
   "execution_count": 3,
   "metadata": {},
   "outputs": [
    {
     "name": "stdout",
     "output_type": "stream",
     "text": [
      "(1460, 81)\n"
     ]
    }
   ],
   "source": [
    "print(train_data.shape)"
   ]
  },
  {
   "cell_type": "markdown",
   "metadata": {},
   "source": [
    "# Ein Teil der Daten mal plotten"
   ]
  },
  {
   "cell_type": "code",
   "execution_count": 4,
   "metadata": {},
   "outputs": [
    {
     "data": {
      "image/png": "[encoded data removed]",
      "text/plain": [
       "<matplotlib.figure.Figure at 0x1d419198d68>"
      ]
     },
     "metadata": {},
     "output_type": "display_data"
    }
   ],
   "source": [
    "yearbuilt_column = train_data[\"YearBuilt\"].values\n",
    "saleprice_column = train_data[\"SalePrice\"].values\n",
    "\n",
    "import matplotlib.pyplot as plt\n",
    "\n",
    "fig = plt.figure()\n",
    "fig.suptitle(\"Zusammenhang Baujahr und Hauspreis?\", fontsize=15)\n",
    "plt.scatter(yearbuilt_column, saleprice_column, marker=\"+\")\n",
    "plt.grid(True)\n",
    "plt.xlabel(\"Baujahr\", fontsize=14)\n",
    "plt.ylabel(\"Hauspreis\", fontsize=14)\n",
    "plt.show()"
   ]
  },
  {
   "cell_type": "markdown",
   "metadata": {},
   "source": [
    "# Daten vorverarbeiten"
   ]
  },
  {
   "cell_type": "code",
   "execution_count": 6,
   "metadata": {
    "collapsed": true
   },
   "outputs": [],
   "source": [
    "# Fülle leere Einträge in den Excel-Tabelle mit Nullen\n",
    "train_data.fillna(0, inplace=True)\n",
    "\n",
    "# Nur numerische Spalten sollen verwendet werden\n",
    "train_data = train_data.select_dtypes(exclude=['object'])\n",
    "\n",
    "# Skalierung der Input- und Outputdaten\n",
    "import numpy as np\n",
    "from sklearn.preprocessing import MinMaxScaler\n",
    "\n",
    "train_input_matrix = train_data.values[:,1:37]\n",
    "train_output_matrix = train_data.values[:,37]\n",
    "train_output_matrix = train_output_matrix.reshape(-1,1)\n",
    "\n",
    "scaler_input_features = MinMaxScaler(feature_range=(0, 1))\n",
    "normalized_train_input_matrix = scaler_input_features.fit_transform(train_input_matrix)\n",
    "\n",
    "scaler_saleprice = MinMaxScaler(feature_range=(0, 1))\n",
    "normalized_train_output_matrix = scaler_saleprice.fit_transform(train_output_matrix)"
   ]
  },
  {
   "cell_type": "markdown",
   "metadata": {},
   "source": [
    "# Ein MLP in Keras zusammenbauen"
   ]
  },
  {
   "cell_type": "code",
   "execution_count": 7,
   "metadata": {},
   "outputs": [
    {
     "name": "stdout",
     "output_type": "stream",
     "text": [
      "Train on 1314 samples, validate on 146 samples\n",
      "Epoch 1/100\n",
      "1314/1314 [==============================] - 0s 164us/step - loss: 0.0148 - val_loss: 0.0072\n",
      "Epoch 2/100\n",
      "1314/1314 [==============================] - 0s 38us/step - loss: 0.0085 - val_loss: 0.0065\n",
      "Epoch 3/100\n",
      "1314/1314 [==============================] - 0s 38us/step - loss: 0.0078 - val_loss: 0.0060\n",
      "Epoch 4/100\n",
      "1314/1314 [==============================] - 0s 45us/step - loss: 0.0072 - val_loss: 0.0056\n",
      "Epoch 5/100\n",
      "1314/1314 [==============================] - 0s 50us/step - loss: 0.0067 - val_loss: 0.0052\n",
      "Epoch 6/100\n",
      "1314/1314 [==============================] - 0s 44us/step - loss: 0.0062 - val_loss: 0.0047\n",
      "Epoch 7/100\n",
      "1314/1314 [==============================] - 0s 35us/step - loss: 0.0059 - val_loss: 0.0044\n",
      "Epoch 8/100\n",
      "1314/1314 [==============================] - 0s 35us/step - loss: 0.0056 - val_loss: 0.0043\n",
      "Epoch 9/100\n",
      "1314/1314 [==============================] - 0s 35us/step - loss: 0.0053 - val_loss: 0.0040\n",
      "Epoch 10/100\n",
      "1314/1314 [==============================] - 0s 54us/step - loss: 0.0051 - val_loss: 0.0038\n",
      "Epoch 11/100\n",
      "1314/1314 [==============================] - 0s 35us/step - loss: 0.0049 - val_loss: 0.0036\n",
      "Epoch 12/100\n",
      "1314/1314 [==============================] - 0s 91us/step - loss: 0.0047 - val_loss: 0.0035\n",
      "Epoch 13/100\n",
      "1314/1314 [==============================] - 0s 37us/step - loss: 0.0046 - val_loss: 0.0034\n",
      "Epoch 14/100\n",
      "1314/1314 [==============================] - 0s 56us/step - loss: 0.0044 - val_loss: 0.0038\n",
      "Epoch 15/100\n",
      "1314/1314 [==============================] - 0s 39us/step - loss: 0.0044 - val_loss: 0.0031\n",
      "Epoch 16/100\n",
      "1314/1314 [==============================] - 0s 38us/step - loss: 0.0042 - val_loss: 0.0032\n",
      "Epoch 17/100\n",
      "1314/1314 [==============================] - 0s 72us/step - loss: 0.0041 - val_loss: 0.0030\n",
      "Epoch 18/100\n",
      "1314/1314 [==============================] - 0s 54us/step - loss: 0.0040 - val_loss: 0.0032\n",
      "Epoch 19/100\n",
      "1314/1314 [==============================] - 0s 57us/step - loss: 0.0039 - val_loss: 0.0029\n",
      "Epoch 20/100\n",
      "1314/1314 [==============================] - 0s 39us/step - loss: 0.0039 - val_loss: 0.0028\n",
      "Epoch 21/100\n",
      "1314/1314 [==============================] - 0s 58us/step - loss: 0.0038 - val_loss: 0.0038\n",
      "Epoch 22/100\n",
      "1314/1314 [==============================] - 0s 42us/step - loss: 0.0038 - val_loss: 0.0026\n",
      "Epoch 23/100\n",
      "1314/1314 [==============================] - 0s 69us/step - loss: 0.0036 - val_loss: 0.0026\n",
      "Epoch 24/100\n",
      "1314/1314 [==============================] - 0s 40us/step - loss: 0.0036 - val_loss: 0.0026\n",
      "Epoch 25/100\n",
      "1314/1314 [==============================] - 0s 34us/step - loss: 0.0035 - val_loss: 0.0025\n",
      "Epoch 26/100\n",
      "1314/1314 [==============================] - 0s 37us/step - loss: 0.0035 - val_loss: 0.0025\n",
      "Epoch 27/100\n",
      "1314/1314 [==============================] - 0s 33us/step - loss: 0.0034 - val_loss: 0.0024\n",
      "Epoch 28/100\n",
      "1314/1314 [==============================] - 0s 35us/step - loss: 0.0034 - val_loss: 0.0024\n",
      "Epoch 29/100\n",
      "1314/1314 [==============================] - 0s 34us/step - loss: 0.0034 - val_loss: 0.0024\n",
      "Epoch 30/100\n",
      "1314/1314 [==============================] - 0s 35us/step - loss: 0.0033 - val_loss: 0.0023\n",
      "Epoch 31/100\n",
      "1314/1314 [==============================] - 0s 34us/step - loss: 0.0033 - val_loss: 0.0023\n",
      "Epoch 32/100\n",
      "1314/1314 [==============================] - 0s 36us/step - loss: 0.0033 - val_loss: 0.0024\n",
      "Epoch 33/100\n",
      "1314/1314 [==============================] - 0s 39us/step - loss: 0.0032 - val_loss: 0.0022\n",
      "Epoch 34/100\n",
      "1314/1314 [==============================] - 0s 38us/step - loss: 0.0032 - val_loss: 0.0022\n",
      "Epoch 35/100\n",
      "1314/1314 [==============================] - 0s 100us/step - loss: 0.0032 - val_loss: 0.0022\n",
      "Epoch 36/100\n",
      "1314/1314 [==============================] - 0s 58us/step - loss: 0.0031 - val_loss: 0.0022\n",
      "Epoch 37/100\n",
      "1314/1314 [==============================] - 0s 36us/step - loss: 0.0031 - val_loss: 0.0023\n",
      "Epoch 38/100\n",
      "1314/1314 [==============================] - 0s 69us/step - loss: 0.0031 - val_loss: 0.0022\n",
      "Epoch 39/100\n",
      "1314/1314 [==============================] - 0s 34us/step - loss: 0.0030 - val_loss: 0.0021\n",
      "Epoch 40/100\n",
      "1314/1314 [==============================] - 0s 37us/step - loss: 0.0030 - val_loss: 0.0021\n",
      "Epoch 41/100\n",
      "1314/1314 [==============================] - 0s 76us/step - loss: 0.0030 - val_loss: 0.0021\n",
      "Epoch 42/100\n",
      "1314/1314 [==============================] - 0s 53us/step - loss: 0.0029 - val_loss: 0.0022\n",
      "Epoch 43/100\n",
      "1314/1314 [==============================] - 0s 53us/step - loss: 0.0029 - val_loss: 0.0020\n",
      "Epoch 44/100\n",
      "1314/1314 [==============================] - 0s 54us/step - loss: 0.0029 - val_loss: 0.0021\n",
      "Epoch 45/100\n",
      "1314/1314 [==============================] - 0s 34us/step - loss: 0.0029 - val_loss: 0.0020\n",
      "Epoch 46/100\n",
      "1314/1314 [==============================] - 0s 32us/step - loss: 0.0029 - val_loss: 0.0020\n",
      "Epoch 47/100\n",
      "1314/1314 [==============================] - 0s 35us/step - loss: 0.0029 - val_loss: 0.0021\n",
      "Epoch 48/100\n",
      "1314/1314 [==============================] - 0s 46us/step - loss: 0.0028 - val_loss: 0.0020\n",
      "Epoch 49/100\n",
      "1314/1314 [==============================] - 0s 53us/step - loss: 0.0028 - val_loss: 0.0020\n",
      "Epoch 50/100\n",
      "1314/1314 [==============================] - 0s 35us/step - loss: 0.0028 - val_loss: 0.0019\n",
      "Epoch 51/100\n",
      "1314/1314 [==============================] - 0s 60us/step - loss: 0.0028 - val_loss: 0.0020\n",
      "Epoch 52/100\n",
      "1314/1314 [==============================] - 0s 71us/step - loss: 0.0028 - val_loss: 0.0021\n",
      "Epoch 53/100\n",
      "1314/1314 [==============================] - 0s 37us/step - loss: 0.0027 - val_loss: 0.0019\n",
      "Epoch 54/100\n",
      "1314/1314 [==============================] - 0s 38us/step - loss: 0.0027 - val_loss: 0.0020\n",
      "Epoch 55/100\n",
      "1314/1314 [==============================] - 0s 72us/step - loss: 0.0027 - val_loss: 0.0020\n",
      "Epoch 56/100\n",
      "1314/1314 [==============================] - 0s 39us/step - loss: 0.0027 - val_loss: 0.0019\n",
      "Epoch 57/100\n",
      "1314/1314 [==============================] - 0s 32us/step - loss: 0.0027 - val_loss: 0.0019\n",
      "Epoch 58/100\n",
      "1314/1314 [==============================] - 0s 32us/step - loss: 0.0027 - val_loss: 0.0019\n",
      "Epoch 59/100\n",
      "1314/1314 [==============================] - 0s 33us/step - loss: 0.0027 - val_loss: 0.0019\n",
      "Epoch 60/100\n",
      "1314/1314 [==============================] - 0s 31us/step - loss: 0.0026 - val_loss: 0.0018\n",
      "Epoch 61/100\n",
      "1314/1314 [==============================] - 0s 33us/step - loss: 0.0026 - val_loss: 0.0018\n",
      "Epoch 62/100\n",
      "1314/1314 [==============================] - 0s 30us/step - loss: 0.0026 - val_loss: 0.0018\n",
      "Epoch 63/100\n",
      "1314/1314 [==============================] - 0s 36us/step - loss: 0.0026 - val_loss: 0.0019\n",
      "Epoch 64/100\n",
      "1314/1314 [==============================] - 0s 33us/step - loss: 0.0026 - val_loss: 0.0019\n",
      "Epoch 65/100\n",
      "1314/1314 [==============================] - 0s 34us/step - loss: 0.0026 - val_loss: 0.0019\n",
      "Epoch 66/100\n",
      "1314/1314 [==============================] - 0s 48us/step - loss: 0.0025 - val_loss: 0.0018\n",
      "Epoch 67/100\n",
      "1314/1314 [==============================] - 0s 71us/step - loss: 0.0025 - val_loss: 0.0018\n",
      "Epoch 68/100\n",
      "1314/1314 [==============================] - 0s 34us/step - loss: 0.0025 - val_loss: 0.0018\n",
      "Epoch 69/100\n",
      "1314/1314 [==============================] - 0s 41us/step - loss: 0.0025 - val_loss: 0.0018\n",
      "Epoch 70/100\n",
      "1314/1314 [==============================] - 0s 56us/step - loss: 0.0025 - val_loss: 0.0018\n",
      "Epoch 71/100\n",
      "1314/1314 [==============================] - 0s 35us/step - loss: 0.0025 - val_loss: 0.0018\n",
      "Epoch 72/100\n",
      "1314/1314 [==============================] - 0s 53us/step - loss: 0.0025 - val_loss: 0.0018\n",
      "Epoch 73/100\n",
      "1314/1314 [==============================] - 0s 68us/step - loss: 0.0025 - val_loss: 0.0018\n",
      "Epoch 74/100\n",
      "1314/1314 [==============================] - 0s 35us/step - loss: 0.0025 - val_loss: 0.0017\n",
      "Epoch 75/100\n",
      "1314/1314 [==============================] - 0s 32us/step - loss: 0.0024 - val_loss: 0.0017\n",
      "Epoch 76/100\n",
      "1314/1314 [==============================] - 0s 33us/step - loss: 0.0024 - val_loss: 0.0018\n",
      "Epoch 77/100\n",
      "1314/1314 [==============================] - 0s 46us/step - loss: 0.0024 - val_loss: 0.0017\n",
      "Epoch 78/100\n"
     ]
    },
    {
     "name": "stdout",
     "output_type": "stream",
     "text": [
      "1314/1314 [==============================] - 0s 56us/step - loss: 0.0024 - val_loss: 0.0017\n",
      "Epoch 79/100\n",
      "1314/1314 [==============================] - 0s 34us/step - loss: 0.0024 - val_loss: 0.0017\n",
      "Epoch 80/100\n",
      "1314/1314 [==============================] - 0s 32us/step - loss: 0.0024 - val_loss: 0.0017\n",
      "Epoch 81/100\n",
      "1314/1314 [==============================] - 0s 69us/step - loss: 0.0024 - val_loss: 0.0017\n",
      "Epoch 82/100\n",
      "1314/1314 [==============================] - 0s 34us/step - loss: 0.0024 - val_loss: 0.0017\n",
      "Epoch 83/100\n",
      "1314/1314 [==============================] - 0s 32us/step - loss: 0.0024 - val_loss: 0.0017\n",
      "Epoch 84/100\n",
      "1314/1314 [==============================] - 0s 33us/step - loss: 0.0024 - val_loss: 0.0017\n",
      "Epoch 85/100\n",
      "1314/1314 [==============================] - 0s 33us/step - loss: 0.0024 - val_loss: 0.0017\n",
      "Epoch 86/100\n",
      "1314/1314 [==============================] - 0s 32us/step - loss: 0.0023 - val_loss: 0.0017\n",
      "Epoch 87/100\n",
      "1314/1314 [==============================] - 0s 34us/step - loss: 0.0023 - val_loss: 0.0017\n",
      "Epoch 88/100\n",
      "1314/1314 [==============================] - 0s 32us/step - loss: 0.0023 - val_loss: 0.0017\n",
      "Epoch 89/100\n",
      "1314/1314 [==============================] - 0s 32us/step - loss: 0.0023 - val_loss: 0.0017\n",
      "Epoch 90/100\n",
      "1314/1314 [==============================] - 0s 34us/step - loss: 0.0023 - val_loss: 0.0017\n",
      "Epoch 91/100\n",
      "1314/1314 [==============================] - 0s 32us/step - loss: 0.0023 - val_loss: 0.0017\n",
      "Epoch 92/100\n",
      "1314/1314 [==============================] - 0s 32us/step - loss: 0.0023 - val_loss: 0.0017\n",
      "Epoch 93/100\n",
      "1314/1314 [==============================] - 0s 32us/step - loss: 0.0023 - val_loss: 0.0017\n",
      "Epoch 94/100\n",
      "1314/1314 [==============================] - 0s 31us/step - loss: 0.0023 - val_loss: 0.0016\n",
      "Epoch 95/100\n",
      "1314/1314 [==============================] - 0s 34us/step - loss: 0.0023 - val_loss: 0.0017\n",
      "Epoch 96/100\n",
      "1314/1314 [==============================] - 0s 32us/step - loss: 0.0023 - val_loss: 0.0017\n",
      "Epoch 97/100\n",
      "1314/1314 [==============================] - 0s 32us/step - loss: 0.0023 - val_loss: 0.0017\n",
      "Epoch 98/100\n",
      "1314/1314 [==============================] - 0s 32us/step - loss: 0.0023 - val_loss: 0.0016\n",
      "Epoch 99/100\n",
      "1314/1314 [==============================] - 0s 32us/step - loss: 0.0023 - val_loss: 0.0017\n",
      "Epoch 100/100\n",
      "1314/1314 [==============================] - 0s 33us/step - loss: 0.0023 - val_loss: 0.0017\n"
     ]
    },
    {
     "data": {
      "text/plain": [
       "<keras.callbacks.History at 0x1d41f2ac588>"
      ]
     },
     "execution_count": 7,
     "metadata": {},
     "output_type": "execute_result"
    }
   ],
   "source": [
    "from keras.models import Sequential\n",
    "from keras import layers\n",
    "from keras.layers.core import Dense, Dropout\n",
    "import pandas as pd\n",
    "import numpy as np\n",
    "\n",
    "model = Sequential()\n",
    "model.add(Dense(160, activation=\"relu\"))\n",
    "model.add(Dense(80, activation=\"relu\"))\n",
    "model.add(Dense(1, activation=\"linear\"))\n",
    "\n",
    "model.compile(loss='mean_squared_error', optimizer='sgd')\n",
    "\n",
    "X = normalized_train_input_matrix\n",
    "Y = normalized_train_output_matrix\n",
    "model.fit(X,Y, validation_split=0.10, epochs=100)"
   ]
  },
  {
   "cell_type": "markdown",
   "metadata": {},
   "source": [
    "# Testen des MLPs"
   ]
  },
  {
   "cell_type": "code",
   "execution_count": 8,
   "metadata": {},
   "outputs": [
    {
     "data": {
      "image/png": "[encoded data removed]",
      "text/plain": [
       "<matplotlib.figure.Figure at 0x1d41da49c88>"
      ]
     },
     "metadata": {},
     "output_type": "display_data"
    }
   ],
   "source": [
    "# Hauspreise schätzen\n",
    "preds_train_houses = model.predict(normalized_train_input_matrix)\n",
    "preds_train_houses_dollar = scaler_saleprice.inverse_transform(preds_train_houses)\n",
    "\n",
    "# Tatsächliche und geschätzte Hauspreise gegeneinander\n",
    "# plotten\n",
    "plt.figure( figsize=(10,10) )\n",
    "plt.plot(train_output_matrix, preds_train_houses_dollar, 'ro')\n",
    "plt.xlabel('Tatsächlicher Hauspreis', fontsize = 10)\n",
    "plt.ylabel('Geschätzer Hauspreis', fontsize = 10)\n",
    "plt.grid(True)\n",
    "plt.xlim(0,900000)\n",
    "plt.ylim(0,900000)\n",
    "plt.show()"
   ]
  },
  {
   "cell_type": "code",
   "execution_count": 9,
   "metadata": {},
   "outputs": [
    {
     "name": "stdout",
     "output_type": "stream",
     "text": [
      "Durchschnittliche Abweichung in $: 22034.5080051\n"
     ]
    }
   ],
   "source": [
    "absdiff = np.abs(preds_train_houses_dollar - train_output_matrix)\n",
    "average_error_in_dollar = np.mean(absdiff)\n",
    "print(\"Durchschnittliche Abweichung in $:\", average_error_in_dollar)"
   ]
  },
  {
   "cell_type": "code",
   "execution_count": null,
   "metadata": {
    "collapsed": true
   },
   "outputs": [],
   "source": []
  }
 ],
 "metadata": {
  "kernelspec": {
   "display_name": "Python 3",
   "language": "python",
   "name": "python3"
  },
  "language_info": {
   "codemirror_mode": {
    "name": "ipython",
    "version": 3
   },
   "file_extension": ".py",
   "mimetype": "text/x-python",
   "name": "python",
   "nbconvert_exporter": "python",
   "pygments_lexer": "ipython3",
   "version": "3.5.4"
  },
  "toc": {
   "base_numbering": 1,
   "nav_menu": {},
   "number_sections": true,
   "sideBar": true,
   "skip_h1_title": false,
   "title_cell": "Table of Contents",
   "title_sidebar": "Contents",
   "toc_cell": true,
   "toc_position": {
    "height": "calc(100% - 180px)",
    "left": "10px",
    "top": "150px",
    "width": "222px"
   },
   "toc_section_display": true,
   "toc_window_display": true
  }
 },
 "nbformat": 4,
 "nbformat_minor": 2
}
