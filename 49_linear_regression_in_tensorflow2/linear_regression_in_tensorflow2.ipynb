{
 "cells": [
  {
   "cell_type": "markdown",
   "metadata": {
    "toc": true
   },
   "source": [
    "<h1>Table of Contents<span class=\"tocSkip\"></span></h1>\n",
    "<div class=\"toc\"><ul class=\"toc-item\"><li><span><a href=\"#Check-your-TensorFlow-version\" data-toc-modified-id=\"Check-your-TensorFlow-version-1\"><span class=\"toc-item-num\">1&nbsp;&nbsp;</span>Check your TensorFlow version</a></span></li><li><span><a href=\"#Generate-training-data\" data-toc-modified-id=\"Generate-training-data-2\"><span class=\"toc-item-num\">2&nbsp;&nbsp;</span>Generate training data</a></span></li><li><span><a href=\"#Define-a-TF-model\" data-toc-modified-id=\"Define-a-TF-model-3\"><span class=\"toc-item-num\">3&nbsp;&nbsp;</span>Define a TF model</a></span></li><li><span><a href=\"#Create-an-instance-of-a-model-and-use-it\" data-toc-modified-id=\"Create-an-instance-of-a-model-and-use-it-4\"><span class=\"toc-item-num\">4&nbsp;&nbsp;</span>Create an instance of a model and use it</a></span></li><li><span><a href=\"#Define-a-loss\" data-toc-modified-id=\"Define-a-loss-5\"><span class=\"toc-item-num\">5&nbsp;&nbsp;</span>Define a loss</a></span></li><li><span><a href=\"#Define-a-training-function\" data-toc-modified-id=\"Define-a-training-function-6\"><span class=\"toc-item-num\">6&nbsp;&nbsp;</span>Define a training function</a></span></li><li><span><a href=\"#Training-of-the-model\" data-toc-modified-id=\"Training-of-the-model-7\"><span class=\"toc-item-num\">7&nbsp;&nbsp;</span>Training of the model</a></span></li><li><span><a href=\"#Comparison-of-found-model-parameters-and-ground-truth\" data-toc-modified-id=\"Comparison-of-found-model-parameters-and-ground-truth-8\"><span class=\"toc-item-num\">8&nbsp;&nbsp;</span>Comparison of found model parameters and ground truth</a></span></li></ul></div>"
   ]
  },
  {
   "cell_type": "markdown",
   "metadata": {},
   "source": [
    "The code here is inspired by the following blog post:\n",
    "    \n",
    "https://heartbeat.fritz.ai/linear-regression-using-tensorflow-2-0-1cd51e211e1f"
   ]
  },
  {
   "cell_type": "markdown",
   "metadata": {},
   "source": [
    "# Check your TensorFlow version"
   ]
  },
  {
   "cell_type": "code",
   "execution_count": 1,
   "metadata": {},
   "outputs": [],
   "source": [
    "import tensorflow as tf"
   ]
  },
  {
   "cell_type": "code",
   "execution_count": 2,
   "metadata": {},
   "outputs": [
    {
     "name": "stdout",
     "output_type": "stream",
     "text": [
      "2.0.0\n"
     ]
    }
   ],
   "source": [
    "print(tf.__version__)"
   ]
  },
  {
   "cell_type": "markdown",
   "metadata": {},
   "source": [
    "# Generate training data"
   ]
  },
  {
   "cell_type": "code",
   "execution_count": 3,
   "metadata": {},
   "outputs": [
    {
     "data": {
      "text/plain": [
       "array([-0.45802116,  1.8980094 , -1.06008221,  0.38617257, -0.85410791,\n",
       "       -0.89330023, -2.32605885, -0.08522412, -0.65086292,  1.86554412,\n",
       "       -0.44892383, -0.58251438, -1.95004564, -0.51943911,  0.58921875,\n",
       "       -1.77421737, -1.80354811,  0.49698576, -1.30861729,  1.66676593,\n",
       "        0.39672227, -0.78990903,  2.6227375 ,  1.00364499, -0.17458908,\n",
       "       -0.49085467,  1.64563065, -2.09316869, -0.63341989,  0.25221324,\n",
       "       -1.41608255,  0.54061383, -0.80670689,  0.31932743, -0.48601646,\n",
       "        0.66971501,  0.64583833,  0.13726136,  1.49825779, -0.65640913,\n",
       "       -0.15070544,  0.7461766 , -1.98113315,  0.48419023, -0.65770374,\n",
       "       -0.7387513 ,  0.94777088, -0.7446918 , -0.35956139,  0.42073642,\n",
       "       -0.15884393, -0.48144672, -0.10288143,  0.22331865, -2.42066723,\n",
       "       -0.41226916,  1.11597765,  1.42494007,  0.83060854, -0.25876151,\n",
       "        1.38705812,  1.46571147, -0.05651865, -1.10231484, -1.98066065,\n",
       "       -0.63931513, -2.2277866 , -0.34385781,  0.6864289 , -1.47434421,\n",
       "        0.67232908,  0.09169059, -0.70184591, -0.44169706,  0.11874585,\n",
       "       -0.75808361,  0.87371681,  0.52047329, -0.71331098,  0.17696949,\n",
       "        0.29175908, -1.46816023,  1.10704533, -0.28017566,  0.36160933,\n",
       "        0.57768782, -1.59698738, -0.76877354,  2.16745476, -0.8503583 ,\n",
       "        1.29768516, -1.81877768, -1.12583243,  0.74725281, -0.08587585,\n",
       "        1.45055765, -0.86060326,  1.15992044, -0.49926957, -0.43130556,\n",
       "        0.9411742 , -0.45861794,  0.96152291, -0.44615475,  0.01906968,\n",
       "        0.60005455, -0.62922531,  1.62588861, -1.16568749,  0.38330517,\n",
       "       -2.32744433,  0.99676606,  0.91390365,  0.0363742 ,  1.03670358,\n",
       "       -1.55162757,  0.73929897,  1.31930301, -0.63358448,  0.24892374])"
      ]
     },
     "execution_count": 3,
     "metadata": {},
     "output_type": "execute_result"
    }
   ],
   "source": [
    "import numpy as np\n",
    "nr_points = 120\n",
    "np.random.normal(0,1, (nr_points))"
   ]
  },
  {
   "cell_type": "code",
   "execution_count": 4,
   "metadata": {},
   "outputs": [],
   "source": [
    "TRUE_SLOPE = 2.0\n",
    "TRUE_INTERCEPT = 0.9\n",
    "\n",
    "x = np.linspace(0, 10, nr_points)\n",
    "y = TRUE_SLOPE * x + TRUE_INTERCEPT + np.random.normal(0,1, (nr_points)) * 2.0"
   ]
  },
  {
   "cell_type": "code",
   "execution_count": 5,
   "metadata": {},
   "outputs": [
    {
     "data": {
      "text/plain": [
       "numpy.ndarray"
      ]
     },
     "execution_count": 5,
     "metadata": {},
     "output_type": "execute_result"
    }
   ],
   "source": [
    "type(x)"
   ]
  },
  {
   "cell_type": "code",
   "execution_count": 6,
   "metadata": {},
   "outputs": [
    {
     "data": {
      "text/plain": [
       "(120,)"
      ]
     },
     "execution_count": 6,
     "metadata": {},
     "output_type": "execute_result"
    }
   ],
   "source": [
    "x.shape"
   ]
  },
  {
   "cell_type": "code",
   "execution_count": 7,
   "metadata": {},
   "outputs": [
    {
     "data": {
      "text/plain": [
       "(120,)"
      ]
     },
     "execution_count": 7,
     "metadata": {},
     "output_type": "execute_result"
    }
   ],
   "source": [
    "y.shape"
   ]
  },
  {
   "cell_type": "code",
   "execution_count": 9,
   "metadata": {},
   "outputs": [
    {
     "data": {
      "image/png": "[encoded data removed]",
      "text/plain": [
       "<Figure size 432x288 with 1 Axes>"
      ]
     },
     "metadata": {
      "needs_background": "light"
     },
     "output_type": "display_data"
    }
   ],
   "source": [
    "import matplotlib.pyplot as plt\n",
    "\n",
    "plt.scatter(x,y)\n",
    "plt.show()"
   ]
  },
  {
   "cell_type": "markdown",
   "metadata": {},
   "source": [
    "# Define a TF model"
   ]
  },
  {
   "cell_type": "code",
   "execution_count": 10,
   "metadata": {},
   "outputs": [],
   "source": [
    "class LinearModel:\n",
    "    \n",
    "    def __call__(self, x):\n",
    "        return self.Weight * x + self.Bias\n",
    "    \n",
    "    def __init__(self):\n",
    "        self.Weight = tf.Variable(42.0)\n",
    "        self.Bias = tf.Variable(1.234)"
   ]
  },
  {
   "cell_type": "markdown",
   "metadata": {},
   "source": [
    "What is the magic method `__call__()` good for?"
   ]
  },
  {
   "cell_type": "code",
   "execution_count": 11,
   "metadata": {},
   "outputs": [],
   "source": [
    "class test:\n",
    "    \n",
    "    def __call__(self,x):\n",
    "        return x**3"
   ]
  },
  {
   "cell_type": "code",
   "execution_count": 12,
   "metadata": {},
   "outputs": [],
   "source": [
    "t = test()"
   ]
  },
  {
   "cell_type": "code",
   "execution_count": 13,
   "metadata": {},
   "outputs": [
    {
     "data": {
      "text/plain": [
       "8"
      ]
     },
     "execution_count": 13,
     "metadata": {},
     "output_type": "execute_result"
    }
   ],
   "source": [
    "t(2)"
   ]
  },
  {
   "cell_type": "markdown",
   "metadata": {},
   "source": [
    "# Create an instance of a model and use it\n",
    "\n",
    "... without having learned the weights!\n",
    "\n",
    "Training of the model parameters will be shown later!"
   ]
  },
  {
   "cell_type": "code",
   "execution_count": 14,
   "metadata": {},
   "outputs": [],
   "source": [
    "my_model = LinearModel()"
   ]
  },
  {
   "cell_type": "code",
   "execution_count": 15,
   "metadata": {},
   "outputs": [],
   "source": [
    "preds = my_model(x)"
   ]
  },
  {
   "cell_type": "code",
   "execution_count": 16,
   "metadata": {},
   "outputs": [
    {
     "data": {
      "text/plain": [
       "tensorflow.python.framework.ops.EagerTensor"
      ]
     },
     "execution_count": 16,
     "metadata": {},
     "output_type": "execute_result"
    }
   ],
   "source": [
    "type(preds)"
   ]
  },
  {
   "cell_type": "code",
   "execution_count": 17,
   "metadata": {},
   "outputs": [
    {
     "data": {
      "text/plain": [
       "<tf.Tensor: id=19, shape=(120,), dtype=float32, numpy=\n",
       "array([  1.234    ,   4.7634115,   8.292824 ,  11.822236 ,  15.351647 ,\n",
       "        18.881058 ,  22.410471 ,  25.939882 ,  29.469294 ,  32.998707 ,\n",
       "        36.52812  ,  40.05753  ,  43.586945 ,  47.116356 ,  50.645767 ,\n",
       "        54.17518  ,  57.70459  ,  61.234    ,  64.76341  ,  68.29282  ,\n",
       "        71.822235 ,  75.35165  ,  78.88106  ,  82.41047  ,  85.93989  ,\n",
       "        89.46929  ,  92.99871  ,  96.528114 , 100.05753  , 103.586945 ,\n",
       "       107.116356 , 110.64577  , 114.17518  , 117.70459  , 121.234    ,\n",
       "       124.76341  , 128.29282  , 131.82222  , 135.35164  , 138.88104  ,\n",
       "       142.41046  , 145.93987  , 149.46928  , 152.9987   , 156.5281   ,\n",
       "       160.05753  , 163.58693  , 167.11635  , 170.64577  , 174.17517  ,\n",
       "       177.70457  , 181.234    , 184.76341  , 188.29282  , 191.82222  ,\n",
       "       195.35164  , 198.88106  , 202.41046  , 205.93988  , 209.46928  ,\n",
       "       212.9987   , 216.5281   , 220.05753  , 223.58693  , 227.11635  ,\n",
       "       230.64577  , 234.17517  , 237.70457  , 241.234    , 244.76341  ,\n",
       "       248.29282  , 251.82222  , 255.35164  , 258.88107  , 262.41046  ,\n",
       "       265.9399   , 269.4693   , 272.99872  , 276.5281   , 280.05756  ,\n",
       "       283.58694  , 287.11636  , 290.64575  , 294.1752   , 297.7046   ,\n",
       "       301.234    , 304.76343  , 308.29285  , 311.82224  , 315.35165  ,\n",
       "       318.88107  , 322.4105   , 325.93988  , 329.4693   , 332.99872  ,\n",
       "       336.52814  , 340.05756  , 343.58694  , 347.11636  , 350.64575  ,\n",
       "       354.17517  , 357.70462  , 361.234    , 364.76343  , 368.29285  ,\n",
       "       371.82224  , 375.35165  , 378.88104  , 382.41046  , 385.9399   ,\n",
       "       389.4693   , 392.99872  , 396.52814  , 400.05753  , 403.58694  ,\n",
       "       407.11633  , 410.64578  , 414.1752   , 417.7046   , 421.234    ],\n",
       "      dtype=float32)>"
      ]
     },
     "execution_count": 17,
     "metadata": {},
     "output_type": "execute_result"
    }
   ],
   "source": [
    "preds"
   ]
  },
  {
   "cell_type": "code",
   "execution_count": 18,
   "metadata": {},
   "outputs": [
    {
     "data": {
      "image/png": "[encoded data removed]",
      "text/plain": [
       "<Figure size 720x360 with 1 Axes>"
      ]
     },
     "metadata": {
      "needs_background": "light"
     },
     "output_type": "display_data"
    }
   ],
   "source": [
    "import matplotlib.pyplot as plt\n",
    "fig = plt.figure(figsize=(10,5))\n",
    "plt.scatter(x,y,     color=\"green\", marker=\".\", label=\"teacher values\")\n",
    "plt.scatter(x,preds, color=\"red\",   marker=\".\", label=\"predictions\")\n",
    "plt.show()"
   ]
  },
  {
   "cell_type": "markdown",
   "metadata": {},
   "source": [
    "# Define a loss"
   ]
  },
  {
   "cell_type": "code",
   "execution_count": 19,
   "metadata": {},
   "outputs": [],
   "source": [
    "def loss(y, pred):\n",
    "    \"\"\"\n",
    "    compute the loss of the model\n",
    "    \n",
    "    here it is defined as the mean\n",
    "    squared error (MSE)\n",
    "    \"\"\"\n",
    "    return tf.reduce_mean(tf.square(y - pred))"
   ]
  },
  {
   "cell_type": "markdown",
   "metadata": {},
   "source": [
    "# Define a training function"
   ]
  },
  {
   "cell_type": "markdown",
   "metadata": {},
   "source": [
    "For TensorFlow to be able to automatically compute the gradient of a loss function with respect to the model parameters (here: `linear_model.Weight` and `linear_model.Bias`), we need to know which tensor ops were computed.\n",
    "\n",
    "These operations are recorded on a gradient tape using a `tf.GradientTape()` context manager:"
   ]
  },
  {
   "cell_type": "code",
   "execution_count": 21,
   "metadata": {},
   "outputs": [],
   "source": [
    "def train(linear_model, x, y, lr=0.12):\n",
    "    \"\"\"\n",
    "    Train the model using backpropagation\n",
    "    \n",
    "    Given a model linear_model and an input\n",
    "    x and a desired output y, we\n",
    "    1. do one forward step\n",
    "    2. retrieve the gradient of the loss function\n",
    "       with respect to the model parameters\n",
    "    3. do a step in to the negative direction\n",
    "       of the gradient (multiplied by the\n",
    "       learning rate lr), i.e., do gradient descent\n",
    "    \"\"\"\n",
    "    \n",
    "    # 1. \n",
    "    # Compute the loss\n",
    "    # This indirectly induces the computation\n",
    "    # the output of the model by\n",
    "    # linear_model(x)\n",
    "    # which is implemented by the __call__()\n",
    "    # function\n",
    "    with tf.GradientTape() as t:\n",
    "        current_loss = loss(y, linear_model(x))\n",
    "\n",
    "    # 2.\n",
    "    # Automatically compute the gradient\n",
    "    # of the loss with respect to the\n",
    "    # two model parameters\n",
    "    dloss_dweight, dloss_dbias = \\\n",
    "        t.gradient(current_loss, [linear_model.Weight, linear_model.Bias])\n",
    "    \n",
    "    # 3.\n",
    "    # Do gradient descent\n",
    "    \n",
    "    # Weight -= lr * dloss_dweight        \n",
    "    linear_model.Weight.assign_sub(lr * dloss_dweight)  \n",
    "    # Bias -= lr * dloss_dbias\n",
    "    linear_model.Bias.assign_sub  (lr * dloss_dbias)"
   ]
  },
  {
   "cell_type": "markdown",
   "metadata": {},
   "source": [
    "# Training of the model"
   ]
  },
  {
   "cell_type": "code",
   "execution_count": 22,
   "metadata": {},
   "outputs": [
    {
     "name": "stdout",
     "output_type": "stream",
     "text": [
      "Epoch count 0: Loss value: 53885.33984375\n",
      "Epoch count 10: Loss value: 10.687844276428223\n",
      "Epoch count 20: Loss value: 9.557897567749023\n",
      "Epoch count 30: Loss value: 8.63199234008789\n",
      "Epoch count 40: Loss value: 7.873201370239258\n",
      "Epoch count 50: Loss value: 7.251363277435303\n",
      "Epoch count 60: Loss value: 6.741757869720459\n",
      "Epoch count 70: Loss value: 6.324130058288574\n",
      "Epoch count 80: Loss value: 5.981879711151123\n",
      "Epoch count 90: Loss value: 5.7014007568359375\n",
      "Epoch count 100: Loss value: 5.47154426574707\n",
      "Epoch count 110: Loss value: 5.283174991607666\n",
      "Epoch count 120: Loss value: 5.1288042068481445\n",
      "Epoch count 130: Loss value: 5.002295017242432\n",
      "Epoch count 140: Loss value: 4.898618698120117\n",
      "Epoch count 150: Loss value: 4.81365442276001\n",
      "Epoch count 160: Loss value: 4.744026184082031\n",
      "Epoch count 170: Loss value: 4.686964511871338\n",
      "Epoch count 180: Loss value: 4.640202045440674\n",
      "Epoch count 190: Loss value: 4.601878643035889\n",
      "Epoch count 200: Loss value: 4.5704731941223145\n",
      "Epoch count 210: Loss value: 4.544735431671143\n",
      "Epoch count 220: Loss value: 4.523643493652344\n",
      "Epoch count 230: Loss value: 4.506357669830322\n",
      "Epoch count 240: Loss value: 4.492192268371582\n",
      "Epoch count 250: Loss value: 4.480583667755127\n",
      "Epoch count 260: Loss value: 4.471069812774658\n",
      "Epoch count 270: Loss value: 4.463273048400879\n",
      "Epoch count 280: Loss value: 4.456883907318115\n",
      "Epoch count 290: Loss value: 4.451647758483887\n",
      "Epoch count 300: Loss value: 4.447356224060059\n",
      "Epoch count 310: Loss value: 4.443840503692627\n",
      "Epoch count 320: Loss value: 4.440958499908447\n",
      "Epoch count 330: Loss value: 4.438596725463867\n",
      "Epoch count 340: Loss value: 4.436661243438721\n",
      "Epoch count 350: Loss value: 4.435074806213379\n",
      "Epoch count 360: Loss value: 4.433774948120117\n",
      "Epoch count 370: Loss value: 4.432709693908691\n",
      "Epoch count 380: Loss value: 4.43183708190918\n",
      "Epoch count 390: Loss value: 4.431121349334717\n",
      "Epoch count 400: Loss value: 4.430534839630127\n",
      "Epoch count 410: Loss value: 4.430054664611816\n",
      "Epoch count 420: Loss value: 4.429661273956299\n",
      "Epoch count 430: Loss value: 4.429338455200195\n",
      "Epoch count 440: Loss value: 4.429073810577393\n",
      "Epoch count 450: Loss value: 4.42885684967041\n",
      "Epoch count 460: Loss value: 4.428679466247559\n",
      "Epoch count 470: Loss value: 4.428534030914307\n",
      "Epoch count 480: Loss value: 4.428414344787598\n",
      "Epoch count 490: Loss value: 4.428316593170166\n",
      "Epoch count 500: Loss value: 4.428236961364746\n",
      "Epoch count 510: Loss value: 4.428171157836914\n",
      "Epoch count 520: Loss value: 4.428116798400879\n",
      "Epoch count 530: Loss value: 4.428072929382324\n",
      "Epoch count 540: Loss value: 4.428037166595459\n",
      "Epoch count 550: Loss value: 4.428007125854492\n",
      "Epoch count 560: Loss value: 4.42798376083374\n",
      "Epoch count 570: Loss value: 4.4279632568359375\n",
      "Epoch count 580: Loss value: 4.427947044372559\n",
      "Epoch count 590: Loss value: 4.427933216094971\n",
      "Epoch count 600: Loss value: 4.42792272567749\n",
      "Epoch count 610: Loss value: 4.427913188934326\n",
      "Epoch count 620: Loss value: 4.427906513214111\n",
      "Epoch count 630: Loss value: 4.427900314331055\n",
      "Epoch count 640: Loss value: 4.4278950691223145\n",
      "Epoch count 650: Loss value: 4.427891254425049\n",
      "Epoch count 660: Loss value: 4.427887916564941\n",
      "Epoch count 670: Loss value: 4.427885055541992\n",
      "Epoch count 680: Loss value: 4.427882671356201\n",
      "Epoch count 690: Loss value: 4.427880764007568\n",
      "Epoch count 700: Loss value: 4.427879810333252\n",
      "Epoch count 710: Loss value: 4.4278788566589355\n",
      "Epoch count 720: Loss value: 4.427877902984619\n",
      "Epoch count 730: Loss value: 4.427876949310303\n",
      "Epoch count 740: Loss value: 4.427875995635986\n",
      "Epoch count 750: Loss value: 4.42787504196167\n",
      "Epoch count 760: Loss value: 4.427874565124512\n",
      "Epoch count 770: Loss value: 4.427874565124512\n",
      "Epoch count 780: Loss value: 4.427873611450195\n",
      "Epoch count 790: Loss value: 4.427873611450195\n",
      "Epoch count 800: Loss value: 4.4278740882873535\n",
      "Epoch count 810: Loss value: 4.427873611450195\n",
      "Epoch count 820: Loss value: 4.427873611450195\n",
      "Epoch count 830: Loss value: 4.427873134613037\n",
      "Epoch count 840: Loss value: 4.427873134613037\n",
      "Epoch count 850: Loss value: 4.427873134613037\n",
      "Epoch count 860: Loss value: 4.427872657775879\n",
      "Epoch count 870: Loss value: 4.427872657775879\n",
      "Epoch count 880: Loss value: 4.427872657775879\n",
      "Epoch count 890: Loss value: 4.427872657775879\n",
      "Epoch count 900: Loss value: 4.427873134613037\n",
      "Epoch count 910: Loss value: 4.427872657775879\n",
      "Epoch count 920: Loss value: 4.427873134613037\n",
      "Epoch count 930: Loss value: 4.427872657775879\n",
      "Epoch count 940: Loss value: 4.427872657775879\n",
      "Epoch count 950: Loss value: 4.427872657775879\n",
      "Epoch count 960: Loss value: 4.427873134613037\n",
      "Epoch count 970: Loss value: 4.427872657775879\n",
      "Epoch count 980: Loss value: 4.427872657775879\n",
      "Epoch count 990: Loss value: 4.427872657775879\n",
      "Epoch count 1000: Loss value: 4.427873134613037\n",
      "Epoch count 1010: Loss value: 4.427873134613037\n",
      "Epoch count 1020: Loss value: 4.427873134613037\n",
      "Epoch count 1030: Loss value: 4.427872657775879\n",
      "Epoch count 1040: Loss value: 4.427872657775879\n",
      "Epoch count 1050: Loss value: 4.427873134613037\n",
      "Epoch count 1060: Loss value: 4.427872657775879\n",
      "Epoch count 1070: Loss value: 4.427872657775879\n",
      "Epoch count 1080: Loss value: 4.427872657775879\n",
      "Epoch count 1090: Loss value: 4.427872657775879\n",
      "Epoch count 1100: Loss value: 4.427872657775879\n",
      "Epoch count 1110: Loss value: 4.427872657775879\n",
      "Epoch count 1120: Loss value: 4.427872657775879\n",
      "Epoch count 1130: Loss value: 4.427872657775879\n",
      "Epoch count 1140: Loss value: 4.427872657775879\n",
      "Epoch count 1150: Loss value: 4.427872657775879\n",
      "Epoch count 1160: Loss value: 4.427872657775879\n",
      "Epoch count 1170: Loss value: 4.427872657775879\n",
      "Epoch count 1180: Loss value: 4.427872657775879\n",
      "Epoch count 1190: Loss value: 4.427873134613037\n",
      "Epoch count 1200: Loss value: 4.427872657775879\n",
      "Epoch count 1210: Loss value: 4.427872657775879\n",
      "Epoch count 1220: Loss value: 4.427872657775879\n",
      "Epoch count 1230: Loss value: 4.427872657775879\n",
      "Epoch count 1240: Loss value: 4.427872657775879\n",
      "Epoch count 1250: Loss value: 4.427872657775879\n",
      "Epoch count 1260: Loss value: 4.427872657775879\n",
      "Epoch count 1270: Loss value: 4.427872657775879\n",
      "Epoch count 1280: Loss value: 4.427872657775879\n",
      "Epoch count 1290: Loss value: 4.427873134613037\n",
      "Epoch count 1300: Loss value: 4.427872657775879\n",
      "Epoch count 1310: Loss value: 4.427872657775879\n",
      "Epoch count 1320: Loss value: 4.427872657775879\n",
      "Epoch count 1330: Loss value: 4.427873134613037\n",
      "Epoch count 1340: Loss value: 4.427872657775879\n",
      "Epoch count 1350: Loss value: 4.427872657775879\n",
      "Epoch count 1360: Loss value: 4.427872657775879\n",
      "Epoch count 1370: Loss value: 4.427872657775879\n",
      "Epoch count 1380: Loss value: 4.427872657775879\n",
      "Epoch count 1390: Loss value: 4.427872657775879\n",
      "Epoch count 1400: Loss value: 4.427873134613037\n",
      "Epoch count 1410: Loss value: 4.427872657775879\n",
      "Epoch count 1420: Loss value: 4.427872657775879\n",
      "Epoch count 1430: Loss value: 4.427872657775879\n",
      "Epoch count 1440: Loss value: 4.427872657775879\n",
      "Epoch count 1450: Loss value: 4.427872657775879\n",
      "Epoch count 1460: Loss value: 4.427872657775879\n",
      "Epoch count 1470: Loss value: 4.427872657775879\n",
      "Epoch count 1480: Loss value: 4.427872657775879\n",
      "Epoch count 1490: Loss value: 4.427872657775879\n",
      "Epoch count 1500: Loss value: 4.427872657775879\n",
      "Epoch count 1510: Loss value: 4.427872657775879\n",
      "Epoch count 1520: Loss value: 4.427872657775879\n",
      "Epoch count 1530: Loss value: 4.427872657775879\n",
      "Epoch count 1540: Loss value: 4.427872657775879\n",
      "Epoch count 1550: Loss value: 4.427872657775879\n",
      "Epoch count 1560: Loss value: 4.427872657775879\n",
      "Epoch count 1570: Loss value: 4.427872657775879\n",
      "Epoch count 1580: Loss value: 4.427872657775879\n",
      "Epoch count 1590: Loss value: 4.427872657775879\n",
      "Epoch count 1600: Loss value: 4.427872657775879\n",
      "Epoch count 1610: Loss value: 4.427872657775879\n",
      "Epoch count 1620: Loss value: 4.427872657775879\n",
      "Epoch count 1630: Loss value: 4.427872657775879\n",
      "Epoch count 1640: Loss value: 4.427872657775879\n",
      "Epoch count 1650: Loss value: 4.427872657775879\n",
      "Epoch count 1660: Loss value: 4.427872657775879\n",
      "Epoch count 1670: Loss value: 4.427872657775879\n",
      "Epoch count 1680: Loss value: 4.427872657775879\n",
      "Epoch count 1690: Loss value: 4.427872657775879\n",
      "Epoch count 1700: Loss value: 4.427872657775879\n",
      "Epoch count 1710: Loss value: 4.427872657775879\n",
      "Epoch count 1720: Loss value: 4.427872657775879\n",
      "Epoch count 1730: Loss value: 4.427872657775879\n",
      "Epoch count 1740: Loss value: 4.427872657775879\n",
      "Epoch count 1750: Loss value: 4.427872657775879\n"
     ]
    },
    {
     "name": "stdout",
     "output_type": "stream",
     "text": [
      "Epoch count 1760: Loss value: 4.427872657775879\n",
      "Epoch count 1770: Loss value: 4.427872657775879\n",
      "Epoch count 1780: Loss value: 4.427872657775879\n",
      "Epoch count 1790: Loss value: 4.427872657775879\n",
      "Epoch count 1800: Loss value: 4.427872657775879\n",
      "Epoch count 1810: Loss value: 4.427872657775879\n",
      "Epoch count 1820: Loss value: 4.427872657775879\n",
      "Epoch count 1830: Loss value: 4.427872657775879\n",
      "Epoch count 1840: Loss value: 4.427872657775879\n",
      "Epoch count 1850: Loss value: 4.427872657775879\n",
      "Epoch count 1860: Loss value: 4.427872657775879\n",
      "Epoch count 1870: Loss value: 4.427872657775879\n",
      "Epoch count 1880: Loss value: 4.427872657775879\n",
      "Epoch count 1890: Loss value: 4.427872657775879\n",
      "Epoch count 1900: Loss value: 4.427872657775879\n",
      "Epoch count 1910: Loss value: 4.427872657775879\n",
      "Epoch count 1920: Loss value: 4.427872657775879\n",
      "Epoch count 1930: Loss value: 4.427872657775879\n",
      "Epoch count 1940: Loss value: 4.427872657775879\n",
      "Epoch count 1950: Loss value: 4.427872657775879\n",
      "Epoch count 1960: Loss value: 4.427872657775879\n",
      "Epoch count 1970: Loss value: 4.427872657775879\n",
      "Epoch count 1980: Loss value: 4.427872657775879\n",
      "Epoch count 1990: Loss value: 4.427872657775879\n"
     ]
    }
   ],
   "source": [
    "linear_model = LinearModel()\n",
    "Weights, Biases, Losses = [], [], []\n",
    "epochs = 2000\n",
    "for epoch_count in range(epochs):\n",
    "    Weights.append(linear_model.Weight.numpy()) \n",
    "    Biases.append(linear_model.Bias.numpy())\n",
    "    real_loss = loss(y, linear_model(x))\n",
    "    Losses.append(real_loss)\n",
    "    \n",
    "    train(linear_model, x, y, lr=0.02)\n",
    "    if epoch_count % 10 == 0:\n",
    "        print(f\"Epoch count {epoch_count}: Loss value: {real_loss.numpy()}\")"
   ]
  },
  {
   "cell_type": "markdown",
   "metadata": {},
   "source": [
    "# Comparison of found model parameters and ground truth"
   ]
  },
  {
   "cell_type": "code",
   "execution_count": 23,
   "metadata": {},
   "outputs": [
    {
     "data": {
      "text/plain": [
       "2.0"
      ]
     },
     "execution_count": 23,
     "metadata": {},
     "output_type": "execute_result"
    }
   ],
   "source": [
    "TRUE_SLOPE"
   ]
  },
  {
   "cell_type": "code",
   "execution_count": 24,
   "metadata": {},
   "outputs": [
    {
     "data": {
      "text/plain": [
       "0.9"
      ]
     },
     "execution_count": 24,
     "metadata": {},
     "output_type": "execute_result"
    }
   ],
   "source": [
    "TRUE_INTERCEPT"
   ]
  },
  {
   "cell_type": "code",
   "execution_count": 25,
   "metadata": {},
   "outputs": [
    {
     "data": {
      "text/plain": [
       "1.9408172"
      ]
     },
     "execution_count": 25,
     "metadata": {},
     "output_type": "execute_result"
    }
   ],
   "source": [
    "Weights[-1]"
   ]
  },
  {
   "cell_type": "code",
   "execution_count": 26,
   "metadata": {},
   "outputs": [
    {
     "data": {
      "text/plain": [
       "0.822814"
      ]
     },
     "execution_count": 26,
     "metadata": {},
     "output_type": "execute_result"
    }
   ],
   "source": [
    "Biases[-1]"
   ]
  },
  {
   "cell_type": "code",
   "execution_count": 29,
   "metadata": {},
   "outputs": [
    {
     "data": {
      "image/png": "[encoded data removed]",
      "text/plain": [
       "<Figure size 432x288 with 1 Axes>"
      ]
     },
     "metadata": {
      "needs_background": "light"
     },
     "output_type": "display_data"
    }
   ],
   "source": [
    "plt.plot(Weights)\n",
    "plt.xlabel(\"training step\")\n",
    "plt.ylabel(\"weight (1st param of the model)\")\n",
    "plt.show()"
   ]
  },
  {
   "cell_type": "code",
   "execution_count": 30,
   "metadata": {},
   "outputs": [
    {
     "data": {
      "image/png": "[encoded data removed]",
      "text/plain": [
       "<Figure size 432x288 with 1 Axes>"
      ]
     },
     "metadata": {
      "needs_background": "light"
     },
     "output_type": "display_data"
    }
   ],
   "source": [
    "plt.plot(Biases)\n",
    "plt.xlabel(\"training step\")\n",
    "plt.ylabel(\"bias (2nd param of the model)\")\n",
    "plt.show()"
   ]
  },
  {
   "cell_type": "code",
   "execution_count": null,
   "metadata": {},
   "outputs": [],
   "source": []
  }
 ],
 "metadata": {
  "kernelspec": {
   "display_name": "Python 3",
   "language": "python",
   "name": "python3"
  },
  "language_info": {
   "codemirror_mode": {
    "name": "ipython",
    "version": 3
   },
   "file_extension": ".py",
   "mimetype": "text/x-python",
   "name": "python",
   "nbconvert_exporter": "python",
   "pygments_lexer": "ipython3",
   "version": "3.6.2"
  },
  "toc": {
   "base_numbering": 1,
   "nav_menu": {},
   "number_sections": true,
   "sideBar": true,
   "skip_h1_title": false,
   "title_cell": "Table of Contents",
   "title_sidebar": "Contents",
   "toc_cell": true,
   "toc_position": {},
   "toc_section_display": true,
   "toc_window_display": true
  }
 },
 "nbformat": 4,
 "nbformat_minor": 2
}
