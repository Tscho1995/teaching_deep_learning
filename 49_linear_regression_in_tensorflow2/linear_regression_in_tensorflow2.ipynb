{
 "cells": [
  {
   "cell_type": "markdown",
   "metadata": {
    "toc": true
   },
   "source": [
    "<h1>Table of Contents<span class=\"tocSkip\"></span></h1>\n",
    "<div class=\"toc\"><ul class=\"toc-item\"><li><span><a href=\"#Check-your-TensorFlow-version\" data-toc-modified-id=\"Check-your-TensorFlow-version-1\"><span class=\"toc-item-num\">1&nbsp;&nbsp;</span>Check your TensorFlow version</a></span></li><li><span><a href=\"#Generate-training-data\" data-toc-modified-id=\"Generate-training-data-2\"><span class=\"toc-item-num\">2&nbsp;&nbsp;</span>Generate training data</a></span></li><li><span><a href=\"#Define-a-TF-model\" data-toc-modified-id=\"Define-a-TF-model-3\"><span class=\"toc-item-num\">3&nbsp;&nbsp;</span>Define a TF model</a></span></li><li><span><a href=\"#Create-an-instance-of-a-model-and-use-it\" data-toc-modified-id=\"Create-an-instance-of-a-model-and-use-it-4\"><span class=\"toc-item-num\">4&nbsp;&nbsp;</span>Create an instance of a model and use it</a></span></li><li><span><a href=\"#Define-a-loss\" data-toc-modified-id=\"Define-a-loss-5\"><span class=\"toc-item-num\">5&nbsp;&nbsp;</span>Define a loss</a></span></li><li><span><a href=\"#Define-a-training-function\" data-toc-modified-id=\"Define-a-training-function-6\"><span class=\"toc-item-num\">6&nbsp;&nbsp;</span>Define a training function</a></span></li><li><span><a href=\"#Training-of-the-model\" data-toc-modified-id=\"Training-of-the-model-7\"><span class=\"toc-item-num\">7&nbsp;&nbsp;</span>Training of the model</a></span></li><li><span><a href=\"#Comparison-of-found-model-parameters-and-ground-truth\" data-toc-modified-id=\"Comparison-of-found-model-parameters-and-ground-truth-8\"><span class=\"toc-item-num\">8&nbsp;&nbsp;</span>Comparison of found model parameters and ground truth</a></span></li></ul></div>"
   ]
  },
  {
   "cell_type": "markdown",
   "metadata": {},
   "source": [
    "The code here is inspired by the following blog post:\n",
    "    \n",
    "https://heartbeat.fritz.ai/linear-regression-using-tensorflow-2-0-1cd51e211e1f"
   ]
  },
  {
   "cell_type": "markdown",
   "metadata": {},
   "source": [
    "# Check your TensorFlow version"
   ]
  },
  {
   "cell_type": "code",
   "execution_count": 1,
   "metadata": {},
   "outputs": [],
   "source": [
    "import tensorflow as tf"
   ]
  },
  {
   "cell_type": "code",
   "execution_count": 2,
   "metadata": {},
   "outputs": [
    {
     "name": "stdout",
     "output_type": "stream",
     "text": [
      "2.0.0\n"
     ]
    }
   ],
   "source": [
    "print(tf.__version__)"
   ]
  },
  {
   "cell_type": "markdown",
   "metadata": {},
   "source": [
    "# Generate training data"
   ]
  },
  {
   "cell_type": "code",
   "execution_count": 3,
   "metadata": {},
   "outputs": [
    {
     "data": {
      "text/plain": [
       "array([-0.23582455, -0.22865379,  0.79437768,  0.66205196, -0.63635625,\n",
       "       -1.01881465, -0.30839443,  1.48009595, -0.95799347, -0.16545727,\n",
       "        0.41883402,  0.01585448,  2.15615246, -0.18877677,  1.02522241,\n",
       "        2.29118424,  0.8769632 ,  0.5270104 ,  1.70142947, -0.35993706,\n",
       "       -0.71688335,  2.11155378,  0.84048188,  0.17002752,  0.92299334,\n",
       "       -1.803753  , -0.47352223, -0.42399503,  0.625032  ,  1.4381395 ,\n",
       "        1.83950308,  1.16082393,  1.29108596,  0.23061775, -0.49056617,\n",
       "        1.31029354,  0.04246696,  1.32492546,  0.04271286,  1.97726689,\n",
       "       -0.24064769, -1.74329251, -0.06684257, -0.62803728,  1.46799224,\n",
       "       -0.81480931, -0.62219286,  0.2006748 , -1.55413065, -0.33224991,\n",
       "        0.25996675,  1.9791581 ,  1.64701118, -0.18985429, -0.16487597,\n",
       "       -0.91802805, -0.27889714,  0.42174237,  1.67239543, -0.54705203,\n",
       "       -0.86241475, -0.65457692, -0.32043436, -2.08413953,  0.63200483,\n",
       "        1.0689402 ,  1.05450785,  0.66844046,  0.92224517,  1.6105502 ,\n",
       "        0.75562909, -0.91478324, -1.24186624, -1.3837202 ,  2.01158144,\n",
       "       -0.25341565,  1.02509184, -0.9277062 ,  1.00421764, -0.2571419 ,\n",
       "        1.32744415, -0.59235009, -0.18038398,  0.87019299,  0.00567041,\n",
       "       -1.00349537,  0.64525127,  0.67243646,  0.01503109,  0.16202395,\n",
       "        0.39997099,  1.43108708, -0.98143383,  0.18157357, -1.05797511,\n",
       "       -0.01534424,  0.09392988, -0.63149907,  0.91595417,  0.25137548,\n",
       "        1.08926368, -1.37464143,  1.73133552, -0.9452562 ,  0.32689683,\n",
       "        1.08220792, -0.4332071 , -0.59340313, -0.68929697, -1.62476585,\n",
       "        0.42521191, -0.34940316, -0.60591569,  1.93850643,  0.03118463,\n",
       "       -0.95436401,  0.95676983, -1.01976841,  0.31161207, -0.36862788])"
      ]
     },
     "execution_count": 3,
     "metadata": {},
     "output_type": "execute_result"
    }
   ],
   "source": [
    "import numpy as np\n",
    "nr_points = 120\n",
    "np.random.normal(0,1, (nr_points))"
   ]
  },
  {
   "cell_type": "code",
   "execution_count": 4,
   "metadata": {},
   "outputs": [],
   "source": [
    "TRUE_SLOPE = 2.0\n",
    "TRUE_INTERCEPT = 0.9\n",
    "\n",
    "x = np.linspace(0, 10, nr_points)\n",
    "y = TRUE_SLOPE * x + TRUE_INTERCEPT + np.random.normal(0,1, (nr_points)) * 2.0"
   ]
  },
  {
   "cell_type": "code",
   "execution_count": 7,
   "metadata": {},
   "outputs": [
    {
     "data": {
      "text/plain": [
       "numpy.ndarray"
      ]
     },
     "execution_count": 7,
     "metadata": {},
     "output_type": "execute_result"
    }
   ],
   "source": [
    "type(x)"
   ]
  },
  {
   "cell_type": "code",
   "execution_count": 6,
   "metadata": {},
   "outputs": [
    {
     "data": {
      "text/plain": [
       "(120,)"
      ]
     },
     "execution_count": 6,
     "metadata": {},
     "output_type": "execute_result"
    }
   ],
   "source": [
    "x.shape"
   ]
  },
  {
   "cell_type": "code",
   "execution_count": 8,
   "metadata": {},
   "outputs": [
    {
     "data": {
      "text/plain": [
       "(120,)"
      ]
     },
     "execution_count": 8,
     "metadata": {},
     "output_type": "execute_result"
    }
   ],
   "source": [
    "y.shape"
   ]
  },
  {
   "cell_type": "code",
   "execution_count": 55,
   "metadata": {},
   "outputs": [
    {
     "data": {
      "image/png": "[encoded data removed]",
      "text/plain": [
       "<Figure size 432x288 with 1 Axes>"
      ]
     },
     "metadata": {
      "needs_background": "light"
     },
     "output_type": "display_data"
    }
   ],
   "source": [
    "import matplotlib.pyplot as plt\n",
    "\n",
    "plt.scatter(x,y)\n",
    "plt.show()"
   ]
  },
  {
   "cell_type": "markdown",
   "metadata": {},
   "source": [
    "# Define a TF model"
   ]
  },
  {
   "cell_type": "code",
   "execution_count": 11,
   "metadata": {},
   "outputs": [],
   "source": [
    "class LinearModel:\n",
    "    \n",
    "    def __call__(self, x):\n",
    "        return self.Weight * x + self.Bias\n",
    "    \n",
    "    def __init__(self):\n",
    "        self.Weight = tf.Variable(42.0)\n",
    "        self.Bias = tf.Variable(1.234)"
   ]
  },
  {
   "cell_type": "markdown",
   "metadata": {},
   "source": [
    "What is the magic method `__call__()` good for?"
   ]
  },
  {
   "cell_type": "code",
   "execution_count": 12,
   "metadata": {},
   "outputs": [],
   "source": [
    "class test:\n",
    "    \n",
    "    def __call__(self,x):\n",
    "        return x**3"
   ]
  },
  {
   "cell_type": "code",
   "execution_count": 13,
   "metadata": {},
   "outputs": [],
   "source": [
    "t = test()"
   ]
  },
  {
   "cell_type": "code",
   "execution_count": 14,
   "metadata": {},
   "outputs": [
    {
     "data": {
      "text/plain": [
       "8"
      ]
     },
     "execution_count": 14,
     "metadata": {},
     "output_type": "execute_result"
    }
   ],
   "source": [
    "t(2)"
   ]
  },
  {
   "cell_type": "markdown",
   "metadata": {},
   "source": [
    "# Create an instance of a model and use it\n",
    "\n",
    "... without having learned the weights!\n",
    "\n",
    "Training of the model parameters will be shown later!"
   ]
  },
  {
   "cell_type": "code",
   "execution_count": 15,
   "metadata": {},
   "outputs": [],
   "source": [
    "my_model = LinearModel()"
   ]
  },
  {
   "cell_type": "code",
   "execution_count": 16,
   "metadata": {},
   "outputs": [],
   "source": [
    "preds = my_model(x)"
   ]
  },
  {
   "cell_type": "code",
   "execution_count": 18,
   "metadata": {},
   "outputs": [
    {
     "data": {
      "text/plain": [
       "tensorflow.python.framework.ops.EagerTensor"
      ]
     },
     "execution_count": 18,
     "metadata": {},
     "output_type": "execute_result"
    }
   ],
   "source": [
    "type(preds)"
   ]
  },
  {
   "cell_type": "code",
   "execution_count": 19,
   "metadata": {},
   "outputs": [
    {
     "data": {
      "text/plain": [
       "<tf.Tensor: id=19, shape=(120,), dtype=float32, numpy=\n",
       "array([  1.234    ,   4.7634115,   8.292824 ,  11.822236 ,  15.351647 ,\n",
       "        18.881058 ,  22.410471 ,  25.939882 ,  29.469294 ,  32.998707 ,\n",
       "        36.52812  ,  40.05753  ,  43.586945 ,  47.116356 ,  50.645767 ,\n",
       "        54.17518  ,  57.70459  ,  61.234    ,  64.76341  ,  68.29282  ,\n",
       "        71.822235 ,  75.35165  ,  78.88106  ,  82.41047  ,  85.93989  ,\n",
       "        89.46929  ,  92.99871  ,  96.528114 , 100.05753  , 103.586945 ,\n",
       "       107.116356 , 110.64577  , 114.17518  , 117.70459  , 121.234    ,\n",
       "       124.76341  , 128.29282  , 131.82222  , 135.35164  , 138.88104  ,\n",
       "       142.41046  , 145.93987  , 149.46928  , 152.9987   , 156.5281   ,\n",
       "       160.05753  , 163.58693  , 167.11635  , 170.64577  , 174.17517  ,\n",
       "       177.70457  , 181.234    , 184.76341  , 188.29282  , 191.82222  ,\n",
       "       195.35164  , 198.88106  , 202.41046  , 205.93988  , 209.46928  ,\n",
       "       212.9987   , 216.5281   , 220.05753  , 223.58693  , 227.11635  ,\n",
       "       230.64577  , 234.17517  , 237.70457  , 241.234    , 244.76341  ,\n",
       "       248.29282  , 251.82222  , 255.35164  , 258.88107  , 262.41046  ,\n",
       "       265.9399   , 269.4693   , 272.99872  , 276.5281   , 280.05756  ,\n",
       "       283.58694  , 287.11636  , 290.64575  , 294.1752   , 297.7046   ,\n",
       "       301.234    , 304.76343  , 308.29285  , 311.82224  , 315.35165  ,\n",
       "       318.88107  , 322.4105   , 325.93988  , 329.4693   , 332.99872  ,\n",
       "       336.52814  , 340.05756  , 343.58694  , 347.11636  , 350.64575  ,\n",
       "       354.17517  , 357.70462  , 361.234    , 364.76343  , 368.29285  ,\n",
       "       371.82224  , 375.35165  , 378.88104  , 382.41046  , 385.9399   ,\n",
       "       389.4693   , 392.99872  , 396.52814  , 400.05753  , 403.58694  ,\n",
       "       407.11633  , 410.64578  , 414.1752   , 417.7046   , 421.234    ],\n",
       "      dtype=float32)>"
      ]
     },
     "execution_count": 19,
     "metadata": {},
     "output_type": "execute_result"
    }
   ],
   "source": [
    "preds"
   ]
  },
  {
   "cell_type": "code",
   "execution_count": 20,
   "metadata": {},
   "outputs": [
    {
     "data": {
      "image/png": "[encoded data removed]",
      "text/plain": [
       "<Figure size 720x360 with 1 Axes>"
      ]
     },
     "metadata": {
      "needs_background": "light"
     },
     "output_type": "display_data"
    }
   ],
   "source": [
    "import matplotlib.pyplot as plt\n",
    "fig = plt.figure(figsize=(10,5))\n",
    "plt.scatter(x,y,     color=\"green\", marker=\".\", label=\"teacher values\")\n",
    "plt.scatter(x,preds, color=\"red\",   marker=\".\", label=\"predictions\")\n",
    "plt.show()"
   ]
  },
  {
   "cell_type": "markdown",
   "metadata": {},
   "source": [
    "# Define a loss"
   ]
  },
  {
   "cell_type": "code",
   "execution_count": 21,
   "metadata": {},
   "outputs": [],
   "source": [
    "def loss(y, pred):\n",
    "    \"\"\"\n",
    "    compute the loss of the model\n",
    "    \n",
    "    here it is defined as the mean\n",
    "    squared error (MSE)\n",
    "    \"\"\"\n",
    "    return tf.reduce_mean(tf.square(y - pred))"
   ]
  },
  {
   "cell_type": "markdown",
   "metadata": {},
   "source": [
    "# Define a training function"
   ]
  },
  {
   "cell_type": "markdown",
   "metadata": {},
   "source": [
    "For TensorFlow to be able to automatically compute the gradient of a loss function with respect to the model parameters (here: `linear_model.Weight` and `linear_model.Bias`), we need to know which tensor ops were computed.\n",
    "\n",
    "These operations are recorded on a gradient tape using a `tf.GradientTape()` context manager:"
   ]
  },
  {
   "cell_type": "code",
   "execution_count": 23,
   "metadata": {},
   "outputs": [],
   "source": [
    "def train(linear_model, x, y, lr=0.12):\n",
    "    \"\"\"\n",
    "    Train the model using backpropagation\n",
    "    \n",
    "    Given a model linear_model and an input\n",
    "    x and a desired output y, we\n",
    "    1. do one forward step\n",
    "    2. retrieve the gradient of the loss function\n",
    "       with respect to the model parameters\n",
    "    3. do a step in to the negative direction\n",
    "       of the gradient (multiplied by the\n",
    "       learning rate lr), i.e., do gradient descent\n",
    "    \"\"\"\n",
    "    \n",
    "    # 1. \n",
    "    # Compute the loss\n",
    "    # This indirectly induces the computation\n",
    "    # the output of the model by\n",
    "    # linear_model(x)\n",
    "    # which is implemented by the __call__()\n",
    "    # function\n",
    "    with tf.GradientTape() as t:\n",
    "        current_loss = loss(y, linear_model(x))\n",
    "\n",
    "    # 2.\n",
    "    # Automatically compute the gradient\n",
    "    # of the loss with respect to the\n",
    "    # two model parameters\n",
    "    dloss_dweight, dloss_dbias = \\\n",
    "        t.gradient(current_loss, [linear_model.Weight, linear_model.Bias])\n",
    "    \n",
    "    # 3.\n",
    "    # Do gradient descent\n",
    "    \n",
    "    # Weight -= lr * dloss_dweight        \n",
    "    linear_model.Weight.assign_sub(lr * dloss_dweight)  \n",
    "    # Bias -= lr * dloss_dbias\n",
    "    linear_model.Bias.assign_sub  (lr * dloss_dbias)"
   ]
  },
  {
   "cell_type": "markdown",
   "metadata": {},
   "source": [
    "# Training of the model"
   ]
  },
  {
   "cell_type": "code",
   "execution_count": 50,
   "metadata": {},
   "outputs": [
    {
     "name": "stdout",
     "output_type": "stream",
     "text": [
      "Epoch count 0: Loss value: 53734.83984375\n",
      "Epoch count 10: Loss value: 10.012301445007324\n",
      "Epoch count 20: Loss value: 8.953816413879395\n",
      "Epoch count 30: Loss value: 8.086469650268555\n",
      "Epoch count 40: Loss value: 7.375668525695801\n",
      "Epoch count 50: Loss value: 6.793159008026123\n",
      "Epoch count 60: Loss value: 6.315784931182861\n",
      "Epoch count 70: Loss value: 5.924570083618164\n",
      "Epoch count 80: Loss value: 5.6039652824401855\n",
      "Epoch count 90: Loss value: 5.3412251472473145\n",
      "Epoch count 100: Loss value: 5.125906467437744\n",
      "Epoch count 110: Loss value: 4.9494500160217285\n",
      "Epoch count 120: Loss value: 4.804841995239258\n",
      "Epoch count 130: Loss value: 4.686334133148193\n",
      "Epoch count 140: Loss value: 4.589215278625488\n",
      "Epoch count 150: Loss value: 4.509625434875488\n",
      "Epoch count 160: Loss value: 4.444399833679199\n",
      "Epoch count 170: Loss value: 4.390946865081787\n",
      "Epoch count 180: Loss value: 4.347141742706299\n",
      "Epoch count 190: Loss value: 4.311242580413818\n",
      "Epoch count 200: Loss value: 4.281822681427002\n",
      "Epoch count 210: Loss value: 4.257713317871094\n",
      "Epoch count 220: Loss value: 4.237955093383789\n",
      "Epoch count 230: Loss value: 4.2217631340026855\n",
      "Epoch count 240: Loss value: 4.208493709564209\n",
      "Epoch count 250: Loss value: 4.19761848449707\n",
      "Epoch count 260: Loss value: 4.188706398010254\n",
      "Epoch count 270: Loss value: 4.181403636932373\n",
      "Epoch count 280: Loss value: 4.175417900085449\n",
      "Epoch count 290: Loss value: 4.170512676239014\n",
      "Epoch count 300: Loss value: 4.1664934158325195\n",
      "Epoch count 310: Loss value: 4.163198947906494\n",
      "Epoch count 320: Loss value: 4.160499572753906\n",
      "Epoch count 330: Loss value: 4.158287048339844\n",
      "Epoch count 340: Loss value: 4.1564741134643555\n",
      "Epoch count 350: Loss value: 4.154988765716553\n",
      "Epoch count 360: Loss value: 4.153770923614502\n",
      "Epoch count 370: Loss value: 4.152772903442383\n",
      "Epoch count 380: Loss value: 4.1519551277160645\n",
      "Epoch count 390: Loss value: 4.151285171508789\n",
      "Epoch count 400: Loss value: 4.150735378265381\n",
      "Epoch count 410: Loss value: 4.150285720825195\n",
      "Epoch count 420: Loss value: 4.149916648864746\n",
      "Epoch count 430: Loss value: 4.149614334106445\n",
      "Epoch count 440: Loss value: 4.149366855621338\n",
      "Epoch count 450: Loss value: 4.149163722991943\n",
      "Epoch count 460: Loss value: 4.1489973068237305\n",
      "Epoch count 470: Loss value: 4.148860931396484\n",
      "Epoch count 480: Loss value: 4.148748874664307\n",
      "Epoch count 490: Loss value: 4.148657321929932\n",
      "Epoch count 500: Loss value: 4.1485819816589355\n",
      "Epoch count 510: Loss value: 4.148521423339844\n",
      "Epoch count 520: Loss value: 4.148470401763916\n",
      "Epoch count 530: Loss value: 4.148428916931152\n",
      "Epoch count 540: Loss value: 4.14839506149292\n",
      "Epoch count 550: Loss value: 4.148367881774902\n",
      "Epoch count 560: Loss value: 4.148345470428467\n",
      "Epoch count 570: Loss value: 4.148326396942139\n",
      "Epoch count 580: Loss value: 4.148311138153076\n",
      "Epoch count 590: Loss value: 4.148298740386963\n",
      "Epoch count 600: Loss value: 4.148288249969482\n",
      "Epoch count 610: Loss value: 4.148280143737793\n",
      "Epoch count 620: Loss value: 4.14827299118042\n",
      "Epoch count 630: Loss value: 4.14826774597168\n",
      "Epoch count 640: Loss value: 4.1482625007629395\n",
      "Epoch count 650: Loss value: 4.148259162902832\n",
      "Epoch count 660: Loss value: 4.148256301879883\n",
      "Epoch count 670: Loss value: 4.148253440856934\n",
      "Epoch count 680: Loss value: 4.148251533508301\n",
      "Epoch count 690: Loss value: 4.14824914932251\n",
      "Epoch count 700: Loss value: 4.148248195648193\n",
      "Epoch count 710: Loss value: 4.148246765136719\n",
      "Epoch count 720: Loss value: 4.1482462882995605\n",
      "Epoch count 730: Loss value: 4.148245811462402\n",
      "Epoch count 740: Loss value: 4.148244857788086\n",
      "Epoch count 750: Loss value: 4.148244380950928\n",
      "Epoch count 760: Loss value: 4.1482439041137695\n",
      "Epoch count 770: Loss value: 4.148243427276611\n",
      "Epoch count 780: Loss value: 4.148242473602295\n",
      "Epoch count 790: Loss value: 4.148243427276611\n",
      "Epoch count 800: Loss value: 4.148242473602295\n",
      "Epoch count 810: Loss value: 4.148242473602295\n",
      "Epoch count 820: Loss value: 4.148242473602295\n",
      "Epoch count 830: Loss value: 4.148241996765137\n",
      "Epoch count 840: Loss value: 4.148241996765137\n",
      "Epoch count 850: Loss value: 4.148241996765137\n",
      "Epoch count 860: Loss value: 4.148241996765137\n",
      "Epoch count 870: Loss value: 4.148241996765137\n",
      "Epoch count 880: Loss value: 4.148241996765137\n",
      "Epoch count 890: Loss value: 4.148241996765137\n",
      "Epoch count 900: Loss value: 4.148241996765137\n",
      "Epoch count 910: Loss value: 4.148241996765137\n",
      "Epoch count 920: Loss value: 4.148241996765137\n",
      "Epoch count 930: Loss value: 4.1482415199279785\n",
      "Epoch count 940: Loss value: 4.148241996765137\n",
      "Epoch count 950: Loss value: 4.148241996765137\n",
      "Epoch count 960: Loss value: 4.1482415199279785\n",
      "Epoch count 970: Loss value: 4.148241996765137\n",
      "Epoch count 980: Loss value: 4.148241996765137\n",
      "Epoch count 990: Loss value: 4.1482415199279785\n",
      "Epoch count 1000: Loss value: 4.148241996765137\n",
      "Epoch count 1010: Loss value: 4.148241996765137\n",
      "Epoch count 1020: Loss value: 4.148241996765137\n",
      "Epoch count 1030: Loss value: 4.1482415199279785\n",
      "Epoch count 1040: Loss value: 4.148241996765137\n",
      "Epoch count 1050: Loss value: 4.148241996765137\n",
      "Epoch count 1060: Loss value: 4.148241996765137\n",
      "Epoch count 1070: Loss value: 4.148241996765137\n",
      "Epoch count 1080: Loss value: 4.148241996765137\n",
      "Epoch count 1090: Loss value: 4.1482415199279785\n",
      "Epoch count 1100: Loss value: 4.148241996765137\n",
      "Epoch count 1110: Loss value: 4.148241996765137\n",
      "Epoch count 1120: Loss value: 4.148241996765137\n",
      "Epoch count 1130: Loss value: 4.148241996765137\n",
      "Epoch count 1140: Loss value: 4.148241996765137\n",
      "Epoch count 1150: Loss value: 4.1482415199279785\n",
      "Epoch count 1160: Loss value: 4.148241996765137\n",
      "Epoch count 1170: Loss value: 4.1482415199279785\n",
      "Epoch count 1180: Loss value: 4.1482415199279785\n",
      "Epoch count 1190: Loss value: 4.1482415199279785\n",
      "Epoch count 1200: Loss value: 4.148241996765137\n",
      "Epoch count 1210: Loss value: 4.148241996765137\n",
      "Epoch count 1220: Loss value: 4.148241996765137\n",
      "Epoch count 1230: Loss value: 4.1482415199279785\n",
      "Epoch count 1240: Loss value: 4.148241996765137\n",
      "Epoch count 1250: Loss value: 4.148241996765137\n",
      "Epoch count 1260: Loss value: 4.148241996765137\n",
      "Epoch count 1270: Loss value: 4.148241996765137\n",
      "Epoch count 1280: Loss value: 4.148241996765137\n",
      "Epoch count 1290: Loss value: 4.148241996765137\n",
      "Epoch count 1300: Loss value: 4.1482415199279785\n",
      "Epoch count 1310: Loss value: 4.148241996765137\n",
      "Epoch count 1320: Loss value: 4.1482415199279785\n",
      "Epoch count 1330: Loss value: 4.1482415199279785\n",
      "Epoch count 1340: Loss value: 4.1482415199279785\n",
      "Epoch count 1350: Loss value: 4.1482415199279785\n",
      "Epoch count 1360: Loss value: 4.148241996765137\n",
      "Epoch count 1370: Loss value: 4.1482415199279785\n",
      "Epoch count 1380: Loss value: 4.148241996765137\n",
      "Epoch count 1390: Loss value: 4.148241996765137\n",
      "Epoch count 1400: Loss value: 4.148241996765137\n",
      "Epoch count 1410: Loss value: 4.1482415199279785\n",
      "Epoch count 1420: Loss value: 4.148241996765137\n",
      "Epoch count 1430: Loss value: 4.148241996765137\n",
      "Epoch count 1440: Loss value: 4.148241996765137\n",
      "Epoch count 1450: Loss value: 4.148241996765137\n",
      "Epoch count 1460: Loss value: 4.148241996765137\n",
      "Epoch count 1470: Loss value: 4.148241996765137\n",
      "Epoch count 1480: Loss value: 4.148241996765137\n",
      "Epoch count 1490: Loss value: 4.148241996765137\n",
      "Epoch count 1500: Loss value: 4.148241996765137\n",
      "Epoch count 1510: Loss value: 4.148241996765137\n",
      "Epoch count 1520: Loss value: 4.148241996765137\n",
      "Epoch count 1530: Loss value: 4.148241996765137\n",
      "Epoch count 1540: Loss value: 4.148241996765137\n",
      "Epoch count 1550: Loss value: 4.148241996765137\n",
      "Epoch count 1560: Loss value: 4.148241996765137\n",
      "Epoch count 1570: Loss value: 4.148241996765137\n",
      "Epoch count 1580: Loss value: 4.148241996765137\n",
      "Epoch count 1590: Loss value: 4.148241996765137\n",
      "Epoch count 1600: Loss value: 4.148241996765137\n",
      "Epoch count 1610: Loss value: 4.148241996765137\n",
      "Epoch count 1620: Loss value: 4.148241996765137\n",
      "Epoch count 1630: Loss value: 4.148241996765137\n",
      "Epoch count 1640: Loss value: 4.148241996765137\n",
      "Epoch count 1650: Loss value: 4.148241996765137\n",
      "Epoch count 1660: Loss value: 4.148241996765137\n",
      "Epoch count 1670: Loss value: 4.148241996765137\n",
      "Epoch count 1680: Loss value: 4.148241996765137\n",
      "Epoch count 1690: Loss value: 4.148241996765137\n",
      "Epoch count 1700: Loss value: 4.148241996765137\n",
      "Epoch count 1710: Loss value: 4.148241996765137\n",
      "Epoch count 1720: Loss value: 4.148241996765137\n",
      "Epoch count 1730: Loss value: 4.148241996765137\n",
      "Epoch count 1740: Loss value: 4.148241996765137\n",
      "Epoch count 1750: Loss value: 4.148241996765137\n",
      "Epoch count 1760: Loss value: 4.148241996765137\n",
      "Epoch count 1770: Loss value: 4.148241996765137\n",
      "Epoch count 1780: Loss value: 4.148241996765137\n",
      "Epoch count 1790: Loss value: 4.148241996765137\n"
     ]
    },
    {
     "name": "stdout",
     "output_type": "stream",
     "text": [
      "Epoch count 1800: Loss value: 4.148241996765137\n",
      "Epoch count 1810: Loss value: 4.148241996765137\n",
      "Epoch count 1820: Loss value: 4.148241996765137\n",
      "Epoch count 1830: Loss value: 4.148241996765137\n",
      "Epoch count 1840: Loss value: 4.148241996765137\n",
      "Epoch count 1850: Loss value: 4.148241996765137\n",
      "Epoch count 1860: Loss value: 4.148241996765137\n",
      "Epoch count 1870: Loss value: 4.148241996765137\n",
      "Epoch count 1880: Loss value: 4.148241996765137\n",
      "Epoch count 1890: Loss value: 4.148241996765137\n",
      "Epoch count 1900: Loss value: 4.148241996765137\n",
      "Epoch count 1910: Loss value: 4.148241996765137\n",
      "Epoch count 1920: Loss value: 4.148241996765137\n",
      "Epoch count 1930: Loss value: 4.148241996765137\n",
      "Epoch count 1940: Loss value: 4.148241996765137\n",
      "Epoch count 1950: Loss value: 4.148241996765137\n",
      "Epoch count 1960: Loss value: 4.148241996765137\n",
      "Epoch count 1970: Loss value: 4.148241996765137\n",
      "Epoch count 1980: Loss value: 4.148241996765137\n",
      "Epoch count 1990: Loss value: 4.148241996765137\n"
     ]
    }
   ],
   "source": [
    "linear_model = LinearModel()\n",
    "Weights, Biases, Losses = [], [], []\n",
    "epochs = 2000\n",
    "for epoch_count in range(epochs):\n",
    "    Weights.append(linear_model.Weight.numpy()) \n",
    "    Biases.append(linear_model.Bias.numpy())\n",
    "    real_loss = loss(y, linear_model(x))\n",
    "    Losses.append(real_loss)\n",
    "    \n",
    "    train(linear_model, x, y, lr=0.02)\n",
    "    if epoch_count % 10 == 0:\n",
    "        print(f\"Epoch count {epoch_count}: Loss value: {real_loss.numpy()}\")"
   ]
  },
  {
   "cell_type": "markdown",
   "metadata": {},
   "source": [
    "# Comparison of found model parameters and ground truth"
   ]
  },
  {
   "cell_type": "code",
   "execution_count": 51,
   "metadata": {},
   "outputs": [
    {
     "data": {
      "text/plain": [
       "2.0"
      ]
     },
     "execution_count": 51,
     "metadata": {},
     "output_type": "execute_result"
    }
   ],
   "source": [
    "TRUE_SLOPE"
   ]
  },
  {
   "cell_type": "code",
   "execution_count": 52,
   "metadata": {},
   "outputs": [
    {
     "data": {
      "text/plain": [
       "0.9"
      ]
     },
     "execution_count": 52,
     "metadata": {},
     "output_type": "execute_result"
    }
   ],
   "source": [
    "TRUE_INTERCEPT"
   ]
  },
  {
   "cell_type": "code",
   "execution_count": 53,
   "metadata": {},
   "outputs": [
    {
     "data": {
      "text/plain": [
       "2.0219421"
      ]
     },
     "execution_count": 53,
     "metadata": {},
     "output_type": "execute_result"
    }
   ],
   "source": [
    "Weights[-1]"
   ]
  },
  {
   "cell_type": "code",
   "execution_count": 54,
   "metadata": {},
   "outputs": [
    {
     "data": {
      "text/plain": [
       "0.6544894"
      ]
     },
     "execution_count": 54,
     "metadata": {},
     "output_type": "execute_result"
    }
   ],
   "source": [
    "Biases[-1]"
   ]
  },
  {
   "cell_type": "code",
   "execution_count": 43,
   "metadata": {},
   "outputs": [
    {
     "data": {
      "image/png": "[encoded data removed]",
      "text/plain": [
       "<Figure size 432x288 with 1 Axes>"
      ]
     },
     "metadata": {
      "needs_background": "light"
     },
     "output_type": "display_data"
    }
   ],
   "source": [
    "plt.plot(Weights)\n",
    "plt.show()"
   ]
  },
  {
   "cell_type": "code",
   "execution_count": 44,
   "metadata": {},
   "outputs": [
    {
     "data": {
      "image/png": "[encoded data removed]",
      "text/plain": [
       "<Figure size 432x288 with 1 Axes>"
      ]
     },
     "metadata": {
      "needs_background": "light"
     },
     "output_type": "display_data"
    }
   ],
   "source": [
    "plt.plot(Biases)\n",
    "plt.show()"
   ]
  },
  {
   "cell_type": "code",
   "execution_count": null,
   "metadata": {},
   "outputs": [],
   "source": []
  }
 ],
 "metadata": {
  "kernelspec": {
   "display_name": "Python 3",
   "language": "python",
   "name": "python3"
  },
  "language_info": {
   "codemirror_mode": {
    "name": "ipython",
    "version": 3
   },
   "file_extension": ".py",
   "mimetype": "text/x-python",
   "name": "python",
   "nbconvert_exporter": "python",
   "pygments_lexer": "ipython3",
   "version": "3.6.2"
  },
  "toc": {
   "base_numbering": 1,
   "nav_menu": {},
   "number_sections": true,
   "sideBar": true,
   "skip_h1_title": false,
   "title_cell": "Table of Contents",
   "title_sidebar": "Contents",
   "toc_cell": true,
   "toc_position": {},
   "toc_section_display": true,
   "toc_window_display": true
  }
 },
 "nbformat": 4,
 "nbformat_minor": 2
}
