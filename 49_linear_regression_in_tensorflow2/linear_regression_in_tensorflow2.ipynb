{
 "cells": [
  {
   "cell_type": "markdown",
   "metadata": {
    "toc": true
   },
   "source": [
    "<h1>Table of Contents<span class=\"tocSkip\"></span></h1>\n",
    "<div class=\"toc\"><ul class=\"toc-item\"><li><span><a href=\"#Check-your-TensorFlow-version\" data-toc-modified-id=\"Check-your-TensorFlow-version-1\"><span class=\"toc-item-num\">1&nbsp;&nbsp;</span>Check your TensorFlow version</a></span></li><li><span><a href=\"#Generate-training-data\" data-toc-modified-id=\"Generate-training-data-2\"><span class=\"toc-item-num\">2&nbsp;&nbsp;</span>Generate training data</a></span></li><li><span><a href=\"#Define-a-TF-model\" data-toc-modified-id=\"Define-a-TF-model-3\"><span class=\"toc-item-num\">3&nbsp;&nbsp;</span>Define a TF model</a></span></li><li><span><a href=\"#Create-an-instance-of-a-model-and-use-it\" data-toc-modified-id=\"Create-an-instance-of-a-model-and-use-it-4\"><span class=\"toc-item-num\">4&nbsp;&nbsp;</span>Create an instance of a model and use it</a></span></li><li><span><a href=\"#Define-a-loss\" data-toc-modified-id=\"Define-a-loss-5\"><span class=\"toc-item-num\">5&nbsp;&nbsp;</span>Define a loss</a></span></li><li><span><a href=\"#Define-a-training-function\" data-toc-modified-id=\"Define-a-training-function-6\"><span class=\"toc-item-num\">6&nbsp;&nbsp;</span>Define a training function</a></span></li><li><span><a href=\"#Training-of-the-model\" data-toc-modified-id=\"Training-of-the-model-7\"><span class=\"toc-item-num\">7&nbsp;&nbsp;</span>Training of the model</a></span></li><li><span><a href=\"#Comparison-of-found-model-parameters-and-ground-truth\" data-toc-modified-id=\"Comparison-of-found-model-parameters-and-ground-truth-8\"><span class=\"toc-item-num\">8&nbsp;&nbsp;</span>Comparison of found model parameters and ground truth</a></span></li></ul></div>"
   ]
  },
  {
   "cell_type": "markdown",
   "metadata": {},
   "source": [
    "The code here is inspired by the following blog post:\n",
    "    \n",
    "https://heartbeat.fritz.ai/linear-regression-using-tensorflow-2-0-1cd51e211e1f"
   ]
  },
  {
   "cell_type": "markdown",
   "metadata": {},
   "source": [
    "# Check your TensorFlow version"
   ]
  },
  {
   "cell_type": "code",
   "execution_count": 45,
   "metadata": {},
   "outputs": [],
   "source": [
    "import tensorflow as tf"
   ]
  },
  {
   "cell_type": "code",
   "execution_count": 46,
   "metadata": {},
   "outputs": [
    {
     "name": "stdout",
     "output_type": "stream",
     "text": [
      "2.0.0\n"
     ]
    }
   ],
   "source": [
    "print(tf.__version__)"
   ]
  },
  {
   "cell_type": "markdown",
   "metadata": {},
   "source": [
    "# Generate training data"
   ]
  },
  {
   "cell_type": "code",
   "execution_count": 26,
   "metadata": {},
   "outputs": [
    {
     "data": {
      "text/plain": [
       "array([-0.03842409, -0.69505521,  0.42452768,  0.16869375,  1.38167297,\n",
       "       -1.44166421, -2.23776217,  1.50093793,  0.98713948,  0.25853488,\n",
       "        2.07079389,  0.52522311,  1.3326148 ,  2.04279337,  0.2924868 ,\n",
       "       -0.59890788, -0.86640303,  0.08647786, -0.53471635,  0.12714603,\n",
       "        1.83481564,  1.20660427, -1.94163322,  0.2356258 , -0.86650638,\n",
       "        0.55438532,  0.10418535,  0.58723093,  1.01862466, -0.95690419,\n",
       "        1.97302373, -1.35607758,  0.22351871,  1.23078233, -1.0808954 ,\n",
       "        0.63019211,  1.8422039 ,  0.21473947, -0.6650493 , -0.04183891,\n",
       "       -1.21839694,  0.16733973,  0.12099721,  0.63147111, -0.8458698 ,\n",
       "       -0.84637754, -0.4085107 , -0.08271611, -1.7492377 ,  1.78395347,\n",
       "        1.07422342,  1.1572923 ,  0.9594014 ,  1.17967999, -0.54586751,\n",
       "       -2.43705792, -2.08127122,  1.17433209,  0.69463636,  0.63744986,\n",
       "        0.91833562, -0.06706729, -1.78991664,  0.75421586, -0.37191225,\n",
       "        0.30369969,  0.75550061,  2.26399891,  0.01285473,  1.06025658,\n",
       "       -1.28019814, -0.02899687,  0.20368004, -1.02430763, -0.71214264,\n",
       "       -0.66403592, -0.801442  ,  0.09961421, -1.24595139, -0.33330561,\n",
       "        1.2968173 ,  1.77037928,  0.16740448,  1.8811965 , -0.53206969,\n",
       "       -0.56108501,  0.06026356, -1.02068212, -2.14398814, -0.39700498,\n",
       "       -0.25030641,  0.80201306, -0.7688203 ,  0.84405266, -1.43487978,\n",
       "        0.55669271, -0.41476426, -0.2175865 ,  1.65337052,  0.75322031,\n",
       "       -1.15237206,  0.67897147, -1.90297128,  0.88100973,  0.62003665,\n",
       "        0.68711311,  1.55827062,  1.39278513, -1.66632206,  0.28804986,\n",
       "       -1.68836347,  1.4434279 ,  1.01860697, -1.55455684,  0.93029687,\n",
       "        0.5205101 , -1.72887529,  0.65455055, -0.08397847,  0.21370835])"
      ]
     },
     "execution_count": 26,
     "metadata": {},
     "output_type": "execute_result"
    }
   ],
   "source": [
    "import numpy as np\n",
    "nr_points = 120\n",
    "np.random.normal(0,1, (nr_points))"
   ]
  },
  {
   "cell_type": "code",
   "execution_count": 87,
   "metadata": {},
   "outputs": [],
   "source": [
    "TRUE_SLOPE = 2.0\n",
    "TRUE_INTERCEPT = 0.9\n",
    "\n",
    "x = np.linspace(0, 10, nr_points)\n",
    "y = TRUE_SLOPE * x + TRUE_INTERCEPT + np.random.normal(0,1, (nr_points)) * 2.0"
   ]
  },
  {
   "cell_type": "code",
   "execution_count": 88,
   "metadata": {},
   "outputs": [
    {
     "data": {
      "image/png": "[encoded data removed]",
      "text/plain": [
       "<Figure size 432x288 with 1 Axes>"
      ]
     },
     "metadata": {
      "needs_background": "light"
     },
     "output_type": "display_data"
    }
   ],
   "source": [
    "import matplotlib.pyplot as plt\n",
    "\n",
    "plt.scatter(x,y)\n",
    "plt.show()"
   ]
  },
  {
   "cell_type": "markdown",
   "metadata": {},
   "source": [
    "# Define a TF model"
   ]
  },
  {
   "cell_type": "code",
   "execution_count": 29,
   "metadata": {},
   "outputs": [],
   "source": [
    "class LinearModel:\n",
    "    \n",
    "    def __call__(self, x):\n",
    "        return self.Weight * x + self.Bias\n",
    "    \n",
    "    def __init__(self):\n",
    "        self.Weight = tf.Variable(42.0)\n",
    "        self.Bias = tf.Variable(1.234)"
   ]
  },
  {
   "cell_type": "markdown",
   "metadata": {},
   "source": [
    "What is the magic method `__call__()` good for?"
   ]
  },
  {
   "cell_type": "code",
   "execution_count": 39,
   "metadata": {},
   "outputs": [],
   "source": [
    "class test:\n",
    "    \n",
    "    def __call__(self,x):\n",
    "        return x**3"
   ]
  },
  {
   "cell_type": "code",
   "execution_count": 40,
   "metadata": {},
   "outputs": [],
   "source": [
    "t = test()"
   ]
  },
  {
   "cell_type": "code",
   "execution_count": 41,
   "metadata": {},
   "outputs": [
    {
     "data": {
      "text/plain": [
       "8"
      ]
     },
     "execution_count": 41,
     "metadata": {},
     "output_type": "execute_result"
    }
   ],
   "source": [
    "t(2)"
   ]
  },
  {
   "cell_type": "markdown",
   "metadata": {},
   "source": [
    "# Create an instance of a model and use it\n",
    "\n",
    "... without having learned the weights!\n",
    "\n",
    "Training of the model parameters will be shown later!"
   ]
  },
  {
   "cell_type": "code",
   "execution_count": 72,
   "metadata": {},
   "outputs": [],
   "source": [
    "my_model = LinearModel()"
   ]
  },
  {
   "cell_type": "code",
   "execution_count": 73,
   "metadata": {},
   "outputs": [],
   "source": [
    "preds = my_model(x)"
   ]
  },
  {
   "cell_type": "code",
   "execution_count": 74,
   "metadata": {},
   "outputs": [
    {
     "data": {
      "image/png": "[encoded data removed]",
      "text/plain": [
       "<Figure size 720x360 with 1 Axes>"
      ]
     },
     "metadata": {
      "needs_background": "light"
     },
     "output_type": "display_data"
    }
   ],
   "source": [
    "import matplotlib.pyplot as plt\n",
    "fig = plt.figure(figsize=(10,5))\n",
    "plt.scatter(x,y,     color=\"green\", marker=\".\", label=\"teacher values\")\n",
    "plt.scatter(x,preds, color=\"red\",   marker=\".\", label=\"predictions\")\n",
    "plt.show()"
   ]
  },
  {
   "cell_type": "markdown",
   "metadata": {},
   "source": [
    "# Define a loss"
   ]
  },
  {
   "cell_type": "code",
   "execution_count": 75,
   "metadata": {},
   "outputs": [],
   "source": [
    "def loss(y, pred):\n",
    "    \"\"\"\n",
    "    compute the loss of the model\n",
    "    \n",
    "    here it is defined as the mean\n",
    "    squared error (MSE)\n",
    "    \"\"\"\n",
    "    return tf.reduce_mean(tf.square(y - pred))"
   ]
  },
  {
   "cell_type": "markdown",
   "metadata": {},
   "source": [
    "# Define a training function"
   ]
  },
  {
   "cell_type": "markdown",
   "metadata": {},
   "source": [
    "For TensorFlow to be able to automatically compute the gradient of a loss function with respect to the model parameters (here: `linear_model.Weight` and `linear_model.Bias`), we need to know which tensor ops were computed.\n",
    "\n",
    "These operations are recorded on a gradient tape using a `tf.GradientTape()` context manager:"
   ]
  },
  {
   "cell_type": "code",
   "execution_count": 78,
   "metadata": {},
   "outputs": [],
   "source": [
    "def train(linear_model, x, y, lr=0.12):\n",
    "    \"\"\"\n",
    "    Train the model using backpropagation\n",
    "    \n",
    "    Given a model linear_model and an input\n",
    "    x and a desired output y, we\n",
    "    1. do one forward step\n",
    "    2. retrieve the gradient of the loss function\n",
    "       with respect to the model parameters\n",
    "    3. do a step in to the negative direction\n",
    "       of the gradient (multiplied by the\n",
    "       learning rate lr), i.e., do gradient descent\n",
    "    \"\"\"\n",
    "    \n",
    "    # 1. \n",
    "    # Compute the loss\n",
    "    # This indirectly induces the computation\n",
    "    # the output of the model by\n",
    "    # linear_model(x)\n",
    "    # which is implemented by the __call__()\n",
    "    # function\n",
    "    with tf.GradientTape() as t:\n",
    "        current_loss = loss(y, linear_model(x))\n",
    "\n",
    "    # 2.\n",
    "    # Automatically compute the gradient\n",
    "    # of the loss with respect to the\n",
    "    # two model parameters\n",
    "    dloss_dweight, dloss_dbias = \\\n",
    "        t.gradient(current_loss, [linear_model.Weight, linear_model.Bias])\n",
    "    \n",
    "    # 3.\n",
    "    # Do gradient descent\n",
    "    linear_model.Weight.assign_sub(lr * dloss_dweight)\n",
    "    linear_model.Bias.assign_sub  (lr * dloss_dbias)"
   ]
  },
  {
   "cell_type": "markdown",
   "metadata": {},
   "source": [
    "# Training of the model"
   ]
  },
  {
   "cell_type": "code",
   "execution_count": 109,
   "metadata": {},
   "outputs": [
    {
     "name": "stdout",
     "output_type": "stream",
     "text": [
      "Epoch count 0: Loss value: 53660.71484375\n",
      "Epoch count 10: Loss value: 12.17579174041748\n",
      "Epoch count 20: Loss value: 11.382485389709473\n",
      "Epoch count 30: Loss value: 10.664152145385742\n",
      "Epoch count 40: Loss value: 10.013710975646973\n",
      "Epoch count 50: Loss value: 9.424739837646484\n",
      "Epoch count 60: Loss value: 8.89142894744873\n",
      "Epoch count 70: Loss value: 8.408519744873047\n",
      "Epoch count 80: Loss value: 7.971249580383301\n",
      "Epoch count 90: Loss value: 7.575303554534912\n",
      "Epoch count 100: Loss value: 7.216778755187988\n",
      "Epoch count 110: Loss value: 6.892134189605713\n",
      "Epoch count 120: Loss value: 6.598172187805176\n",
      "Epoch count 130: Loss value: 6.331991672515869\n",
      "Epoch count 140: Loss value: 6.090966701507568\n",
      "Epoch count 150: Loss value: 5.8727192878723145\n",
      "Epoch count 160: Loss value: 5.675097465515137\n",
      "Epoch count 170: Loss value: 5.496153354644775\n",
      "Epoch count 180: Loss value: 5.33411979675293\n",
      "Epoch count 190: Loss value: 5.1874003410339355\n",
      "Epoch count 200: Loss value: 5.05454683303833\n",
      "Epoch count 210: Loss value: 4.934248447418213\n",
      "Epoch count 220: Loss value: 4.825318813323975\n",
      "Epoch count 230: Loss value: 4.726683616638184\n",
      "Epoch count 240: Loss value: 4.637372016906738\n",
      "Epoch count 250: Loss value: 4.556498050689697\n",
      "Epoch count 260: Loss value: 4.483269214630127\n",
      "Epoch count 270: Loss value: 4.4169602394104\n",
      "Epoch count 280: Loss value: 4.356917858123779\n",
      "Epoch count 290: Loss value: 4.302550315856934\n",
      "Epoch count 300: Loss value: 4.253320693969727\n",
      "Epoch count 310: Loss value: 4.208742618560791\n",
      "Epoch count 320: Loss value: 4.168378829956055\n",
      "Epoch count 330: Loss value: 4.131828784942627\n",
      "Epoch count 340: Loss value: 4.098733425140381\n",
      "Epoch count 350: Loss value: 4.068765640258789\n",
      "Epoch count 360: Loss value: 4.041630268096924\n",
      "Epoch count 370: Loss value: 4.017058849334717\n",
      "Epoch count 380: Loss value: 3.994809865951538\n",
      "Epoch count 390: Loss value: 3.9746639728546143\n",
      "Epoch count 400: Loss value: 3.956421375274658\n",
      "Epoch count 410: Loss value: 3.939903497695923\n",
      "Epoch count 420: Loss value: 3.924945592880249\n",
      "Epoch count 430: Loss value: 3.9114019870758057\n",
      "Epoch count 440: Loss value: 3.899138927459717\n",
      "Epoch count 450: Loss value: 3.888033628463745\n",
      "Epoch count 460: Loss value: 3.877978563308716\n",
      "Epoch count 470: Loss value: 3.8688735961914062\n",
      "Epoch count 480: Loss value: 3.860629081726074\n",
      "Epoch count 490: Loss value: 3.853163957595825\n"
     ]
    }
   ],
   "source": [
    "linear_model = LinearModel()\n",
    "Weights, Biases, Losses = [], [], []\n",
    "epochs = 500\n",
    "for epoch_count in range(epochs):\n",
    "    Weights.append(linear_model.Weight.numpy()) \n",
    "    Biases.append(linear_model.Bias.numpy())\n",
    "    real_loss = loss(y, linear_model(x))\n",
    "    Losses.append(real_loss)\n",
    "    \n",
    "    train(linear_model, x, y, lr=0.01)\n",
    "    if epoch_count % 10 == 0:\n",
    "        print(f\"Epoch count {epoch_count}: Loss value: {real_loss.numpy()}\")"
   ]
  },
  {
   "cell_type": "markdown",
   "metadata": {},
   "source": [
    "# Comparison of found model parameters and ground truth"
   ]
  },
  {
   "cell_type": "code",
   "execution_count": 110,
   "metadata": {},
   "outputs": [
    {
     "data": {
      "text/plain": [
       "2.0"
      ]
     },
     "execution_count": 110,
     "metadata": {},
     "output_type": "execute_result"
    }
   ],
   "source": [
    "TRUE_SLOPE"
   ]
  },
  {
   "cell_type": "code",
   "execution_count": 111,
   "metadata": {},
   "outputs": [
    {
     "data": {
      "text/plain": [
       "0.9"
      ]
     },
     "execution_count": 111,
     "metadata": {},
     "output_type": "execute_result"
    }
   ],
   "source": [
    "TRUE_INTERCEPT"
   ]
  },
  {
   "cell_type": "code",
   "execution_count": 112,
   "metadata": {},
   "outputs": [
    {
     "data": {
      "text/plain": [
       "2.0155268"
      ]
     },
     "execution_count": 112,
     "metadata": {},
     "output_type": "execute_result"
    }
   ],
   "source": [
    "Weights[-1]"
   ]
  },
  {
   "cell_type": "code",
   "execution_count": 113,
   "metadata": {},
   "outputs": [
    {
     "data": {
      "text/plain": [
       "0.8852002"
      ]
     },
     "execution_count": 113,
     "metadata": {},
     "output_type": "execute_result"
    }
   ],
   "source": [
    "Biases[-1]"
   ]
  },
  {
   "cell_type": "code",
   "execution_count": 114,
   "metadata": {},
   "outputs": [
    {
     "data": {
      "image/png": "[encoded data removed]",
      "text/plain": [
       "<Figure size 432x288 with 1 Axes>"
      ]
     },
     "metadata": {
      "needs_background": "light"
     },
     "output_type": "display_data"
    }
   ],
   "source": [
    "plt.plot(Weights)\n",
    "plt.show()"
   ]
  },
  {
   "cell_type": "code",
   "execution_count": 115,
   "metadata": {},
   "outputs": [
    {
     "data": {
      "image/png": "[encoded data removed]",
      "text/plain": [
       "<Figure size 432x288 with 1 Axes>"
      ]
     },
     "metadata": {
      "needs_background": "light"
     },
     "output_type": "display_data"
    }
   ],
   "source": [
    "plt.plot(Biases)\n",
    "plt.show()"
   ]
  },
  {
   "cell_type": "code",
   "execution_count": null,
   "metadata": {},
   "outputs": [],
   "source": []
  }
 ],
 "metadata": {
  "kernelspec": {
   "display_name": "Python 3",
   "language": "python",
   "name": "python3"
  },
  "language_info": {
   "codemirror_mode": {
    "name": "ipython",
    "version": 3
   },
   "file_extension": ".py",
   "mimetype": "text/x-python",
   "name": "python",
   "nbconvert_exporter": "python",
   "pygments_lexer": "ipython3",
   "version": "3.6.2"
  },
  "toc": {
   "base_numbering": 1,
   "nav_menu": {},
   "number_sections": true,
   "sideBar": true,
   "skip_h1_title": false,
   "title_cell": "Table of Contents",
   "title_sidebar": "Contents",
   "toc_cell": true,
   "toc_position": {},
   "toc_section_display": true,
   "toc_window_display": true
  }
 },
 "nbformat": 4,
 "nbformat_minor": 2
}
